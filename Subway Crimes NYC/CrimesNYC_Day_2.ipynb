{
 "cells": [
  {
   "cell_type": "code",
   "execution_count": 2,
   "id": "519e8053-2fdc-4889-867f-daaf96a1e0de",
   "metadata": {
    "tags": []
   },
   "outputs": [],
   "source": [
    "import numpy as np\n",
    "import pandas as pd\n",
    "import matplotlib as plt\n",
    "import csv"
   ]
  },
  {
   "cell_type": "code",
   "execution_count": 146,
   "id": "8d31006a-19d1-4c22-9dac-4e530268d4bd",
   "metadata": {},
   "outputs": [
    {
     "name": "stderr",
     "output_type": "stream",
     "text": [
      "/opt/anaconda3/lib/python3.8/site-packages/IPython/core/interactiveshell.py:3165: DtypeWarning: Columns (18) have mixed types.Specify dtype option on import or set low_memory=False.\n",
      "  has_raised = await self.run_ast_nodes(code_ast.body, cell_name,\n"
     ]
    }
   ],
   "source": [
    "df = pd.read_csv('NYPD_Complaint_Data_Historic.csv', usecols = ['CMPLNT_FR_DT', 'CMPLNT_FR_TM', 'OFNS_DESC', 'PD_DESC', \n",
    "                                                               'CRM_ATPT_CPTD_CD', 'LAW_CAT_CD', 'BORO_NM', 'LOC_OF_OCCUR_DESC',\n",
    "                                                               'PREM_TYP_DESC', 'PARKS_NM', 'HADEVELOPT', 'SUSP_AGE_GROUP', 'SUSP_SEX',\n",
    "                                                               'PATROL_BORO', 'STATION_NAME', 'VIC_AGE_GROUP', 'VIC_RACE', \n",
    "                                                               'VIC_SEX', 'X_COORD_CD', 'Y_COORD_CD'])"
   ]
  },
  {
   "cell_type": "code",
   "execution_count": 147,
   "id": "9460aae4-9759-4284-a403-96c8756408ed",
   "metadata": {},
   "outputs": [
    {
     "data": {
      "text/html": [
       "<div>\n",
       "<style scoped>\n",
       "    .dataframe tbody tr th:only-of-type {\n",
       "        vertical-align: middle;\n",
       "    }\n",
       "\n",
       "    .dataframe tbody tr th {\n",
       "        vertical-align: top;\n",
       "    }\n",
       "\n",
       "    .dataframe thead th {\n",
       "        text-align: right;\n",
       "    }\n",
       "</style>\n",
       "<table border=\"1\" class=\"dataframe\">\n",
       "  <thead>\n",
       "    <tr style=\"text-align: right;\">\n",
       "      <th></th>\n",
       "      <th>CMPLNT_FR_DT</th>\n",
       "      <th>CMPLNT_FR_TM</th>\n",
       "      <th>OFNS_DESC</th>\n",
       "      <th>PD_DESC</th>\n",
       "      <th>CRM_ATPT_CPTD_CD</th>\n",
       "      <th>LAW_CAT_CD</th>\n",
       "      <th>BORO_NM</th>\n",
       "      <th>LOC_OF_OCCUR_DESC</th>\n",
       "      <th>PREM_TYP_DESC</th>\n",
       "      <th>PARKS_NM</th>\n",
       "      <th>HADEVELOPT</th>\n",
       "      <th>X_COORD_CD</th>\n",
       "      <th>Y_COORD_CD</th>\n",
       "      <th>SUSP_AGE_GROUP</th>\n",
       "      <th>SUSP_SEX</th>\n",
       "      <th>PATROL_BORO</th>\n",
       "      <th>STATION_NAME</th>\n",
       "      <th>VIC_AGE_GROUP</th>\n",
       "      <th>VIC_RACE</th>\n",
       "      <th>VIC_SEX</th>\n",
       "    </tr>\n",
       "  </thead>\n",
       "  <tbody>\n",
       "    <tr>\n",
       "      <th>0</th>\n",
       "      <td>03/29/2018</td>\n",
       "      <td>20:30:00</td>\n",
       "      <td>CRIMINAL MISCHIEF &amp; RELATED OF</td>\n",
       "      <td>MISCHIEF, CRIMINAL 4, OF MOTOR</td>\n",
       "      <td>COMPLETED</td>\n",
       "      <td>MISDEMEANOR</td>\n",
       "      <td>MANHATTAN</td>\n",
       "      <td>FRONT OF</td>\n",
       "      <td>PARKING LOT/GARAGE (PUBLIC)</td>\n",
       "      <td>NaN</td>\n",
       "      <td>NaN</td>\n",
       "      <td>1000565.0</td>\n",
       "      <td>234704.0</td>\n",
       "      <td>NaN</td>\n",
       "      <td>NaN</td>\n",
       "      <td>PATROL BORO MAN NORTH</td>\n",
       "      <td>NaN</td>\n",
       "      <td>25-44</td>\n",
       "      <td>WHITE</td>\n",
       "      <td>F</td>\n",
       "    </tr>\n",
       "    <tr>\n",
       "      <th>1</th>\n",
       "      <td>02/06/2018</td>\n",
       "      <td>23:15:00</td>\n",
       "      <td>PETIT LARCENY</td>\n",
       "      <td>LARCENY,PETIT FROM STORE-SHOPL</td>\n",
       "      <td>COMPLETED</td>\n",
       "      <td>MISDEMEANOR</td>\n",
       "      <td>BRONX</td>\n",
       "      <td>INSIDE</td>\n",
       "      <td>DEPARTMENT STORE</td>\n",
       "      <td>NaN</td>\n",
       "      <td>NaN</td>\n",
       "      <td>1009690.0</td>\n",
       "      <td>257590.0</td>\n",
       "      <td>45-64</td>\n",
       "      <td>F</td>\n",
       "      <td>PATROL BORO BRONX</td>\n",
       "      <td>NaN</td>\n",
       "      <td>UNKNOWN</td>\n",
       "      <td>UNKNOWN</td>\n",
       "      <td>D</td>\n",
       "    </tr>\n",
       "    <tr>\n",
       "      <th>2</th>\n",
       "      <td>11/21/2018</td>\n",
       "      <td>00:15:00</td>\n",
       "      <td>PETIT LARCENY</td>\n",
       "      <td>LARCENY,PETIT FROM AUTO</td>\n",
       "      <td>COMPLETED</td>\n",
       "      <td>MISDEMEANOR</td>\n",
       "      <td>BROOKLYN</td>\n",
       "      <td>FRONT OF</td>\n",
       "      <td>STREET</td>\n",
       "      <td>NaN</td>\n",
       "      <td>NaN</td>\n",
       "      <td>1016034.0</td>\n",
       "      <td>176756.0</td>\n",
       "      <td>25-44</td>\n",
       "      <td>F</td>\n",
       "      <td>PATROL BORO BKLYN NORTH</td>\n",
       "      <td>NaN</td>\n",
       "      <td>UNKNOWN</td>\n",
       "      <td>UNKNOWN</td>\n",
       "      <td>D</td>\n",
       "    </tr>\n",
       "    <tr>\n",
       "      <th>3</th>\n",
       "      <td>06/09/2018</td>\n",
       "      <td>21:42:00</td>\n",
       "      <td>OFF. AGNST PUB ORD SENSBLTY &amp;</td>\n",
       "      <td>AGGRAVATED HARASSMENT 2</td>\n",
       "      <td>COMPLETED</td>\n",
       "      <td>MISDEMEANOR</td>\n",
       "      <td>MANHATTAN</td>\n",
       "      <td>INSIDE</td>\n",
       "      <td>RESIDENCE - APT. HOUSE</td>\n",
       "      <td>NaN</td>\n",
       "      <td>NaN</td>\n",
       "      <td>985717.0</td>\n",
       "      <td>215911.0</td>\n",
       "      <td>25-44</td>\n",
       "      <td>M</td>\n",
       "      <td>PATROL BORO MAN SOUTH</td>\n",
       "      <td>NaN</td>\n",
       "      <td>18-24</td>\n",
       "      <td>WHITE HISPANIC</td>\n",
       "      <td>F</td>\n",
       "    </tr>\n",
       "    <tr>\n",
       "      <th>4</th>\n",
       "      <td>11/10/2018</td>\n",
       "      <td>19:40:00</td>\n",
       "      <td>PETIT LARCENY</td>\n",
       "      <td>LARCENY,PETIT FROM STORE-SHOPL</td>\n",
       "      <td>COMPLETED</td>\n",
       "      <td>MISDEMEANOR</td>\n",
       "      <td>MANHATTAN</td>\n",
       "      <td>INSIDE</td>\n",
       "      <td>CHAIN STORE</td>\n",
       "      <td>NaN</td>\n",
       "      <td>NaN</td>\n",
       "      <td>992359.0</td>\n",
       "      <td>217816.0</td>\n",
       "      <td>&lt;18</td>\n",
       "      <td>F</td>\n",
       "      <td>PATROL BORO MAN NORTH</td>\n",
       "      <td>NaN</td>\n",
       "      <td>UNKNOWN</td>\n",
       "      <td>UNKNOWN</td>\n",
       "      <td>D</td>\n",
       "    </tr>\n",
       "  </tbody>\n",
       "</table>\n",
       "</div>"
      ],
      "text/plain": [
       "  CMPLNT_FR_DT CMPLNT_FR_TM                       OFNS_DESC  \\\n",
       "0   03/29/2018     20:30:00  CRIMINAL MISCHIEF & RELATED OF   \n",
       "1   02/06/2018     23:15:00                   PETIT LARCENY   \n",
       "2   11/21/2018     00:15:00                   PETIT LARCENY   \n",
       "3   06/09/2018     21:42:00   OFF. AGNST PUB ORD SENSBLTY &   \n",
       "4   11/10/2018     19:40:00                   PETIT LARCENY   \n",
       "\n",
       "                          PD_DESC CRM_ATPT_CPTD_CD   LAW_CAT_CD    BORO_NM  \\\n",
       "0  MISCHIEF, CRIMINAL 4, OF MOTOR        COMPLETED  MISDEMEANOR  MANHATTAN   \n",
       "1  LARCENY,PETIT FROM STORE-SHOPL        COMPLETED  MISDEMEANOR      BRONX   \n",
       "2         LARCENY,PETIT FROM AUTO        COMPLETED  MISDEMEANOR   BROOKLYN   \n",
       "3         AGGRAVATED HARASSMENT 2        COMPLETED  MISDEMEANOR  MANHATTAN   \n",
       "4  LARCENY,PETIT FROM STORE-SHOPL        COMPLETED  MISDEMEANOR  MANHATTAN   \n",
       "\n",
       "  LOC_OF_OCCUR_DESC                PREM_TYP_DESC PARKS_NM HADEVELOPT  \\\n",
       "0          FRONT OF  PARKING LOT/GARAGE (PUBLIC)      NaN        NaN   \n",
       "1            INSIDE             DEPARTMENT STORE      NaN        NaN   \n",
       "2          FRONT OF                       STREET      NaN        NaN   \n",
       "3            INSIDE       RESIDENCE - APT. HOUSE      NaN        NaN   \n",
       "4            INSIDE                  CHAIN STORE      NaN        NaN   \n",
       "\n",
       "   X_COORD_CD  Y_COORD_CD SUSP_AGE_GROUP SUSP_SEX              PATROL_BORO  \\\n",
       "0   1000565.0    234704.0            NaN      NaN    PATROL BORO MAN NORTH   \n",
       "1   1009690.0    257590.0          45-64        F        PATROL BORO BRONX   \n",
       "2   1016034.0    176756.0          25-44        F  PATROL BORO BKLYN NORTH   \n",
       "3    985717.0    215911.0          25-44        M    PATROL BORO MAN SOUTH   \n",
       "4    992359.0    217816.0            <18        F    PATROL BORO MAN NORTH   \n",
       "\n",
       "  STATION_NAME VIC_AGE_GROUP        VIC_RACE VIC_SEX  \n",
       "0          NaN         25-44           WHITE       F  \n",
       "1          NaN       UNKNOWN         UNKNOWN       D  \n",
       "2          NaN       UNKNOWN         UNKNOWN       D  \n",
       "3          NaN         18-24  WHITE HISPANIC       F  \n",
       "4          NaN       UNKNOWN         UNKNOWN       D  "
      ]
     },
     "execution_count": 147,
     "metadata": {},
     "output_type": "execute_result"
    }
   ],
   "source": [
    "df.head()"
   ]
  },
  {
   "cell_type": "code",
   "execution_count": 88,
   "id": "314fa915-3292-4fc4-8d36-f430fbfe709a",
   "metadata": {},
   "outputs": [
    {
     "name": "stdout",
     "output_type": "stream",
     "text": [
      "<class 'pandas.core.frame.DataFrame'>\n",
      "RangeIndex: 7825499 entries, 0 to 7825498\n",
      "Data columns (total 18 columns):\n",
      " #   Column             Dtype \n",
      "---  ------             ----- \n",
      " 0   CMPLNT_FR_DT       object\n",
      " 1   CMPLNT_FR_TM       object\n",
      " 2   OFNS_DESC          object\n",
      " 3   PD_DESC            object\n",
      " 4   CRM_ATPT_CPTD_CD   object\n",
      " 5   LAW_CAT_CD         object\n",
      " 6   BORO_NM            object\n",
      " 7   LOC_OF_OCCUR_DESC  object\n",
      " 8   PREM_TYP_DESC      object\n",
      " 9   PARKS_NM           object\n",
      " 10  HADEVELOPT         object\n",
      " 11  SUSP_AGE_GROUP     object\n",
      " 12  SUSP_SEX           object\n",
      " 13  PATROL_BORO        object\n",
      " 14  STATION_NAME       object\n",
      " 15  VIC_AGE_GROUP      object\n",
      " 16  VIC_RACE           object\n",
      " 17  VIC_SEX            object\n",
      "dtypes: object(18)\n",
      "memory usage: 1.0+ GB\n"
     ]
    }
   ],
   "source": [
    "df.info()"
   ]
  },
  {
   "cell_type": "code",
   "execution_count": 89,
   "id": "2e2d00b5-66db-4e32-918c-8ca443535f31",
   "metadata": {},
   "outputs": [
    {
     "data": {
      "text/plain": [
       "CMPLNT_FR_DT             655\n",
       "CMPLNT_FR_TM              48\n",
       "OFNS_DESC              18832\n",
       "PD_DESC                 6761\n",
       "CRM_ATPT_CPTD_CD         168\n",
       "LAW_CAT_CD                 0\n",
       "BORO_NM                12480\n",
       "LOC_OF_OCCUR_DESC    1618063\n",
       "PREM_TYP_DESC          42015\n",
       "PARKS_NM             7794644\n",
       "HADEVELOPT           7477110\n",
       "SUSP_AGE_GROUP       4883369\n",
       "SUSP_SEX             3648142\n",
       "PATROL_BORO             7218\n",
       "STATION_NAME         7653024\n",
       "VIC_AGE_GROUP        1638445\n",
       "VIC_RACE                 390\n",
       "VIC_SEX                  308\n",
       "dtype: int64"
      ]
     },
     "execution_count": 89,
     "metadata": {},
     "output_type": "execute_result"
    }
   ],
   "source": [
    "df.isna().sum()"
   ]
  },
  {
   "cell_type": "code",
   "execution_count": 129,
   "id": "ab86f150-dfc8-434d-9cc4-099aa863009c",
   "metadata": {},
   "outputs": [
    {
     "data": {
      "text/plain": [
       "01/01/2008    2281\n",
       "01/01/2010    2258\n",
       "01/01/2007    2252\n",
       "01/01/2011    2147\n",
       "01/01/2014    2050\n",
       "              ... \n",
       "04/05/1999       1\n",
       "11/03/1985       1\n",
       "12/20/1966       1\n",
       "12/21/1994       1\n",
       "04/01/1974       1\n",
       "Name: CMPLNT_FR_DT, Length: 8899, dtype: int64"
      ]
     },
     "execution_count": 129,
     "metadata": {},
     "output_type": "execute_result"
    }
   ],
   "source": [
    "df.CMPLNT_FR_DT.value_counts()"
   ]
  },
  {
   "cell_type": "code",
   "execution_count": 133,
   "id": "582da65d-6161-41be-9164-894da5351b3f",
   "metadata": {},
   "outputs": [
    {
     "data": {
      "text/plain": [
       "8899"
      ]
     },
     "execution_count": 133,
     "metadata": {},
     "output_type": "execute_result"
    }
   ],
   "source": [
    "df.CMPLNT_FR_DT.nunique()"
   ]
  },
  {
   "cell_type": "code",
   "execution_count": 91,
   "id": "353cf138-ac57-4cd0-880e-870c10df3392",
   "metadata": {},
   "outputs": [
    {
     "data": {
      "text/plain": [
       "M    2604455\n",
       "F     813496\n",
       "U     759406\n",
       "Name: SUSP_SEX, dtype: int64"
      ]
     },
     "execution_count": 91,
     "metadata": {},
     "output_type": "execute_result"
    }
   ],
   "source": [
    "df.SUSP_SEX.value_counts()"
   ]
  },
  {
   "cell_type": "code",
   "execution_count": 116,
   "id": "27d2f58b-67b7-4184-a388-d335d5aed7f1",
   "metadata": {},
   "outputs": [],
   "source": [
    "df = df.loc[df[\"SUSP_SEX\"] != 'U']"
   ]
  },
  {
   "cell_type": "code",
   "execution_count": 117,
   "id": "8087c9af-02a7-4012-920f-3fdbd74a2450",
   "metadata": {},
   "outputs": [
    {
     "data": {
      "text/plain": [
       "M    2552194\n",
       "F     805307\n",
       "Name: SUSP_SEX, dtype: int64"
      ]
     },
     "execution_count": 117,
     "metadata": {},
     "output_type": "execute_result"
    }
   ],
   "source": [
    "df.SUSP_SEX.value_counts()"
   ]
  },
  {
   "cell_type": "code",
   "execution_count": 92,
   "id": "fa7593bd-f9c1-4448-a8d6-4ad3767eda6e",
   "metadata": {},
   "outputs": [
    {
     "data": {
      "text/plain": [
       "25-44      2600860\n",
       "45-64      1358535\n",
       "UNKNOWN     802994\n",
       "18-24       789320\n",
       "<18         353678\n",
       "            ...   \n",
       "909              1\n",
       "917              1\n",
       "707              1\n",
       "-923             1\n",
       "-960             1\n",
       "Name: VIC_AGE_GROUP, Length: 207, dtype: int64"
      ]
     },
     "execution_count": 92,
     "metadata": {},
     "output_type": "execute_result"
    }
   ],
   "source": [
    "df.VIC_AGE_GROUP.value_counts()"
   ]
  },
  {
   "cell_type": "code",
   "execution_count": 93,
   "id": "2fe4b859-d59f-4dfd-b7b1-294d5d487e53",
   "metadata": {},
   "outputs": [
    {
     "data": {
      "text/plain": [
       "CMPLNT_FR_DT         object\n",
       "CMPLNT_FR_TM         object\n",
       "OFNS_DESC            object\n",
       "PD_DESC              object\n",
       "CRM_ATPT_CPTD_CD     object\n",
       "LAW_CAT_CD           object\n",
       "BORO_NM              object\n",
       "LOC_OF_OCCUR_DESC    object\n",
       "PREM_TYP_DESC        object\n",
       "PARKS_NM             object\n",
       "HADEVELOPT           object\n",
       "SUSP_AGE_GROUP       object\n",
       "SUSP_SEX             object\n",
       "PATROL_BORO          object\n",
       "STATION_NAME         object\n",
       "VIC_AGE_GROUP        object\n",
       "VIC_RACE             object\n",
       "VIC_SEX              object\n",
       "dtype: object"
      ]
     },
     "execution_count": 93,
     "metadata": {},
     "output_type": "execute_result"
    }
   ],
   "source": [
    "df.dtypes  #object is a string "
   ]
  },
  {
   "cell_type": "code",
   "execution_count": 96,
   "id": "293be0a4-2048-4b7f-acdc-7c2d4b8a5c60",
   "metadata": {},
   "outputs": [
    {
     "data": {
      "text/plain": [
       "array(['25-44', 'UNKNOWN', '18-24', nan, '<18', '45-64', '65+', '-942',\n",
       "       '970', '1017', '-51', '954', '972', '951', '-55', '-1', '-966',\n",
       "       '957', '-59', '-974', '-948', '956', '-962', '-2', '-65', '-936',\n",
       "       '-81', '-40', '-37', '-973', '-5', '-957', '154', '-952', '-940',\n",
       "       '-968', '-943', '-929', '-43', '-56', '-954', '943', '-961',\n",
       "       '-967', '1018', '929', '936', '-71', '-50', '-69', '-67', '937',\n",
       "       '-946', '941', '1013', '-39', '960', '927', '174', '938', '-984',\n",
       "       '-978', '-970', '950', '-934', '-4', '-62', '-3', '-960', '-921',\n",
       "       '-61', '-48', '963', '945', '-935', '-975', '-980', '-72', '946',\n",
       "       '-959', '-958', '1014', '-931', '-972', '949', '-965', '-60',\n",
       "       '1016', '932', '-31', '-963', '-938', '930', '-7', '-73', '-937',\n",
       "       '-53', '-45', '-902', '-63', '-70', '-981', '928', '-964', '-950',\n",
       "       '-884', '-971', '-945', '940', '-36', '-52', '-32', '922', '914',\n",
       "       '947', '926', '-78', '999', '810', '980', '942', '-923', '711',\n",
       "       '924', '-982', '933', '309', '152', '962', '-969', '-976', '151',\n",
       "       '1004', '808', '738', '887', '912', '939', '709', '944', '812',\n",
       "       '948', '-49', '-85', '160', '343', '-75', '214', '934', '953',\n",
       "       '158', '838', '-915', '909', '809', '931', '311', '623', '908',\n",
       "       '-955', '-956', '185', '-947', '923', '920', '508', '955', '895',\n",
       "       '172', '811', '340', '925', '964', '959', '-953', '707', '952',\n",
       "       '935', '961', '-932', '918', '917', '913', '260', '-47', '342',\n",
       "       '509', '981', '324', '507', '-939', '983', '188', '911', '958',\n",
       "       '359', '-983', '979', '806', '910', '-985', '921', '334', '901',\n",
       "       '1012', '977', '-76', '965'], dtype=object)"
      ]
     },
     "execution_count": 96,
     "metadata": {},
     "output_type": "execute_result"
    }
   ],
   "source": [
    "df.VIC_AGE_GROUP.unique()"
   ]
  },
  {
   "cell_type": "code",
   "execution_count": 15,
   "id": "136917a5-b714-45df-8d87-66d5b58fc360",
   "metadata": {},
   "outputs": [
    {
     "data": {
      "text/plain": [
       "PATROL BORO BRONX            1694758\n",
       "PATROL BORO BKLYN SOUTH      1159651\n",
       "PATROL BORO BKLYN NORTH      1154993\n",
       "PATROL BORO MAN SOUTH         947193\n",
       "PATROL BORO MAN NORTH         934870\n",
       "PATROL BORO QUEENS NORTH      810279\n",
       "PATROL BORO QUEENS SOUTH      754527\n",
       "PATROL BORO STATEN ISLAND     362010\n",
       "Name: PATROL_BORO, dtype: int64"
      ]
     },
     "execution_count": 15,
     "metadata": {},
     "output_type": "execute_result"
    }
   ],
   "source": [
    "df.PATROL_BORO.value_counts()"
   ]
  },
  {
   "cell_type": "code",
   "execution_count": 25,
   "id": "9f803f36-036d-40ce-8007-31b2b31e42fe",
   "metadata": {},
   "outputs": [
    {
     "data": {
      "text/plain": [
       "125 STREET                        8546\n",
       "14 STREET                         4684\n",
       "42 ST.-PORT AUTHORITY BUS TERM    4073\n",
       "34 ST.-PENN STATION               4041\n",
       "116 STREET                        3442\n",
       "                                  ... \n",
       "DISTRICT 30 OFFICE                  19\n",
       "DISTRICT 12 OFFICE                  19\n",
       "DISTRICT 34 OFFICE                  14\n",
       "DISTRICT 23 OFFICE                   6\n",
       "OFF-SYSTEM                           4\n",
       "Name: STATION_NAME, Length: 372, dtype: int64"
      ]
     },
     "execution_count": 25,
     "metadata": {},
     "output_type": "execute_result"
    }
   ],
   "source": [
    "df.STATION_NAME.value_counts()"
   ]
  },
  {
   "cell_type": "code",
   "execution_count": 28,
   "id": "d3663166-9dcd-4139-8707-a80e19975033",
   "metadata": {},
   "outputs": [
    {
     "data": {
      "text/plain": [
       "01/01/2010    2488\n",
       "01/01/2014    2395\n",
       "01/01/2016    2383\n",
       "01/01/2011    2375\n",
       "01/01/2008    2356\n",
       "              ... \n",
       "02/20/1998       1\n",
       "08/23/2000       1\n",
       "11/24/1960       1\n",
       "07/25/1018       1\n",
       "02/25/2002       1\n",
       "Name: CMPLNT_FR_DT, Length: 9040, dtype: int64"
      ]
     },
     "execution_count": 28,
     "metadata": {},
     "output_type": "execute_result"
    }
   ],
   "source": [
    "df.CMPLNT_FR_DT.value_counts()"
   ]
  },
  {
   "cell_type": "code",
   "execution_count": 29,
   "id": "500ca9ac-342e-48af-915b-6c31ca167862",
   "metadata": {},
   "outputs": [
    {
     "data": {
      "text/plain": [
       "12:00:00    208276\n",
       "15:00:00    174151\n",
       "18:00:00    167067\n",
       "20:00:00    158234\n",
       "17:00:00    156866\n",
       "             ...  \n",
       "06:56:00       218\n",
       "06:41:00       215\n",
       "05:51:00       213\n",
       "05:31:00       204\n",
       "00:00:01         1\n",
       "Name: CMPLNT_FR_TM, Length: 1441, dtype: int64"
      ]
     },
     "execution_count": 29,
     "metadata": {},
     "output_type": "execute_result"
    }
   ],
   "source": [
    "df.CMPLNT_FR_TM.value_counts()"
   ]
  },
  {
   "cell_type": "code",
   "execution_count": 30,
   "id": "39f81c55-d486-436f-95d9-f603a214d3a7",
   "metadata": {},
   "outputs": [
    {
     "data": {
      "text/plain": [
       "PETIT LARCENY                      1331246\n",
       "HARRASSMENT 2                      1020122\n",
       "ASSAULT 3 & RELATED OFFENSES        822614\n",
       "CRIMINAL MISCHIEF & RELATED OF      789690\n",
       "GRAND LARCENY                       679846\n",
       "                                    ...   \n",
       "FORTUNE TELLING                         12\n",
       "ABORTION                                 7\n",
       "OFFENSES AGAINST MARRIAGE UNCL           5\n",
       "UNDER THE INFLUENCE OF DRUGS             3\n",
       "KIDNAPPING AND RELATED OFFENSES          3\n",
       "Name: OFNS_DESC, Length: 71, dtype: int64"
      ]
     },
     "execution_count": 30,
     "metadata": {},
     "output_type": "execute_result"
    }
   ],
   "source": [
    "df.OFNS_DESC.value_counts()"
   ]
  },
  {
   "cell_type": "code",
   "execution_count": 122,
   "id": "3f9dfec4-5736-42d0-808c-fd942b0f255a",
   "metadata": {},
   "outputs": [],
   "source": [
    "df = df.loc[df[\"OFNS_DESC\"] != 'nan']"
   ]
  },
  {
   "cell_type": "code",
   "execution_count": 123,
   "id": "d461a2c4-199f-45b1-82a9-034cb7d4f1c3",
   "metadata": {},
   "outputs": [
    {
     "data": {
      "text/plain": [
       "array(['CRIMINAL MISCHIEF & RELATED OF', 'PETIT LARCENY',\n",
       "       'OFF. AGNST PUB ORD SENSBLTY &', 'FORGERY', 'DANGEROUS WEAPONS',\n",
       "       'ASSAULT 3 & RELATED OFFENSES', 'FELONY ASSAULT',\n",
       "       'OFFENSES AGAINST PUBLIC ADMINI', 'GRAND LARCENY', 'ROBBERY',\n",
       "       'HARRASSMENT 2', 'DANGEROUS DRUGS', 'SEX CRIMES',\n",
       "       'VEHICLE AND TRAFFIC LAWS', 'OTHER OFFENSES RELATED TO THEF',\n",
       "       'CRIMINAL TRESPASS', 'OFFENSES AGAINST THE PERSON',\n",
       "       'POSSESSION OF STOLEN PROPERTY', 'MISCELLANEOUS PENAL LAW',\n",
       "       'BURGLARY', 'ARSON', 'GRAND LARCENY OF MOTOR VEHICLE', 'RAPE',\n",
       "       'OFFENSES INVOLVING FRAUD', 'INTOXICATED & IMPAIRED DRIVING',\n",
       "       'UNAUTHORIZED USE OF A VEHICLE', 'NYS LAWS-UNCLASSIFIED FELONY',\n",
       "       'OTHER STATE LAWS (NON PENAL LA', 'FRAUDS', 'ADMINISTRATIVE CODE',\n",
       "       'THEFT-FRAUD', nan, 'OFFENSES AGAINST PUBLIC SAFETY',\n",
       "       'DISORDERLY CONDUCT', 'ANTICIPATORY OFFENSES', 'JOSTLING',\n",
       "       'KIDNAPPING & RELATED OFFENSES', 'MURDER & NON-NEGL. MANSLAUGHTER',\n",
       "       'ALCOHOLIC BEVERAGE CONTROL LAW', 'THEFT OF SERVICES',\n",
       "       \"BURGLAR'S TOOLS\", 'FRAUDULENT ACCOSTING', 'GAMBLING',\n",
       "       'PETIT LARCENY OF MOTOR VEHICLE',\n",
       "       'AGRICULTURE & MRKTS LAW-UNCLASSIFIED',\n",
       "       'PROSTITUTION & RELATED OFFENSES', 'CHILD ABANDONMENT/NON SUPPORT',\n",
       "       'OFFENSES RELATED TO CHILDREN', 'ENDAN WELFARE INCOMP', 'ABORTION',\n",
       "       'NYS LAWS-UNCLASSIFIED VIOLATION', 'OTHER STATE LAWS',\n",
       "       'INTOXICATED/IMPAIRED DRIVING', 'ESCAPE 3',\n",
       "       'LOITERING/GAMBLING (CARDS, DIC', 'HOMICIDE-NEGLIGENT,UNCLASSIFIE',\n",
       "       'NEW YORK CITY HEALTH CODE', 'KIDNAPPING',\n",
       "       'UNLAWFUL POSS. WEAP. ON SCHOOL', 'UNDER THE INFLUENCE OF DRUGS',\n",
       "       'OTHER TRAFFIC INFRACTION', 'ADMINISTRATIVE CODES',\n",
       "       'OTHER STATE LAWS (NON PENAL LAW)', 'HOMICIDE-NEGLIGENT-VEHICLE',\n",
       "       'DISRUPTION OF A RELIGIOUS SERV', 'FELONY SEX CRIMES',\n",
       "       'OFFENSES AGAINST MARRIAGE UNCL', 'FORTUNE TELLING',\n",
       "       'KIDNAPPING AND RELATED OFFENSES', 'LOITERING',\n",
       "       'LOITERING FOR DRUG PURPOSES', 'LOITERING/DEVIATE SEX'],\n",
       "      dtype=object)"
      ]
     },
     "execution_count": 123,
     "metadata": {},
     "output_type": "execute_result"
    }
   ],
   "source": [
    "df.OFNS_DESC.unique()"
   ]
  },
  {
   "cell_type": "code",
   "execution_count": 31,
   "id": "349eb5b0-8580-4898-9a69-8374174e3036",
   "metadata": {},
   "outputs": [
    {
     "data": {
      "text/plain": [
       "ASSAULT 3                           676780\n",
       "HARASSMENT,SUBD 3,4,5               668605\n",
       "LARCENY,PETIT FROM STORE-SHOPL      402081\n",
       "AGGRAVATED HARASSMENT 2             390612\n",
       "HARASSMENT,SUBD 1,CIVILIAN          351525\n",
       "                                     ...  \n",
       "PUBLIC HEALTH LAW,GLUE,INHALAT           1\n",
       "AGGRAVATED GRAND LARCENY OF ATM          1\n",
       "ANARCHY,CRIMINAL                         1\n",
       "USE CHILD TO COMMIT CONT SUB OFF         1\n",
       "ABORTIONAL ARTICLES,ISSUING              1\n",
       "Name: PD_DESC, Length: 422, dtype: int64"
      ]
     },
     "execution_count": 31,
     "metadata": {},
     "output_type": "execute_result"
    }
   ],
   "source": [
    "df.PD_DESC.value_counts()"
   ]
  },
  {
   "cell_type": "code",
   "execution_count": 126,
   "id": "fb0a824c-28a8-478c-8873-922565f27adc",
   "metadata": {},
   "outputs": [],
   "source": [
    "df = df.loc[df[\"PD_DESC\"] != 'nan']"
   ]
  },
  {
   "cell_type": "code",
   "execution_count": 51,
   "id": "4df0013e-d090-40cd-acfc-ad3efb23984a",
   "metadata": {},
   "outputs": [
    {
     "data": {
      "text/plain": [
       "422"
      ]
     },
     "execution_count": 51,
     "metadata": {},
     "output_type": "execute_result"
    }
   ],
   "source": [
    "df.PD_DESC.nunique()"
   ]
  },
  {
   "cell_type": "code",
   "execution_count": 128,
   "id": "e9e4c1c0-671f-42c9-8101-ebdaed2bc489",
   "metadata": {},
   "outputs": [],
   "source": [
    "#df.PD_DESC.unique()"
   ]
  },
  {
   "cell_type": "code",
   "execution_count": 32,
   "id": "fd0aba38-deac-438b-bc17-49f17de6f3a9",
   "metadata": {},
   "outputs": [
    {
     "data": {
      "text/plain": [
       "COMPLETED    7692989\n",
       "ATTEMPTED     132342\n",
       "Name: CRM_ATPT_CPTD_CD, dtype: int64"
      ]
     },
     "execution_count": 32,
     "metadata": {},
     "output_type": "execute_result"
    }
   ],
   "source": [
    "df.CRM_ATPT_CPTD_CD.value_counts()"
   ]
  },
  {
   "cell_type": "code",
   "execution_count": 113,
   "id": "1c490cff-7afa-4fab-bc86-88419e5d7e5b",
   "metadata": {},
   "outputs": [],
   "source": [
    "df = df.loc[df[\"CRM_ATPT_CPTD_CD\"] != 'ATTEMPTED']"
   ]
  },
  {
   "cell_type": "code",
   "execution_count": 114,
   "id": "d4c37034-e074-46e8-a813-f44debf9db42",
   "metadata": {},
   "outputs": [
    {
     "data": {
      "text/plain": [
       "COMPLETED    7692985\n",
       "Name: CRM_ATPT_CPTD_CD, dtype: int64"
      ]
     },
     "execution_count": 114,
     "metadata": {},
     "output_type": "execute_result"
    }
   ],
   "source": [
    "df.CRM_ATPT_CPTD_CD.value_counts()"
   ]
  },
  {
   "cell_type": "code",
   "execution_count": 33,
   "id": "38536ecf-fd62-49c7-9764-3f50ee470dba",
   "metadata": {},
   "outputs": [
    {
     "data": {
      "text/plain": [
       "MISDEMEANOR    4366279\n",
       "FELONY         2423773\n",
       "VIOLATION      1035447\n",
       "Name: LAW_CAT_CD, dtype: int64"
      ]
     },
     "execution_count": 33,
     "metadata": {},
     "output_type": "execute_result"
    }
   ],
   "source": [
    "df.LAW_CAT_CD.value_counts()   "
   ]
  },
  {
   "cell_type": "code",
   "execution_count": 34,
   "id": "95585e96-f941-4d4b-9019-78cc62f6cbdb",
   "metadata": {},
   "outputs": [
    {
     "data": {
      "text/plain": [
       "BROOKLYN         2313143\n",
       "MANHATTAN        1882292\n",
       "BRONX            1693981\n",
       "QUEENS           1561712\n",
       "STATEN ISLAND     361891\n",
       "Name: BORO_NM, dtype: int64"
      ]
     },
     "execution_count": 34,
     "metadata": {},
     "output_type": "execute_result"
    }
   ],
   "source": [
    "df.BORO_NM.value_counts()"
   ]
  },
  {
   "cell_type": "code",
   "execution_count": 35,
   "id": "285f5e66-147f-49fb-9060-5bcd7466d381",
   "metadata": {},
   "outputs": [
    {
     "data": {
      "text/plain": [
       "INSIDE         3989246\n",
       "FRONT OF       1843909\n",
       "OPPOSITE OF     204956\n",
       "REAR OF         165162\n",
       "OUTSIDE           4163\n",
       "Name: LOC_OF_OCCUR_DESC, dtype: int64"
      ]
     },
     "execution_count": 35,
     "metadata": {},
     "output_type": "execute_result"
    }
   ],
   "source": [
    "df.LOC_OF_OCCUR_DESC.value_counts()"
   ]
  },
  {
   "cell_type": "code",
   "execution_count": 36,
   "id": "5a8fd6c0-cc42-4dc3-8968-c6a169761f84",
   "metadata": {},
   "outputs": [
    {
     "data": {
      "text/plain": [
       "STREET                        2479952\n",
       "RESIDENCE - APT. HOUSE        1673484\n",
       "RESIDENCE-HOUSE                772809\n",
       "RESIDENCE - PUBLIC HOUSING     585590\n",
       "OTHER                          209092\n",
       "                               ...   \n",
       "MAILBOX INSIDE                    895\n",
       "CEMETERY                          885\n",
       "LOAN COMPANY                      521\n",
       "TRAMWAY                           146\n",
       "DAYCARE FACILITY                   71\n",
       "Name: PREM_TYP_DESC, Length: 74, dtype: int64"
      ]
     },
     "execution_count": 36,
     "metadata": {},
     "output_type": "execute_result"
    }
   ],
   "source": [
    "df.PREM_TYP_DESC.value_counts()"
   ]
  },
  {
   "cell_type": "code",
   "execution_count": 37,
   "id": "864de0ca-86dc-446d-868a-9ad9b8bc4563",
   "metadata": {},
   "outputs": [
    {
     "data": {
      "text/plain": [
       "CENTRAL PARK                      1856\n",
       "FLUSHING MEADOWS CORONA PARK      1532\n",
       "CONEY ISLAND BEACH & BOARDWALK    1161\n",
       "WASHINGTON SQUARE PARK            1063\n",
       "RIVERSIDE PARK                     680\n",
       "                                  ... \n",
       "QUEENS FARM PARK                     1\n",
       "BARCLAY TRIANGLE                     1\n",
       "O'BRIEN OVAL                         1\n",
       "RISSE STREET PARK                    1\n",
       "FLOOD TRIANGLE                       1\n",
       "Name: PARKS_NM, Length: 1233, dtype: int64"
      ]
     },
     "execution_count": 37,
     "metadata": {},
     "output_type": "execute_result"
    }
   ],
   "source": [
    "df.PARKS_NM.value_counts()"
   ]
  },
  {
   "cell_type": "code",
   "execution_count": 38,
   "id": "4060345f-d57f-4f19-aeb6-79d217a1607f",
   "metadata": {},
   "outputs": [
    {
     "data": {
      "text/plain": [
       "CASTLE HILL                 7555\n",
       "VAN DYKE I                  6108\n",
       "MARCY                       5597\n",
       "GRANT                       5296\n",
       "BUTLER                      5231\n",
       "                            ... \n",
       "JEFFERSON                      1\n",
       "BRONXCHESTER                   1\n",
       "FRANKLIN AVENUE III MHOP       1\n",
       "1010 EAST 178TH STREET         1\n",
       "344 EAST 28TH STREET           1\n",
       "Name: HADEVELOPT, Length: 279, dtype: int64"
      ]
     },
     "execution_count": 38,
     "metadata": {},
     "output_type": "execute_result"
    }
   ],
   "source": [
    "df.HADEVELOPT.value_counts()  "
   ]
  },
  {
   "cell_type": "code",
   "execution_count": 39,
   "id": "88af4294-1ced-4d09-99d4-3fd31bc3baf9",
   "metadata": {},
   "outputs": [
    {
     "data": {
      "text/plain": [
       "25-44      1130265\n",
       "UNKNOWN     842769\n",
       "18-24       418316\n",
       "45-64       400780\n",
       "<18         115392\n",
       "            ...   \n",
       "-60              1\n",
       "-83              1\n",
       "-12              1\n",
       "927              1\n",
       "953              1\n",
       "Name: SUSP_AGE_GROUP, Length: 120, dtype: int64"
      ]
     },
     "execution_count": 39,
     "metadata": {},
     "output_type": "execute_result"
    }
   ],
   "source": [
    "df.SUSP_AGE_GROUP.value_counts()"
   ]
  },
  {
   "cell_type": "code",
   "execution_count": 40,
   "id": "b0241863-3157-49e2-98f3-24dfcbeacace",
   "metadata": {},
   "outputs": [
    {
     "data": {
      "text/plain": [
       "M    2604455\n",
       "F     813496\n",
       "U     759406\n",
       "Name: SUSP_SEX, dtype: int64"
      ]
     },
     "execution_count": 40,
     "metadata": {},
     "output_type": "execute_result"
    }
   ],
   "source": [
    "df.SUSP_SEX.value_counts()"
   ]
  },
  {
   "cell_type": "code",
   "execution_count": 41,
   "id": "c2fad32d-55a9-4660-b3bc-50d20a784cce",
   "metadata": {},
   "outputs": [
    {
     "data": {
      "text/plain": [
       "PATROL BORO BRONX            1694758\n",
       "PATROL BORO BKLYN SOUTH      1159651\n",
       "PATROL BORO BKLYN NORTH      1154993\n",
       "PATROL BORO MAN SOUTH         947193\n",
       "PATROL BORO MAN NORTH         934870\n",
       "PATROL BORO QUEENS NORTH      810279\n",
       "PATROL BORO QUEENS SOUTH      754527\n",
       "PATROL BORO STATEN ISLAND     362010\n",
       "Name: PATROL_BORO, dtype: int64"
      ]
     },
     "execution_count": 41,
     "metadata": {},
     "output_type": "execute_result"
    }
   ],
   "source": [
    "df.PATROL_BORO.value_counts()"
   ]
  },
  {
   "cell_type": "code",
   "execution_count": 102,
   "id": "bab2544c-3ae1-49d9-a4e9-e9cebc033096",
   "metadata": {},
   "outputs": [
    {
     "data": {
      "text/plain": [
       "125 STREET                        8546\n",
       "14 STREET                         4684\n",
       "42 ST.-PORT AUTHORITY BUS TERM    4073\n",
       "34 ST.-PENN STATION               4041\n",
       "116 STREET                        3442\n",
       "                                  ... \n",
       "DISTRICT 30 OFFICE                  19\n",
       "DISTRICT 12 OFFICE                  19\n",
       "DISTRICT 34 OFFICE                  14\n",
       "DISTRICT 23 OFFICE                   6\n",
       "OFF-SYSTEM                           4\n",
       "Name: STATION_NAME, Length: 372, dtype: int64"
      ]
     },
     "execution_count": 102,
     "metadata": {},
     "output_type": "execute_result"
    }
   ],
   "source": [
    "df.STATION_NAME.value_counts()"
   ]
  },
  {
   "cell_type": "code",
   "execution_count": 99,
   "id": "2ed1473f-2a07-4f88-b086-f73f75f1dbfe",
   "metadata": {},
   "outputs": [
    {
     "data": {
      "text/plain": [
       "372"
      ]
     },
     "execution_count": 99,
     "metadata": {},
     "output_type": "execute_result"
    }
   ],
   "source": [
    "df.STATION_NAME.nunique()"
   ]
  },
  {
   "cell_type": "code",
   "execution_count": 101,
   "id": "2f1c04d1-8acf-4e74-806d-fb2da69677a7",
   "metadata": {},
   "outputs": [
    {
     "data": {
      "text/html": [
       "<div>\n",
       "<style scoped>\n",
       "    .dataframe tbody tr th:only-of-type {\n",
       "        vertical-align: middle;\n",
       "    }\n",
       "\n",
       "    .dataframe tbody tr th {\n",
       "        vertical-align: top;\n",
       "    }\n",
       "\n",
       "    .dataframe thead th {\n",
       "        text-align: right;\n",
       "    }\n",
       "</style>\n",
       "<table border=\"1\" class=\"dataframe\">\n",
       "  <thead>\n",
       "    <tr style=\"text-align: right;\">\n",
       "      <th></th>\n",
       "      <th>CMPLNT_FR_DT</th>\n",
       "      <th>CMPLNT_FR_TM</th>\n",
       "      <th>OFNS_DESC</th>\n",
       "      <th>PD_DESC</th>\n",
       "      <th>CRM_ATPT_CPTD_CD</th>\n",
       "      <th>LAW_CAT_CD</th>\n",
       "      <th>BORO_NM</th>\n",
       "      <th>LOC_OF_OCCUR_DESC</th>\n",
       "      <th>PREM_TYP_DESC</th>\n",
       "      <th>PARKS_NM</th>\n",
       "      <th>HADEVELOPT</th>\n",
       "      <th>SUSP_AGE_GROUP</th>\n",
       "      <th>SUSP_SEX</th>\n",
       "      <th>PATROL_BORO</th>\n",
       "      <th>STATION_NAME</th>\n",
       "      <th>VIC_AGE_GROUP</th>\n",
       "      <th>VIC_RACE</th>\n",
       "      <th>VIC_SEX</th>\n",
       "    </tr>\n",
       "  </thead>\n",
       "  <tbody>\n",
       "    <tr>\n",
       "      <th>5</th>\n",
       "      <td>03/12/2018</td>\n",
       "      <td>11:48:00</td>\n",
       "      <td>FORGERY</td>\n",
       "      <td>FORGERY,ETC.,UNCLASSIFIED-FELO</td>\n",
       "      <td>COMPLETED</td>\n",
       "      <td>FELONY</td>\n",
       "      <td>MANHATTAN</td>\n",
       "      <td>NaN</td>\n",
       "      <td>TRANSIT - NYC SUBWAY</td>\n",
       "      <td>NaN</td>\n",
       "      <td>NaN</td>\n",
       "      <td>NaN</td>\n",
       "      <td>NaN</td>\n",
       "      <td>PATROL BORO MAN NORTH</td>\n",
       "      <td>125 STREET</td>\n",
       "      <td>UNKNOWN</td>\n",
       "      <td>UNKNOWN</td>\n",
       "      <td>E</td>\n",
       "    </tr>\n",
       "    <tr>\n",
       "      <th>74</th>\n",
       "      <td>11/02/2018</td>\n",
       "      <td>16:00:00</td>\n",
       "      <td>ROBBERY</td>\n",
       "      <td>ROBBERY,PUBLIC PLACE INSIDE</td>\n",
       "      <td>ATTEMPTED</td>\n",
       "      <td>FELONY</td>\n",
       "      <td>MANHATTAN</td>\n",
       "      <td>NaN</td>\n",
       "      <td>TRANSIT - NYC SUBWAY</td>\n",
       "      <td>NaN</td>\n",
       "      <td>NaN</td>\n",
       "      <td>45-64</td>\n",
       "      <td>M</td>\n",
       "      <td>PATROL BORO MAN NORTH</td>\n",
       "      <td>145 STREET</td>\n",
       "      <td>UNKNOWN</td>\n",
       "      <td>UNKNOWN</td>\n",
       "      <td>E</td>\n",
       "    </tr>\n",
       "    <tr>\n",
       "      <th>112</th>\n",
       "      <td>10/08/2018</td>\n",
       "      <td>22:00:00</td>\n",
       "      <td>CRIMINAL MISCHIEF &amp; RELATED OF</td>\n",
       "      <td>CRIMINAL MIS 2 &amp; 3</td>\n",
       "      <td>COMPLETED</td>\n",
       "      <td>FELONY</td>\n",
       "      <td>BROOKLYN</td>\n",
       "      <td>NaN</td>\n",
       "      <td>TRANSIT - NYC SUBWAY</td>\n",
       "      <td>NaN</td>\n",
       "      <td>NaN</td>\n",
       "      <td>NaN</td>\n",
       "      <td>NaN</td>\n",
       "      <td>PATROL BORO BKLYN NORTH</td>\n",
       "      <td>UTICA AVE.-CROWN HEIGHTS</td>\n",
       "      <td>UNKNOWN</td>\n",
       "      <td>UNKNOWN</td>\n",
       "      <td>D</td>\n",
       "    </tr>\n",
       "    <tr>\n",
       "      <th>116</th>\n",
       "      <td>02/27/2018</td>\n",
       "      <td>09:40:00</td>\n",
       "      <td>GRAND LARCENY</td>\n",
       "      <td>LARCENY,GRAND FROM PERSON, BAG OPEN/DIP</td>\n",
       "      <td>COMPLETED</td>\n",
       "      <td>FELONY</td>\n",
       "      <td>MANHATTAN</td>\n",
       "      <td>NaN</td>\n",
       "      <td>TRANSIT - NYC SUBWAY</td>\n",
       "      <td>NaN</td>\n",
       "      <td>NaN</td>\n",
       "      <td>UNKNOWN</td>\n",
       "      <td>U</td>\n",
       "      <td>PATROL BORO MAN SOUTH</td>\n",
       "      <td>CANAL STREET</td>\n",
       "      <td>25-44</td>\n",
       "      <td>WHITE</td>\n",
       "      <td>F</td>\n",
       "    </tr>\n",
       "    <tr>\n",
       "      <th>152</th>\n",
       "      <td>02/25/2018</td>\n",
       "      <td>00:01:00</td>\n",
       "      <td>SEX CRIMES</td>\n",
       "      <td>SEXUAL ABUSE 3,2</td>\n",
       "      <td>COMPLETED</td>\n",
       "      <td>MISDEMEANOR</td>\n",
       "      <td>MANHATTAN</td>\n",
       "      <td>NaN</td>\n",
       "      <td>TRANSIT - NYC SUBWAY</td>\n",
       "      <td>NaN</td>\n",
       "      <td>NaN</td>\n",
       "      <td>NaN</td>\n",
       "      <td>NaN</td>\n",
       "      <td>PATROL BORO MAN SOUTH</td>\n",
       "      <td>LEXINGTON AVE.</td>\n",
       "      <td>45-64</td>\n",
       "      <td>BLACK</td>\n",
       "      <td>M</td>\n",
       "    </tr>\n",
       "    <tr>\n",
       "      <th>...</th>\n",
       "      <td>...</td>\n",
       "      <td>...</td>\n",
       "      <td>...</td>\n",
       "      <td>...</td>\n",
       "      <td>...</td>\n",
       "      <td>...</td>\n",
       "      <td>...</td>\n",
       "      <td>...</td>\n",
       "      <td>...</td>\n",
       "      <td>...</td>\n",
       "      <td>...</td>\n",
       "      <td>...</td>\n",
       "      <td>...</td>\n",
       "      <td>...</td>\n",
       "      <td>...</td>\n",
       "      <td>...</td>\n",
       "      <td>...</td>\n",
       "      <td>...</td>\n",
       "    </tr>\n",
       "    <tr>\n",
       "      <th>7825268</th>\n",
       "      <td>02/07/2018</td>\n",
       "      <td>03:45:00</td>\n",
       "      <td>GRAND LARCENY</td>\n",
       "      <td>LARCENY,GRAND FROM PERSON,LUSH WORKER(SLEEPING...</td>\n",
       "      <td>COMPLETED</td>\n",
       "      <td>FELONY</td>\n",
       "      <td>BROOKLYN</td>\n",
       "      <td>NaN</td>\n",
       "      <td>TRANSIT - NYC SUBWAY</td>\n",
       "      <td>NaN</td>\n",
       "      <td>NaN</td>\n",
       "      <td>25-44</td>\n",
       "      <td>M</td>\n",
       "      <td>PATROL BORO BKLYN NORTH</td>\n",
       "      <td>NEW LOTS AVENUE</td>\n",
       "      <td>65+</td>\n",
       "      <td>WHITE</td>\n",
       "      <td>M</td>\n",
       "    </tr>\n",
       "    <tr>\n",
       "      <th>7825279</th>\n",
       "      <td>11/09/2018</td>\n",
       "      <td>16:49:00</td>\n",
       "      <td>SEX CRIMES</td>\n",
       "      <td>SEXUAL ABUSE 3,2</td>\n",
       "      <td>COMPLETED</td>\n",
       "      <td>MISDEMEANOR</td>\n",
       "      <td>BROOKLYN</td>\n",
       "      <td>NaN</td>\n",
       "      <td>TRANSIT - NYC SUBWAY</td>\n",
       "      <td>NaN</td>\n",
       "      <td>NaN</td>\n",
       "      <td>18-24</td>\n",
       "      <td>M</td>\n",
       "      <td>PATROL BORO BKLYN SOUTH</td>\n",
       "      <td>BAY PARKWAY</td>\n",
       "      <td>&lt;18</td>\n",
       "      <td>WHITE HISPANIC</td>\n",
       "      <td>F</td>\n",
       "    </tr>\n",
       "    <tr>\n",
       "      <th>7825308</th>\n",
       "      <td>12/05/2018</td>\n",
       "      <td>23:30:00</td>\n",
       "      <td>FELONY ASSAULT</td>\n",
       "      <td>ASSAULT 2,1,UNCLASSIFIED</td>\n",
       "      <td>COMPLETED</td>\n",
       "      <td>FELONY</td>\n",
       "      <td>MANHATTAN</td>\n",
       "      <td>NaN</td>\n",
       "      <td>TRANSIT - NYC SUBWAY</td>\n",
       "      <td>NaN</td>\n",
       "      <td>NaN</td>\n",
       "      <td>UNKNOWN</td>\n",
       "      <td>M</td>\n",
       "      <td>PATROL BORO MAN SOUTH</td>\n",
       "      <td>14 STREET</td>\n",
       "      <td>45-64</td>\n",
       "      <td>WHITE HISPANIC</td>\n",
       "      <td>M</td>\n",
       "    </tr>\n",
       "    <tr>\n",
       "      <th>7825321</th>\n",
       "      <td>12/12/2018</td>\n",
       "      <td>08:05:00</td>\n",
       "      <td>GRAND LARCENY</td>\n",
       "      <td>LARCENY,GRAND FROM PERSON, BAG OPEN/DIP</td>\n",
       "      <td>COMPLETED</td>\n",
       "      <td>FELONY</td>\n",
       "      <td>MANHATTAN</td>\n",
       "      <td>NaN</td>\n",
       "      <td>TRANSIT - NYC SUBWAY</td>\n",
       "      <td>NaN</td>\n",
       "      <td>NaN</td>\n",
       "      <td>NaN</td>\n",
       "      <td>NaN</td>\n",
       "      <td>PATROL BORO MAN SOUTH</td>\n",
       "      <td>59 ST.-COLUMBUS CIRCLE</td>\n",
       "      <td>45-64</td>\n",
       "      <td>WHITE</td>\n",
       "      <td>F</td>\n",
       "    </tr>\n",
       "    <tr>\n",
       "      <th>7825467</th>\n",
       "      <td>07/03/2018</td>\n",
       "      <td>13:00:00</td>\n",
       "      <td>OFF. AGNST PUB ORD SENSBLTY &amp;</td>\n",
       "      <td>AGGRAVATED HARASSMENT 2</td>\n",
       "      <td>COMPLETED</td>\n",
       "      <td>MISDEMEANOR</td>\n",
       "      <td>BROOKLYN</td>\n",
       "      <td>NaN</td>\n",
       "      <td>TRANSIT - NYC SUBWAY</td>\n",
       "      <td>NaN</td>\n",
       "      <td>NaN</td>\n",
       "      <td>UNKNOWN</td>\n",
       "      <td>M</td>\n",
       "      <td>PATROL BORO BKLYN SOUTH</td>\n",
       "      <td>NEWKIRK AVENUE</td>\n",
       "      <td>25-44</td>\n",
       "      <td>WHITE</td>\n",
       "      <td>F</td>\n",
       "    </tr>\n",
       "  </tbody>\n",
       "</table>\n",
       "<p>172471 rows × 18 columns</p>\n",
       "</div>"
      ],
      "text/plain": [
       "        CMPLNT_FR_DT CMPLNT_FR_TM                       OFNS_DESC  \\\n",
       "5         03/12/2018     11:48:00                         FORGERY   \n",
       "74        11/02/2018     16:00:00                         ROBBERY   \n",
       "112       10/08/2018     22:00:00  CRIMINAL MISCHIEF & RELATED OF   \n",
       "116       02/27/2018     09:40:00                   GRAND LARCENY   \n",
       "152       02/25/2018     00:01:00                      SEX CRIMES   \n",
       "...              ...          ...                             ...   \n",
       "7825268   02/07/2018     03:45:00                   GRAND LARCENY   \n",
       "7825279   11/09/2018     16:49:00                      SEX CRIMES   \n",
       "7825308   12/05/2018     23:30:00                  FELONY ASSAULT   \n",
       "7825321   12/12/2018     08:05:00                   GRAND LARCENY   \n",
       "7825467   07/03/2018     13:00:00   OFF. AGNST PUB ORD SENSBLTY &   \n",
       "\n",
       "                                                   PD_DESC CRM_ATPT_CPTD_CD  \\\n",
       "5                           FORGERY,ETC.,UNCLASSIFIED-FELO        COMPLETED   \n",
       "74                             ROBBERY,PUBLIC PLACE INSIDE        ATTEMPTED   \n",
       "112                                     CRIMINAL MIS 2 & 3        COMPLETED   \n",
       "116                LARCENY,GRAND FROM PERSON, BAG OPEN/DIP        COMPLETED   \n",
       "152                                       SEXUAL ABUSE 3,2        COMPLETED   \n",
       "...                                                    ...              ...   \n",
       "7825268  LARCENY,GRAND FROM PERSON,LUSH WORKER(SLEEPING...        COMPLETED   \n",
       "7825279                                   SEXUAL ABUSE 3,2        COMPLETED   \n",
       "7825308                           ASSAULT 2,1,UNCLASSIFIED        COMPLETED   \n",
       "7825321            LARCENY,GRAND FROM PERSON, BAG OPEN/DIP        COMPLETED   \n",
       "7825467                            AGGRAVATED HARASSMENT 2        COMPLETED   \n",
       "\n",
       "          LAW_CAT_CD    BORO_NM LOC_OF_OCCUR_DESC         PREM_TYP_DESC  \\\n",
       "5             FELONY  MANHATTAN               NaN  TRANSIT - NYC SUBWAY   \n",
       "74            FELONY  MANHATTAN               NaN  TRANSIT - NYC SUBWAY   \n",
       "112           FELONY   BROOKLYN               NaN  TRANSIT - NYC SUBWAY   \n",
       "116           FELONY  MANHATTAN               NaN  TRANSIT - NYC SUBWAY   \n",
       "152      MISDEMEANOR  MANHATTAN               NaN  TRANSIT - NYC SUBWAY   \n",
       "...              ...        ...               ...                   ...   \n",
       "7825268       FELONY   BROOKLYN               NaN  TRANSIT - NYC SUBWAY   \n",
       "7825279  MISDEMEANOR   BROOKLYN               NaN  TRANSIT - NYC SUBWAY   \n",
       "7825308       FELONY  MANHATTAN               NaN  TRANSIT - NYC SUBWAY   \n",
       "7825321       FELONY  MANHATTAN               NaN  TRANSIT - NYC SUBWAY   \n",
       "7825467  MISDEMEANOR   BROOKLYN               NaN  TRANSIT - NYC SUBWAY   \n",
       "\n",
       "        PARKS_NM HADEVELOPT SUSP_AGE_GROUP SUSP_SEX              PATROL_BORO  \\\n",
       "5            NaN        NaN            NaN      NaN    PATROL BORO MAN NORTH   \n",
       "74           NaN        NaN          45-64        M    PATROL BORO MAN NORTH   \n",
       "112          NaN        NaN            NaN      NaN  PATROL BORO BKLYN NORTH   \n",
       "116          NaN        NaN        UNKNOWN        U    PATROL BORO MAN SOUTH   \n",
       "152          NaN        NaN            NaN      NaN    PATROL BORO MAN SOUTH   \n",
       "...          ...        ...            ...      ...                      ...   \n",
       "7825268      NaN        NaN          25-44        M  PATROL BORO BKLYN NORTH   \n",
       "7825279      NaN        NaN          18-24        M  PATROL BORO BKLYN SOUTH   \n",
       "7825308      NaN        NaN        UNKNOWN        M    PATROL BORO MAN SOUTH   \n",
       "7825321      NaN        NaN            NaN      NaN    PATROL BORO MAN SOUTH   \n",
       "7825467      NaN        NaN        UNKNOWN        M  PATROL BORO BKLYN SOUTH   \n",
       "\n",
       "                     STATION_NAME VIC_AGE_GROUP        VIC_RACE VIC_SEX  \n",
       "5                      125 STREET       UNKNOWN         UNKNOWN       E  \n",
       "74                     145 STREET       UNKNOWN         UNKNOWN       E  \n",
       "112      UTICA AVE.-CROWN HEIGHTS       UNKNOWN         UNKNOWN       D  \n",
       "116                  CANAL STREET         25-44           WHITE       F  \n",
       "152                LEXINGTON AVE.         45-64           BLACK       M  \n",
       "...                           ...           ...             ...     ...  \n",
       "7825268           NEW LOTS AVENUE           65+           WHITE       M  \n",
       "7825279               BAY PARKWAY           <18  WHITE HISPANIC       F  \n",
       "7825308                 14 STREET         45-64  WHITE HISPANIC       M  \n",
       "7825321    59 ST.-COLUMBUS CIRCLE         45-64           WHITE       F  \n",
       "7825467            NEWKIRK AVENUE         25-44           WHITE       F  \n",
       "\n",
       "[172471 rows x 18 columns]"
      ]
     },
     "execution_count": 101,
     "metadata": {},
     "output_type": "execute_result"
    }
   ],
   "source": [
    "df[df[\"STATION_NAME\"].str.contains(\"OFF-SYSTEM\")==False]"
   ]
  },
  {
   "cell_type": "code",
   "execution_count": 138,
   "id": "b769b7e4-fbd3-483b-af09-f7b8a4f084ab",
   "metadata": {},
   "outputs": [],
   "source": [
    "dfs = df.loc[df[\"PREM_TYP_DESC\"] == 'TRANSIT - NYC SUBWAY']"
   ]
  },
  {
   "cell_type": "code",
   "execution_count": 139,
   "id": "4db367fc-4da1-4c9b-94fc-e7f2df1516e2",
   "metadata": {},
   "outputs": [
    {
     "data": {
      "text/html": [
       "<div>\n",
       "<style scoped>\n",
       "    .dataframe tbody tr th:only-of-type {\n",
       "        vertical-align: middle;\n",
       "    }\n",
       "\n",
       "    .dataframe tbody tr th {\n",
       "        vertical-align: top;\n",
       "    }\n",
       "\n",
       "    .dataframe thead th {\n",
       "        text-align: right;\n",
       "    }\n",
       "</style>\n",
       "<table border=\"1\" class=\"dataframe\">\n",
       "  <thead>\n",
       "    <tr style=\"text-align: right;\">\n",
       "      <th></th>\n",
       "      <th>CMPLNT_FR_DT</th>\n",
       "      <th>CMPLNT_FR_TM</th>\n",
       "      <th>OFNS_DESC</th>\n",
       "      <th>PD_DESC</th>\n",
       "      <th>CRM_ATPT_CPTD_CD</th>\n",
       "      <th>LAW_CAT_CD</th>\n",
       "      <th>BORO_NM</th>\n",
       "      <th>LOC_OF_OCCUR_DESC</th>\n",
       "      <th>PREM_TYP_DESC</th>\n",
       "      <th>PARKS_NM</th>\n",
       "      <th>HADEVELOPT</th>\n",
       "      <th>SUSP_AGE_GROUP</th>\n",
       "      <th>SUSP_SEX</th>\n",
       "      <th>PATROL_BORO</th>\n",
       "      <th>STATION_NAME</th>\n",
       "      <th>VIC_AGE_GROUP</th>\n",
       "      <th>VIC_RACE</th>\n",
       "      <th>VIC_SEX</th>\n",
       "    </tr>\n",
       "  </thead>\n",
       "  <tbody>\n",
       "    <tr>\n",
       "      <th>5</th>\n",
       "      <td>03/12/2018</td>\n",
       "      <td>11:48:00</td>\n",
       "      <td>FORGERY</td>\n",
       "      <td>FORGERY,ETC.,UNCLASSIFIED-FELO</td>\n",
       "      <td>COMPLETED</td>\n",
       "      <td>FELONY</td>\n",
       "      <td>MANHATTAN</td>\n",
       "      <td>NaN</td>\n",
       "      <td>TRANSIT - NYC SUBWAY</td>\n",
       "      <td>NaN</td>\n",
       "      <td>NaN</td>\n",
       "      <td>NaN</td>\n",
       "      <td>NaN</td>\n",
       "      <td>PATROL BORO MAN NORTH</td>\n",
       "      <td>125 STREET</td>\n",
       "      <td>UNKNOWN</td>\n",
       "      <td>UNKNOWN</td>\n",
       "      <td>E</td>\n",
       "    </tr>\n",
       "    <tr>\n",
       "      <th>112</th>\n",
       "      <td>10/08/2018</td>\n",
       "      <td>22:00:00</td>\n",
       "      <td>CRIMINAL MISCHIEF &amp; RELATED OF</td>\n",
       "      <td>CRIMINAL MIS 2 &amp; 3</td>\n",
       "      <td>COMPLETED</td>\n",
       "      <td>FELONY</td>\n",
       "      <td>BROOKLYN</td>\n",
       "      <td>NaN</td>\n",
       "      <td>TRANSIT - NYC SUBWAY</td>\n",
       "      <td>NaN</td>\n",
       "      <td>NaN</td>\n",
       "      <td>NaN</td>\n",
       "      <td>NaN</td>\n",
       "      <td>PATROL BORO BKLYN NORTH</td>\n",
       "      <td>UTICA AVE.-CROWN HEIGHTS</td>\n",
       "      <td>UNKNOWN</td>\n",
       "      <td>UNKNOWN</td>\n",
       "      <td>D</td>\n",
       "    </tr>\n",
       "    <tr>\n",
       "      <th>152</th>\n",
       "      <td>02/25/2018</td>\n",
       "      <td>00:01:00</td>\n",
       "      <td>SEX CRIMES</td>\n",
       "      <td>SEXUAL ABUSE 3,2</td>\n",
       "      <td>COMPLETED</td>\n",
       "      <td>MISDEMEANOR</td>\n",
       "      <td>MANHATTAN</td>\n",
       "      <td>NaN</td>\n",
       "      <td>TRANSIT - NYC SUBWAY</td>\n",
       "      <td>NaN</td>\n",
       "      <td>NaN</td>\n",
       "      <td>NaN</td>\n",
       "      <td>NaN</td>\n",
       "      <td>PATROL BORO MAN SOUTH</td>\n",
       "      <td>LEXINGTON AVE.</td>\n",
       "      <td>45-64</td>\n",
       "      <td>BLACK</td>\n",
       "      <td>M</td>\n",
       "    </tr>\n",
       "    <tr>\n",
       "      <th>172</th>\n",
       "      <td>06/09/2018</td>\n",
       "      <td>15:54:00</td>\n",
       "      <td>GRAND LARCENY</td>\n",
       "      <td>LARCENY,GRAND FROM PERSON,PURS</td>\n",
       "      <td>COMPLETED</td>\n",
       "      <td>FELONY</td>\n",
       "      <td>BRONX</td>\n",
       "      <td>NaN</td>\n",
       "      <td>TRANSIT - NYC SUBWAY</td>\n",
       "      <td>NaN</td>\n",
       "      <td>NaN</td>\n",
       "      <td>&lt;18</td>\n",
       "      <td>M</td>\n",
       "      <td>PATROL BORO BRONX</td>\n",
       "      <td>TREMONT AVENUE</td>\n",
       "      <td>45-64</td>\n",
       "      <td>WHITE HISPANIC</td>\n",
       "      <td>F</td>\n",
       "    </tr>\n",
       "    <tr>\n",
       "      <th>226</th>\n",
       "      <td>03/01/2018</td>\n",
       "      <td>08:47:00</td>\n",
       "      <td>SEX CRIMES</td>\n",
       "      <td>SEXUAL ABUSE 3,2</td>\n",
       "      <td>COMPLETED</td>\n",
       "      <td>MISDEMEANOR</td>\n",
       "      <td>MANHATTAN</td>\n",
       "      <td>NaN</td>\n",
       "      <td>TRANSIT - NYC SUBWAY</td>\n",
       "      <td>NaN</td>\n",
       "      <td>NaN</td>\n",
       "      <td>18-24</td>\n",
       "      <td>M</td>\n",
       "      <td>PATROL BORO MAN SOUTH</td>\n",
       "      <td>14 STREET</td>\n",
       "      <td>25-44</td>\n",
       "      <td>ASIAN / PACIFIC ISLANDER</td>\n",
       "      <td>F</td>\n",
       "    </tr>\n",
       "  </tbody>\n",
       "</table>\n",
       "</div>"
      ],
      "text/plain": [
       "    CMPLNT_FR_DT CMPLNT_FR_TM                       OFNS_DESC  \\\n",
       "5     03/12/2018     11:48:00                         FORGERY   \n",
       "112   10/08/2018     22:00:00  CRIMINAL MISCHIEF & RELATED OF   \n",
       "152   02/25/2018     00:01:00                      SEX CRIMES   \n",
       "172   06/09/2018     15:54:00                   GRAND LARCENY   \n",
       "226   03/01/2018     08:47:00                      SEX CRIMES   \n",
       "\n",
       "                            PD_DESC CRM_ATPT_CPTD_CD   LAW_CAT_CD    BORO_NM  \\\n",
       "5    FORGERY,ETC.,UNCLASSIFIED-FELO        COMPLETED       FELONY  MANHATTAN   \n",
       "112              CRIMINAL MIS 2 & 3        COMPLETED       FELONY   BROOKLYN   \n",
       "152                SEXUAL ABUSE 3,2        COMPLETED  MISDEMEANOR  MANHATTAN   \n",
       "172  LARCENY,GRAND FROM PERSON,PURS        COMPLETED       FELONY      BRONX   \n",
       "226                SEXUAL ABUSE 3,2        COMPLETED  MISDEMEANOR  MANHATTAN   \n",
       "\n",
       "    LOC_OF_OCCUR_DESC         PREM_TYP_DESC PARKS_NM HADEVELOPT  \\\n",
       "5                 NaN  TRANSIT - NYC SUBWAY      NaN        NaN   \n",
       "112               NaN  TRANSIT - NYC SUBWAY      NaN        NaN   \n",
       "152               NaN  TRANSIT - NYC SUBWAY      NaN        NaN   \n",
       "172               NaN  TRANSIT - NYC SUBWAY      NaN        NaN   \n",
       "226               NaN  TRANSIT - NYC SUBWAY      NaN        NaN   \n",
       "\n",
       "    SUSP_AGE_GROUP SUSP_SEX              PATROL_BORO  \\\n",
       "5              NaN      NaN    PATROL BORO MAN NORTH   \n",
       "112            NaN      NaN  PATROL BORO BKLYN NORTH   \n",
       "152            NaN      NaN    PATROL BORO MAN SOUTH   \n",
       "172            <18        M        PATROL BORO BRONX   \n",
       "226          18-24        M    PATROL BORO MAN SOUTH   \n",
       "\n",
       "                 STATION_NAME VIC_AGE_GROUP                  VIC_RACE VIC_SEX  \n",
       "5                  125 STREET       UNKNOWN                   UNKNOWN       E  \n",
       "112  UTICA AVE.-CROWN HEIGHTS       UNKNOWN                   UNKNOWN       D  \n",
       "152            LEXINGTON AVE.         45-64                     BLACK       M  \n",
       "172            TREMONT AVENUE         45-64            WHITE HISPANIC       F  \n",
       "226                 14 STREET         25-44  ASIAN / PACIFIC ISLANDER       F  "
      ]
     },
     "execution_count": 139,
     "metadata": {},
     "output_type": "execute_result"
    }
   ],
   "source": [
    "dfs.head()"
   ]
  },
  {
   "cell_type": "code",
   "execution_count": 140,
   "id": "184ca1c3-4432-410d-a7ad-db6bece5188a",
   "metadata": {},
   "outputs": [
    {
     "name": "stdout",
     "output_type": "stream",
     "text": [
      "<class 'pandas.core.frame.DataFrame'>\n",
      "Int64Index: 154286 entries, 5 to 7825467\n",
      "Data columns (total 18 columns):\n",
      " #   Column             Non-Null Count   Dtype \n",
      "---  ------             --------------   ----- \n",
      " 0   CMPLNT_FR_DT       154281 non-null  object\n",
      " 1   CMPLNT_FR_TM       154286 non-null  object\n",
      " 2   OFNS_DESC          151858 non-null  object\n",
      " 3   PD_DESC            154286 non-null  object\n",
      " 4   CRM_ATPT_CPTD_CD   154286 non-null  object\n",
      " 5   LAW_CAT_CD         154286 non-null  object\n",
      " 6   BORO_NM            154084 non-null  object\n",
      " 7   LOC_OF_OCCUR_DESC  1018 non-null    object\n",
      " 8   PREM_TYP_DESC      154286 non-null  object\n",
      " 9   PARKS_NM           5 non-null       object\n",
      " 10  HADEVELOPT         1 non-null       object\n",
      " 11  SUSP_AGE_GROUP     48542 non-null   object\n",
      " 12  SUSP_SEX           68612 non-null   object\n",
      " 13  PATROL_BORO        154286 non-null  object\n",
      " 14  STATION_NAME       153566 non-null  object\n",
      " 15  VIC_AGE_GROUP      98503 non-null   object\n",
      " 16  VIC_RACE           154278 non-null  object\n",
      " 17  VIC_SEX            154279 non-null  object\n",
      "dtypes: object(18)\n",
      "memory usage: 22.4+ MB\n"
     ]
    }
   ],
   "source": [
    "dfs.info()"
   ]
  },
  {
   "cell_type": "code",
   "execution_count": 151,
   "id": "a8b55dfd-9b99-42b3-bc69-43fa1e0046d0",
   "metadata": {},
   "outputs": [
    {
     "data": {
      "text/plain": [
       "CMPLNT_FR_DT              5\n",
       "CMPLNT_FR_TM              0\n",
       "OFNS_DESC              2428\n",
       "PD_DESC                   0\n",
       "CRM_ATPT_CPTD_CD          0\n",
       "LAW_CAT_CD                0\n",
       "BORO_NM                 202\n",
       "LOC_OF_OCCUR_DESC    153268\n",
       "PREM_TYP_DESC             0\n",
       "PARKS_NM             154281\n",
       "HADEVELOPT           154285\n",
       "SUSP_AGE_GROUP       105744\n",
       "SUSP_SEX              85674\n",
       "PATROL_BORO               0\n",
       "STATION_NAME            720\n",
       "VIC_AGE_GROUP         55783\n",
       "VIC_RACE                  8\n",
       "VIC_SEX                   7\n",
       "dtype: int64"
      ]
     },
     "execution_count": 151,
     "metadata": {},
     "output_type": "execute_result"
    }
   ],
   "source": [
    "dfs.isna().sum()"
   ]
  },
  {
   "cell_type": "code",
   "execution_count": 109,
   "id": "402d2758-4f15-4502-9ee6-d328f339485a",
   "metadata": {},
   "outputs": [],
   "source": [
    "#setting the new df equal to station name equals everything except off-system. Not finalized until you set\n",
    "#it equal to the new df\n",
    "\n",
    "df = df.loc[df[\"STATION_NAME\"] != 'OFF-SYSTEM']"
   ]
  },
  {
   "cell_type": "code",
   "execution_count": 110,
   "id": "0890d563-560e-413a-aa55-8a62d1dbbb5c",
   "metadata": {},
   "outputs": [
    {
     "data": {
      "text/plain": [
       "125 STREET                        8546\n",
       "14 STREET                         4684\n",
       "42 ST.-PORT AUTHORITY BUS TERM    4073\n",
       "34 ST.-PENN STATION               4041\n",
       "116 STREET                        3442\n",
       "                                  ... \n",
       "AQUEDUCT-RACETRACK                  20\n",
       "DISTRICT 30 OFFICE                  19\n",
       "DISTRICT 12 OFFICE                  19\n",
       "DISTRICT 34 OFFICE                  14\n",
       "DISTRICT 23 OFFICE                   6\n",
       "Name: STATION_NAME, Length: 371, dtype: int64"
      ]
     },
     "execution_count": 110,
     "metadata": {},
     "output_type": "execute_result"
    }
   ],
   "source": [
    "df.STATION_NAME.value_counts()"
   ]
  },
  {
   "cell_type": "code",
   "execution_count": 43,
   "id": "27dbda4c-ec54-42e2-a7c0-caef0afce153",
   "metadata": {},
   "outputs": [
    {
     "data": {
      "text/plain": [
       "25-44      2600860\n",
       "45-64      1358535\n",
       "UNKNOWN     802994\n",
       "18-24       789320\n",
       "<18         353678\n",
       "            ...   \n",
       "909              1\n",
       "917              1\n",
       "707              1\n",
       "-923             1\n",
       "-960             1\n",
       "Name: VIC_AGE_GROUP, Length: 207, dtype: int64"
      ]
     },
     "execution_count": 43,
     "metadata": {},
     "output_type": "execute_result"
    }
   ],
   "source": [
    "df.VIC_AGE_GROUP.value_counts()   #duplicate"
   ]
  },
  {
   "cell_type": "code",
   "execution_count": 44,
   "id": "951a6666-aad6-4bb5-9732-20df058e7007",
   "metadata": {},
   "outputs": [
    {
     "data": {
      "text/plain": [
       "UNKNOWN                           2558666\n",
       "BLACK                             1888574\n",
       "WHITE                             1335448\n",
       "WHITE HISPANIC                    1273164\n",
       "ASIAN / PACIFIC ISLANDER           464240\n",
       "BLACK HISPANIC                     270068\n",
       "AMERICAN INDIAN/ALASKAN NATIVE      34918\n",
       "OTHER                                  31\n",
       "Name: VIC_RACE, dtype: int64"
      ]
     },
     "execution_count": 44,
     "metadata": {},
     "output_type": "execute_result"
    }
   ],
   "source": [
    "df.VIC_RACE.value_counts()"
   ]
  },
  {
   "cell_type": "code",
   "execution_count": 45,
   "id": "c30b62cc-5f4e-4be9-b600-003154604131",
   "metadata": {},
   "outputs": [
    {
     "data": {
      "text/plain": [
       "F    3068309\n",
       "M    2593114\n",
       "E    1188435\n",
       "D     975329\n",
       "U          4\n",
       "Name: VIC_SEX, dtype: int64"
      ]
     },
     "execution_count": 45,
     "metadata": {},
     "output_type": "execute_result"
    }
   ],
   "source": [
    "df.VIC_SEX.value_counts()"
   ]
  },
  {
   "cell_type": "code",
   "execution_count": 118,
   "id": "23d1347f-3022-4498-bffb-98408b21d121",
   "metadata": {},
   "outputs": [],
   "source": [
    "df = df.loc[df[\"VIC_SEX\"] != 'U']"
   ]
  },
  {
   "cell_type": "code",
   "execution_count": 119,
   "id": "8149d3b8-4869-4e22-9b1b-8bba86d9f0d4",
   "metadata": {},
   "outputs": [
    {
     "data": {
      "text/plain": [
       "F    2745189\n",
       "M    2190599\n",
       "E    1148286\n",
       "D     861821\n",
       "Name: VIC_SEX, dtype: int64"
      ]
     },
     "execution_count": 119,
     "metadata": {},
     "output_type": "execute_result"
    }
   ],
   "source": [
    "df.VIC_SEX.value_counts()"
   ]
  }
 ],
 "metadata": {
  "kernelspec": {
   "display_name": "Python 3",
   "language": "python",
   "name": "python3"
  },
  "language_info": {
   "codemirror_mode": {
    "name": "ipython",
    "version": 3
   },
   "file_extension": ".py",
   "mimetype": "text/x-python",
   "name": "python",
   "nbconvert_exporter": "python",
   "pygments_lexer": "ipython3",
   "version": "3.8.8"
  }
 },
 "nbformat": 4,
 "nbformat_minor": 5
}
