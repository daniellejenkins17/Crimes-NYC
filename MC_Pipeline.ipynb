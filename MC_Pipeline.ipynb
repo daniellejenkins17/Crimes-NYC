{
 "cells": [
  {
   "cell_type": "code",
   "execution_count": 7,
   "id": "cb7526d5-13dc-4cb3-80c1-0e8bb888ec17",
   "metadata": {},
   "outputs": [],
   "source": [
    "import numpy as np\n",
    "import pandas as pd\n",
    "import matplotlib as plt\n",
    "import csv\n",
    "import datetime\n",
    "import matplotlib.pyplot as plt\n",
    "%matplotlib inline\n",
    "import seaborn as sns\n",
    "\n",
    "import sklearn\n",
    "from sklearn.model_selection import train_test_split\n",
    "from sklearn import decomposition, datasets\n",
    "from sklearn import tree\n",
    "from sklearn.pipeline import Pipeline\n",
    "from sklearn.preprocessing import StandardScaler\n",
    "import os\n",
    "from sklearn.metrics import confusion_matrix\n",
    "from sklearn.metrics import plot_confusion_matrix \n",
    "from sklearn.metrics import precision_score\n",
    "from sklearn.metrics import recall_score\n",
    "from sklearn.metrics import f1_score\n",
    "from sklearn.ensemble import RandomForestClassifier\n",
    "from sklearn.model_selection import train_test_split, GridSearchCV,\\\n",
    "cross_val_score, RandomizedSearchCV\n",
    "from scipy import stats as stats\n",
    "from sklearn.linear_model import LogisticRegression\n",
    "from sklearn.tree import DecisionTreeClassifier\n",
    "from sklearn.metrics import precision_score, recall_score, plot_confusion_matrix\n",
    "from sklearn.model_selection import train_test_split, GridSearchCV,\\\n",
    "cross_val_score, RandomizedSearchCV\n",
    "from sklearn.preprocessing import OneHotEncoder, StandardScaler, Normalizer, OrdinalEncoder, MaxAbsScaler\n",
    "from sklearn.impute import SimpleImputer\n",
    "from sklearn.compose import ColumnTransformer"
   ]
  },
  {
   "cell_type": "code",
   "execution_count": 8,
   "id": "e9c14d31-6b43-4920-a884-24362eb5281a",
   "metadata": {},
   "outputs": [],
   "source": [
    "from sklearn.preprocessing import LabelEncoder"
   ]
  },
  {
   "cell_type": "code",
   "execution_count": 9,
   "id": "eab6f983-f16e-4bdd-95a1-911381721fb4",
   "metadata": {},
   "outputs": [],
   "source": [
    "from sklearn.model_selection import KFold\n",
    "from sklearn.preprocessing import StandardScaler\n",
    "from sklearn.neighbors import KNeighborsClassifier\n",
    "from sklearn.metrics import precision_score, recall_score, f1_score, accuracy_score, classification_report"
   ]
  },
  {
   "cell_type": "code",
   "execution_count": 10,
   "id": "bb1c94fa-e3b9-4118-a202-f830eaf437e3",
   "metadata": {},
   "outputs": [],
   "source": [
    "from sklearn.ensemble import  RandomForestClassifier\n",
    "from sklearn.model_selection import train_test_split\n",
    "import numpy as np\n",
    "from sklearn import metrics\n",
    "from imblearn.over_sampling import SMOTE"
   ]
  },
  {
   "cell_type": "code",
   "execution_count": 11,
   "id": "5d789fd2-c5d1-433f-bfce-a79e83eee640",
   "metadata": {},
   "outputs": [],
   "source": [
    "mc = pd.read_csv('mc.csv')"
   ]
  },
  {
   "cell_type": "code",
   "execution_count": 12,
   "id": "8c5cf5d5-c17c-4065-a2a2-064ef939d218",
   "metadata": {},
   "outputs": [
    {
     "data": {
      "text/plain": [
       "Afternoon    228621\n",
       "Morning      187943\n",
       "Evening      172637\n",
       "Night        139967\n",
       "Name: session, dtype: int64"
      ]
     },
     "execution_count": 12,
     "metadata": {},
     "output_type": "execute_result"
    }
   ],
   "source": [
    "mc.head()\n",
    "mc.session.value_counts()"
   ]
  },
  {
   "cell_type": "code",
   "execution_count": 13,
   "id": "db91f849-ea6e-4db7-83cd-3b138bd1751f",
   "metadata": {},
   "outputs": [
    {
     "data": {
      "text/plain": [
       "Unnamed: 0             int64\n",
       "CMPLNT_NUM             int64\n",
       "CMPLNT_FR_DT          object\n",
       "CMPLNT_FR_TM          object\n",
       "CMPLNT_TO_DT          object\n",
       "CMPLNT_TO_TM          object\n",
       "ADDR_PCT_CD          float64\n",
       "RPT_DT                object\n",
       "KY_CD                  int64\n",
       "OFNS_DESC             object\n",
       "PD_CD                float64\n",
       "PD_DESC               object\n",
       "CRM_ATPT_CPTD_CD      object\n",
       "LAW_CAT_CD            object\n",
       "BORO_NM               object\n",
       "LOC_OF_OCCUR_DESC     object\n",
       "PREM_TYP_DESC         object\n",
       "JURIS_DESC            object\n",
       "JURISDICTION_CODE    float64\n",
       "SUSP_AGE_GROUP        object\n",
       "SUSP_SEX              object\n",
       "Latitude             float64\n",
       "Longitude            float64\n",
       "Lat_Lon               object\n",
       "PATROL_BORO           object\n",
       "VIC_AGE_GROUP         object\n",
       "VIC_RACE              object\n",
       "VIC_SEX               object\n",
       "year                 float64\n",
       "month                float64\n",
       "session               object\n",
       "session_to            object\n",
       "diff                  object\n",
       "diff_min             float64\n",
       "dtype: object"
      ]
     },
     "execution_count": 13,
     "metadata": {},
     "output_type": "execute_result"
    }
   ],
   "source": [
    "mc.dtypes"
   ]
  },
  {
   "cell_type": "code",
   "execution_count": 14,
   "id": "1c24b615-6762-485c-a507-1ddc630f154f",
   "metadata": {},
   "outputs": [],
   "source": [
    "mc.dropna(subset=['CMPLNT_FR_TM'], inplace = True)"
   ]
  },
  {
   "cell_type": "code",
   "execution_count": 15,
   "id": "ae69f974-d012-4148-aaa7-60f7d8c62938",
   "metadata": {},
   "outputs": [],
   "source": [
    "mc.dropna(subset=['PATROL_BORO'], inplace = True)"
   ]
  },
  {
   "cell_type": "code",
   "execution_count": 16,
   "id": "6ae77407-b0bd-45e2-b4cf-9d4417baa81e",
   "metadata": {},
   "outputs": [],
   "source": [
    "from datetime import datetime"
   ]
  },
  {
   "cell_type": "code",
   "execution_count": 17,
   "id": "18c81ae1-a001-4dd8-9427-4d8e5a354df6",
   "metadata": {},
   "outputs": [],
   "source": [
    "import sklearn"
   ]
  },
  {
   "cell_type": "code",
   "execution_count": 18,
   "id": "19b1f63c-51ea-4d5a-9238-a618892290cc",
   "metadata": {},
   "outputs": [],
   "source": [
    "from sklearn.ensemble import  RandomForestClassifier\n",
    "from sklearn.model_selection import train_test_split\n",
    "from sklearn import metrics"
   ]
  },
  {
   "cell_type": "code",
   "execution_count": 19,
   "id": "0b5c8bc0-147d-4eee-82b8-49a8e47c1190",
   "metadata": {},
   "outputs": [],
   "source": [
    "from sklearn.datasets import make_classification\n",
    "from imblearn.over_sampling import SMOTE "
   ]
  },
  {
   "cell_type": "code",
   "execution_count": 73,
   "id": "7444efbc-d75e-46ff-aa38-e096852f2ca8",
   "metadata": {},
   "outputs": [],
   "source": [
    "from sklearn.metrics import classification_report\n",
    "from sklearn.metrics import confusion_matrix\n",
    "from sklearn.metrics import plot_confusion_matrix "
   ]
  },
  {
   "cell_type": "code",
   "execution_count": 75,
   "id": "890e9ac6-a5e2-4756-aaa3-3f5dc5953118",
   "metadata": {},
   "outputs": [],
   "source": [
    "from sklearn.model_selection import train_test_split, GridSearchCV,\\\n",
    "cross_val_score, RandomizedSearchCV"
   ]
  },
  {
   "cell_type": "markdown",
   "id": "eb60fd67-ed55-450a-8619-f5e5846fb79a",
   "metadata": {},
   "source": [
    "# Label Encoding columns (need to do this for the target class too)"
   ]
  },
  {
   "cell_type": "code",
   "execution_count": 20,
   "id": "ac1535f1-fbd4-4f42-a29f-52d4dde52d90",
   "metadata": {},
   "outputs": [],
   "source": [
    "# make a column of Day of week \n",
    "mc['RPT_DT'] = pd.to_datetime(mc['RPT_DT'])"
   ]
  },
  {
   "cell_type": "code",
   "execution_count": 21,
   "id": "5c44cdae-8560-4e50-ab70-a89cb9006b6c",
   "metadata": {},
   "outputs": [],
   "source": [
    "mc['reported_dow'] = mc['RPT_DT'].dt.dayofweek"
   ]
  },
  {
   "cell_type": "code",
   "execution_count": 22,
   "id": "92629fd3-1eb8-4f07-b4c8-b44d1a30a8f9",
   "metadata": {},
   "outputs": [
    {
     "data": {
      "text/html": [
       "<div>\n",
       "<style scoped>\n",
       "    .dataframe tbody tr th:only-of-type {\n",
       "        vertical-align: middle;\n",
       "    }\n",
       "\n",
       "    .dataframe tbody tr th {\n",
       "        vertical-align: top;\n",
       "    }\n",
       "\n",
       "    .dataframe thead th {\n",
       "        text-align: right;\n",
       "    }\n",
       "</style>\n",
       "<table border=\"1\" class=\"dataframe\">\n",
       "  <thead>\n",
       "    <tr style=\"text-align: right;\">\n",
       "      <th></th>\n",
       "      <th>Unnamed: 0</th>\n",
       "      <th>CMPLNT_NUM</th>\n",
       "      <th>CMPLNT_FR_DT</th>\n",
       "      <th>CMPLNT_FR_TM</th>\n",
       "      <th>CMPLNT_TO_DT</th>\n",
       "      <th>CMPLNT_TO_TM</th>\n",
       "      <th>ADDR_PCT_CD</th>\n",
       "      <th>RPT_DT</th>\n",
       "      <th>KY_CD</th>\n",
       "      <th>OFNS_DESC</th>\n",
       "      <th>...</th>\n",
       "      <th>VIC_AGE_GROUP</th>\n",
       "      <th>VIC_RACE</th>\n",
       "      <th>VIC_SEX</th>\n",
       "      <th>year</th>\n",
       "      <th>month</th>\n",
       "      <th>session</th>\n",
       "      <th>session_to</th>\n",
       "      <th>diff</th>\n",
       "      <th>diff_min</th>\n",
       "      <th>reported_dow</th>\n",
       "    </tr>\n",
       "  </thead>\n",
       "  <tbody>\n",
       "    <tr>\n",
       "      <th>0</th>\n",
       "      <td>3</td>\n",
       "      <td>280364018</td>\n",
       "      <td>2018-06-09 00:00:00</td>\n",
       "      <td>2022-11-17 21:42:00</td>\n",
       "      <td>2018-06-09 00:00:00</td>\n",
       "      <td>2022-11-17 21:43:00</td>\n",
       "      <td>10.0</td>\n",
       "      <td>2018-06-10</td>\n",
       "      <td>361</td>\n",
       "      <td>OFF. AGNST PUB ORD SENSBLTY &amp;</td>\n",
       "      <td>...</td>\n",
       "      <td>18-24</td>\n",
       "      <td>WHITE HISPANIC</td>\n",
       "      <td>F</td>\n",
       "      <td>2018.0</td>\n",
       "      <td>6.0</td>\n",
       "      <td>1</td>\n",
       "      <td>Evening</td>\n",
       "      <td>0 days 00:01:00</td>\n",
       "      <td>1.0</td>\n",
       "      <td>6</td>\n",
       "    </tr>\n",
       "    <tr>\n",
       "      <th>1</th>\n",
       "      <td>21</td>\n",
       "      <td>310389190</td>\n",
       "      <td>2018-11-18 00:00:00</td>\n",
       "      <td>2022-11-17 16:00:00</td>\n",
       "      <td>2018-11-18 00:00:00</td>\n",
       "      <td>2022-11-17 16:10:00</td>\n",
       "      <td>48.0</td>\n",
       "      <td>2018-11-18</td>\n",
       "      <td>105</td>\n",
       "      <td>ROBBERY</td>\n",
       "      <td>...</td>\n",
       "      <td>&lt;18</td>\n",
       "      <td>WHITE HISPANIC</td>\n",
       "      <td>M</td>\n",
       "      <td>2018.0</td>\n",
       "      <td>11.0</td>\n",
       "      <td>0</td>\n",
       "      <td>Afternoon</td>\n",
       "      <td>0 days 00:10:00</td>\n",
       "      <td>10.0</td>\n",
       "      <td>6</td>\n",
       "    </tr>\n",
       "    <tr>\n",
       "      <th>2</th>\n",
       "      <td>31</td>\n",
       "      <td>412087799</td>\n",
       "      <td>2018-05-07 00:00:00</td>\n",
       "      <td>2022-11-17 15:00:00</td>\n",
       "      <td>2018-05-19 00:00:00</td>\n",
       "      <td>2022-11-17 18:00:00</td>\n",
       "      <td>47.0</td>\n",
       "      <td>2018-05-21</td>\n",
       "      <td>361</td>\n",
       "      <td>OFF. AGNST PUB ORD SENSBLTY &amp;</td>\n",
       "      <td>...</td>\n",
       "      <td>&lt;18</td>\n",
       "      <td>WHITE HISPANIC</td>\n",
       "      <td>F</td>\n",
       "      <td>2018.0</td>\n",
       "      <td>5.0</td>\n",
       "      <td>0</td>\n",
       "      <td>Afternoon</td>\n",
       "      <td>0 days 03:00:00</td>\n",
       "      <td>180.0</td>\n",
       "      <td>0</td>\n",
       "    </tr>\n",
       "    <tr>\n",
       "      <th>3</th>\n",
       "      <td>33</td>\n",
       "      <td>739896840</td>\n",
       "      <td>2018-12-08 00:00:00</td>\n",
       "      <td>2022-11-17 13:00:00</td>\n",
       "      <td>2018-12-08 00:00:00</td>\n",
       "      <td>2022-11-17 13:15:00</td>\n",
       "      <td>105.0</td>\n",
       "      <td>2018-12-08</td>\n",
       "      <td>578</td>\n",
       "      <td>HARRASSMENT 2</td>\n",
       "      <td>...</td>\n",
       "      <td>65+</td>\n",
       "      <td>BLACK</td>\n",
       "      <td>M</td>\n",
       "      <td>2018.0</td>\n",
       "      <td>12.0</td>\n",
       "      <td>0</td>\n",
       "      <td>Afternoon</td>\n",
       "      <td>0 days 00:15:00</td>\n",
       "      <td>15.0</td>\n",
       "      <td>5</td>\n",
       "    </tr>\n",
       "    <tr>\n",
       "      <th>4</th>\n",
       "      <td>40</td>\n",
       "      <td>172284068</td>\n",
       "      <td>2018-09-18 00:00:00</td>\n",
       "      <td>2022-11-17 18:30:00</td>\n",
       "      <td>2018-09-18 00:00:00</td>\n",
       "      <td>2022-11-17 18:45:00</td>\n",
       "      <td>79.0</td>\n",
       "      <td>2018-09-18</td>\n",
       "      <td>233</td>\n",
       "      <td>SEX CRIMES</td>\n",
       "      <td>...</td>\n",
       "      <td>18-24</td>\n",
       "      <td>BLACK</td>\n",
       "      <td>F</td>\n",
       "      <td>2018.0</td>\n",
       "      <td>9.0</td>\n",
       "      <td>0</td>\n",
       "      <td>Afternoon</td>\n",
       "      <td>0 days 00:15:00</td>\n",
       "      <td>15.0</td>\n",
       "      <td>1</td>\n",
       "    </tr>\n",
       "  </tbody>\n",
       "</table>\n",
       "<p>5 rows × 35 columns</p>\n",
       "</div>"
      ],
      "text/plain": [
       "   Unnamed: 0  CMPLNT_NUM         CMPLNT_FR_DT         CMPLNT_FR_TM  \\\n",
       "0           3   280364018  2018-06-09 00:00:00  2022-11-17 21:42:00   \n",
       "1          21   310389190  2018-11-18 00:00:00  2022-11-17 16:00:00   \n",
       "2          31   412087799  2018-05-07 00:00:00  2022-11-17 15:00:00   \n",
       "3          33   739896840  2018-12-08 00:00:00  2022-11-17 13:00:00   \n",
       "4          40   172284068  2018-09-18 00:00:00  2022-11-17 18:30:00   \n",
       "\n",
       "          CMPLNT_TO_DT         CMPLNT_TO_TM  ADDR_PCT_CD     RPT_DT  KY_CD  \\\n",
       "0  2018-06-09 00:00:00  2022-11-17 21:43:00         10.0 2018-06-10    361   \n",
       "1  2018-11-18 00:00:00  2022-11-17 16:10:00         48.0 2018-11-18    105   \n",
       "2  2018-05-19 00:00:00  2022-11-17 18:00:00         47.0 2018-05-21    361   \n",
       "3  2018-12-08 00:00:00  2022-11-17 13:15:00        105.0 2018-12-08    578   \n",
       "4  2018-09-18 00:00:00  2022-11-17 18:45:00         79.0 2018-09-18    233   \n",
       "\n",
       "                       OFNS_DESC  ...  VIC_AGE_GROUP        VIC_RACE VIC_SEX  \\\n",
       "0  OFF. AGNST PUB ORD SENSBLTY &  ...          18-24  WHITE HISPANIC       F   \n",
       "1                        ROBBERY  ...            <18  WHITE HISPANIC       M   \n",
       "2  OFF. AGNST PUB ORD SENSBLTY &  ...            <18  WHITE HISPANIC       F   \n",
       "3                  HARRASSMENT 2  ...            65+           BLACK       M   \n",
       "4                     SEX CRIMES  ...          18-24           BLACK       F   \n",
       "\n",
       "     year month session session_to             diff  diff_min reported_dow  \n",
       "0  2018.0   6.0       1    Evening  0 days 00:01:00       1.0            6  \n",
       "1  2018.0  11.0       0  Afternoon  0 days 00:10:00      10.0            6  \n",
       "2  2018.0   5.0       0  Afternoon  0 days 03:00:00     180.0            0  \n",
       "3  2018.0  12.0       0  Afternoon  0 days 00:15:00      15.0            5  \n",
       "4  2018.0   9.0       0  Afternoon  0 days 00:15:00      15.0            1  \n",
       "\n",
       "[5 rows x 35 columns]"
      ]
     },
     "execution_count": 22,
     "metadata": {},
     "output_type": "execute_result"
    }
   ],
   "source": [
    "target_transform = LabelEncoder()\n",
    "mc['session'] = target_transform.fit_transform(mc['session'])\n",
    "mc.head()"
   ]
  },
  {
   "cell_type": "code",
   "execution_count": 38,
   "id": "2a726bfa-4f59-4c34-b327-c35abdfb2d72",
   "metadata": {},
   "outputs": [
    {
     "data": {
      "text/plain": [
       "Index(['Unnamed: 0', 'CMPLNT_NUM', 'CMPLNT_FR_DT', 'CMPLNT_FR_TM',\n",
       "       'CMPLNT_TO_DT', 'CMPLNT_TO_TM', 'ADDR_PCT_CD', 'RPT_DT', 'KY_CD',\n",
       "       'OFNS_DESC', 'PD_CD', 'PD_DESC', 'CRM_ATPT_CPTD_CD', 'LAW_CAT_CD',\n",
       "       'BORO_NM', 'LOC_OF_OCCUR_DESC', 'PREM_TYP_DESC', 'JURIS_DESC',\n",
       "       'JURISDICTION_CODE', 'SUSP_AGE_GROUP', 'SUSP_SEX', 'Latitude',\n",
       "       'Longitude', 'Lat_Lon', 'PATROL_BORO', 'VIC_AGE_GROUP', 'VIC_RACE',\n",
       "       'VIC_SEX', 'year', 'month', 'session', 'session_to', 'diff', 'diff_min',\n",
       "       'reported_dow'],\n",
       "      dtype='object')"
      ]
     },
     "execution_count": 38,
     "metadata": {},
     "output_type": "execute_result"
    }
   ],
   "source": [
    "mc.columns"
   ]
  },
  {
   "cell_type": "code",
   "execution_count": 39,
   "id": "3bd1c455-91ab-4b79-894b-9f04a0fd69bc",
   "metadata": {},
   "outputs": [],
   "source": [
    "columns_to_keep = ['ADDR_PCT_CD', 'KY_CD','OFNS_DESC', 'PD_DESC' , 'LAW_CAT_CD', 'BORO_NM', \n",
    "                   'LOC_OF_OCCUR_DESC', 'SUSP_AGE_GROUP', 'SUSP_SEX', 'Latitude', 'Longitude',\n",
    "                  'Lat_Lon', 'PATROL_BORO', 'VIC_AGE_GROUP', 'VIC_RACE', 'VIC_SEX', 'year', \n",
    "                  'month', 'session', 'session_to', 'diff', 'diff_min' , 'reported_dow']\n",
    "\n",
    "categorical = ['ADDR_PCT_CD', 'KY_CD','OFNS_DESC', 'PD_DESC' , 'LAW_CAT_CD', 'BORO_NM', \n",
    "                'LOC_OF_OCCUR_DESC', 'SUSP_AGE_GROUP', 'SUSP_SEX','PATROL_BORO', 'VIC_AGE_GROUP',\n",
    "               'VIC_RACE', 'VIC_SEX', 'reported_dow', 'session_to']\n",
    "\n",
    "numerical = ['year', 'month', 'session','diff_min']"
   ]
  },
  {
   "cell_type": "code",
   "execution_count": 45,
   "id": "af3e435e-2cf8-46c2-a269-b335a684d516",
   "metadata": {},
   "outputs": [],
   "source": [
    "mcsample = mc.sample(30000)"
   ]
  },
  {
   "cell_type": "code",
   "execution_count": 46,
   "id": "4ebc7cc6-d28e-4f6f-bbf4-88ddf2aa4e76",
   "metadata": {},
   "outputs": [],
   "source": [
    "#drop target from the dataset \n",
    "#only include columns that we want in the pipeline\n",
    "\n",
    "X = mcsample[columns_to_keep]\n",
    "\n",
    "y = mcsample['CRM_ATPT_CPTD_CD']"
   ]
  },
  {
   "cell_type": "code",
   "execution_count": 47,
   "id": "0979c74e-f07a-473e-80b1-7c3d38fab29a",
   "metadata": {},
   "outputs": [],
   "source": [
    "X_train, X_test, y_train, y_test = train_test_split(X, y, test_size=0.33, random_state=42)"
   ]
  },
  {
   "cell_type": "code",
   "execution_count": 58,
   "id": "1a69405f-b6b7-4793-8143-27136abd0764",
   "metadata": {},
   "outputs": [],
   "source": [
    "from imblearn.pipeline import Pipeline \n",
    "from imblearn.over_sampling import RandomOverSampler\n",
    "\n",
    "# this will allow us to visualize the pipeline (may not be available in learn-env)\n",
    "from sklearn import set_config\n",
    "set_config(display= 'diagram')"
   ]
  },
  {
   "cell_type": "code",
   "execution_count": 64,
   "id": "82204b0d-4d8d-4e3d-85e7-927c72ecf637",
   "metadata": {},
   "outputs": [],
   "source": [
    "#new pipeline: \n",
    "\n",
    "numeric_pipeline = Pipeline([('numnorm', StandardScaler())])\n",
    "\n",
    "nominal_pipeline = Pipeline([\n",
    "    ('onehotenc', OneHotEncoder(sparse = False, handle_unknown = 'ignore')), \n",
    "    ('onehotnorm', MaxAbsScaler())])"
   ]
  },
  {
   "cell_type": "code",
   "execution_count": 65,
   "id": "0aa0def3-4442-4202-86b3-ffaf5f99aa48",
   "metadata": {},
   "outputs": [
    {
     "data": {
      "text/plain": [
       "Index(['ADDR_PCT_CD', 'KY_CD', 'Latitude', 'Longitude', 'year', 'month',\n",
       "       'session', 'diff_min', 'reported_dow'],\n",
       "      dtype='object')"
      ]
     },
     "execution_count": 65,
     "metadata": {},
     "output_type": "execute_result"
    }
   ],
   "source": [
    "\n",
    "ct = ColumnTransformer([\n",
    "     (\"nominalpipe\", nominal_pipeline, categorical),\n",
    "     (\"numpipe\", numeric_pipeline, numerical)])\n",
    "\n",
    "num_cols"
   ]
  },
  {
   "cell_type": "code",
   "execution_count": 66,
   "id": "e8dc85b2-6e9c-4462-9150-11138373c234",
   "metadata": {},
   "outputs": [
    {
     "data": {
      "text/html": [
       "<style>#sk-container-id-3 {color: black;background-color: white;}#sk-container-id-3 pre{padding: 0;}#sk-container-id-3 div.sk-toggleable {background-color: white;}#sk-container-id-3 label.sk-toggleable__label {cursor: pointer;display: block;width: 100%;margin-bottom: 0;padding: 0.3em;box-sizing: border-box;text-align: center;}#sk-container-id-3 label.sk-toggleable__label-arrow:before {content: \"▸\";float: left;margin-right: 0.25em;color: #696969;}#sk-container-id-3 label.sk-toggleable__label-arrow:hover:before {color: black;}#sk-container-id-3 div.sk-estimator:hover label.sk-toggleable__label-arrow:before {color: black;}#sk-container-id-3 div.sk-toggleable__content {max-height: 0;max-width: 0;overflow: hidden;text-align: left;background-color: #f0f8ff;}#sk-container-id-3 div.sk-toggleable__content pre {margin: 0.2em;color: black;border-radius: 0.25em;background-color: #f0f8ff;}#sk-container-id-3 input.sk-toggleable__control:checked~div.sk-toggleable__content {max-height: 200px;max-width: 100%;overflow: auto;}#sk-container-id-3 input.sk-toggleable__control:checked~label.sk-toggleable__label-arrow:before {content: \"▾\";}#sk-container-id-3 div.sk-estimator input.sk-toggleable__control:checked~label.sk-toggleable__label {background-color: #d4ebff;}#sk-container-id-3 div.sk-label input.sk-toggleable__control:checked~label.sk-toggleable__label {background-color: #d4ebff;}#sk-container-id-3 input.sk-hidden--visually {border: 0;clip: rect(1px 1px 1px 1px);clip: rect(1px, 1px, 1px, 1px);height: 1px;margin: -1px;overflow: hidden;padding: 0;position: absolute;width: 1px;}#sk-container-id-3 div.sk-estimator {font-family: monospace;background-color: #f0f8ff;border: 1px dotted black;border-radius: 0.25em;box-sizing: border-box;margin-bottom: 0.5em;}#sk-container-id-3 div.sk-estimator:hover {background-color: #d4ebff;}#sk-container-id-3 div.sk-parallel-item::after {content: \"\";width: 100%;border-bottom: 1px solid gray;flex-grow: 1;}#sk-container-id-3 div.sk-label:hover label.sk-toggleable__label {background-color: #d4ebff;}#sk-container-id-3 div.sk-serial::before {content: \"\";position: absolute;border-left: 1px solid gray;box-sizing: border-box;top: 0;bottom: 0;left: 50%;z-index: 0;}#sk-container-id-3 div.sk-serial {display: flex;flex-direction: column;align-items: center;background-color: white;padding-right: 0.2em;padding-left: 0.2em;position: relative;}#sk-container-id-3 div.sk-item {position: relative;z-index: 1;}#sk-container-id-3 div.sk-parallel {display: flex;align-items: stretch;justify-content: center;background-color: white;position: relative;}#sk-container-id-3 div.sk-item::before, #sk-container-id-3 div.sk-parallel-item::before {content: \"\";position: absolute;border-left: 1px solid gray;box-sizing: border-box;top: 0;bottom: 0;left: 50%;z-index: -1;}#sk-container-id-3 div.sk-parallel-item {display: flex;flex-direction: column;z-index: 1;position: relative;background-color: white;}#sk-container-id-3 div.sk-parallel-item:first-child::after {align-self: flex-end;width: 50%;}#sk-container-id-3 div.sk-parallel-item:last-child::after {align-self: flex-start;width: 50%;}#sk-container-id-3 div.sk-parallel-item:only-child::after {width: 0;}#sk-container-id-3 div.sk-dashed-wrapped {border: 1px dashed gray;margin: 0 0.4em 0.5em 0.4em;box-sizing: border-box;padding-bottom: 0.4em;background-color: white;}#sk-container-id-3 div.sk-label label {font-family: monospace;font-weight: bold;display: inline-block;line-height: 1.2em;}#sk-container-id-3 div.sk-label-container {text-align: center;}#sk-container-id-3 div.sk-container {/* jupyter's `normalize.less` sets `[hidden] { display: none; }` but bootstrap.min.css set `[hidden] { display: none !important; }` so we also need the `!important` here to be able to override the default hidden behavior on the sphinx rendered scikit-learn.org. See: https://github.com/scikit-learn/scikit-learn/issues/21755 */display: inline-block !important;position: relative;}#sk-container-id-3 div.sk-text-repr-fallback {display: none;}</style><div id=\"sk-container-id-3\" class=\"sk-top-container\"><div class=\"sk-text-repr-fallback\"><pre>Pipeline(steps=[(&#x27;preprocess&#x27;,\n",
       "                 ColumnTransformer(transformers=[(&#x27;nominalpipe&#x27;,\n",
       "                                                  Pipeline(steps=[(&#x27;onehotenc&#x27;,\n",
       "                                                                   OneHotEncoder(handle_unknown=&#x27;ignore&#x27;,\n",
       "                                                                                 sparse=False)),\n",
       "                                                                  (&#x27;onehotnorm&#x27;,\n",
       "                                                                   MaxAbsScaler())]),\n",
       "                                                  [&#x27;ADDR_PCT_CD&#x27;, &#x27;KY_CD&#x27;,\n",
       "                                                   &#x27;OFNS_DESC&#x27;, &#x27;PD_DESC&#x27;,\n",
       "                                                   &#x27;LAW_CAT_CD&#x27;, &#x27;BORO_NM&#x27;,\n",
       "                                                   &#x27;LOC_OF_OCCUR_DESC&#x27;,\n",
       "                                                   &#x27;SUSP_AGE_GROUP&#x27;, &#x27;SUSP_SEX&#x27;,\n",
       "                                                   &#x27;PATROL_BORO&#x27;,\n",
       "                                                   &#x27;VIC_AGE_GROUP&#x27;, &#x27;VIC_RACE&#x27;,\n",
       "                                                   &#x27;VIC_SEX&#x27;, &#x27;reported_dow&#x27;,\n",
       "                                                   &#x27;session_to&#x27;]),\n",
       "                                                 (&#x27;numpipe&#x27;,\n",
       "                                                  Pipeline(steps=[(&#x27;numnorm&#x27;,\n",
       "                                                                   StandardScaler())]),\n",
       "                                                  [&#x27;year&#x27;, &#x27;month&#x27;, &#x27;session&#x27;,\n",
       "                                                   &#x27;diff_min&#x27;])])),\n",
       "                (&#x27;ros&#x27;, RandomOverSampler()),\n",
       "                (&#x27;model&#x27;, RandomForestClassifier())])</pre><b>In a Jupyter environment, please rerun this cell to show the HTML representation or trust the notebook. <br />On GitHub, the HTML representation is unable to render, please try loading this page with nbviewer.org.</b></div><div class=\"sk-container\" hidden><div class=\"sk-item sk-dashed-wrapped\"><div class=\"sk-label-container\"><div class=\"sk-label sk-toggleable\"><input class=\"sk-toggleable__control sk-hidden--visually\" id=\"sk-estimator-id-19\" type=\"checkbox\" ><label for=\"sk-estimator-id-19\" class=\"sk-toggleable__label sk-toggleable__label-arrow\">Pipeline</label><div class=\"sk-toggleable__content\"><pre>Pipeline(steps=[(&#x27;preprocess&#x27;,\n",
       "                 ColumnTransformer(transformers=[(&#x27;nominalpipe&#x27;,\n",
       "                                                  Pipeline(steps=[(&#x27;onehotenc&#x27;,\n",
       "                                                                   OneHotEncoder(handle_unknown=&#x27;ignore&#x27;,\n",
       "                                                                                 sparse=False)),\n",
       "                                                                  (&#x27;onehotnorm&#x27;,\n",
       "                                                                   MaxAbsScaler())]),\n",
       "                                                  [&#x27;ADDR_PCT_CD&#x27;, &#x27;KY_CD&#x27;,\n",
       "                                                   &#x27;OFNS_DESC&#x27;, &#x27;PD_DESC&#x27;,\n",
       "                                                   &#x27;LAW_CAT_CD&#x27;, &#x27;BORO_NM&#x27;,\n",
       "                                                   &#x27;LOC_OF_OCCUR_DESC&#x27;,\n",
       "                                                   &#x27;SUSP_AGE_GROUP&#x27;, &#x27;SUSP_SEX&#x27;,\n",
       "                                                   &#x27;PATROL_BORO&#x27;,\n",
       "                                                   &#x27;VIC_AGE_GROUP&#x27;, &#x27;VIC_RACE&#x27;,\n",
       "                                                   &#x27;VIC_SEX&#x27;, &#x27;reported_dow&#x27;,\n",
       "                                                   &#x27;session_to&#x27;]),\n",
       "                                                 (&#x27;numpipe&#x27;,\n",
       "                                                  Pipeline(steps=[(&#x27;numnorm&#x27;,\n",
       "                                                                   StandardScaler())]),\n",
       "                                                  [&#x27;year&#x27;, &#x27;month&#x27;, &#x27;session&#x27;,\n",
       "                                                   &#x27;diff_min&#x27;])])),\n",
       "                (&#x27;ros&#x27;, RandomOverSampler()),\n",
       "                (&#x27;model&#x27;, RandomForestClassifier())])</pre></div></div></div><div class=\"sk-serial\"><div class=\"sk-item sk-dashed-wrapped\"><div class=\"sk-label-container\"><div class=\"sk-label sk-toggleable\"><input class=\"sk-toggleable__control sk-hidden--visually\" id=\"sk-estimator-id-20\" type=\"checkbox\" ><label for=\"sk-estimator-id-20\" class=\"sk-toggleable__label sk-toggleable__label-arrow\">preprocess: ColumnTransformer</label><div class=\"sk-toggleable__content\"><pre>ColumnTransformer(transformers=[(&#x27;nominalpipe&#x27;,\n",
       "                                 Pipeline(steps=[(&#x27;onehotenc&#x27;,\n",
       "                                                  OneHotEncoder(handle_unknown=&#x27;ignore&#x27;,\n",
       "                                                                sparse=False)),\n",
       "                                                 (&#x27;onehotnorm&#x27;,\n",
       "                                                  MaxAbsScaler())]),\n",
       "                                 [&#x27;ADDR_PCT_CD&#x27;, &#x27;KY_CD&#x27;, &#x27;OFNS_DESC&#x27;,\n",
       "                                  &#x27;PD_DESC&#x27;, &#x27;LAW_CAT_CD&#x27;, &#x27;BORO_NM&#x27;,\n",
       "                                  &#x27;LOC_OF_OCCUR_DESC&#x27;, &#x27;SUSP_AGE_GROUP&#x27;,\n",
       "                                  &#x27;SUSP_SEX&#x27;, &#x27;PATROL_BORO&#x27;, &#x27;VIC_AGE_GROUP&#x27;,\n",
       "                                  &#x27;VIC_RACE&#x27;, &#x27;VIC_SEX&#x27;, &#x27;reported_dow&#x27;,\n",
       "                                  &#x27;session_to&#x27;]),\n",
       "                                (&#x27;numpipe&#x27;,\n",
       "                                 Pipeline(steps=[(&#x27;numnorm&#x27;,\n",
       "                                                  StandardScaler())]),\n",
       "                                 [&#x27;year&#x27;, &#x27;month&#x27;, &#x27;session&#x27;, &#x27;diff_min&#x27;])])</pre></div></div></div><div class=\"sk-parallel\"><div class=\"sk-parallel-item\"><div class=\"sk-item\"><div class=\"sk-label-container\"><div class=\"sk-label sk-toggleable\"><input class=\"sk-toggleable__control sk-hidden--visually\" id=\"sk-estimator-id-21\" type=\"checkbox\" ><label for=\"sk-estimator-id-21\" class=\"sk-toggleable__label sk-toggleable__label-arrow\">nominalpipe</label><div class=\"sk-toggleable__content\"><pre>[&#x27;ADDR_PCT_CD&#x27;, &#x27;KY_CD&#x27;, &#x27;OFNS_DESC&#x27;, &#x27;PD_DESC&#x27;, &#x27;LAW_CAT_CD&#x27;, &#x27;BORO_NM&#x27;, &#x27;LOC_OF_OCCUR_DESC&#x27;, &#x27;SUSP_AGE_GROUP&#x27;, &#x27;SUSP_SEX&#x27;, &#x27;PATROL_BORO&#x27;, &#x27;VIC_AGE_GROUP&#x27;, &#x27;VIC_RACE&#x27;, &#x27;VIC_SEX&#x27;, &#x27;reported_dow&#x27;, &#x27;session_to&#x27;]</pre></div></div></div><div class=\"sk-serial\"><div class=\"sk-item\"><div class=\"sk-serial\"><div class=\"sk-item\"><div class=\"sk-estimator sk-toggleable\"><input class=\"sk-toggleable__control sk-hidden--visually\" id=\"sk-estimator-id-22\" type=\"checkbox\" ><label for=\"sk-estimator-id-22\" class=\"sk-toggleable__label sk-toggleable__label-arrow\">OneHotEncoder</label><div class=\"sk-toggleable__content\"><pre>OneHotEncoder(handle_unknown=&#x27;ignore&#x27;, sparse=False)</pre></div></div></div><div class=\"sk-item\"><div class=\"sk-estimator sk-toggleable\"><input class=\"sk-toggleable__control sk-hidden--visually\" id=\"sk-estimator-id-23\" type=\"checkbox\" ><label for=\"sk-estimator-id-23\" class=\"sk-toggleable__label sk-toggleable__label-arrow\">MaxAbsScaler</label><div class=\"sk-toggleable__content\"><pre>MaxAbsScaler()</pre></div></div></div></div></div></div></div></div><div class=\"sk-parallel-item\"><div class=\"sk-item\"><div class=\"sk-label-container\"><div class=\"sk-label sk-toggleable\"><input class=\"sk-toggleable__control sk-hidden--visually\" id=\"sk-estimator-id-24\" type=\"checkbox\" ><label for=\"sk-estimator-id-24\" class=\"sk-toggleable__label sk-toggleable__label-arrow\">numpipe</label><div class=\"sk-toggleable__content\"><pre>[&#x27;year&#x27;, &#x27;month&#x27;, &#x27;session&#x27;, &#x27;diff_min&#x27;]</pre></div></div></div><div class=\"sk-serial\"><div class=\"sk-item\"><div class=\"sk-serial\"><div class=\"sk-item\"><div class=\"sk-estimator sk-toggleable\"><input class=\"sk-toggleable__control sk-hidden--visually\" id=\"sk-estimator-id-25\" type=\"checkbox\" ><label for=\"sk-estimator-id-25\" class=\"sk-toggleable__label sk-toggleable__label-arrow\">StandardScaler</label><div class=\"sk-toggleable__content\"><pre>StandardScaler()</pre></div></div></div></div></div></div></div></div></div></div><div class=\"sk-item\"><div class=\"sk-estimator sk-toggleable\"><input class=\"sk-toggleable__control sk-hidden--visually\" id=\"sk-estimator-id-26\" type=\"checkbox\" ><label for=\"sk-estimator-id-26\" class=\"sk-toggleable__label sk-toggleable__label-arrow\">RandomOverSampler</label><div class=\"sk-toggleable__content\"><pre>RandomOverSampler()</pre></div></div></div><div class=\"sk-item\"><div class=\"sk-estimator sk-toggleable\"><input class=\"sk-toggleable__control sk-hidden--visually\" id=\"sk-estimator-id-27\" type=\"checkbox\" ><label for=\"sk-estimator-id-27\" class=\"sk-toggleable__label sk-toggleable__label-arrow\">RandomForestClassifier</label><div class=\"sk-toggleable__content\"><pre>RandomForestClassifier()</pre></div></div></div></div></div></div></div>"
      ],
      "text/plain": [
       "Pipeline(steps=[('preprocess',\n",
       "                 ColumnTransformer(transformers=[('nominalpipe',\n",
       "                                                  Pipeline(steps=[('onehotenc',\n",
       "                                                                   OneHotEncoder(handle_unknown='ignore',\n",
       "                                                                                 sparse=False)),\n",
       "                                                                  ('onehotnorm',\n",
       "                                                                   MaxAbsScaler())]),\n",
       "                                                  ['ADDR_PCT_CD', 'KY_CD',\n",
       "                                                   'OFNS_DESC', 'PD_DESC',\n",
       "                                                   'LAW_CAT_CD', 'BORO_NM',\n",
       "                                                   'LOC_OF_OCCUR_DESC',\n",
       "                                                   'SUSP_AGE_GROUP', 'SUSP_SEX',\n",
       "                                                   'PATROL_BORO',\n",
       "                                                   'VIC_AGE_GROUP', 'VIC_RACE',\n",
       "                                                   'VIC_SEX', 'reported_dow',\n",
       "                                                   'session_to']),\n",
       "                                                 ('numpipe',\n",
       "                                                  Pipeline(steps=[('numnorm',\n",
       "                                                                   StandardScaler())]),\n",
       "                                                  ['year', 'month', 'session',\n",
       "                                                   'diff_min'])])),\n",
       "                ('ros', RandomOverSampler()),\n",
       "                ('model', RandomForestClassifier())])"
      ]
     },
     "execution_count": 66,
     "metadata": {},
     "output_type": "execute_result"
    }
   ],
   "source": [
    "final_pipe = Pipeline([('preprocess', ct),('ros', RandomOverSampler()),\n",
    "                      ('model',\n",
    "                       RandomForestClassifier())])  #change the model\n",
    "final_pipe"
   ]
  },
  {
   "cell_type": "code",
   "execution_count": 67,
   "id": "ea8a0a7e-0c68-497e-b4df-b4566c3ad06f",
   "metadata": {},
   "outputs": [
    {
     "data": {
      "text/plain": [
       "0.9881818181818182"
      ]
     },
     "execution_count": 67,
     "metadata": {},
     "output_type": "execute_result"
    }
   ],
   "source": [
    "final_pipe.fit(X_train,y_train)\n",
    "final_pipe.score(X_test, y_test)"
   ]
  },
  {
   "cell_type": "code",
   "execution_count": 63,
   "id": "21819fd4-133a-4cd7-ba7d-d038f41032ea",
   "metadata": {},
   "outputs": [
    {
     "data": {
      "text/plain": [
       "0.9601010101010101"
      ]
     },
     "execution_count": 63,
     "metadata": {},
     "output_type": "execute_result"
    }
   ],
   "source": [
    "final_pipe.score(X_test,y_test)"
   ]
  },
  {
   "cell_type": "code",
   "execution_count": 70,
   "id": "02ffb7cc-f1d6-4b82-82ca-3574388f9560",
   "metadata": {},
   "outputs": [
    {
     "data": {
      "text/plain": [
       "array(['COMPLETED', 'COMPLETED', 'COMPLETED', ..., 'COMPLETED',\n",
       "       'COMPLETED', 'COMPLETED'], dtype=object)"
      ]
     },
     "execution_count": 70,
     "metadata": {},
     "output_type": "execute_result"
    }
   ],
   "source": [
    "predicted = final_pipe.predict(X_test)\n",
    "predicted"
   ]
  },
  {
   "cell_type": "code",
   "execution_count": 71,
   "id": "a9cda966-3e39-441b-890e-a10e140db34c",
   "metadata": {},
   "outputs": [
    {
     "name": "stdout",
     "output_type": "stream",
     "text": [
      "              precision    recall  f1-score   support\n",
      "\n",
      "   ATTEMPTED       0.62      0.07      0.12       120\n",
      "   COMPLETED       0.99      1.00      0.99      9780\n",
      "\n",
      "    accuracy                           0.99      9900\n",
      "   macro avg       0.80      0.53      0.56      9900\n",
      "weighted avg       0.98      0.99      0.98      9900\n",
      "\n"
     ]
    }
   ],
   "source": [
    "#classification metrics \n",
    "\n",
    "print(classification_report(y_test, predicted))"
   ]
  },
  {
   "cell_type": "code",
   "execution_count": 74,
   "id": "37f45ff7-6fc4-45f1-a519-eac2577d9b60",
   "metadata": {},
   "outputs": [
    {
     "name": "stderr",
     "output_type": "stream",
     "text": [
      "/opt/anaconda3/lib/python3.8/site-packages/sklearn/utils/deprecation.py:87: FutureWarning: Function plot_confusion_matrix is deprecated; Function `plot_confusion_matrix` is deprecated in 1.0 and will be removed in 1.2. Use one of the class methods: ConfusionMatrixDisplay.from_predictions or ConfusionMatrixDisplay.from_estimator.\n",
      "  warnings.warn(msg, category=FutureWarning)\n"
     ]
    },
    {
     "data": {
      "text/plain": [
       "<sklearn.metrics._plot.confusion_matrix.ConfusionMatrixDisplay at 0x7f9de6160b50>"
      ]
     },
     "execution_count": 74,
     "metadata": {},
     "output_type": "execute_result"
    },
    {
     "data": {
      "image/png": "[encoded data removed]",
      "text/plain": [
       "<Figure size 432x288 with 2 Axes>"
      ]
     },
     "metadata": {
      "needs_background": "light"
     },
     "output_type": "display_data"
    }
   ],
   "source": [
    "plot_confusion_matrix(final_pipe, X_test, y_test)"
   ]
  },
  {
   "cell_type": "code",
   "execution_count": null,
   "id": "b25dfe8a-2514-4881-9b43-9106a7a447f1",
   "metadata": {},
   "outputs": [],
   "source": [
    "#big dataset, high multidimensionality \n",
    "\n",
    "#random forest, log reg, support vector classifier \n",
    "\n",
    "#study my columns\n",
    "\n",
    "#run the pipeline up above"
   ]
  },
  {
   "cell_type": "code",
   "execution_count": null,
   "id": "63167610-2bb6-4299-9489-220a9fea36c7",
   "metadata": {},
   "outputs": [],
   "source": [
    "sns.pairplot(hue = 'Species', \n",
    "             vars = col_list,\n",
    "             data = iris_df)\n",
    "plt.show()"
   ]
  }
 ],
 "metadata": {
  "kernelspec": {
   "display_name": "Python 3",
   "language": "python",
   "name": "python3"
  },
  "language_info": {
   "codemirror_mode": {
    "name": "ipython",
    "version": 3
   },
   "file_extension": ".py",
   "mimetype": "text/x-python",
   "name": "python",
   "nbconvert_exporter": "python",
   "pygments_lexer": "ipython3",
   "version": "3.8.8"
  }
 },
 "nbformat": 4,
 "nbformat_minor": 5
}
