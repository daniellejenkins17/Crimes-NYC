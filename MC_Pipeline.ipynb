{
 "cells": [
  {
   "cell_type": "code",
   "execution_count": 392,
   "id": "cb7526d5-13dc-4cb3-80c1-0e8bb888ec17",
   "metadata": {},
   "outputs": [],
   "source": [
    "import numpy as np\n",
    "import pandas as pd\n",
    "import matplotlib as plt\n",
    "import csv\n",
    "import datetime\n",
    "import matplotlib.pyplot as plt\n",
    "%matplotlib inline\n",
    "import seaborn as sns\n",
    "from sklearn.preprocessing import MinMaxScaler\n",
    "import sklearn\n",
    "from sklearn.model_selection import train_test_split\n",
    "from sklearn import decomposition, datasets\n",
    "from sklearn import tree\n",
    "from sklearn.pipeline import Pipeline\n",
    "from sklearn.preprocessing import StandardScaler\n",
    "import os\n",
    "from sklearn.metrics import confusion_matrix\n",
    "from sklearn.metrics import plot_confusion_matrix \n",
    "from sklearn.metrics import precision_score\n",
    "from sklearn.metrics import recall_score\n",
    "from sklearn.metrics import f1_score\n",
    "from sklearn.model_selection import train_test_split, GridSearchCV,\\\n",
    "cross_val_score, RandomizedSearchCV\n",
    "from scipy import stats as stats\n",
    "from sklearn.linear_model import LogisticRegression\n",
    "from sklearn.tree import DecisionTreeClassifier\n",
    "from sklearn.metrics import precision_score, recall_score, plot_confusion_matrix\n",
    "from sklearn.preprocessing import OneHotEncoder, StandardScaler, Normalizer, OrdinalEncoder, MaxAbsScaler\n",
    "from sklearn.impute import SimpleImputer\n",
    "from sklearn.compose import ColumnTransformer"
   ]
  },
  {
   "cell_type": "code",
   "execution_count": 393,
   "id": "e9c14d31-6b43-4920-a884-24362eb5281a",
   "metadata": {},
   "outputs": [],
   "source": [
    "from sklearn.preprocessing import LabelEncoder\n",
    "from sklearn.ensemble import RandomForestClassifier"
   ]
  },
  {
   "cell_type": "code",
   "execution_count": 394,
   "id": "eab6f983-f16e-4bdd-95a1-911381721fb4",
   "metadata": {},
   "outputs": [],
   "source": [
    "from sklearn.model_selection import KFold\n",
    "from sklearn.preprocessing import StandardScaler\n",
    "from sklearn.neighbors import KNeighborsClassifier\n",
    "from sklearn.metrics import precision_score, recall_score, f1_score, accuracy_score, classification_report"
   ]
  },
  {
   "cell_type": "code",
   "execution_count": 395,
   "id": "bb1c94fa-e3b9-4118-a202-f830eaf437e3",
   "metadata": {},
   "outputs": [],
   "source": [
    "from sklearn.model_selection import train_test_split\n",
    "from sklearn import metrics\n",
    "from imblearn.over_sampling import SMOTE"
   ]
  },
  {
   "cell_type": "code",
   "execution_count": 396,
   "id": "5d789fd2-c5d1-433f-bfce-a79e83eee640",
   "metadata": {},
   "outputs": [],
   "source": [
    "mc = pd.read_csv('mc.csv')"
   ]
  },
  {
   "cell_type": "code",
   "execution_count": 397,
   "id": "8c5cf5d5-c17c-4065-a2a2-064ef939d218",
   "metadata": {},
   "outputs": [
    {
     "data": {
      "text/plain": [
       "Afternoon    228621\n",
       "Morning      187943\n",
       "Evening      172637\n",
       "Night        139967\n",
       "Name: session, dtype: int64"
      ]
     },
     "execution_count": 397,
     "metadata": {},
     "output_type": "execute_result"
    }
   ],
   "source": [
    "mc.head()\n",
    "mc.session.value_counts()"
   ]
  },
  {
   "cell_type": "code",
   "execution_count": 398,
   "id": "db91f849-ea6e-4db7-83cd-3b138bd1751f",
   "metadata": {},
   "outputs": [
    {
     "data": {
      "text/plain": [
       "Unnamed: 0             int64\n",
       "CMPLNT_NUM             int64\n",
       "CMPLNT_FR_DT          object\n",
       "CMPLNT_FR_TM          object\n",
       "CMPLNT_TO_DT          object\n",
       "CMPLNT_TO_TM          object\n",
       "ADDR_PCT_CD          float64\n",
       "RPT_DT                object\n",
       "KY_CD                  int64\n",
       "OFNS_DESC             object\n",
       "PD_CD                float64\n",
       "PD_DESC               object\n",
       "CRM_ATPT_CPTD_CD      object\n",
       "LAW_CAT_CD            object\n",
       "BORO_NM               object\n",
       "LOC_OF_OCCUR_DESC     object\n",
       "PREM_TYP_DESC         object\n",
       "JURIS_DESC            object\n",
       "JURISDICTION_CODE    float64\n",
       "SUSP_AGE_GROUP        object\n",
       "SUSP_SEX              object\n",
       "Latitude             float64\n",
       "Longitude            float64\n",
       "Lat_Lon               object\n",
       "PATROL_BORO           object\n",
       "VIC_AGE_GROUP         object\n",
       "VIC_RACE              object\n",
       "VIC_SEX               object\n",
       "year                 float64\n",
       "month                float64\n",
       "session               object\n",
       "session_to            object\n",
       "diff                  object\n",
       "diff_min             float64\n",
       "dtype: object"
      ]
     },
     "execution_count": 398,
     "metadata": {},
     "output_type": "execute_result"
    }
   ],
   "source": [
    "mc.dtypes"
   ]
  },
  {
   "cell_type": "code",
   "execution_count": 399,
   "id": "1c24b615-6762-485c-a507-1ddc630f154f",
   "metadata": {},
   "outputs": [],
   "source": [
    "mc.dropna(subset=['CMPLNT_FR_TM'], inplace = True)"
   ]
  },
  {
   "cell_type": "code",
   "execution_count": 400,
   "id": "ae69f974-d012-4148-aaa7-60f7d8c62938",
   "metadata": {},
   "outputs": [],
   "source": [
    "mc.dropna(subset=['PATROL_BORO'], inplace = True)"
   ]
  },
  {
   "cell_type": "code",
   "execution_count": 401,
   "id": "6ae77407-b0bd-45e2-b4cf-9d4417baa81e",
   "metadata": {},
   "outputs": [],
   "source": [
    "from datetime import datetime"
   ]
  },
  {
   "cell_type": "code",
   "execution_count": 403,
   "id": "19b1f63c-51ea-4d5a-9238-a618892290cc",
   "metadata": {},
   "outputs": [],
   "source": [
    "from sklearn.ensemble import  RandomForestClassifier\n",
    "from sklearn.model_selection import train_test_split\n",
    "from sklearn import metrics"
   ]
  },
  {
   "cell_type": "code",
   "execution_count": 404,
   "id": "0b5c8bc0-147d-4eee-82b8-49a8e47c1190",
   "metadata": {},
   "outputs": [],
   "source": [
    "from sklearn.datasets import make_classification\n",
    "from imblearn.over_sampling import SMOTE "
   ]
  },
  {
   "cell_type": "code",
   "execution_count": 405,
   "id": "7444efbc-d75e-46ff-aa38-e096852f2ca8",
   "metadata": {},
   "outputs": [],
   "source": [
    "from sklearn.metrics import classification_report\n",
    "from sklearn.metrics import confusion_matrix\n",
    "from sklearn.metrics import plot_confusion_matrix "
   ]
  },
  {
   "cell_type": "code",
   "execution_count": 406,
   "id": "890e9ac6-a5e2-4756-aaa3-3f5dc5953118",
   "metadata": {},
   "outputs": [],
   "source": [
    "from sklearn.model_selection import train_test_split, GridSearchCV,\\\n",
    "cross_val_score, RandomizedSearchCV"
   ]
  },
  {
   "cell_type": "markdown",
   "id": "eb60fd67-ed55-450a-8619-f5e5846fb79a",
   "metadata": {},
   "source": [
    "# Label Encoding columns"
   ]
  },
  {
   "cell_type": "code",
   "execution_count": null,
   "id": "0a6c32c0-284b-44cd-9b07-a7691388cf86",
   "metadata": {},
   "outputs": [],
   "source": [
    "mc['RPT_DT'] = pd.to_datetime(mc['RPT_DT'])"
   ]
  },
  {
   "cell_type": "code",
   "execution_count": 408,
   "id": "5c44cdae-8560-4e50-ab70-a89cb9006b6c",
   "metadata": {},
   "outputs": [],
   "source": [
    "# Made a column for Day of week \n",
    "\n",
    "mc['reported_dow'] = mc['RPT_DT'].dt.dayofweek"
   ]
  },
  {
   "cell_type": "code",
   "execution_count": 409,
   "id": "92629fd3-1eb8-4f07-b4c8-b44d1a30a8f9",
   "metadata": {},
   "outputs": [
    {
     "data": {
      "text/html": [
       "<div>\n",
       "<style scoped>\n",
       "    .dataframe tbody tr th:only-of-type {\n",
       "        vertical-align: middle;\n",
       "    }\n",
       "\n",
       "    .dataframe tbody tr th {\n",
       "        vertical-align: top;\n",
       "    }\n",
       "\n",
       "    .dataframe thead th {\n",
       "        text-align: right;\n",
       "    }\n",
       "</style>\n",
       "<table border=\"1\" class=\"dataframe\">\n",
       "  <thead>\n",
       "    <tr style=\"text-align: right;\">\n",
       "      <th></th>\n",
       "      <th>PD_CD</th>\n",
       "      <th>PD_DESC</th>\n",
       "      <th>CRM_ATPT_CPTD_CD</th>\n",
       "      <th>LAW_CAT_CD</th>\n",
       "      <th>BORO_NM</th>\n",
       "      <th>LOC_OF_OCCUR_DESC</th>\n",
       "      <th>PREM_TYP_DESC</th>\n",
       "      <th>JURIS_DESC</th>\n",
       "      <th>JURISDICTION_CODE</th>\n",
       "      <th>SUSP_AGE_GROUP</th>\n",
       "      <th>...</th>\n",
       "      <th>VIC_AGE_GROUP</th>\n",
       "      <th>VIC_RACE</th>\n",
       "      <th>VIC_SEX</th>\n",
       "      <th>year</th>\n",
       "      <th>month</th>\n",
       "      <th>session</th>\n",
       "      <th>session_to</th>\n",
       "      <th>diff</th>\n",
       "      <th>diff_min</th>\n",
       "      <th>reported_dow</th>\n",
       "    </tr>\n",
       "  </thead>\n",
       "  <tbody>\n",
       "    <tr>\n",
       "      <th>0</th>\n",
       "      <td>639.0</td>\n",
       "      <td>AGGRAVATED HARASSMENT 2</td>\n",
       "      <td>COMPLETED</td>\n",
       "      <td>MISDEMEANOR</td>\n",
       "      <td>MANHATTAN</td>\n",
       "      <td>INSIDE</td>\n",
       "      <td>RESIDENCE - APT. HOUSE</td>\n",
       "      <td>N.Y. POLICE DEPT</td>\n",
       "      <td>0.0</td>\n",
       "      <td>25-44</td>\n",
       "      <td>...</td>\n",
       "      <td>18-24</td>\n",
       "      <td>WHITE HISPANIC</td>\n",
       "      <td>F</td>\n",
       "      <td>2018.0</td>\n",
       "      <td>6.0</td>\n",
       "      <td>1</td>\n",
       "      <td>Evening</td>\n",
       "      <td>0 days 00:01:00</td>\n",
       "      <td>1.0</td>\n",
       "      <td>6</td>\n",
       "    </tr>\n",
       "    <tr>\n",
       "      <th>1</th>\n",
       "      <td>388.0</td>\n",
       "      <td>ROBBERY,RESIDENTIAL COMMON AREA</td>\n",
       "      <td>COMPLETED</td>\n",
       "      <td>FELONY</td>\n",
       "      <td>BRONX</td>\n",
       "      <td>INSIDE</td>\n",
       "      <td>RESIDENCE - APT. HOUSE</td>\n",
       "      <td>N.Y. POLICE DEPT</td>\n",
       "      <td>0.0</td>\n",
       "      <td>25-44</td>\n",
       "      <td>...</td>\n",
       "      <td>&lt;18</td>\n",
       "      <td>WHITE HISPANIC</td>\n",
       "      <td>M</td>\n",
       "      <td>2018.0</td>\n",
       "      <td>11.0</td>\n",
       "      <td>0</td>\n",
       "      <td>Afternoon</td>\n",
       "      <td>0 days 00:10:00</td>\n",
       "      <td>10.0</td>\n",
       "      <td>6</td>\n",
       "    </tr>\n",
       "    <tr>\n",
       "      <th>2</th>\n",
       "      <td>639.0</td>\n",
       "      <td>AGGRAVATED HARASSMENT 2</td>\n",
       "      <td>COMPLETED</td>\n",
       "      <td>MISDEMEANOR</td>\n",
       "      <td>BRONX</td>\n",
       "      <td>INSIDE</td>\n",
       "      <td>RESIDENCE - APT. HOUSE</td>\n",
       "      <td>N.Y. POLICE DEPT</td>\n",
       "      <td>0.0</td>\n",
       "      <td>&lt;18</td>\n",
       "      <td>...</td>\n",
       "      <td>&lt;18</td>\n",
       "      <td>WHITE HISPANIC</td>\n",
       "      <td>F</td>\n",
       "      <td>2018.0</td>\n",
       "      <td>5.0</td>\n",
       "      <td>0</td>\n",
       "      <td>Afternoon</td>\n",
       "      <td>0 days 03:00:00</td>\n",
       "      <td>180.0</td>\n",
       "      <td>0</td>\n",
       "    </tr>\n",
       "    <tr>\n",
       "      <th>3</th>\n",
       "      <td>638.0</td>\n",
       "      <td>HARASSMENT,SUBD 3,4,5</td>\n",
       "      <td>COMPLETED</td>\n",
       "      <td>VIOLATION</td>\n",
       "      <td>QUEENS</td>\n",
       "      <td>INSIDE</td>\n",
       "      <td>RESIDENCE - APT. HOUSE</td>\n",
       "      <td>N.Y. POLICE DEPT</td>\n",
       "      <td>0.0</td>\n",
       "      <td>18-24</td>\n",
       "      <td>...</td>\n",
       "      <td>65+</td>\n",
       "      <td>BLACK</td>\n",
       "      <td>M</td>\n",
       "      <td>2018.0</td>\n",
       "      <td>12.0</td>\n",
       "      <td>0</td>\n",
       "      <td>Afternoon</td>\n",
       "      <td>0 days 00:15:00</td>\n",
       "      <td>15.0</td>\n",
       "      <td>5</td>\n",
       "    </tr>\n",
       "    <tr>\n",
       "      <th>4</th>\n",
       "      <td>175.0</td>\n",
       "      <td>SEXUAL ABUSE 3,2</td>\n",
       "      <td>COMPLETED</td>\n",
       "      <td>MISDEMEANOR</td>\n",
       "      <td>BROOKLYN</td>\n",
       "      <td>INSIDE</td>\n",
       "      <td>RESIDENCE - APT. HOUSE</td>\n",
       "      <td>N.Y. POLICE DEPT</td>\n",
       "      <td>0.0</td>\n",
       "      <td>25-44</td>\n",
       "      <td>...</td>\n",
       "      <td>18-24</td>\n",
       "      <td>BLACK</td>\n",
       "      <td>F</td>\n",
       "      <td>2018.0</td>\n",
       "      <td>9.0</td>\n",
       "      <td>0</td>\n",
       "      <td>Afternoon</td>\n",
       "      <td>0 days 00:15:00</td>\n",
       "      <td>15.0</td>\n",
       "      <td>1</td>\n",
       "    </tr>\n",
       "    <tr>\n",
       "      <th>...</th>\n",
       "      <td>...</td>\n",
       "      <td>...</td>\n",
       "      <td>...</td>\n",
       "      <td>...</td>\n",
       "      <td>...</td>\n",
       "      <td>...</td>\n",
       "      <td>...</td>\n",
       "      <td>...</td>\n",
       "      <td>...</td>\n",
       "      <td>...</td>\n",
       "      <td>...</td>\n",
       "      <td>...</td>\n",
       "      <td>...</td>\n",
       "      <td>...</td>\n",
       "      <td>...</td>\n",
       "      <td>...</td>\n",
       "      <td>...</td>\n",
       "      <td>...</td>\n",
       "      <td>...</td>\n",
       "      <td>...</td>\n",
       "      <td>...</td>\n",
       "    </tr>\n",
       "    <tr>\n",
       "      <th>729163</th>\n",
       "      <td>198.0</td>\n",
       "      <td>CRIMINAL CONTEMPT 1</td>\n",
       "      <td>COMPLETED</td>\n",
       "      <td>FELONY</td>\n",
       "      <td>QUEENS</td>\n",
       "      <td>INSIDE</td>\n",
       "      <td>RESIDENCE - APT. HOUSE</td>\n",
       "      <td>N.Y. POLICE DEPT</td>\n",
       "      <td>0.0</td>\n",
       "      <td>45-64</td>\n",
       "      <td>...</td>\n",
       "      <td>25-44</td>\n",
       "      <td>WHITE</td>\n",
       "      <td>F</td>\n",
       "      <td>2018.0</td>\n",
       "      <td>10.0</td>\n",
       "      <td>2</td>\n",
       "      <td>Morning</td>\n",
       "      <td>0 days 00:53:00</td>\n",
       "      <td>53.0</td>\n",
       "      <td>3</td>\n",
       "    </tr>\n",
       "    <tr>\n",
       "      <th>729164</th>\n",
       "      <td>637.0</td>\n",
       "      <td>HARASSMENT,SUBD 1,CIVILIAN</td>\n",
       "      <td>COMPLETED</td>\n",
       "      <td>VIOLATION</td>\n",
       "      <td>BROOKLYN</td>\n",
       "      <td>INSIDE</td>\n",
       "      <td>RESIDENCE - APT. HOUSE</td>\n",
       "      <td>N.Y. POLICE DEPT</td>\n",
       "      <td>0.0</td>\n",
       "      <td>45-64</td>\n",
       "      <td>...</td>\n",
       "      <td>45-64</td>\n",
       "      <td>WHITE</td>\n",
       "      <td>F</td>\n",
       "      <td>2018.0</td>\n",
       "      <td>5.0</td>\n",
       "      <td>2</td>\n",
       "      <td>Morning</td>\n",
       "      <td>0 days 00:10:00</td>\n",
       "      <td>10.0</td>\n",
       "      <td>1</td>\n",
       "    </tr>\n",
       "    <tr>\n",
       "      <th>729165</th>\n",
       "      <td>638.0</td>\n",
       "      <td>HARASSMENT,SUBD 3,4,5</td>\n",
       "      <td>COMPLETED</td>\n",
       "      <td>VIOLATION</td>\n",
       "      <td>QUEENS</td>\n",
       "      <td>INSIDE</td>\n",
       "      <td>RESIDENCE-HOUSE</td>\n",
       "      <td>N.Y. POLICE DEPT</td>\n",
       "      <td>0.0</td>\n",
       "      <td>25-44</td>\n",
       "      <td>...</td>\n",
       "      <td>45-64</td>\n",
       "      <td>WHITE</td>\n",
       "      <td>F</td>\n",
       "      <td>2018.0</td>\n",
       "      <td>5.0</td>\n",
       "      <td>2</td>\n",
       "      <td>Morning</td>\n",
       "      <td>0 days 00:55:00</td>\n",
       "      <td>55.0</td>\n",
       "      <td>1</td>\n",
       "    </tr>\n",
       "    <tr>\n",
       "      <th>729166</th>\n",
       "      <td>101.0</td>\n",
       "      <td>ASSAULT 3</td>\n",
       "      <td>COMPLETED</td>\n",
       "      <td>MISDEMEANOR</td>\n",
       "      <td>MANHATTAN</td>\n",
       "      <td>FRONT OF</td>\n",
       "      <td>GAS STATION</td>\n",
       "      <td>N.Y. POLICE DEPT</td>\n",
       "      <td>0.0</td>\n",
       "      <td>18-24</td>\n",
       "      <td>...</td>\n",
       "      <td>45-64</td>\n",
       "      <td>BLACK HISPANIC</td>\n",
       "      <td>M</td>\n",
       "      <td>2018.0</td>\n",
       "      <td>1.0</td>\n",
       "      <td>0</td>\n",
       "      <td>Afternoon</td>\n",
       "      <td>0 days 00:08:00</td>\n",
       "      <td>8.0</td>\n",
       "      <td>2</td>\n",
       "    </tr>\n",
       "    <tr>\n",
       "      <th>729167</th>\n",
       "      <td>638.0</td>\n",
       "      <td>HARASSMENT,SUBD 3,4,5</td>\n",
       "      <td>COMPLETED</td>\n",
       "      <td>VIOLATION</td>\n",
       "      <td>STATEN ISLAND</td>\n",
       "      <td>FRONT OF</td>\n",
       "      <td>RESIDENCE-HOUSE</td>\n",
       "      <td>N.Y. POLICE DEPT</td>\n",
       "      <td>0.0</td>\n",
       "      <td>45-64</td>\n",
       "      <td>...</td>\n",
       "      <td>45-64</td>\n",
       "      <td>WHITE</td>\n",
       "      <td>M</td>\n",
       "      <td>2018.0</td>\n",
       "      <td>2.0</td>\n",
       "      <td>2</td>\n",
       "      <td>Morning</td>\n",
       "      <td>0 days 02:13:00</td>\n",
       "      <td>133.0</td>\n",
       "      <td>5</td>\n",
       "    </tr>\n",
       "  </tbody>\n",
       "</table>\n",
       "<p>729160 rows × 25 columns</p>\n",
       "</div>"
      ],
      "text/plain": [
       "        PD_CD                          PD_DESC CRM_ATPT_CPTD_CD   LAW_CAT_CD  \\\n",
       "0       639.0          AGGRAVATED HARASSMENT 2        COMPLETED  MISDEMEANOR   \n",
       "1       388.0  ROBBERY,RESIDENTIAL COMMON AREA        COMPLETED       FELONY   \n",
       "2       639.0          AGGRAVATED HARASSMENT 2        COMPLETED  MISDEMEANOR   \n",
       "3       638.0            HARASSMENT,SUBD 3,4,5        COMPLETED    VIOLATION   \n",
       "4       175.0                 SEXUAL ABUSE 3,2        COMPLETED  MISDEMEANOR   \n",
       "...       ...                              ...              ...          ...   \n",
       "729163  198.0              CRIMINAL CONTEMPT 1        COMPLETED       FELONY   \n",
       "729164  637.0       HARASSMENT,SUBD 1,CIVILIAN        COMPLETED    VIOLATION   \n",
       "729165  638.0            HARASSMENT,SUBD 3,4,5        COMPLETED    VIOLATION   \n",
       "729166  101.0                        ASSAULT 3        COMPLETED  MISDEMEANOR   \n",
       "729167  638.0            HARASSMENT,SUBD 3,4,5        COMPLETED    VIOLATION   \n",
       "\n",
       "              BORO_NM LOC_OF_OCCUR_DESC           PREM_TYP_DESC  \\\n",
       "0           MANHATTAN            INSIDE  RESIDENCE - APT. HOUSE   \n",
       "1               BRONX            INSIDE  RESIDENCE - APT. HOUSE   \n",
       "2               BRONX            INSIDE  RESIDENCE - APT. HOUSE   \n",
       "3              QUEENS            INSIDE  RESIDENCE - APT. HOUSE   \n",
       "4            BROOKLYN            INSIDE  RESIDENCE - APT. HOUSE   \n",
       "...               ...               ...                     ...   \n",
       "729163         QUEENS            INSIDE  RESIDENCE - APT. HOUSE   \n",
       "729164       BROOKLYN            INSIDE  RESIDENCE - APT. HOUSE   \n",
       "729165         QUEENS            INSIDE         RESIDENCE-HOUSE   \n",
       "729166      MANHATTAN          FRONT OF             GAS STATION   \n",
       "729167  STATEN ISLAND          FRONT OF         RESIDENCE-HOUSE   \n",
       "\n",
       "              JURIS_DESC  JURISDICTION_CODE SUSP_AGE_GROUP  ... VIC_AGE_GROUP  \\\n",
       "0       N.Y. POLICE DEPT                0.0          25-44  ...         18-24   \n",
       "1       N.Y. POLICE DEPT                0.0          25-44  ...           <18   \n",
       "2       N.Y. POLICE DEPT                0.0            <18  ...           <18   \n",
       "3       N.Y. POLICE DEPT                0.0          18-24  ...           65+   \n",
       "4       N.Y. POLICE DEPT                0.0          25-44  ...         18-24   \n",
       "...                  ...                ...            ...  ...           ...   \n",
       "729163  N.Y. POLICE DEPT                0.0          45-64  ...         25-44   \n",
       "729164  N.Y. POLICE DEPT                0.0          45-64  ...         45-64   \n",
       "729165  N.Y. POLICE DEPT                0.0          25-44  ...         45-64   \n",
       "729166  N.Y. POLICE DEPT                0.0          18-24  ...         45-64   \n",
       "729167  N.Y. POLICE DEPT                0.0          45-64  ...         45-64   \n",
       "\n",
       "              VIC_RACE  VIC_SEX    year month session session_to  \\\n",
       "0       WHITE HISPANIC        F  2018.0   6.0       1    Evening   \n",
       "1       WHITE HISPANIC        M  2018.0  11.0       0  Afternoon   \n",
       "2       WHITE HISPANIC        F  2018.0   5.0       0  Afternoon   \n",
       "3                BLACK        M  2018.0  12.0       0  Afternoon   \n",
       "4                BLACK        F  2018.0   9.0       0  Afternoon   \n",
       "...                ...      ...     ...   ...     ...        ...   \n",
       "729163           WHITE        F  2018.0  10.0       2    Morning   \n",
       "729164           WHITE        F  2018.0   5.0       2    Morning   \n",
       "729165           WHITE        F  2018.0   5.0       2    Morning   \n",
       "729166  BLACK HISPANIC        M  2018.0   1.0       0  Afternoon   \n",
       "729167           WHITE        M  2018.0   2.0       2    Morning   \n",
       "\n",
       "                   diff  diff_min  reported_dow  \n",
       "0       0 days 00:01:00       1.0             6  \n",
       "1       0 days 00:10:00      10.0             6  \n",
       "2       0 days 03:00:00     180.0             0  \n",
       "3       0 days 00:15:00      15.0             5  \n",
       "4       0 days 00:15:00      15.0             1  \n",
       "...                 ...       ...           ...  \n",
       "729163  0 days 00:53:00      53.0             3  \n",
       "729164  0 days 00:10:00      10.0             1  \n",
       "729165  0 days 00:55:00      55.0             1  \n",
       "729166  0 days 00:08:00       8.0             2  \n",
       "729167  0 days 02:13:00     133.0             5  \n",
       "\n",
       "[729160 rows x 25 columns]"
      ]
     },
     "execution_count": 409,
     "metadata": {},
     "output_type": "execute_result"
    }
   ],
   "source": [
    "target_transform = LabelEncoder()\n",
    "mc['session'] = target_transform.fit_transform(mc['session'])\n",
    "mc.iloc[:,10:]"
   ]
  },
  {
   "cell_type": "code",
   "execution_count": 410,
   "id": "2a726bfa-4f59-4c34-b327-c35abdfb2d72",
   "metadata": {},
   "outputs": [
    {
     "data": {
      "text/plain": [
       "Index(['Unnamed: 0', 'CMPLNT_NUM', 'CMPLNT_FR_DT', 'CMPLNT_FR_TM',\n",
       "       'CMPLNT_TO_DT', 'CMPLNT_TO_TM', 'ADDR_PCT_CD', 'RPT_DT', 'KY_CD',\n",
       "       'OFNS_DESC', 'PD_CD', 'PD_DESC', 'CRM_ATPT_CPTD_CD', 'LAW_CAT_CD',\n",
       "       'BORO_NM', 'LOC_OF_OCCUR_DESC', 'PREM_TYP_DESC', 'JURIS_DESC',\n",
       "       'JURISDICTION_CODE', 'SUSP_AGE_GROUP', 'SUSP_SEX', 'Latitude',\n",
       "       'Longitude', 'Lat_Lon', 'PATROL_BORO', 'VIC_AGE_GROUP', 'VIC_RACE',\n",
       "       'VIC_SEX', 'year', 'month', 'session', 'session_to', 'diff', 'diff_min',\n",
       "       'reported_dow'],\n",
       "      dtype='object')"
      ]
     },
     "execution_count": 410,
     "metadata": {},
     "output_type": "execute_result"
    }
   ],
   "source": [
    "mc.columns"
   ]
  },
  {
   "cell_type": "code",
   "execution_count": 411,
   "id": "777220c3-567f-48f6-9203-0b63cd09eb40",
   "metadata": {},
   "outputs": [
    {
     "data": {
      "text/plain": [
       "(729160, 35)"
      ]
     },
     "execution_count": 411,
     "metadata": {},
     "output_type": "execute_result"
    }
   ],
   "source": [
    "mc.shape"
   ]
  },
  {
   "cell_type": "code",
   "execution_count": 412,
   "id": "3bd1c455-91ab-4b79-894b-9f04a0fd69bc",
   "metadata": {},
   "outputs": [],
   "source": [
    "columns_to_keep = ['ADDR_PCT_CD', 'KY_CD','OFNS_DESC', 'PD_DESC' , 'LAW_CAT_CD', 'BORO_NM', \n",
    "                   'LOC_OF_OCCUR_DESC', 'SUSP_AGE_GROUP', 'SUSP_SEX', 'Latitude', 'Longitude',\n",
    "                  'Lat_Lon', 'PATROL_BORO', 'VIC_AGE_GROUP', 'VIC_RACE', 'VIC_SEX', 'year', \n",
    "                  'month', 'session', 'session_to', 'diff', 'diff_min' , 'reported_dow']\n",
    "\n",
    "categorical = ['ADDR_PCT_CD', 'KY_CD','OFNS_DESC', 'PD_DESC', 'LAW_CAT_CD', 'BORO_NM', \n",
    "                'LOC_OF_OCCUR_DESC', 'SUSP_AGE_GROUP', 'SUSP_SEX','PATROL_BORO', 'VIC_AGE_GROUP',\n",
    "               'VIC_RACE', 'VIC_SEX', 'reported_dow', 'session_to']\n",
    "\n",
    "numerical = ['year', 'month', 'session','diff_min']"
   ]
  },
  {
   "cell_type": "code",
   "execution_count": 413,
   "id": "af3e435e-2cf8-46c2-a269-b335a684d516",
   "metadata": {},
   "outputs": [],
   "source": [
    "#changing sample size to see how the recall changes \n",
    "#Looking at recall to determine how accurately the model predicted the attempted crimes\n",
    "\n",
    "mcsample = mc.sample(100000)"
   ]
  },
  {
   "cell_type": "code",
   "execution_count": 414,
   "id": "4ebc7cc6-d28e-4f6f-bbf4-88ddf2aa4e76",
   "metadata": {},
   "outputs": [],
   "source": [
    "#dropped target from the dataset \n",
    "#only include columns that we want in the pipeline\n",
    "\n",
    "X = mcsample[columns_to_keep]\n",
    "\n",
    "y = mcsample['CRM_ATPT_CPTD_CD']"
   ]
  },
  {
   "cell_type": "code",
   "execution_count": 420,
   "id": "0979c74e-f07a-473e-80b1-7c3d38fab29a",
   "metadata": {},
   "outputs": [],
   "source": [
    "#train test split \n",
    "\n",
    "X_train, X_test, y_train, y_test = train_test_split(X, y, test_size=0.33, random_state=42, stratify = y)"
   ]
  },
  {
   "cell_type": "code",
   "execution_count": 421,
   "id": "4abc9466-e218-4a5d-9f2b-713e3e38a493",
   "metadata": {},
   "outputs": [
    {
     "data": {
      "text/plain": [
       "0.9867575757575757"
      ]
     },
     "execution_count": 421,
     "metadata": {},
     "output_type": "execute_result"
    }
   ],
   "source": [
    "# baseline Model - K NeighborsClassifier: non-parametric model\n",
    "\n",
    "\n",
    "numeric_pipeline = Pipeline([('numnorm', StandardScaler())])\n",
    "\n",
    "nominal_pipeline = Pipeline([\n",
    "    ('onehotenc', OneHotEncoder(sparse = False, handle_unknown = 'ignore')), \n",
    "    ('onehotnorm', MaxAbsScaler())])\n",
    "\n",
    "\n",
    "ct = ColumnTransformer([\n",
    "     (\"nominalpipe\", nominal_pipeline, categorical),\n",
    "     (\"numpipe\", numeric_pipeline, numerical)])\n",
    "\n",
    "\n",
    "\n",
    "KNN_pipe = Pipeline([('preprocess', ct),\n",
    "                      ('model',\n",
    "                       KNeighborsClassifier())])  #where to change the model\n",
    "KNN_pipe\n",
    "\n",
    "KNN_pipe.fit(X_train,y_train)\n",
    "KNN_pipe.score(X_test, y_test)"
   ]
  },
  {
   "cell_type": "code",
   "execution_count": 446,
   "id": "fc680b00-15ad-469b-9e25-c190f737139b",
   "metadata": {},
   "outputs": [
    {
     "data": {
      "text/html": [
       "<style>#sk-container-id-52 {color: black;background-color: white;}#sk-container-id-52 pre{padding: 0;}#sk-container-id-52 div.sk-toggleable {background-color: white;}#sk-container-id-52 label.sk-toggleable__label {cursor: pointer;display: block;width: 100%;margin-bottom: 0;padding: 0.3em;box-sizing: border-box;text-align: center;}#sk-container-id-52 label.sk-toggleable__label-arrow:before {content: \"▸\";float: left;margin-right: 0.25em;color: #696969;}#sk-container-id-52 label.sk-toggleable__label-arrow:hover:before {color: black;}#sk-container-id-52 div.sk-estimator:hover label.sk-toggleable__label-arrow:before {color: black;}#sk-container-id-52 div.sk-toggleable__content {max-height: 0;max-width: 0;overflow: hidden;text-align: left;background-color: #f0f8ff;}#sk-container-id-52 div.sk-toggleable__content pre {margin: 0.2em;color: black;border-radius: 0.25em;background-color: #f0f8ff;}#sk-container-id-52 input.sk-toggleable__control:checked~div.sk-toggleable__content {max-height: 200px;max-width: 100%;overflow: auto;}#sk-container-id-52 input.sk-toggleable__control:checked~label.sk-toggleable__label-arrow:before {content: \"▾\";}#sk-container-id-52 div.sk-estimator input.sk-toggleable__control:checked~label.sk-toggleable__label {background-color: #d4ebff;}#sk-container-id-52 div.sk-label input.sk-toggleable__control:checked~label.sk-toggleable__label {background-color: #d4ebff;}#sk-container-id-52 input.sk-hidden--visually {border: 0;clip: rect(1px 1px 1px 1px);clip: rect(1px, 1px, 1px, 1px);height: 1px;margin: -1px;overflow: hidden;padding: 0;position: absolute;width: 1px;}#sk-container-id-52 div.sk-estimator {font-family: monospace;background-color: #f0f8ff;border: 1px dotted black;border-radius: 0.25em;box-sizing: border-box;margin-bottom: 0.5em;}#sk-container-id-52 div.sk-estimator:hover {background-color: #d4ebff;}#sk-container-id-52 div.sk-parallel-item::after {content: \"\";width: 100%;border-bottom: 1px solid gray;flex-grow: 1;}#sk-container-id-52 div.sk-label:hover label.sk-toggleable__label {background-color: #d4ebff;}#sk-container-id-52 div.sk-serial::before {content: \"\";position: absolute;border-left: 1px solid gray;box-sizing: border-box;top: 0;bottom: 0;left: 50%;z-index: 0;}#sk-container-id-52 div.sk-serial {display: flex;flex-direction: column;align-items: center;background-color: white;padding-right: 0.2em;padding-left: 0.2em;position: relative;}#sk-container-id-52 div.sk-item {position: relative;z-index: 1;}#sk-container-id-52 div.sk-parallel {display: flex;align-items: stretch;justify-content: center;background-color: white;position: relative;}#sk-container-id-52 div.sk-item::before, #sk-container-id-52 div.sk-parallel-item::before {content: \"\";position: absolute;border-left: 1px solid gray;box-sizing: border-box;top: 0;bottom: 0;left: 50%;z-index: -1;}#sk-container-id-52 div.sk-parallel-item {display: flex;flex-direction: column;z-index: 1;position: relative;background-color: white;}#sk-container-id-52 div.sk-parallel-item:first-child::after {align-self: flex-end;width: 50%;}#sk-container-id-52 div.sk-parallel-item:last-child::after {align-self: flex-start;width: 50%;}#sk-container-id-52 div.sk-parallel-item:only-child::after {width: 0;}#sk-container-id-52 div.sk-dashed-wrapped {border: 1px dashed gray;margin: 0 0.4em 0.5em 0.4em;box-sizing: border-box;padding-bottom: 0.4em;background-color: white;}#sk-container-id-52 div.sk-label label {font-family: monospace;font-weight: bold;display: inline-block;line-height: 1.2em;}#sk-container-id-52 div.sk-label-container {text-align: center;}#sk-container-id-52 div.sk-container {/* jupyter's `normalize.less` sets `[hidden] { display: none; }` but bootstrap.min.css set `[hidden] { display: none !important; }` so we also need the `!important` here to be able to override the default hidden behavior on the sphinx rendered scikit-learn.org. See: https://github.com/scikit-learn/scikit-learn/issues/21755 */display: inline-block !important;position: relative;}#sk-container-id-52 div.sk-text-repr-fallback {display: none;}</style><div id=\"sk-container-id-52\" class=\"sk-top-container\"><div class=\"sk-text-repr-fallback\"><pre>Pipeline(steps=[(&#x27;preprocess&#x27;,\n",
       "                 ColumnTransformer(transformers=[(&#x27;nominalpipe&#x27;,\n",
       "                                                  Pipeline(steps=[(&#x27;onehotenc&#x27;,\n",
       "                                                                   OneHotEncoder(handle_unknown=&#x27;ignore&#x27;,\n",
       "                                                                                 sparse=False)),\n",
       "                                                                  (&#x27;onehotnorm&#x27;,\n",
       "                                                                   MaxAbsScaler())]),\n",
       "                                                  [&#x27;ADDR_PCT_CD&#x27;, &#x27;KY_CD&#x27;,\n",
       "                                                   &#x27;OFNS_DESC&#x27;, &#x27;PD_DESC&#x27;,\n",
       "                                                   &#x27;LAW_CAT_CD&#x27;, &#x27;BORO_NM&#x27;,\n",
       "                                                   &#x27;LOC_OF_OCCUR_DESC&#x27;,\n",
       "                                                   &#x27;SUSP_AGE_GROUP&#x27;, &#x27;SUSP_SEX&#x27;,\n",
       "                                                   &#x27;PATROL_BORO&#x27;,\n",
       "                                                   &#x27;VIC_AGE_GROUP&#x27;, &#x27;VIC_RACE&#x27;,\n",
       "                                                   &#x27;VIC_SEX&#x27;, &#x27;reported_dow&#x27;,\n",
       "                                                   &#x27;session_to&#x27;]),\n",
       "                                                 (&#x27;numpipe&#x27;,\n",
       "                                                  Pipeline(steps=[(&#x27;numnorm&#x27;,\n",
       "                                                                   StandardScaler())]),\n",
       "                                                  [&#x27;year&#x27;, &#x27;month&#x27;, &#x27;session&#x27;,\n",
       "                                                   &#x27;diff_min&#x27;])])),\n",
       "                (&#x27;model1&#x27;, LogisticRegression(max_iter=1000))])</pre><b>In a Jupyter environment, please rerun this cell to show the HTML representation or trust the notebook. <br />On GitHub, the HTML representation is unable to render, please try loading this page with nbviewer.org.</b></div><div class=\"sk-container\" hidden><div class=\"sk-item sk-dashed-wrapped\"><div class=\"sk-label-container\"><div class=\"sk-label sk-toggleable\"><input class=\"sk-toggleable__control sk-hidden--visually\" id=\"sk-estimator-id-376\" type=\"checkbox\" ><label for=\"sk-estimator-id-376\" class=\"sk-toggleable__label sk-toggleable__label-arrow\">Pipeline</label><div class=\"sk-toggleable__content\"><pre>Pipeline(steps=[(&#x27;preprocess&#x27;,\n",
       "                 ColumnTransformer(transformers=[(&#x27;nominalpipe&#x27;,\n",
       "                                                  Pipeline(steps=[(&#x27;onehotenc&#x27;,\n",
       "                                                                   OneHotEncoder(handle_unknown=&#x27;ignore&#x27;,\n",
       "                                                                                 sparse=False)),\n",
       "                                                                  (&#x27;onehotnorm&#x27;,\n",
       "                                                                   MaxAbsScaler())]),\n",
       "                                                  [&#x27;ADDR_PCT_CD&#x27;, &#x27;KY_CD&#x27;,\n",
       "                                                   &#x27;OFNS_DESC&#x27;, &#x27;PD_DESC&#x27;,\n",
       "                                                   &#x27;LAW_CAT_CD&#x27;, &#x27;BORO_NM&#x27;,\n",
       "                                                   &#x27;LOC_OF_OCCUR_DESC&#x27;,\n",
       "                                                   &#x27;SUSP_AGE_GROUP&#x27;, &#x27;SUSP_SEX&#x27;,\n",
       "                                                   &#x27;PATROL_BORO&#x27;,\n",
       "                                                   &#x27;VIC_AGE_GROUP&#x27;, &#x27;VIC_RACE&#x27;,\n",
       "                                                   &#x27;VIC_SEX&#x27;, &#x27;reported_dow&#x27;,\n",
       "                                                   &#x27;session_to&#x27;]),\n",
       "                                                 (&#x27;numpipe&#x27;,\n",
       "                                                  Pipeline(steps=[(&#x27;numnorm&#x27;,\n",
       "                                                                   StandardScaler())]),\n",
       "                                                  [&#x27;year&#x27;, &#x27;month&#x27;, &#x27;session&#x27;,\n",
       "                                                   &#x27;diff_min&#x27;])])),\n",
       "                (&#x27;model1&#x27;, LogisticRegression(max_iter=1000))])</pre></div></div></div><div class=\"sk-serial\"><div class=\"sk-item sk-dashed-wrapped\"><div class=\"sk-label-container\"><div class=\"sk-label sk-toggleable\"><input class=\"sk-toggleable__control sk-hidden--visually\" id=\"sk-estimator-id-377\" type=\"checkbox\" ><label for=\"sk-estimator-id-377\" class=\"sk-toggleable__label sk-toggleable__label-arrow\">preprocess: ColumnTransformer</label><div class=\"sk-toggleable__content\"><pre>ColumnTransformer(transformers=[(&#x27;nominalpipe&#x27;,\n",
       "                                 Pipeline(steps=[(&#x27;onehotenc&#x27;,\n",
       "                                                  OneHotEncoder(handle_unknown=&#x27;ignore&#x27;,\n",
       "                                                                sparse=False)),\n",
       "                                                 (&#x27;onehotnorm&#x27;,\n",
       "                                                  MaxAbsScaler())]),\n",
       "                                 [&#x27;ADDR_PCT_CD&#x27;, &#x27;KY_CD&#x27;, &#x27;OFNS_DESC&#x27;,\n",
       "                                  &#x27;PD_DESC&#x27;, &#x27;LAW_CAT_CD&#x27;, &#x27;BORO_NM&#x27;,\n",
       "                                  &#x27;LOC_OF_OCCUR_DESC&#x27;, &#x27;SUSP_AGE_GROUP&#x27;,\n",
       "                                  &#x27;SUSP_SEX&#x27;, &#x27;PATROL_BORO&#x27;, &#x27;VIC_AGE_GROUP&#x27;,\n",
       "                                  &#x27;VIC_RACE&#x27;, &#x27;VIC_SEX&#x27;, &#x27;reported_dow&#x27;,\n",
       "                                  &#x27;session_to&#x27;]),\n",
       "                                (&#x27;numpipe&#x27;,\n",
       "                                 Pipeline(steps=[(&#x27;numnorm&#x27;,\n",
       "                                                  StandardScaler())]),\n",
       "                                 [&#x27;year&#x27;, &#x27;month&#x27;, &#x27;session&#x27;, &#x27;diff_min&#x27;])])</pre></div></div></div><div class=\"sk-parallel\"><div class=\"sk-parallel-item\"><div class=\"sk-item\"><div class=\"sk-label-container\"><div class=\"sk-label sk-toggleable\"><input class=\"sk-toggleable__control sk-hidden--visually\" id=\"sk-estimator-id-378\" type=\"checkbox\" ><label for=\"sk-estimator-id-378\" class=\"sk-toggleable__label sk-toggleable__label-arrow\">nominalpipe</label><div class=\"sk-toggleable__content\"><pre>[&#x27;ADDR_PCT_CD&#x27;, &#x27;KY_CD&#x27;, &#x27;OFNS_DESC&#x27;, &#x27;PD_DESC&#x27;, &#x27;LAW_CAT_CD&#x27;, &#x27;BORO_NM&#x27;, &#x27;LOC_OF_OCCUR_DESC&#x27;, &#x27;SUSP_AGE_GROUP&#x27;, &#x27;SUSP_SEX&#x27;, &#x27;PATROL_BORO&#x27;, &#x27;VIC_AGE_GROUP&#x27;, &#x27;VIC_RACE&#x27;, &#x27;VIC_SEX&#x27;, &#x27;reported_dow&#x27;, &#x27;session_to&#x27;]</pre></div></div></div><div class=\"sk-serial\"><div class=\"sk-item\"><div class=\"sk-serial\"><div class=\"sk-item\"><div class=\"sk-estimator sk-toggleable\"><input class=\"sk-toggleable__control sk-hidden--visually\" id=\"sk-estimator-id-379\" type=\"checkbox\" ><label for=\"sk-estimator-id-379\" class=\"sk-toggleable__label sk-toggleable__label-arrow\">OneHotEncoder</label><div class=\"sk-toggleable__content\"><pre>OneHotEncoder(handle_unknown=&#x27;ignore&#x27;, sparse=False)</pre></div></div></div><div class=\"sk-item\"><div class=\"sk-estimator sk-toggleable\"><input class=\"sk-toggleable__control sk-hidden--visually\" id=\"sk-estimator-id-380\" type=\"checkbox\" ><label for=\"sk-estimator-id-380\" class=\"sk-toggleable__label sk-toggleable__label-arrow\">MaxAbsScaler</label><div class=\"sk-toggleable__content\"><pre>MaxAbsScaler()</pre></div></div></div></div></div></div></div></div><div class=\"sk-parallel-item\"><div class=\"sk-item\"><div class=\"sk-label-container\"><div class=\"sk-label sk-toggleable\"><input class=\"sk-toggleable__control sk-hidden--visually\" id=\"sk-estimator-id-381\" type=\"checkbox\" ><label for=\"sk-estimator-id-381\" class=\"sk-toggleable__label sk-toggleable__label-arrow\">numpipe</label><div class=\"sk-toggleable__content\"><pre>[&#x27;year&#x27;, &#x27;month&#x27;, &#x27;session&#x27;, &#x27;diff_min&#x27;]</pre></div></div></div><div class=\"sk-serial\"><div class=\"sk-item\"><div class=\"sk-serial\"><div class=\"sk-item\"><div class=\"sk-estimator sk-toggleable\"><input class=\"sk-toggleable__control sk-hidden--visually\" id=\"sk-estimator-id-382\" type=\"checkbox\" ><label for=\"sk-estimator-id-382\" class=\"sk-toggleable__label sk-toggleable__label-arrow\">StandardScaler</label><div class=\"sk-toggleable__content\"><pre>StandardScaler()</pre></div></div></div></div></div></div></div></div></div></div><div class=\"sk-item\"><div class=\"sk-estimator sk-toggleable\"><input class=\"sk-toggleable__control sk-hidden--visually\" id=\"sk-estimator-id-383\" type=\"checkbox\" ><label for=\"sk-estimator-id-383\" class=\"sk-toggleable__label sk-toggleable__label-arrow\">LogisticRegression</label><div class=\"sk-toggleable__content\"><pre>LogisticRegression(max_iter=1000)</pre></div></div></div></div></div></div></div>"
      ],
      "text/plain": [
       "Pipeline(steps=[('preprocess',\n",
       "                 ColumnTransformer(transformers=[('nominalpipe',\n",
       "                                                  Pipeline(steps=[('onehotenc',\n",
       "                                                                   OneHotEncoder(handle_unknown='ignore',\n",
       "                                                                                 sparse=False)),\n",
       "                                                                  ('onehotnorm',\n",
       "                                                                   MaxAbsScaler())]),\n",
       "                                                  ['ADDR_PCT_CD', 'KY_CD',\n",
       "                                                   'OFNS_DESC', 'PD_DESC',\n",
       "                                                   'LAW_CAT_CD', 'BORO_NM',\n",
       "                                                   'LOC_OF_OCCUR_DESC',\n",
       "                                                   'SUSP_AGE_GROUP', 'SUSP_SEX',\n",
       "                                                   'PATROL_BORO',\n",
       "                                                   'VIC_AGE_GROUP', 'VIC_RACE',\n",
       "                                                   'VIC_SEX', 'reported_dow',\n",
       "                                                   'session_to']),\n",
       "                                                 ('numpipe',\n",
       "                                                  Pipeline(steps=[('numnorm',\n",
       "                                                                   StandardScaler())]),\n",
       "                                                  ['year', 'month', 'session',\n",
       "                                                   'diff_min'])])),\n",
       "                ('model1', LogisticRegression(max_iter=1000))])"
      ]
     },
     "execution_count": 446,
     "metadata": {},
     "output_type": "execute_result"
    }
   ],
   "source": [
    "#logistic regression pipeline\n",
    "\n",
    "numeric_pipeline = Pipeline([('numnorm', StandardScaler())])\n",
    "\n",
    "nominal_pipeline = Pipeline([\n",
    "    ('onehotenc', OneHotEncoder(sparse = False, handle_unknown = 'ignore')), \n",
    "    ('onehotnorm', MaxAbsScaler())])\n",
    "\n",
    "\n",
    "ct = ColumnTransformer([\n",
    "     (\"nominalpipe\", nominal_pipeline, categorical),\n",
    "     (\"numpipe\", numeric_pipeline, numerical)])\n",
    "\n",
    "\n",
    "\n",
    "logreg_pipe = Pipeline([('preprocess', ct),\n",
    "                ('model1', LogisticRegression(max_iter =10000))]) #where to change the model\n",
    "logreg_pipe"
   ]
  },
  {
   "cell_type": "code",
   "execution_count": 447,
   "id": "484ec3e1-08f2-41c0-b0af-d77ca49a04f0",
   "metadata": {},
   "outputs": [
    {
     "data": {
      "text/plain": [
       "0.9876666666666667"
      ]
     },
     "execution_count": 447,
     "metadata": {},
     "output_type": "execute_result"
    }
   ],
   "source": [
    "logreg_pipe.fit(X_train,y_train)  \n",
    "logreg_pipe.score(X_test, y_test)"
   ]
  },
  {
   "cell_type": "code",
   "execution_count": 448,
   "id": "e2341abc-04a1-4af8-9be8-b0519a242031",
   "metadata": {},
   "outputs": [
    {
     "name": "stdout",
     "output_type": "stream",
     "text": [
      "              precision    recall  f1-score   support\n",
      "\n",
      "   ATTEMPTED       0.83      0.06      0.11       426\n",
      "   COMPLETED       0.99      1.00      0.99     32574\n",
      "\n",
      "    accuracy                           0.99     33000\n",
      "   macro avg       0.91      0.53      0.55     33000\n",
      "weighted avg       0.99      0.99      0.98     33000\n",
      "\n"
     ]
    }
   ],
   "source": [
    "#classification metrics\n",
    "\n",
    "predicted = logreg_pipe.predict(X_test)\n",
    "predicted \n",
    "\n",
    "print(classification_report(y_test, predicted))"
   ]
  },
  {
   "cell_type": "code",
   "execution_count": 449,
   "id": "8a33e343-727c-41e1-b7c5-062bf4a3ffc1",
   "metadata": {},
   "outputs": [
    {
     "name": "stderr",
     "output_type": "stream",
     "text": [
      "/opt/anaconda3/lib/python3.8/site-packages/sklearn/utils/deprecation.py:87: FutureWarning: Function plot_confusion_matrix is deprecated; Function `plot_confusion_matrix` is deprecated in 1.0 and will be removed in 1.2. Use one of the class methods: ConfusionMatrixDisplay.from_predictions or ConfusionMatrixDisplay.from_estimator.\n",
      "  warnings.warn(msg, category=FutureWarning)\n"
     ]
    },
    {
     "data": {
      "text/plain": [
       "<sklearn.metrics._plot.confusion_matrix.ConfusionMatrixDisplay at 0x7f9a4c598a00>"
      ]
     },
     "execution_count": 449,
     "metadata": {},
     "output_type": "execute_result"
    },
    {
     "data": {
      "image/png": "[encoded data removed]",
      "text/plain": [
       "<Figure size 432x288 with 2 Axes>"
      ]
     },
     "metadata": {
      "needs_background": "light"
     },
     "output_type": "display_data"
    }
   ],
   "source": [
    "plot_confusion_matrix(logreg_pipe, X_test, y_test)"
   ]
  },
  {
   "cell_type": "code",
   "execution_count": 453,
   "id": "3f277893-e139-4002-90ba-882c23ae92bb",
   "metadata": {},
   "outputs": [
    {
     "data": {
      "text/plain": [
       "array([1.00000000e-04, 1.45634848e-04, 2.12095089e-04, 3.08884360e-04,\n",
       "       4.49843267e-04, 6.55128557e-04, 9.54095476e-04, 1.38949549e-03,\n",
       "       2.02358965e-03, 2.94705170e-03, 4.29193426e-03, 6.25055193e-03,\n",
       "       9.10298178e-03, 1.32571137e-02, 1.93069773e-02, 2.81176870e-02,\n",
       "       4.09491506e-02, 5.96362332e-02, 8.68511374e-02, 1.26485522e-01,\n",
       "       1.84206997e-01, 2.68269580e-01, 3.90693994e-01, 5.68986603e-01,\n",
       "       8.28642773e-01, 1.20679264e+00, 1.75751062e+00, 2.55954792e+00,\n",
       "       3.72759372e+00, 5.42867544e+00, 7.90604321e+00, 1.15139540e+01,\n",
       "       1.67683294e+01, 2.44205309e+01, 3.55648031e+01, 5.17947468e+01,\n",
       "       7.54312006e+01, 1.09854114e+02, 1.59985872e+02, 2.32995181e+02,\n",
       "       3.39322177e+02, 4.94171336e+02, 7.19685673e+02, 1.04811313e+03,\n",
       "       1.52641797e+03, 2.22299648e+03, 3.23745754e+03, 4.71486636e+03,\n",
       "       6.86648845e+03, 1.00000000e+04])"
      ]
     },
     "execution_count": 453,
     "metadata": {},
     "output_type": "execute_result"
    }
   ],
   "source": [
    "np.logspace(-4, 4, 50)"
   ]
  },
  {
   "cell_type": "code",
   "execution_count": 455,
   "id": "828b8a9f-d1c6-49e8-84c5-0a28eb97e47c",
   "metadata": {},
   "outputs": [
    {
     "name": "stderr",
     "output_type": "stream",
     "text": [
      "/opt/anaconda3/lib/python3.8/site-packages/sklearn/linear_model/_logistic.py:444: ConvergenceWarning: lbfgs failed to converge (status=1):\n",
      "STOP: TOTAL NO. of ITERATIONS REACHED LIMIT.\n",
      "\n",
      "Increase the number of iterations (max_iter) or scale the data as shown in:\n",
      "    https://scikit-learn.org/stable/modules/preprocessing.html\n",
      "Please also refer to the documentation for alternative solver options:\n",
      "    https://scikit-learn.org/stable/modules/linear_model.html#logistic-regression\n",
      "  n_iter_i = _check_optimize_result(\n",
      "/opt/anaconda3/lib/python3.8/site-packages/sklearn/linear_model/_logistic.py:444: ConvergenceWarning: lbfgs failed to converge (status=1):\n",
      "STOP: TOTAL NO. of ITERATIONS REACHED LIMIT.\n",
      "\n",
      "Increase the number of iterations (max_iter) or scale the data as shown in:\n",
      "    https://scikit-learn.org/stable/modules/preprocessing.html\n",
      "Please also refer to the documentation for alternative solver options:\n",
      "    https://scikit-learn.org/stable/modules/linear_model.html#logistic-regression\n",
      "  n_iter_i = _check_optimize_result(\n",
      "/opt/anaconda3/lib/python3.8/site-packages/sklearn/linear_model/_logistic.py:444: ConvergenceWarning: lbfgs failed to converge (status=1):\n",
      "STOP: TOTAL NO. of ITERATIONS REACHED LIMIT.\n",
      "\n",
      "Increase the number of iterations (max_iter) or scale the data as shown in:\n",
      "    https://scikit-learn.org/stable/modules/preprocessing.html\n",
      "Please also refer to the documentation for alternative solver options:\n",
      "    https://scikit-learn.org/stable/modules/linear_model.html#logistic-regression\n",
      "  n_iter_i = _check_optimize_result(\n",
      "/opt/anaconda3/lib/python3.8/site-packages/sklearn/linear_model/_logistic.py:444: ConvergenceWarning: lbfgs failed to converge (status=1):\n",
      "STOP: TOTAL NO. of ITERATIONS REACHED LIMIT.\n",
      "\n",
      "Increase the number of iterations (max_iter) or scale the data as shown in:\n",
      "    https://scikit-learn.org/stable/modules/preprocessing.html\n",
      "Please also refer to the documentation for alternative solver options:\n",
      "    https://scikit-learn.org/stable/modules/linear_model.html#logistic-regression\n",
      "  n_iter_i = _check_optimize_result(\n",
      "/opt/anaconda3/lib/python3.8/site-packages/sklearn/linear_model/_logistic.py:444: ConvergenceWarning: lbfgs failed to converge (status=1):\n",
      "STOP: TOTAL NO. of ITERATIONS REACHED LIMIT.\n",
      "\n",
      "Increase the number of iterations (max_iter) or scale the data as shown in:\n",
      "    https://scikit-learn.org/stable/modules/preprocessing.html\n",
      "Please also refer to the documentation for alternative solver options:\n",
      "    https://scikit-learn.org/stable/modules/linear_model.html#logistic-regression\n",
      "  n_iter_i = _check_optimize_result(\n",
      "/opt/anaconda3/lib/python3.8/site-packages/sklearn/linear_model/_logistic.py:444: ConvergenceWarning: lbfgs failed to converge (status=1):\n",
      "STOP: TOTAL NO. of ITERATIONS REACHED LIMIT.\n",
      "\n",
      "Increase the number of iterations (max_iter) or scale the data as shown in:\n",
      "    https://scikit-learn.org/stable/modules/preprocessing.html\n",
      "Please also refer to the documentation for alternative solver options:\n",
      "    https://scikit-learn.org/stable/modules/linear_model.html#logistic-regression\n",
      "  n_iter_i = _check_optimize_result(\n",
      "/opt/anaconda3/lib/python3.8/site-packages/sklearn/linear_model/_logistic.py:444: ConvergenceWarning: lbfgs failed to converge (status=1):\n",
      "STOP: TOTAL NO. of ITERATIONS REACHED LIMIT.\n",
      "\n",
      "Increase the number of iterations (max_iter) or scale the data as shown in:\n",
      "    https://scikit-learn.org/stable/modules/preprocessing.html\n",
      "Please also refer to the documentation for alternative solver options:\n",
      "    https://scikit-learn.org/stable/modules/linear_model.html#logistic-regression\n",
      "  n_iter_i = _check_optimize_result(\n",
      "/opt/anaconda3/lib/python3.8/site-packages/sklearn/model_selection/_validation.py:378: FitFailedWarning: \n",
      "250 fits failed out of a total of 500.\n",
      "The score on these train-test partitions for these parameters will be set to nan.\n",
      "If these failures are not expected, you can try to debug them by setting error_score='raise'.\n",
      "\n",
      "Below are more details about the failures:\n",
      "--------------------------------------------------------------------------------\n",
      "250 fits failed with the following error:\n",
      "Traceback (most recent call last):\n",
      "  File \"/opt/anaconda3/lib/python3.8/site-packages/sklearn/model_selection/_validation.py\", line 686, in _fit_and_score\n",
      "    estimator.fit(X_train, y_train, **fit_params)\n",
      "  File \"/opt/anaconda3/lib/python3.8/site-packages/sklearn/pipeline.py\", line 382, in fit\n",
      "    self._final_estimator.fit(Xt, y, **fit_params_last_step)\n",
      "  File \"/opt/anaconda3/lib/python3.8/site-packages/sklearn/linear_model/_logistic.py\", line 1091, in fit\n",
      "    solver = _check_solver(self.solver, self.penalty, self.dual)\n",
      "  File \"/opt/anaconda3/lib/python3.8/site-packages/sklearn/linear_model/_logistic.py\", line 61, in _check_solver\n",
      "    raise ValueError(\n",
      "ValueError: Solver lbfgs supports only 'l2' or 'none' penalties, got l1 penalty.\n",
      "\n",
      "  warnings.warn(some_fits_failed_message, FitFailedWarning)\n",
      "/opt/anaconda3/lib/python3.8/site-packages/sklearn/model_selection/_search.py:953: UserWarning: One or more of the test scores are non-finite: [       nan 0.98710448        nan 0.98710448        nan 0.98710448\n",
      "        nan 0.98710448        nan 0.98710448        nan 0.98710448\n",
      "        nan 0.98710448        nan 0.98710448        nan 0.98710448\n",
      "        nan 0.98710448        nan 0.98710448        nan 0.98710448\n",
      "        nan 0.98710448        nan 0.98710448        nan 0.98710448\n",
      "        nan 0.98710448        nan 0.98710448        nan 0.98716418\n",
      "        nan 0.98740299        nan 0.98770149        nan 0.9878806\n",
      "        nan 0.9879403         nan 0.98792537        nan 0.98792537\n",
      "        nan 0.9879403         nan 0.9879403         nan 0.9879403\n",
      "        nan 0.98797015        nan 0.9879403         nan 0.98789552\n",
      "        nan 0.98786567        nan 0.98780597        nan 0.9878209\n",
      "        nan 0.98780597        nan 0.98780597        nan 0.98779104\n",
      "        nan 0.98779104        nan 0.98777612        nan 0.98777612\n",
      "        nan 0.98777612        nan 0.98777612        nan 0.98777612\n",
      "        nan 0.98777612        nan 0.98776119        nan 0.98776119\n",
      "        nan 0.98776119        nan 0.98776119        nan 0.98776119\n",
      "        nan 0.98776119        nan 0.98776119]\n",
      "  warnings.warn(\n"
     ]
    },
    {
     "data": {
      "text/html": [
       "<style>#sk-container-id-55 {color: black;background-color: white;}#sk-container-id-55 pre{padding: 0;}#sk-container-id-55 div.sk-toggleable {background-color: white;}#sk-container-id-55 label.sk-toggleable__label {cursor: pointer;display: block;width: 100%;margin-bottom: 0;padding: 0.3em;box-sizing: border-box;text-align: center;}#sk-container-id-55 label.sk-toggleable__label-arrow:before {content: \"▸\";float: left;margin-right: 0.25em;color: #696969;}#sk-container-id-55 label.sk-toggleable__label-arrow:hover:before {color: black;}#sk-container-id-55 div.sk-estimator:hover label.sk-toggleable__label-arrow:before {color: black;}#sk-container-id-55 div.sk-toggleable__content {max-height: 0;max-width: 0;overflow: hidden;text-align: left;background-color: #f0f8ff;}#sk-container-id-55 div.sk-toggleable__content pre {margin: 0.2em;color: black;border-radius: 0.25em;background-color: #f0f8ff;}#sk-container-id-55 input.sk-toggleable__control:checked~div.sk-toggleable__content {max-height: 200px;max-width: 100%;overflow: auto;}#sk-container-id-55 input.sk-toggleable__control:checked~label.sk-toggleable__label-arrow:before {content: \"▾\";}#sk-container-id-55 div.sk-estimator input.sk-toggleable__control:checked~label.sk-toggleable__label {background-color: #d4ebff;}#sk-container-id-55 div.sk-label input.sk-toggleable__control:checked~label.sk-toggleable__label {background-color: #d4ebff;}#sk-container-id-55 input.sk-hidden--visually {border: 0;clip: rect(1px 1px 1px 1px);clip: rect(1px, 1px, 1px, 1px);height: 1px;margin: -1px;overflow: hidden;padding: 0;position: absolute;width: 1px;}#sk-container-id-55 div.sk-estimator {font-family: monospace;background-color: #f0f8ff;border: 1px dotted black;border-radius: 0.25em;box-sizing: border-box;margin-bottom: 0.5em;}#sk-container-id-55 div.sk-estimator:hover {background-color: #d4ebff;}#sk-container-id-55 div.sk-parallel-item::after {content: \"\";width: 100%;border-bottom: 1px solid gray;flex-grow: 1;}#sk-container-id-55 div.sk-label:hover label.sk-toggleable__label {background-color: #d4ebff;}#sk-container-id-55 div.sk-serial::before {content: \"\";position: absolute;border-left: 1px solid gray;box-sizing: border-box;top: 0;bottom: 0;left: 50%;z-index: 0;}#sk-container-id-55 div.sk-serial {display: flex;flex-direction: column;align-items: center;background-color: white;padding-right: 0.2em;padding-left: 0.2em;position: relative;}#sk-container-id-55 div.sk-item {position: relative;z-index: 1;}#sk-container-id-55 div.sk-parallel {display: flex;align-items: stretch;justify-content: center;background-color: white;position: relative;}#sk-container-id-55 div.sk-item::before, #sk-container-id-55 div.sk-parallel-item::before {content: \"\";position: absolute;border-left: 1px solid gray;box-sizing: border-box;top: 0;bottom: 0;left: 50%;z-index: -1;}#sk-container-id-55 div.sk-parallel-item {display: flex;flex-direction: column;z-index: 1;position: relative;background-color: white;}#sk-container-id-55 div.sk-parallel-item:first-child::after {align-self: flex-end;width: 50%;}#sk-container-id-55 div.sk-parallel-item:last-child::after {align-self: flex-start;width: 50%;}#sk-container-id-55 div.sk-parallel-item:only-child::after {width: 0;}#sk-container-id-55 div.sk-dashed-wrapped {border: 1px dashed gray;margin: 0 0.4em 0.5em 0.4em;box-sizing: border-box;padding-bottom: 0.4em;background-color: white;}#sk-container-id-55 div.sk-label label {font-family: monospace;font-weight: bold;display: inline-block;line-height: 1.2em;}#sk-container-id-55 div.sk-label-container {text-align: center;}#sk-container-id-55 div.sk-container {/* jupyter's `normalize.less` sets `[hidden] { display: none; }` but bootstrap.min.css set `[hidden] { display: none !important; }` so we also need the `!important` here to be able to override the default hidden behavior on the sphinx rendered scikit-learn.org. See: https://github.com/scikit-learn/scikit-learn/issues/21755 */display: inline-block !important;position: relative;}#sk-container-id-55 div.sk-text-repr-fallback {display: none;}</style><div id=\"sk-container-id-55\" class=\"sk-top-container\"><div class=\"sk-text-repr-fallback\"><pre>GridSearchCV(cv=5,\n",
       "             estimator=Pipeline(steps=[(&#x27;preprocess&#x27;,\n",
       "                                        ColumnTransformer(transformers=[(&#x27;nominalpipe&#x27;,\n",
       "                                                                         Pipeline(steps=[(&#x27;onehotenc&#x27;,\n",
       "                                                                                          OneHotEncoder(handle_unknown=&#x27;ignore&#x27;,\n",
       "                                                                                                        sparse=False)),\n",
       "                                                                                         (&#x27;onehotnorm&#x27;,\n",
       "                                                                                          MaxAbsScaler())]),\n",
       "                                                                         [&#x27;ADDR_PCT_CD&#x27;,\n",
       "                                                                          &#x27;KY_CD&#x27;,\n",
       "                                                                          &#x27;OFNS_DESC&#x27;,\n",
       "                                                                          &#x27;PD_DESC&#x27;,\n",
       "                                                                          &#x27;LAW_CAT_CD&#x27;,\n",
       "                                                                          &#x27;BORO_NM&#x27;,\n",
       "                                                                          &#x27;LOC_OF_OCCUR_DESC&#x27;,\n",
       "                                                                          &#x27;SUSP_AGE_GROUP&#x27;,\n",
       "                                                                          &#x27;SUSP_SEX&#x27;,\n",
       "                                                                          &#x27;PATROL_BORO&#x27;,\n",
       "                                                                          &#x27;...\n",
       "       3.72759372e+00, 5.42867544e+00, 7.90604321e+00, 1.15139540e+01,\n",
       "       1.67683294e+01, 2.44205309e+01, 3.55648031e+01, 5.17947468e+01,\n",
       "       7.54312006e+01, 1.09854114e+02, 1.59985872e+02, 2.32995181e+02,\n",
       "       3.39322177e+02, 4.94171336e+02, 7.19685673e+02, 1.04811313e+03,\n",
       "       1.52641797e+03, 2.22299648e+03, 3.23745754e+03, 4.71486636e+03,\n",
       "       6.86648845e+03, 1.00000000e+04]),\n",
       "                         &#x27;model1__penalty&#x27;: [&#x27;l1&#x27;, &#x27;l2&#x27;]})</pre><b>In a Jupyter environment, please rerun this cell to show the HTML representation or trust the notebook. <br />On GitHub, the HTML representation is unable to render, please try loading this page with nbviewer.org.</b></div><div class=\"sk-container\" hidden><div class=\"sk-item sk-dashed-wrapped\"><div class=\"sk-label-container\"><div class=\"sk-label sk-toggleable\"><input class=\"sk-toggleable__control sk-hidden--visually\" id=\"sk-estimator-id-394\" type=\"checkbox\" ><label for=\"sk-estimator-id-394\" class=\"sk-toggleable__label sk-toggleable__label-arrow\">GridSearchCV</label><div class=\"sk-toggleable__content\"><pre>GridSearchCV(cv=5,\n",
       "             estimator=Pipeline(steps=[(&#x27;preprocess&#x27;,\n",
       "                                        ColumnTransformer(transformers=[(&#x27;nominalpipe&#x27;,\n",
       "                                                                         Pipeline(steps=[(&#x27;onehotenc&#x27;,\n",
       "                                                                                          OneHotEncoder(handle_unknown=&#x27;ignore&#x27;,\n",
       "                                                                                                        sparse=False)),\n",
       "                                                                                         (&#x27;onehotnorm&#x27;,\n",
       "                                                                                          MaxAbsScaler())]),\n",
       "                                                                         [&#x27;ADDR_PCT_CD&#x27;,\n",
       "                                                                          &#x27;KY_CD&#x27;,\n",
       "                                                                          &#x27;OFNS_DESC&#x27;,\n",
       "                                                                          &#x27;PD_DESC&#x27;,\n",
       "                                                                          &#x27;LAW_CAT_CD&#x27;,\n",
       "                                                                          &#x27;BORO_NM&#x27;,\n",
       "                                                                          &#x27;LOC_OF_OCCUR_DESC&#x27;,\n",
       "                                                                          &#x27;SUSP_AGE_GROUP&#x27;,\n",
       "                                                                          &#x27;SUSP_SEX&#x27;,\n",
       "                                                                          &#x27;PATROL_BORO&#x27;,\n",
       "                                                                          &#x27;...\n",
       "       3.72759372e+00, 5.42867544e+00, 7.90604321e+00, 1.15139540e+01,\n",
       "       1.67683294e+01, 2.44205309e+01, 3.55648031e+01, 5.17947468e+01,\n",
       "       7.54312006e+01, 1.09854114e+02, 1.59985872e+02, 2.32995181e+02,\n",
       "       3.39322177e+02, 4.94171336e+02, 7.19685673e+02, 1.04811313e+03,\n",
       "       1.52641797e+03, 2.22299648e+03, 3.23745754e+03, 4.71486636e+03,\n",
       "       6.86648845e+03, 1.00000000e+04]),\n",
       "                         &#x27;model1__penalty&#x27;: [&#x27;l1&#x27;, &#x27;l2&#x27;]})</pre></div></div></div><div class=\"sk-parallel\"><div class=\"sk-parallel-item\"><div class=\"sk-item\"><div class=\"sk-label-container\"><div class=\"sk-label sk-toggleable\"><input class=\"sk-toggleable__control sk-hidden--visually\" id=\"sk-estimator-id-395\" type=\"checkbox\" ><label for=\"sk-estimator-id-395\" class=\"sk-toggleable__label sk-toggleable__label-arrow\">estimator: Pipeline</label><div class=\"sk-toggleable__content\"><pre>Pipeline(steps=[(&#x27;preprocess&#x27;,\n",
       "                 ColumnTransformer(transformers=[(&#x27;nominalpipe&#x27;,\n",
       "                                                  Pipeline(steps=[(&#x27;onehotenc&#x27;,\n",
       "                                                                   OneHotEncoder(handle_unknown=&#x27;ignore&#x27;,\n",
       "                                                                                 sparse=False)),\n",
       "                                                                  (&#x27;onehotnorm&#x27;,\n",
       "                                                                   MaxAbsScaler())]),\n",
       "                                                  [&#x27;ADDR_PCT_CD&#x27;, &#x27;KY_CD&#x27;,\n",
       "                                                   &#x27;OFNS_DESC&#x27;, &#x27;PD_DESC&#x27;,\n",
       "                                                   &#x27;LAW_CAT_CD&#x27;, &#x27;BORO_NM&#x27;,\n",
       "                                                   &#x27;LOC_OF_OCCUR_DESC&#x27;,\n",
       "                                                   &#x27;SUSP_AGE_GROUP&#x27;, &#x27;SUSP_SEX&#x27;,\n",
       "                                                   &#x27;PATROL_BORO&#x27;,\n",
       "                                                   &#x27;VIC_AGE_GROUP&#x27;, &#x27;VIC_RACE&#x27;,\n",
       "                                                   &#x27;VIC_SEX&#x27;, &#x27;reported_dow&#x27;,\n",
       "                                                   &#x27;session_to&#x27;]),\n",
       "                                                 (&#x27;numpipe&#x27;,\n",
       "                                                  Pipeline(steps=[(&#x27;numnorm&#x27;,\n",
       "                                                                   StandardScaler())]),\n",
       "                                                  [&#x27;year&#x27;, &#x27;month&#x27;, &#x27;session&#x27;,\n",
       "                                                   &#x27;diff_min&#x27;])])),\n",
       "                (&#x27;model1&#x27;, LogisticRegression(max_iter=1000))])</pre></div></div></div><div class=\"sk-serial\"><div class=\"sk-item\"><div class=\"sk-serial\"><div class=\"sk-item sk-dashed-wrapped\"><div class=\"sk-label-container\"><div class=\"sk-label sk-toggleable\"><input class=\"sk-toggleable__control sk-hidden--visually\" id=\"sk-estimator-id-396\" type=\"checkbox\" ><label for=\"sk-estimator-id-396\" class=\"sk-toggleable__label sk-toggleable__label-arrow\">preprocess: ColumnTransformer</label><div class=\"sk-toggleable__content\"><pre>ColumnTransformer(transformers=[(&#x27;nominalpipe&#x27;,\n",
       "                                 Pipeline(steps=[(&#x27;onehotenc&#x27;,\n",
       "                                                  OneHotEncoder(handle_unknown=&#x27;ignore&#x27;,\n",
       "                                                                sparse=False)),\n",
       "                                                 (&#x27;onehotnorm&#x27;,\n",
       "                                                  MaxAbsScaler())]),\n",
       "                                 [&#x27;ADDR_PCT_CD&#x27;, &#x27;KY_CD&#x27;, &#x27;OFNS_DESC&#x27;,\n",
       "                                  &#x27;PD_DESC&#x27;, &#x27;LAW_CAT_CD&#x27;, &#x27;BORO_NM&#x27;,\n",
       "                                  &#x27;LOC_OF_OCCUR_DESC&#x27;, &#x27;SUSP_AGE_GROUP&#x27;,\n",
       "                                  &#x27;SUSP_SEX&#x27;, &#x27;PATROL_BORO&#x27;, &#x27;VIC_AGE_GROUP&#x27;,\n",
       "                                  &#x27;VIC_RACE&#x27;, &#x27;VIC_SEX&#x27;, &#x27;reported_dow&#x27;,\n",
       "                                  &#x27;session_to&#x27;]),\n",
       "                                (&#x27;numpipe&#x27;,\n",
       "                                 Pipeline(steps=[(&#x27;numnorm&#x27;,\n",
       "                                                  StandardScaler())]),\n",
       "                                 [&#x27;year&#x27;, &#x27;month&#x27;, &#x27;session&#x27;, &#x27;diff_min&#x27;])])</pre></div></div></div><div class=\"sk-parallel\"><div class=\"sk-parallel-item\"><div class=\"sk-item\"><div class=\"sk-label-container\"><div class=\"sk-label sk-toggleable\"><input class=\"sk-toggleable__control sk-hidden--visually\" id=\"sk-estimator-id-397\" type=\"checkbox\" ><label for=\"sk-estimator-id-397\" class=\"sk-toggleable__label sk-toggleable__label-arrow\">nominalpipe</label><div class=\"sk-toggleable__content\"><pre>[&#x27;ADDR_PCT_CD&#x27;, &#x27;KY_CD&#x27;, &#x27;OFNS_DESC&#x27;, &#x27;PD_DESC&#x27;, &#x27;LAW_CAT_CD&#x27;, &#x27;BORO_NM&#x27;, &#x27;LOC_OF_OCCUR_DESC&#x27;, &#x27;SUSP_AGE_GROUP&#x27;, &#x27;SUSP_SEX&#x27;, &#x27;PATROL_BORO&#x27;, &#x27;VIC_AGE_GROUP&#x27;, &#x27;VIC_RACE&#x27;, &#x27;VIC_SEX&#x27;, &#x27;reported_dow&#x27;, &#x27;session_to&#x27;]</pre></div></div></div><div class=\"sk-serial\"><div class=\"sk-item\"><div class=\"sk-serial\"><div class=\"sk-item\"><div class=\"sk-estimator sk-toggleable\"><input class=\"sk-toggleable__control sk-hidden--visually\" id=\"sk-estimator-id-398\" type=\"checkbox\" ><label for=\"sk-estimator-id-398\" class=\"sk-toggleable__label sk-toggleable__label-arrow\">OneHotEncoder</label><div class=\"sk-toggleable__content\"><pre>OneHotEncoder(handle_unknown=&#x27;ignore&#x27;, sparse=False)</pre></div></div></div><div class=\"sk-item\"><div class=\"sk-estimator sk-toggleable\"><input class=\"sk-toggleable__control sk-hidden--visually\" id=\"sk-estimator-id-399\" type=\"checkbox\" ><label for=\"sk-estimator-id-399\" class=\"sk-toggleable__label sk-toggleable__label-arrow\">MaxAbsScaler</label><div class=\"sk-toggleable__content\"><pre>MaxAbsScaler()</pre></div></div></div></div></div></div></div></div><div class=\"sk-parallel-item\"><div class=\"sk-item\"><div class=\"sk-label-container\"><div class=\"sk-label sk-toggleable\"><input class=\"sk-toggleable__control sk-hidden--visually\" id=\"sk-estimator-id-400\" type=\"checkbox\" ><label for=\"sk-estimator-id-400\" class=\"sk-toggleable__label sk-toggleable__label-arrow\">numpipe</label><div class=\"sk-toggleable__content\"><pre>[&#x27;year&#x27;, &#x27;month&#x27;, &#x27;session&#x27;, &#x27;diff_min&#x27;]</pre></div></div></div><div class=\"sk-serial\"><div class=\"sk-item\"><div class=\"sk-serial\"><div class=\"sk-item\"><div class=\"sk-estimator sk-toggleable\"><input class=\"sk-toggleable__control sk-hidden--visually\" id=\"sk-estimator-id-401\" type=\"checkbox\" ><label for=\"sk-estimator-id-401\" class=\"sk-toggleable__label sk-toggleable__label-arrow\">StandardScaler</label><div class=\"sk-toggleable__content\"><pre>StandardScaler()</pre></div></div></div></div></div></div></div></div></div></div><div class=\"sk-item\"><div class=\"sk-estimator sk-toggleable\"><input class=\"sk-toggleable__control sk-hidden--visually\" id=\"sk-estimator-id-402\" type=\"checkbox\" ><label for=\"sk-estimator-id-402\" class=\"sk-toggleable__label sk-toggleable__label-arrow\">LogisticRegression</label><div class=\"sk-toggleable__content\"><pre>LogisticRegression(max_iter=1000)</pre></div></div></div></div></div></div></div></div></div></div></div></div>"
      ],
      "text/plain": [
       "GridSearchCV(cv=5,\n",
       "             estimator=Pipeline(steps=[('preprocess',\n",
       "                                        ColumnTransformer(transformers=[('nominalpipe',\n",
       "                                                                         Pipeline(steps=[('onehotenc',\n",
       "                                                                                          OneHotEncoder(handle_unknown='ignore',\n",
       "                                                                                                        sparse=False)),\n",
       "                                                                                         ('onehotnorm',\n",
       "                                                                                          MaxAbsScaler())]),\n",
       "                                                                         ['ADDR_PCT_CD',\n",
       "                                                                          'KY_CD',\n",
       "                                                                          'OFNS_DESC',\n",
       "                                                                          'PD_DESC',\n",
       "                                                                          'LAW_CAT_CD',\n",
       "                                                                          'BORO_NM',\n",
       "                                                                          'LOC_OF_OCCUR_DESC',\n",
       "                                                                          'SUSP_AGE_GROUP',\n",
       "                                                                          'SUSP_SEX',\n",
       "                                                                          'PATROL_BORO',\n",
       "                                                                          '...\n",
       "       3.72759372e+00, 5.42867544e+00, 7.90604321e+00, 1.15139540e+01,\n",
       "       1.67683294e+01, 2.44205309e+01, 3.55648031e+01, 5.17947468e+01,\n",
       "       7.54312006e+01, 1.09854114e+02, 1.59985872e+02, 2.32995181e+02,\n",
       "       3.39322177e+02, 4.94171336e+02, 7.19685673e+02, 1.04811313e+03,\n",
       "       1.52641797e+03, 2.22299648e+03, 3.23745754e+03, 4.71486636e+03,\n",
       "       6.86648845e+03, 1.00000000e+04]),\n",
       "                         'model1__penalty': ['l1', 'l2']})"
      ]
     },
     "execution_count": 455,
     "metadata": {},
     "output_type": "execute_result"
    }
   ],
   "source": [
    "# logistic regression grid search \n",
    "\n",
    "logreg_params = {'model1__C' : np.logspace(-4, 4, 50),\n",
    "                 'model1__penalty':['l1', 'l2']}\n",
    "\n",
    "logreg_cv = GridSearchCV(estimator = logreg_pipe, param_grid = logreg_params, cv = 5)\n",
    "logreg_cv.fit(X_train, y_train)"
   ]
  },
  {
   "cell_type": "code",
   "execution_count": 456,
   "id": "eb1cfa38-84ba-49c1-bd58-f9da5b196868",
   "metadata": {},
   "outputs": [
    {
     "data": {
      "text/html": [
       "<style>#sk-container-id-56 {color: black;background-color: white;}#sk-container-id-56 pre{padding: 0;}#sk-container-id-56 div.sk-toggleable {background-color: white;}#sk-container-id-56 label.sk-toggleable__label {cursor: pointer;display: block;width: 100%;margin-bottom: 0;padding: 0.3em;box-sizing: border-box;text-align: center;}#sk-container-id-56 label.sk-toggleable__label-arrow:before {content: \"▸\";float: left;margin-right: 0.25em;color: #696969;}#sk-container-id-56 label.sk-toggleable__label-arrow:hover:before {color: black;}#sk-container-id-56 div.sk-estimator:hover label.sk-toggleable__label-arrow:before {color: black;}#sk-container-id-56 div.sk-toggleable__content {max-height: 0;max-width: 0;overflow: hidden;text-align: left;background-color: #f0f8ff;}#sk-container-id-56 div.sk-toggleable__content pre {margin: 0.2em;color: black;border-radius: 0.25em;background-color: #f0f8ff;}#sk-container-id-56 input.sk-toggleable__control:checked~div.sk-toggleable__content {max-height: 200px;max-width: 100%;overflow: auto;}#sk-container-id-56 input.sk-toggleable__control:checked~label.sk-toggleable__label-arrow:before {content: \"▾\";}#sk-container-id-56 div.sk-estimator input.sk-toggleable__control:checked~label.sk-toggleable__label {background-color: #d4ebff;}#sk-container-id-56 div.sk-label input.sk-toggleable__control:checked~label.sk-toggleable__label {background-color: #d4ebff;}#sk-container-id-56 input.sk-hidden--visually {border: 0;clip: rect(1px 1px 1px 1px);clip: rect(1px, 1px, 1px, 1px);height: 1px;margin: -1px;overflow: hidden;padding: 0;position: absolute;width: 1px;}#sk-container-id-56 div.sk-estimator {font-family: monospace;background-color: #f0f8ff;border: 1px dotted black;border-radius: 0.25em;box-sizing: border-box;margin-bottom: 0.5em;}#sk-container-id-56 div.sk-estimator:hover {background-color: #d4ebff;}#sk-container-id-56 div.sk-parallel-item::after {content: \"\";width: 100%;border-bottom: 1px solid gray;flex-grow: 1;}#sk-container-id-56 div.sk-label:hover label.sk-toggleable__label {background-color: #d4ebff;}#sk-container-id-56 div.sk-serial::before {content: \"\";position: absolute;border-left: 1px solid gray;box-sizing: border-box;top: 0;bottom: 0;left: 50%;z-index: 0;}#sk-container-id-56 div.sk-serial {display: flex;flex-direction: column;align-items: center;background-color: white;padding-right: 0.2em;padding-left: 0.2em;position: relative;}#sk-container-id-56 div.sk-item {position: relative;z-index: 1;}#sk-container-id-56 div.sk-parallel {display: flex;align-items: stretch;justify-content: center;background-color: white;position: relative;}#sk-container-id-56 div.sk-item::before, #sk-container-id-56 div.sk-parallel-item::before {content: \"\";position: absolute;border-left: 1px solid gray;box-sizing: border-box;top: 0;bottom: 0;left: 50%;z-index: -1;}#sk-container-id-56 div.sk-parallel-item {display: flex;flex-direction: column;z-index: 1;position: relative;background-color: white;}#sk-container-id-56 div.sk-parallel-item:first-child::after {align-self: flex-end;width: 50%;}#sk-container-id-56 div.sk-parallel-item:last-child::after {align-self: flex-start;width: 50%;}#sk-container-id-56 div.sk-parallel-item:only-child::after {width: 0;}#sk-container-id-56 div.sk-dashed-wrapped {border: 1px dashed gray;margin: 0 0.4em 0.5em 0.4em;box-sizing: border-box;padding-bottom: 0.4em;background-color: white;}#sk-container-id-56 div.sk-label label {font-family: monospace;font-weight: bold;display: inline-block;line-height: 1.2em;}#sk-container-id-56 div.sk-label-container {text-align: center;}#sk-container-id-56 div.sk-container {/* jupyter's `normalize.less` sets `[hidden] { display: none; }` but bootstrap.min.css set `[hidden] { display: none !important; }` so we also need the `!important` here to be able to override the default hidden behavior on the sphinx rendered scikit-learn.org. See: https://github.com/scikit-learn/scikit-learn/issues/21755 */display: inline-block !important;position: relative;}#sk-container-id-56 div.sk-text-repr-fallback {display: none;}</style><div id=\"sk-container-id-56\" class=\"sk-top-container\"><div class=\"sk-text-repr-fallback\"><pre>Pipeline(steps=[(&#x27;preprocess&#x27;,\n",
       "                 ColumnTransformer(transformers=[(&#x27;nominalpipe&#x27;,\n",
       "                                                  Pipeline(steps=[(&#x27;onehotenc&#x27;,\n",
       "                                                                   OneHotEncoder(handle_unknown=&#x27;ignore&#x27;,\n",
       "                                                                                 sparse=False)),\n",
       "                                                                  (&#x27;onehotnorm&#x27;,\n",
       "                                                                   MaxAbsScaler())]),\n",
       "                                                  [&#x27;ADDR_PCT_CD&#x27;, &#x27;KY_CD&#x27;,\n",
       "                                                   &#x27;OFNS_DESC&#x27;, &#x27;PD_DESC&#x27;,\n",
       "                                                   &#x27;LAW_CAT_CD&#x27;, &#x27;BORO_NM&#x27;,\n",
       "                                                   &#x27;LOC_OF_OCCUR_DESC&#x27;,\n",
       "                                                   &#x27;SUSP_AGE_GROUP&#x27;, &#x27;SUSP_SEX&#x27;,\n",
       "                                                   &#x27;PATROL_BORO&#x27;,\n",
       "                                                   &#x27;VIC_AGE_GROUP&#x27;, &#x27;VIC_RACE&#x27;,\n",
       "                                                   &#x27;VIC_SEX&#x27;, &#x27;reported_dow&#x27;,\n",
       "                                                   &#x27;session_to&#x27;]),\n",
       "                                                 (&#x27;numpipe&#x27;,\n",
       "                                                  Pipeline(steps=[(&#x27;numnorm&#x27;,\n",
       "                                                                   StandardScaler())]),\n",
       "                                                  [&#x27;year&#x27;, &#x27;month&#x27;, &#x27;session&#x27;,\n",
       "                                                   &#x27;diff_min&#x27;])])),\n",
       "                (&#x27;ros&#x27;, RandomOverSampler()),\n",
       "                (&#x27;model&#x27;, RandomForestClassifier())])</pre><b>In a Jupyter environment, please rerun this cell to show the HTML representation or trust the notebook. <br />On GitHub, the HTML representation is unable to render, please try loading this page with nbviewer.org.</b></div><div class=\"sk-container\" hidden><div class=\"sk-item sk-dashed-wrapped\"><div class=\"sk-label-container\"><div class=\"sk-label sk-toggleable\"><input class=\"sk-toggleable__control sk-hidden--visually\" id=\"sk-estimator-id-403\" type=\"checkbox\" ><label for=\"sk-estimator-id-403\" class=\"sk-toggleable__label sk-toggleable__label-arrow\">Pipeline</label><div class=\"sk-toggleable__content\"><pre>Pipeline(steps=[(&#x27;preprocess&#x27;,\n",
       "                 ColumnTransformer(transformers=[(&#x27;nominalpipe&#x27;,\n",
       "                                                  Pipeline(steps=[(&#x27;onehotenc&#x27;,\n",
       "                                                                   OneHotEncoder(handle_unknown=&#x27;ignore&#x27;,\n",
       "                                                                                 sparse=False)),\n",
       "                                                                  (&#x27;onehotnorm&#x27;,\n",
       "                                                                   MaxAbsScaler())]),\n",
       "                                                  [&#x27;ADDR_PCT_CD&#x27;, &#x27;KY_CD&#x27;,\n",
       "                                                   &#x27;OFNS_DESC&#x27;, &#x27;PD_DESC&#x27;,\n",
       "                                                   &#x27;LAW_CAT_CD&#x27;, &#x27;BORO_NM&#x27;,\n",
       "                                                   &#x27;LOC_OF_OCCUR_DESC&#x27;,\n",
       "                                                   &#x27;SUSP_AGE_GROUP&#x27;, &#x27;SUSP_SEX&#x27;,\n",
       "                                                   &#x27;PATROL_BORO&#x27;,\n",
       "                                                   &#x27;VIC_AGE_GROUP&#x27;, &#x27;VIC_RACE&#x27;,\n",
       "                                                   &#x27;VIC_SEX&#x27;, &#x27;reported_dow&#x27;,\n",
       "                                                   &#x27;session_to&#x27;]),\n",
       "                                                 (&#x27;numpipe&#x27;,\n",
       "                                                  Pipeline(steps=[(&#x27;numnorm&#x27;,\n",
       "                                                                   StandardScaler())]),\n",
       "                                                  [&#x27;year&#x27;, &#x27;month&#x27;, &#x27;session&#x27;,\n",
       "                                                   &#x27;diff_min&#x27;])])),\n",
       "                (&#x27;ros&#x27;, RandomOverSampler()),\n",
       "                (&#x27;model&#x27;, RandomForestClassifier())])</pre></div></div></div><div class=\"sk-serial\"><div class=\"sk-item sk-dashed-wrapped\"><div class=\"sk-label-container\"><div class=\"sk-label sk-toggleable\"><input class=\"sk-toggleable__control sk-hidden--visually\" id=\"sk-estimator-id-404\" type=\"checkbox\" ><label for=\"sk-estimator-id-404\" class=\"sk-toggleable__label sk-toggleable__label-arrow\">preprocess: ColumnTransformer</label><div class=\"sk-toggleable__content\"><pre>ColumnTransformer(transformers=[(&#x27;nominalpipe&#x27;,\n",
       "                                 Pipeline(steps=[(&#x27;onehotenc&#x27;,\n",
       "                                                  OneHotEncoder(handle_unknown=&#x27;ignore&#x27;,\n",
       "                                                                sparse=False)),\n",
       "                                                 (&#x27;onehotnorm&#x27;,\n",
       "                                                  MaxAbsScaler())]),\n",
       "                                 [&#x27;ADDR_PCT_CD&#x27;, &#x27;KY_CD&#x27;, &#x27;OFNS_DESC&#x27;,\n",
       "                                  &#x27;PD_DESC&#x27;, &#x27;LAW_CAT_CD&#x27;, &#x27;BORO_NM&#x27;,\n",
       "                                  &#x27;LOC_OF_OCCUR_DESC&#x27;, &#x27;SUSP_AGE_GROUP&#x27;,\n",
       "                                  &#x27;SUSP_SEX&#x27;, &#x27;PATROL_BORO&#x27;, &#x27;VIC_AGE_GROUP&#x27;,\n",
       "                                  &#x27;VIC_RACE&#x27;, &#x27;VIC_SEX&#x27;, &#x27;reported_dow&#x27;,\n",
       "                                  &#x27;session_to&#x27;]),\n",
       "                                (&#x27;numpipe&#x27;,\n",
       "                                 Pipeline(steps=[(&#x27;numnorm&#x27;,\n",
       "                                                  StandardScaler())]),\n",
       "                                 [&#x27;year&#x27;, &#x27;month&#x27;, &#x27;session&#x27;, &#x27;diff_min&#x27;])])</pre></div></div></div><div class=\"sk-parallel\"><div class=\"sk-parallel-item\"><div class=\"sk-item\"><div class=\"sk-label-container\"><div class=\"sk-label sk-toggleable\"><input class=\"sk-toggleable__control sk-hidden--visually\" id=\"sk-estimator-id-405\" type=\"checkbox\" ><label for=\"sk-estimator-id-405\" class=\"sk-toggleable__label sk-toggleable__label-arrow\">nominalpipe</label><div class=\"sk-toggleable__content\"><pre>[&#x27;ADDR_PCT_CD&#x27;, &#x27;KY_CD&#x27;, &#x27;OFNS_DESC&#x27;, &#x27;PD_DESC&#x27;, &#x27;LAW_CAT_CD&#x27;, &#x27;BORO_NM&#x27;, &#x27;LOC_OF_OCCUR_DESC&#x27;, &#x27;SUSP_AGE_GROUP&#x27;, &#x27;SUSP_SEX&#x27;, &#x27;PATROL_BORO&#x27;, &#x27;VIC_AGE_GROUP&#x27;, &#x27;VIC_RACE&#x27;, &#x27;VIC_SEX&#x27;, &#x27;reported_dow&#x27;, &#x27;session_to&#x27;]</pre></div></div></div><div class=\"sk-serial\"><div class=\"sk-item\"><div class=\"sk-serial\"><div class=\"sk-item\"><div class=\"sk-estimator sk-toggleable\"><input class=\"sk-toggleable__control sk-hidden--visually\" id=\"sk-estimator-id-406\" type=\"checkbox\" ><label for=\"sk-estimator-id-406\" class=\"sk-toggleable__label sk-toggleable__label-arrow\">OneHotEncoder</label><div class=\"sk-toggleable__content\"><pre>OneHotEncoder(handle_unknown=&#x27;ignore&#x27;, sparse=False)</pre></div></div></div><div class=\"sk-item\"><div class=\"sk-estimator sk-toggleable\"><input class=\"sk-toggleable__control sk-hidden--visually\" id=\"sk-estimator-id-407\" type=\"checkbox\" ><label for=\"sk-estimator-id-407\" class=\"sk-toggleable__label sk-toggleable__label-arrow\">MaxAbsScaler</label><div class=\"sk-toggleable__content\"><pre>MaxAbsScaler()</pre></div></div></div></div></div></div></div></div><div class=\"sk-parallel-item\"><div class=\"sk-item\"><div class=\"sk-label-container\"><div class=\"sk-label sk-toggleable\"><input class=\"sk-toggleable__control sk-hidden--visually\" id=\"sk-estimator-id-408\" type=\"checkbox\" ><label for=\"sk-estimator-id-408\" class=\"sk-toggleable__label sk-toggleable__label-arrow\">numpipe</label><div class=\"sk-toggleable__content\"><pre>[&#x27;year&#x27;, &#x27;month&#x27;, &#x27;session&#x27;, &#x27;diff_min&#x27;]</pre></div></div></div><div class=\"sk-serial\"><div class=\"sk-item\"><div class=\"sk-serial\"><div class=\"sk-item\"><div class=\"sk-estimator sk-toggleable\"><input class=\"sk-toggleable__control sk-hidden--visually\" id=\"sk-estimator-id-409\" type=\"checkbox\" ><label for=\"sk-estimator-id-409\" class=\"sk-toggleable__label sk-toggleable__label-arrow\">StandardScaler</label><div class=\"sk-toggleable__content\"><pre>StandardScaler()</pre></div></div></div></div></div></div></div></div></div></div><div class=\"sk-item\"><div class=\"sk-estimator sk-toggleable\"><input class=\"sk-toggleable__control sk-hidden--visually\" id=\"sk-estimator-id-410\" type=\"checkbox\" ><label for=\"sk-estimator-id-410\" class=\"sk-toggleable__label sk-toggleable__label-arrow\">RandomOverSampler</label><div class=\"sk-toggleable__content\"><pre>RandomOverSampler()</pre></div></div></div><div class=\"sk-item\"><div class=\"sk-estimator sk-toggleable\"><input class=\"sk-toggleable__control sk-hidden--visually\" id=\"sk-estimator-id-411\" type=\"checkbox\" ><label for=\"sk-estimator-id-411\" class=\"sk-toggleable__label sk-toggleable__label-arrow\">RandomForestClassifier</label><div class=\"sk-toggleable__content\"><pre>RandomForestClassifier()</pre></div></div></div></div></div></div></div>"
      ],
      "text/plain": [
       "Pipeline(steps=[('preprocess',\n",
       "                 ColumnTransformer(transformers=[('nominalpipe',\n",
       "                                                  Pipeline(steps=[('onehotenc',\n",
       "                                                                   OneHotEncoder(handle_unknown='ignore',\n",
       "                                                                                 sparse=False)),\n",
       "                                                                  ('onehotnorm',\n",
       "                                                                   MaxAbsScaler())]),\n",
       "                                                  ['ADDR_PCT_CD', 'KY_CD',\n",
       "                                                   'OFNS_DESC', 'PD_DESC',\n",
       "                                                   'LAW_CAT_CD', 'BORO_NM',\n",
       "                                                   'LOC_OF_OCCUR_DESC',\n",
       "                                                   'SUSP_AGE_GROUP', 'SUSP_SEX',\n",
       "                                                   'PATROL_BORO',\n",
       "                                                   'VIC_AGE_GROUP', 'VIC_RACE',\n",
       "                                                   'VIC_SEX', 'reported_dow',\n",
       "                                                   'session_to']),\n",
       "                                                 ('numpipe',\n",
       "                                                  Pipeline(steps=[('numnorm',\n",
       "                                                                   StandardScaler())]),\n",
       "                                                  ['year', 'month', 'session',\n",
       "                                                   'diff_min'])])),\n",
       "                ('ros', RandomOverSampler()),\n",
       "                ('model', RandomForestClassifier())])"
      ]
     },
     "execution_count": 456,
     "metadata": {},
     "output_type": "execute_result"
    }
   ],
   "source": [
    "# Random Forest Classifier with Random OverSampling \n",
    "\n",
    "from imblearn.pipeline import Pipeline \n",
    "from imblearn.over_sampling import RandomOverSampler\n",
    "from imblearn.under_sampling import RandomUnderSampler \n",
    "\n",
    "# this will allow us to visualize the pipeline (may not be available in learn-env)\n",
    "from sklearn import set_config\n",
    "set_config(display= 'diagram')\n",
    "\n",
    "numeric_pipeline = Pipeline([('numnorm', StandardScaler())])\n",
    "\n",
    "nominal_pipeline = Pipeline([\n",
    "    ('onehotenc', OneHotEncoder(sparse = False, handle_unknown = 'ignore')), \n",
    "    ('onehotnorm', MaxAbsScaler())])\n",
    "\n",
    "\n",
    "ct = ColumnTransformer([\n",
    "     (\"nominalpipe\", nominal_pipeline, categorical),\n",
    "     (\"numpipe\", numeric_pipeline, numerical)])\n",
    "\n",
    "\n",
    "\n",
    "RF_pipe = Pipeline([('preprocess', ct),('ros', RandomOverSampler()),  #tuning the model\n",
    "                      ('model',\n",
    "                       RandomForestClassifier())])  #where to change the model\n",
    "RF_pipe"
   ]
  },
  {
   "cell_type": "code",
   "execution_count": 457,
   "id": "ea8a0a7e-0c68-497e-b4df-b4566c3ad06f",
   "metadata": {},
   "outputs": [
    {
     "data": {
      "text/plain": [
       "0.9874242424242424"
      ]
     },
     "execution_count": 457,
     "metadata": {},
     "output_type": "execute_result"
    }
   ],
   "source": [
    "RF_pipe.fit(X_train,y_train)\n",
    "RF_pipe.score(X_test, y_test)"
   ]
  },
  {
   "cell_type": "code",
   "execution_count": 458,
   "id": "54e9a4f2-131d-4e7b-9102-0c340d745fff",
   "metadata": {},
   "outputs": [
    {
     "name": "stdout",
     "output_type": "stream",
     "text": [
      "              precision    recall  f1-score   support\n",
      "\n",
      "   ATTEMPTED       0.58      0.09      0.15       426\n",
      "   COMPLETED       0.99      1.00      0.99     32574\n",
      "\n",
      "    accuracy                           0.99     33000\n",
      "   macro avg       0.79      0.54      0.57     33000\n",
      "weighted avg       0.98      0.99      0.98     33000\n",
      "\n"
     ]
    }
   ],
   "source": [
    "#classification metrics for random oversampler \n",
    "\n",
    "predicted = RF_pipe.predict(X_test)\n",
    "predicted \n",
    "\n",
    "print(classification_report(y_test, predicted))"
   ]
  },
  {
   "cell_type": "code",
   "execution_count": 459,
   "id": "37f45ff7-6fc4-45f1-a519-eac2577d9b60",
   "metadata": {},
   "outputs": [
    {
     "name": "stderr",
     "output_type": "stream",
     "text": [
      "/opt/anaconda3/lib/python3.8/site-packages/sklearn/utils/deprecation.py:87: FutureWarning: Function plot_confusion_matrix is deprecated; Function `plot_confusion_matrix` is deprecated in 1.0 and will be removed in 1.2. Use one of the class methods: ConfusionMatrixDisplay.from_predictions or ConfusionMatrixDisplay.from_estimator.\n",
      "  warnings.warn(msg, category=FutureWarning)\n"
     ]
    },
    {
     "data": {
      "text/plain": [
       "<sklearn.metrics._plot.confusion_matrix.ConfusionMatrixDisplay at 0x7f9a104db700>"
      ]
     },
     "execution_count": 459,
     "metadata": {},
     "output_type": "execute_result"
    },
    {
     "data": {
      "image/png": "[encoded data removed]",
      "text/plain": [
       "<Figure size 432x288 with 2 Axes>"
      ]
     },
     "metadata": {
      "needs_background": "light"
     },
     "output_type": "display_data"
    }
   ],
   "source": [
    "plot_confusion_matrix(RF_pipe, X_test, y_test)"
   ]
  },
  {
   "cell_type": "code",
   "execution_count": 469,
   "id": "ff6e0a22-a41b-4eeb-8e2d-4cd9791d1a16",
   "metadata": {},
   "outputs": [
    {
     "data": {
      "text/html": [
       "<style>#sk-container-id-61 {color: black;background-color: white;}#sk-container-id-61 pre{padding: 0;}#sk-container-id-61 div.sk-toggleable {background-color: white;}#sk-container-id-61 label.sk-toggleable__label {cursor: pointer;display: block;width: 100%;margin-bottom: 0;padding: 0.3em;box-sizing: border-box;text-align: center;}#sk-container-id-61 label.sk-toggleable__label-arrow:before {content: \"▸\";float: left;margin-right: 0.25em;color: #696969;}#sk-container-id-61 label.sk-toggleable__label-arrow:hover:before {color: black;}#sk-container-id-61 div.sk-estimator:hover label.sk-toggleable__label-arrow:before {color: black;}#sk-container-id-61 div.sk-toggleable__content {max-height: 0;max-width: 0;overflow: hidden;text-align: left;background-color: #f0f8ff;}#sk-container-id-61 div.sk-toggleable__content pre {margin: 0.2em;color: black;border-radius: 0.25em;background-color: #f0f8ff;}#sk-container-id-61 input.sk-toggleable__control:checked~div.sk-toggleable__content {max-height: 200px;max-width: 100%;overflow: auto;}#sk-container-id-61 input.sk-toggleable__control:checked~label.sk-toggleable__label-arrow:before {content: \"▾\";}#sk-container-id-61 div.sk-estimator input.sk-toggleable__control:checked~label.sk-toggleable__label {background-color: #d4ebff;}#sk-container-id-61 div.sk-label input.sk-toggleable__control:checked~label.sk-toggleable__label {background-color: #d4ebff;}#sk-container-id-61 input.sk-hidden--visually {border: 0;clip: rect(1px 1px 1px 1px);clip: rect(1px, 1px, 1px, 1px);height: 1px;margin: -1px;overflow: hidden;padding: 0;position: absolute;width: 1px;}#sk-container-id-61 div.sk-estimator {font-family: monospace;background-color: #f0f8ff;border: 1px dotted black;border-radius: 0.25em;box-sizing: border-box;margin-bottom: 0.5em;}#sk-container-id-61 div.sk-estimator:hover {background-color: #d4ebff;}#sk-container-id-61 div.sk-parallel-item::after {content: \"\";width: 100%;border-bottom: 1px solid gray;flex-grow: 1;}#sk-container-id-61 div.sk-label:hover label.sk-toggleable__label {background-color: #d4ebff;}#sk-container-id-61 div.sk-serial::before {content: \"\";position: absolute;border-left: 1px solid gray;box-sizing: border-box;top: 0;bottom: 0;left: 50%;z-index: 0;}#sk-container-id-61 div.sk-serial {display: flex;flex-direction: column;align-items: center;background-color: white;padding-right: 0.2em;padding-left: 0.2em;position: relative;}#sk-container-id-61 div.sk-item {position: relative;z-index: 1;}#sk-container-id-61 div.sk-parallel {display: flex;align-items: stretch;justify-content: center;background-color: white;position: relative;}#sk-container-id-61 div.sk-item::before, #sk-container-id-61 div.sk-parallel-item::before {content: \"\";position: absolute;border-left: 1px solid gray;box-sizing: border-box;top: 0;bottom: 0;left: 50%;z-index: -1;}#sk-container-id-61 div.sk-parallel-item {display: flex;flex-direction: column;z-index: 1;position: relative;background-color: white;}#sk-container-id-61 div.sk-parallel-item:first-child::after {align-self: flex-end;width: 50%;}#sk-container-id-61 div.sk-parallel-item:last-child::after {align-self: flex-start;width: 50%;}#sk-container-id-61 div.sk-parallel-item:only-child::after {width: 0;}#sk-container-id-61 div.sk-dashed-wrapped {border: 1px dashed gray;margin: 0 0.4em 0.5em 0.4em;box-sizing: border-box;padding-bottom: 0.4em;background-color: white;}#sk-container-id-61 div.sk-label label {font-family: monospace;font-weight: bold;display: inline-block;line-height: 1.2em;}#sk-container-id-61 div.sk-label-container {text-align: center;}#sk-container-id-61 div.sk-container {/* jupyter's `normalize.less` sets `[hidden] { display: none; }` but bootstrap.min.css set `[hidden] { display: none !important; }` so we also need the `!important` here to be able to override the default hidden behavior on the sphinx rendered scikit-learn.org. See: https://github.com/scikit-learn/scikit-learn/issues/21755 */display: inline-block !important;position: relative;}#sk-container-id-61 div.sk-text-repr-fallback {display: none;}</style><div id=\"sk-container-id-61\" class=\"sk-top-container\"><div class=\"sk-text-repr-fallback\"><pre>Pipeline(steps=[(&#x27;preprocess&#x27;,\n",
       "                 ColumnTransformer(transformers=[(&#x27;nominalpipe&#x27;,\n",
       "                                                  Pipeline(steps=[(&#x27;onehotenc&#x27;,\n",
       "                                                                   OneHotEncoder(handle_unknown=&#x27;ignore&#x27;,\n",
       "                                                                                 sparse=False)),\n",
       "                                                                  (&#x27;onehotnorm&#x27;,\n",
       "                                                                   MaxAbsScaler())]),\n",
       "                                                  [&#x27;ADDR_PCT_CD&#x27;, &#x27;KY_CD&#x27;,\n",
       "                                                   &#x27;OFNS_DESC&#x27;, &#x27;PD_DESC&#x27;,\n",
       "                                                   &#x27;LAW_CAT_CD&#x27;, &#x27;BORO_NM&#x27;,\n",
       "                                                   &#x27;LOC_OF_OCCUR_DESC&#x27;,\n",
       "                                                   &#x27;SUSP_AGE_GROUP&#x27;, &#x27;SUSP_SEX&#x27;,\n",
       "                                                   &#x27;PATROL_BORO&#x27;,\n",
       "                                                   &#x27;VIC_AGE_GROUP&#x27;, &#x27;VIC_RACE&#x27;,\n",
       "                                                   &#x27;VIC_SEX&#x27;, &#x27;reported_dow&#x27;,\n",
       "                                                   &#x27;session_to&#x27;]),\n",
       "                                                 (&#x27;numpipe&#x27;,\n",
       "                                                  Pipeline(steps=[(&#x27;numnorm&#x27;,\n",
       "                                                                   StandardScaler())]),\n",
       "                                                  [&#x27;year&#x27;, &#x27;month&#x27;, &#x27;session&#x27;,\n",
       "                                                   &#x27;diff_min&#x27;])])),\n",
       "                (&#x27;smote&#x27;, SMOTE()), (&#x27;model&#x27;, RandomForestClassifier())])</pre><b>In a Jupyter environment, please rerun this cell to show the HTML representation or trust the notebook. <br />On GitHub, the HTML representation is unable to render, please try loading this page with nbviewer.org.</b></div><div class=\"sk-container\" hidden><div class=\"sk-item sk-dashed-wrapped\"><div class=\"sk-label-container\"><div class=\"sk-label sk-toggleable\"><input class=\"sk-toggleable__control sk-hidden--visually\" id=\"sk-estimator-id-424\" type=\"checkbox\" ><label for=\"sk-estimator-id-424\" class=\"sk-toggleable__label sk-toggleable__label-arrow\">Pipeline</label><div class=\"sk-toggleable__content\"><pre>Pipeline(steps=[(&#x27;preprocess&#x27;,\n",
       "                 ColumnTransformer(transformers=[(&#x27;nominalpipe&#x27;,\n",
       "                                                  Pipeline(steps=[(&#x27;onehotenc&#x27;,\n",
       "                                                                   OneHotEncoder(handle_unknown=&#x27;ignore&#x27;,\n",
       "                                                                                 sparse=False)),\n",
       "                                                                  (&#x27;onehotnorm&#x27;,\n",
       "                                                                   MaxAbsScaler())]),\n",
       "                                                  [&#x27;ADDR_PCT_CD&#x27;, &#x27;KY_CD&#x27;,\n",
       "                                                   &#x27;OFNS_DESC&#x27;, &#x27;PD_DESC&#x27;,\n",
       "                                                   &#x27;LAW_CAT_CD&#x27;, &#x27;BORO_NM&#x27;,\n",
       "                                                   &#x27;LOC_OF_OCCUR_DESC&#x27;,\n",
       "                                                   &#x27;SUSP_AGE_GROUP&#x27;, &#x27;SUSP_SEX&#x27;,\n",
       "                                                   &#x27;PATROL_BORO&#x27;,\n",
       "                                                   &#x27;VIC_AGE_GROUP&#x27;, &#x27;VIC_RACE&#x27;,\n",
       "                                                   &#x27;VIC_SEX&#x27;, &#x27;reported_dow&#x27;,\n",
       "                                                   &#x27;session_to&#x27;]),\n",
       "                                                 (&#x27;numpipe&#x27;,\n",
       "                                                  Pipeline(steps=[(&#x27;numnorm&#x27;,\n",
       "                                                                   StandardScaler())]),\n",
       "                                                  [&#x27;year&#x27;, &#x27;month&#x27;, &#x27;session&#x27;,\n",
       "                                                   &#x27;diff_min&#x27;])])),\n",
       "                (&#x27;smote&#x27;, SMOTE()), (&#x27;model&#x27;, RandomForestClassifier())])</pre></div></div></div><div class=\"sk-serial\"><div class=\"sk-item sk-dashed-wrapped\"><div class=\"sk-label-container\"><div class=\"sk-label sk-toggleable\"><input class=\"sk-toggleable__control sk-hidden--visually\" id=\"sk-estimator-id-425\" type=\"checkbox\" ><label for=\"sk-estimator-id-425\" class=\"sk-toggleable__label sk-toggleable__label-arrow\">preprocess: ColumnTransformer</label><div class=\"sk-toggleable__content\"><pre>ColumnTransformer(transformers=[(&#x27;nominalpipe&#x27;,\n",
       "                                 Pipeline(steps=[(&#x27;onehotenc&#x27;,\n",
       "                                                  OneHotEncoder(handle_unknown=&#x27;ignore&#x27;,\n",
       "                                                                sparse=False)),\n",
       "                                                 (&#x27;onehotnorm&#x27;,\n",
       "                                                  MaxAbsScaler())]),\n",
       "                                 [&#x27;ADDR_PCT_CD&#x27;, &#x27;KY_CD&#x27;, &#x27;OFNS_DESC&#x27;,\n",
       "                                  &#x27;PD_DESC&#x27;, &#x27;LAW_CAT_CD&#x27;, &#x27;BORO_NM&#x27;,\n",
       "                                  &#x27;LOC_OF_OCCUR_DESC&#x27;, &#x27;SUSP_AGE_GROUP&#x27;,\n",
       "                                  &#x27;SUSP_SEX&#x27;, &#x27;PATROL_BORO&#x27;, &#x27;VIC_AGE_GROUP&#x27;,\n",
       "                                  &#x27;VIC_RACE&#x27;, &#x27;VIC_SEX&#x27;, &#x27;reported_dow&#x27;,\n",
       "                                  &#x27;session_to&#x27;]),\n",
       "                                (&#x27;numpipe&#x27;,\n",
       "                                 Pipeline(steps=[(&#x27;numnorm&#x27;,\n",
       "                                                  StandardScaler())]),\n",
       "                                 [&#x27;year&#x27;, &#x27;month&#x27;, &#x27;session&#x27;, &#x27;diff_min&#x27;])])</pre></div></div></div><div class=\"sk-parallel\"><div class=\"sk-parallel-item\"><div class=\"sk-item\"><div class=\"sk-label-container\"><div class=\"sk-label sk-toggleable\"><input class=\"sk-toggleable__control sk-hidden--visually\" id=\"sk-estimator-id-426\" type=\"checkbox\" ><label for=\"sk-estimator-id-426\" class=\"sk-toggleable__label sk-toggleable__label-arrow\">nominalpipe</label><div class=\"sk-toggleable__content\"><pre>[&#x27;ADDR_PCT_CD&#x27;, &#x27;KY_CD&#x27;, &#x27;OFNS_DESC&#x27;, &#x27;PD_DESC&#x27;, &#x27;LAW_CAT_CD&#x27;, &#x27;BORO_NM&#x27;, &#x27;LOC_OF_OCCUR_DESC&#x27;, &#x27;SUSP_AGE_GROUP&#x27;, &#x27;SUSP_SEX&#x27;, &#x27;PATROL_BORO&#x27;, &#x27;VIC_AGE_GROUP&#x27;, &#x27;VIC_RACE&#x27;, &#x27;VIC_SEX&#x27;, &#x27;reported_dow&#x27;, &#x27;session_to&#x27;]</pre></div></div></div><div class=\"sk-serial\"><div class=\"sk-item\"><div class=\"sk-serial\"><div class=\"sk-item\"><div class=\"sk-estimator sk-toggleable\"><input class=\"sk-toggleable__control sk-hidden--visually\" id=\"sk-estimator-id-427\" type=\"checkbox\" ><label for=\"sk-estimator-id-427\" class=\"sk-toggleable__label sk-toggleable__label-arrow\">OneHotEncoder</label><div class=\"sk-toggleable__content\"><pre>OneHotEncoder(handle_unknown=&#x27;ignore&#x27;, sparse=False)</pre></div></div></div><div class=\"sk-item\"><div class=\"sk-estimator sk-toggleable\"><input class=\"sk-toggleable__control sk-hidden--visually\" id=\"sk-estimator-id-428\" type=\"checkbox\" ><label for=\"sk-estimator-id-428\" class=\"sk-toggleable__label sk-toggleable__label-arrow\">MaxAbsScaler</label><div class=\"sk-toggleable__content\"><pre>MaxAbsScaler()</pre></div></div></div></div></div></div></div></div><div class=\"sk-parallel-item\"><div class=\"sk-item\"><div class=\"sk-label-container\"><div class=\"sk-label sk-toggleable\"><input class=\"sk-toggleable__control sk-hidden--visually\" id=\"sk-estimator-id-429\" type=\"checkbox\" ><label for=\"sk-estimator-id-429\" class=\"sk-toggleable__label sk-toggleable__label-arrow\">numpipe</label><div class=\"sk-toggleable__content\"><pre>[&#x27;year&#x27;, &#x27;month&#x27;, &#x27;session&#x27;, &#x27;diff_min&#x27;]</pre></div></div></div><div class=\"sk-serial\"><div class=\"sk-item\"><div class=\"sk-serial\"><div class=\"sk-item\"><div class=\"sk-estimator sk-toggleable\"><input class=\"sk-toggleable__control sk-hidden--visually\" id=\"sk-estimator-id-430\" type=\"checkbox\" ><label for=\"sk-estimator-id-430\" class=\"sk-toggleable__label sk-toggleable__label-arrow\">StandardScaler</label><div class=\"sk-toggleable__content\"><pre>StandardScaler()</pre></div></div></div></div></div></div></div></div></div></div><div class=\"sk-item\"><div class=\"sk-estimator sk-toggleable\"><input class=\"sk-toggleable__control sk-hidden--visually\" id=\"sk-estimator-id-431\" type=\"checkbox\" ><label for=\"sk-estimator-id-431\" class=\"sk-toggleable__label sk-toggleable__label-arrow\">SMOTE</label><div class=\"sk-toggleable__content\"><pre>SMOTE()</pre></div></div></div><div class=\"sk-item\"><div class=\"sk-estimator sk-toggleable\"><input class=\"sk-toggleable__control sk-hidden--visually\" id=\"sk-estimator-id-432\" type=\"checkbox\" ><label for=\"sk-estimator-id-432\" class=\"sk-toggleable__label sk-toggleable__label-arrow\">RandomForestClassifier</label><div class=\"sk-toggleable__content\"><pre>RandomForestClassifier()</pre></div></div></div></div></div></div></div>"
      ],
      "text/plain": [
       "Pipeline(steps=[('preprocess',\n",
       "                 ColumnTransformer(transformers=[('nominalpipe',\n",
       "                                                  Pipeline(steps=[('onehotenc',\n",
       "                                                                   OneHotEncoder(handle_unknown='ignore',\n",
       "                                                                                 sparse=False)),\n",
       "                                                                  ('onehotnorm',\n",
       "                                                                   MaxAbsScaler())]),\n",
       "                                                  ['ADDR_PCT_CD', 'KY_CD',\n",
       "                                                   'OFNS_DESC', 'PD_DESC',\n",
       "                                                   'LAW_CAT_CD', 'BORO_NM',\n",
       "                                                   'LOC_OF_OCCUR_DESC',\n",
       "                                                   'SUSP_AGE_GROUP', 'SUSP_SEX',\n",
       "                                                   'PATROL_BORO',\n",
       "                                                   'VIC_AGE_GROUP', 'VIC_RACE',\n",
       "                                                   'VIC_SEX', 'reported_dow',\n",
       "                                                   'session_to']),\n",
       "                                                 ('numpipe',\n",
       "                                                  Pipeline(steps=[('numnorm',\n",
       "                                                                   StandardScaler())]),\n",
       "                                                  ['year', 'month', 'session',\n",
       "                                                   'diff_min'])])),\n",
       "                ('smote', SMOTE()), ('model', RandomForestClassifier())])"
      ]
     },
     "execution_count": 469,
     "metadata": {},
     "output_type": "execute_result"
    }
   ],
   "source": [
    "# Random Forest Classifier with SMOTE \n",
    "\n",
    "numeric_pipeline = Pipeline([('numnorm', StandardScaler())])\n",
    "\n",
    "nominal_pipeline = Pipeline([\n",
    "    ('onehotenc', OneHotEncoder(sparse = False, handle_unknown = 'ignore')), \n",
    "    ('onehotnorm', MaxAbsScaler())])\n",
    "\n",
    "\n",
    "ct = ColumnTransformer([\n",
    "     (\"nominalpipe\", nominal_pipeline, categorical),\n",
    "     (\"numpipe\", numeric_pipeline, numerical)])\n",
    "\n",
    "\n",
    "\n",
    "RF_pipe_SMOTE = Pipeline([('preprocess', ct),('smote', SMOTE()),\n",
    "                       ('model', RandomForestClassifier())])  #where you change the model\n",
    "\n",
    "\n",
    "RF_pipe_SMOTE"
   ]
  },
  {
   "cell_type": "code",
   "execution_count": 470,
   "id": "b337b221-39a1-420c-ac14-73a718b1a370",
   "metadata": {},
   "outputs": [
    {
     "data": {
      "text/plain": [
       "0.9873939393939394"
      ]
     },
     "execution_count": 470,
     "metadata": {},
     "output_type": "execute_result"
    }
   ],
   "source": [
    "RF_pipe_SMOTE.fit(X_train,y_train)\n",
    "RF_pipe_SMOTE.score(X_test,y_test)"
   ]
  },
  {
   "cell_type": "code",
   "execution_count": 471,
   "id": "e3ec2201-c29a-4751-a230-a90103990192",
   "metadata": {},
   "outputs": [
    {
     "name": "stdout",
     "output_type": "stream",
     "text": [
      "              precision    recall  f1-score   support\n",
      "\n",
      "   ATTEMPTED       0.62      0.06      0.11       426\n",
      "   COMPLETED       0.99      1.00      0.99     32574\n",
      "\n",
      "    accuracy                           0.99     33000\n",
      "   macro avg       0.81      0.53      0.55     33000\n",
      "weighted avg       0.98      0.99      0.98     33000\n",
      "\n"
     ]
    }
   ],
   "source": [
    "#classification metrics for random forest with SMOTE\n",
    "\n",
    "predicted = RF_pipe_SMOTE.predict(X_test)\n",
    "print(classification_report(y_test, predicted))"
   ]
  },
  {
   "cell_type": "code",
   "execution_count": 472,
   "id": "821526dc-cbd7-48f5-bc6a-902132f0a34d",
   "metadata": {},
   "outputs": [
    {
     "name": "stderr",
     "output_type": "stream",
     "text": [
      "/opt/anaconda3/lib/python3.8/site-packages/sklearn/utils/deprecation.py:87: FutureWarning: Function plot_confusion_matrix is deprecated; Function `plot_confusion_matrix` is deprecated in 1.0 and will be removed in 1.2. Use one of the class methods: ConfusionMatrixDisplay.from_predictions or ConfusionMatrixDisplay.from_estimator.\n",
      "  warnings.warn(msg, category=FutureWarning)\n"
     ]
    },
    {
     "data": {
      "text/plain": [
       "<sklearn.metrics._plot.confusion_matrix.ConfusionMatrixDisplay at 0x7f9a1b004b50>"
      ]
     },
     "execution_count": 472,
     "metadata": {},
     "output_type": "execute_result"
    },
    {
     "data": {
      "image/png": "[encoded data removed]",
      "text/plain": [
       "<Figure size 432x288 with 2 Axes>"
      ]
     },
     "metadata": {
      "needs_background": "light"
     },
     "output_type": "display_data"
    }
   ],
   "source": [
    "plot_confusion_matrix(RF_pipe_SMOTE, X_test, y_test)"
   ]
  },
  {
   "cell_type": "code",
   "execution_count": 474,
   "id": "0bff5045-a6a3-4f78-9056-b10f5495ad6f",
   "metadata": {},
   "outputs": [
    {
     "data": {
      "text/html": [
       "<style>#sk-container-id-63 {color: black;background-color: white;}#sk-container-id-63 pre{padding: 0;}#sk-container-id-63 div.sk-toggleable {background-color: white;}#sk-container-id-63 label.sk-toggleable__label {cursor: pointer;display: block;width: 100%;margin-bottom: 0;padding: 0.3em;box-sizing: border-box;text-align: center;}#sk-container-id-63 label.sk-toggleable__label-arrow:before {content: \"▸\";float: left;margin-right: 0.25em;color: #696969;}#sk-container-id-63 label.sk-toggleable__label-arrow:hover:before {color: black;}#sk-container-id-63 div.sk-estimator:hover label.sk-toggleable__label-arrow:before {color: black;}#sk-container-id-63 div.sk-toggleable__content {max-height: 0;max-width: 0;overflow: hidden;text-align: left;background-color: #f0f8ff;}#sk-container-id-63 div.sk-toggleable__content pre {margin: 0.2em;color: black;border-radius: 0.25em;background-color: #f0f8ff;}#sk-container-id-63 input.sk-toggleable__control:checked~div.sk-toggleable__content {max-height: 200px;max-width: 100%;overflow: auto;}#sk-container-id-63 input.sk-toggleable__control:checked~label.sk-toggleable__label-arrow:before {content: \"▾\";}#sk-container-id-63 div.sk-estimator input.sk-toggleable__control:checked~label.sk-toggleable__label {background-color: #d4ebff;}#sk-container-id-63 div.sk-label input.sk-toggleable__control:checked~label.sk-toggleable__label {background-color: #d4ebff;}#sk-container-id-63 input.sk-hidden--visually {border: 0;clip: rect(1px 1px 1px 1px);clip: rect(1px, 1px, 1px, 1px);height: 1px;margin: -1px;overflow: hidden;padding: 0;position: absolute;width: 1px;}#sk-container-id-63 div.sk-estimator {font-family: monospace;background-color: #f0f8ff;border: 1px dotted black;border-radius: 0.25em;box-sizing: border-box;margin-bottom: 0.5em;}#sk-container-id-63 div.sk-estimator:hover {background-color: #d4ebff;}#sk-container-id-63 div.sk-parallel-item::after {content: \"\";width: 100%;border-bottom: 1px solid gray;flex-grow: 1;}#sk-container-id-63 div.sk-label:hover label.sk-toggleable__label {background-color: #d4ebff;}#sk-container-id-63 div.sk-serial::before {content: \"\";position: absolute;border-left: 1px solid gray;box-sizing: border-box;top: 0;bottom: 0;left: 50%;z-index: 0;}#sk-container-id-63 div.sk-serial {display: flex;flex-direction: column;align-items: center;background-color: white;padding-right: 0.2em;padding-left: 0.2em;position: relative;}#sk-container-id-63 div.sk-item {position: relative;z-index: 1;}#sk-container-id-63 div.sk-parallel {display: flex;align-items: stretch;justify-content: center;background-color: white;position: relative;}#sk-container-id-63 div.sk-item::before, #sk-container-id-63 div.sk-parallel-item::before {content: \"\";position: absolute;border-left: 1px solid gray;box-sizing: border-box;top: 0;bottom: 0;left: 50%;z-index: -1;}#sk-container-id-63 div.sk-parallel-item {display: flex;flex-direction: column;z-index: 1;position: relative;background-color: white;}#sk-container-id-63 div.sk-parallel-item:first-child::after {align-self: flex-end;width: 50%;}#sk-container-id-63 div.sk-parallel-item:last-child::after {align-self: flex-start;width: 50%;}#sk-container-id-63 div.sk-parallel-item:only-child::after {width: 0;}#sk-container-id-63 div.sk-dashed-wrapped {border: 1px dashed gray;margin: 0 0.4em 0.5em 0.4em;box-sizing: border-box;padding-bottom: 0.4em;background-color: white;}#sk-container-id-63 div.sk-label label {font-family: monospace;font-weight: bold;display: inline-block;line-height: 1.2em;}#sk-container-id-63 div.sk-label-container {text-align: center;}#sk-container-id-63 div.sk-container {/* jupyter's `normalize.less` sets `[hidden] { display: none; }` but bootstrap.min.css set `[hidden] { display: none !important; }` so we also need the `!important` here to be able to override the default hidden behavior on the sphinx rendered scikit-learn.org. See: https://github.com/scikit-learn/scikit-learn/issues/21755 */display: inline-block !important;position: relative;}#sk-container-id-63 div.sk-text-repr-fallback {display: none;}</style><div id=\"sk-container-id-63\" class=\"sk-top-container\"><div class=\"sk-text-repr-fallback\"><pre>Pipeline(steps=[(&#x27;preprocess&#x27;,\n",
       "                 ColumnTransformer(transformers=[(&#x27;nominalpipe&#x27;,\n",
       "                                                  Pipeline(steps=[(&#x27;onehotenc&#x27;,\n",
       "                                                                   OneHotEncoder(handle_unknown=&#x27;ignore&#x27;,\n",
       "                                                                                 sparse=False)),\n",
       "                                                                  (&#x27;onehotnorm&#x27;,\n",
       "                                                                   MaxAbsScaler())]),\n",
       "                                                  [&#x27;ADDR_PCT_CD&#x27;, &#x27;KY_CD&#x27;,\n",
       "                                                   &#x27;OFNS_DESC&#x27;, &#x27;PD_DESC&#x27;,\n",
       "                                                   &#x27;LAW_CAT_CD&#x27;, &#x27;BORO_NM&#x27;,\n",
       "                                                   &#x27;LOC_OF_OCCUR_DESC&#x27;,\n",
       "                                                   &#x27;SUSP_AGE_GROUP&#x27;, &#x27;SUSP_SEX&#x27;,\n",
       "                                                   &#x27;PATROL_BORO&#x27;,\n",
       "                                                   &#x27;VIC_AGE_GROUP&#x27;, &#x27;VIC_RACE&#x27;,\n",
       "                                                   &#x27;VIC_SEX&#x27;, &#x27;reported_dow&#x27;,\n",
       "                                                   &#x27;session_to&#x27;]),\n",
       "                                                 (&#x27;numpipe&#x27;,\n",
       "                                                  Pipeline(steps=[(&#x27;numnorm&#x27;,\n",
       "                                                                   StandardScaler())]),\n",
       "                                                  [&#x27;year&#x27;, &#x27;month&#x27;, &#x27;session&#x27;,\n",
       "                                                   &#x27;diff_min&#x27;])])),\n",
       "                (&#x27;smote&#x27;, SMOTE()), (&#x27;model&#x27;, RandomForestClassifier())])</pre><b>In a Jupyter environment, please rerun this cell to show the HTML representation or trust the notebook. <br />On GitHub, the HTML representation is unable to render, please try loading this page with nbviewer.org.</b></div><div class=\"sk-container\" hidden><div class=\"sk-item sk-dashed-wrapped\"><div class=\"sk-label-container\"><div class=\"sk-label sk-toggleable\"><input class=\"sk-toggleable__control sk-hidden--visually\" id=\"sk-estimator-id-442\" type=\"checkbox\" ><label for=\"sk-estimator-id-442\" class=\"sk-toggleable__label sk-toggleable__label-arrow\">Pipeline</label><div class=\"sk-toggleable__content\"><pre>Pipeline(steps=[(&#x27;preprocess&#x27;,\n",
       "                 ColumnTransformer(transformers=[(&#x27;nominalpipe&#x27;,\n",
       "                                                  Pipeline(steps=[(&#x27;onehotenc&#x27;,\n",
       "                                                                   OneHotEncoder(handle_unknown=&#x27;ignore&#x27;,\n",
       "                                                                                 sparse=False)),\n",
       "                                                                  (&#x27;onehotnorm&#x27;,\n",
       "                                                                   MaxAbsScaler())]),\n",
       "                                                  [&#x27;ADDR_PCT_CD&#x27;, &#x27;KY_CD&#x27;,\n",
       "                                                   &#x27;OFNS_DESC&#x27;, &#x27;PD_DESC&#x27;,\n",
       "                                                   &#x27;LAW_CAT_CD&#x27;, &#x27;BORO_NM&#x27;,\n",
       "                                                   &#x27;LOC_OF_OCCUR_DESC&#x27;,\n",
       "                                                   &#x27;SUSP_AGE_GROUP&#x27;, &#x27;SUSP_SEX&#x27;,\n",
       "                                                   &#x27;PATROL_BORO&#x27;,\n",
       "                                                   &#x27;VIC_AGE_GROUP&#x27;, &#x27;VIC_RACE&#x27;,\n",
       "                                                   &#x27;VIC_SEX&#x27;, &#x27;reported_dow&#x27;,\n",
       "                                                   &#x27;session_to&#x27;]),\n",
       "                                                 (&#x27;numpipe&#x27;,\n",
       "                                                  Pipeline(steps=[(&#x27;numnorm&#x27;,\n",
       "                                                                   StandardScaler())]),\n",
       "                                                  [&#x27;year&#x27;, &#x27;month&#x27;, &#x27;session&#x27;,\n",
       "                                                   &#x27;diff_min&#x27;])])),\n",
       "                (&#x27;smote&#x27;, SMOTE()), (&#x27;model&#x27;, RandomForestClassifier())])</pre></div></div></div><div class=\"sk-serial\"><div class=\"sk-item sk-dashed-wrapped\"><div class=\"sk-label-container\"><div class=\"sk-label sk-toggleable\"><input class=\"sk-toggleable__control sk-hidden--visually\" id=\"sk-estimator-id-443\" type=\"checkbox\" ><label for=\"sk-estimator-id-443\" class=\"sk-toggleable__label sk-toggleable__label-arrow\">preprocess: ColumnTransformer</label><div class=\"sk-toggleable__content\"><pre>ColumnTransformer(transformers=[(&#x27;nominalpipe&#x27;,\n",
       "                                 Pipeline(steps=[(&#x27;onehotenc&#x27;,\n",
       "                                                  OneHotEncoder(handle_unknown=&#x27;ignore&#x27;,\n",
       "                                                                sparse=False)),\n",
       "                                                 (&#x27;onehotnorm&#x27;,\n",
       "                                                  MaxAbsScaler())]),\n",
       "                                 [&#x27;ADDR_PCT_CD&#x27;, &#x27;KY_CD&#x27;, &#x27;OFNS_DESC&#x27;,\n",
       "                                  &#x27;PD_DESC&#x27;, &#x27;LAW_CAT_CD&#x27;, &#x27;BORO_NM&#x27;,\n",
       "                                  &#x27;LOC_OF_OCCUR_DESC&#x27;, &#x27;SUSP_AGE_GROUP&#x27;,\n",
       "                                  &#x27;SUSP_SEX&#x27;, &#x27;PATROL_BORO&#x27;, &#x27;VIC_AGE_GROUP&#x27;,\n",
       "                                  &#x27;VIC_RACE&#x27;, &#x27;VIC_SEX&#x27;, &#x27;reported_dow&#x27;,\n",
       "                                  &#x27;session_to&#x27;]),\n",
       "                                (&#x27;numpipe&#x27;,\n",
       "                                 Pipeline(steps=[(&#x27;numnorm&#x27;,\n",
       "                                                  StandardScaler())]),\n",
       "                                 [&#x27;year&#x27;, &#x27;month&#x27;, &#x27;session&#x27;, &#x27;diff_min&#x27;])])</pre></div></div></div><div class=\"sk-parallel\"><div class=\"sk-parallel-item\"><div class=\"sk-item\"><div class=\"sk-label-container\"><div class=\"sk-label sk-toggleable\"><input class=\"sk-toggleable__control sk-hidden--visually\" id=\"sk-estimator-id-444\" type=\"checkbox\" ><label for=\"sk-estimator-id-444\" class=\"sk-toggleable__label sk-toggleable__label-arrow\">nominalpipe</label><div class=\"sk-toggleable__content\"><pre>[&#x27;ADDR_PCT_CD&#x27;, &#x27;KY_CD&#x27;, &#x27;OFNS_DESC&#x27;, &#x27;PD_DESC&#x27;, &#x27;LAW_CAT_CD&#x27;, &#x27;BORO_NM&#x27;, &#x27;LOC_OF_OCCUR_DESC&#x27;, &#x27;SUSP_AGE_GROUP&#x27;, &#x27;SUSP_SEX&#x27;, &#x27;PATROL_BORO&#x27;, &#x27;VIC_AGE_GROUP&#x27;, &#x27;VIC_RACE&#x27;, &#x27;VIC_SEX&#x27;, &#x27;reported_dow&#x27;, &#x27;session_to&#x27;]</pre></div></div></div><div class=\"sk-serial\"><div class=\"sk-item\"><div class=\"sk-serial\"><div class=\"sk-item\"><div class=\"sk-estimator sk-toggleable\"><input class=\"sk-toggleable__control sk-hidden--visually\" id=\"sk-estimator-id-445\" type=\"checkbox\" ><label for=\"sk-estimator-id-445\" class=\"sk-toggleable__label sk-toggleable__label-arrow\">OneHotEncoder</label><div class=\"sk-toggleable__content\"><pre>OneHotEncoder(handle_unknown=&#x27;ignore&#x27;, sparse=False)</pre></div></div></div><div class=\"sk-item\"><div class=\"sk-estimator sk-toggleable\"><input class=\"sk-toggleable__control sk-hidden--visually\" id=\"sk-estimator-id-446\" type=\"checkbox\" ><label for=\"sk-estimator-id-446\" class=\"sk-toggleable__label sk-toggleable__label-arrow\">MaxAbsScaler</label><div class=\"sk-toggleable__content\"><pre>MaxAbsScaler()</pre></div></div></div></div></div></div></div></div><div class=\"sk-parallel-item\"><div class=\"sk-item\"><div class=\"sk-label-container\"><div class=\"sk-label sk-toggleable\"><input class=\"sk-toggleable__control sk-hidden--visually\" id=\"sk-estimator-id-447\" type=\"checkbox\" ><label for=\"sk-estimator-id-447\" class=\"sk-toggleable__label sk-toggleable__label-arrow\">numpipe</label><div class=\"sk-toggleable__content\"><pre>[&#x27;year&#x27;, &#x27;month&#x27;, &#x27;session&#x27;, &#x27;diff_min&#x27;]</pre></div></div></div><div class=\"sk-serial\"><div class=\"sk-item\"><div class=\"sk-serial\"><div class=\"sk-item\"><div class=\"sk-estimator sk-toggleable\"><input class=\"sk-toggleable__control sk-hidden--visually\" id=\"sk-estimator-id-448\" type=\"checkbox\" ><label for=\"sk-estimator-id-448\" class=\"sk-toggleable__label sk-toggleable__label-arrow\">StandardScaler</label><div class=\"sk-toggleable__content\"><pre>StandardScaler()</pre></div></div></div></div></div></div></div></div></div></div><div class=\"sk-item\"><div class=\"sk-estimator sk-toggleable\"><input class=\"sk-toggleable__control sk-hidden--visually\" id=\"sk-estimator-id-449\" type=\"checkbox\" ><label for=\"sk-estimator-id-449\" class=\"sk-toggleable__label sk-toggleable__label-arrow\">SMOTE</label><div class=\"sk-toggleable__content\"><pre>SMOTE()</pre></div></div></div><div class=\"sk-item\"><div class=\"sk-estimator sk-toggleable\"><input class=\"sk-toggleable__control sk-hidden--visually\" id=\"sk-estimator-id-450\" type=\"checkbox\" ><label for=\"sk-estimator-id-450\" class=\"sk-toggleable__label sk-toggleable__label-arrow\">RandomForestClassifier</label><div class=\"sk-toggleable__content\"><pre>RandomForestClassifier()</pre></div></div></div></div></div></div></div>"
      ],
      "text/plain": [
       "Pipeline(steps=[('preprocess',\n",
       "                 ColumnTransformer(transformers=[('nominalpipe',\n",
       "                                                  Pipeline(steps=[('onehotenc',\n",
       "                                                                   OneHotEncoder(handle_unknown='ignore',\n",
       "                                                                                 sparse=False)),\n",
       "                                                                  ('onehotnorm',\n",
       "                                                                   MaxAbsScaler())]),\n",
       "                                                  ['ADDR_PCT_CD', 'KY_CD',\n",
       "                                                   'OFNS_DESC', 'PD_DESC',\n",
       "                                                   'LAW_CAT_CD', 'BORO_NM',\n",
       "                                                   'LOC_OF_OCCUR_DESC',\n",
       "                                                   'SUSP_AGE_GROUP', 'SUSP_SEX',\n",
       "                                                   'PATROL_BORO',\n",
       "                                                   'VIC_AGE_GROUP', 'VIC_RACE',\n",
       "                                                   'VIC_SEX', 'reported_dow',\n",
       "                                                   'session_to']),\n",
       "                                                 ('numpipe',\n",
       "                                                  Pipeline(steps=[('numnorm',\n",
       "                                                                   StandardScaler())]),\n",
       "                                                  ['year', 'month', 'session',\n",
       "                                                   'diff_min'])])),\n",
       "                ('smote', SMOTE()), ('model', RandomForestClassifier())])"
      ]
     },
     "execution_count": 474,
     "metadata": {},
     "output_type": "execute_result"
    }
   ],
   "source": [
    "RF_pipe_SMOTE"
   ]
  },
  {
   "cell_type": "code",
   "execution_count": 475,
   "id": "35635886-6277-4812-8d95-04f6665b3cd9",
   "metadata": {},
   "outputs": [
    {
     "data": {
      "text/html": [
       "<style>#sk-container-id-64 {color: black;background-color: white;}#sk-container-id-64 pre{padding: 0;}#sk-container-id-64 div.sk-toggleable {background-color: white;}#sk-container-id-64 label.sk-toggleable__label {cursor: pointer;display: block;width: 100%;margin-bottom: 0;padding: 0.3em;box-sizing: border-box;text-align: center;}#sk-container-id-64 label.sk-toggleable__label-arrow:before {content: \"▸\";float: left;margin-right: 0.25em;color: #696969;}#sk-container-id-64 label.sk-toggleable__label-arrow:hover:before {color: black;}#sk-container-id-64 div.sk-estimator:hover label.sk-toggleable__label-arrow:before {color: black;}#sk-container-id-64 div.sk-toggleable__content {max-height: 0;max-width: 0;overflow: hidden;text-align: left;background-color: #f0f8ff;}#sk-container-id-64 div.sk-toggleable__content pre {margin: 0.2em;color: black;border-radius: 0.25em;background-color: #f0f8ff;}#sk-container-id-64 input.sk-toggleable__control:checked~div.sk-toggleable__content {max-height: 200px;max-width: 100%;overflow: auto;}#sk-container-id-64 input.sk-toggleable__control:checked~label.sk-toggleable__label-arrow:before {content: \"▾\";}#sk-container-id-64 div.sk-estimator input.sk-toggleable__control:checked~label.sk-toggleable__label {background-color: #d4ebff;}#sk-container-id-64 div.sk-label input.sk-toggleable__control:checked~label.sk-toggleable__label {background-color: #d4ebff;}#sk-container-id-64 input.sk-hidden--visually {border: 0;clip: rect(1px 1px 1px 1px);clip: rect(1px, 1px, 1px, 1px);height: 1px;margin: -1px;overflow: hidden;padding: 0;position: absolute;width: 1px;}#sk-container-id-64 div.sk-estimator {font-family: monospace;background-color: #f0f8ff;border: 1px dotted black;border-radius: 0.25em;box-sizing: border-box;margin-bottom: 0.5em;}#sk-container-id-64 div.sk-estimator:hover {background-color: #d4ebff;}#sk-container-id-64 div.sk-parallel-item::after {content: \"\";width: 100%;border-bottom: 1px solid gray;flex-grow: 1;}#sk-container-id-64 div.sk-label:hover label.sk-toggleable__label {background-color: #d4ebff;}#sk-container-id-64 div.sk-serial::before {content: \"\";position: absolute;border-left: 1px solid gray;box-sizing: border-box;top: 0;bottom: 0;left: 50%;z-index: 0;}#sk-container-id-64 div.sk-serial {display: flex;flex-direction: column;align-items: center;background-color: white;padding-right: 0.2em;padding-left: 0.2em;position: relative;}#sk-container-id-64 div.sk-item {position: relative;z-index: 1;}#sk-container-id-64 div.sk-parallel {display: flex;align-items: stretch;justify-content: center;background-color: white;position: relative;}#sk-container-id-64 div.sk-item::before, #sk-container-id-64 div.sk-parallel-item::before {content: \"\";position: absolute;border-left: 1px solid gray;box-sizing: border-box;top: 0;bottom: 0;left: 50%;z-index: -1;}#sk-container-id-64 div.sk-parallel-item {display: flex;flex-direction: column;z-index: 1;position: relative;background-color: white;}#sk-container-id-64 div.sk-parallel-item:first-child::after {align-self: flex-end;width: 50%;}#sk-container-id-64 div.sk-parallel-item:last-child::after {align-self: flex-start;width: 50%;}#sk-container-id-64 div.sk-parallel-item:only-child::after {width: 0;}#sk-container-id-64 div.sk-dashed-wrapped {border: 1px dashed gray;margin: 0 0.4em 0.5em 0.4em;box-sizing: border-box;padding-bottom: 0.4em;background-color: white;}#sk-container-id-64 div.sk-label label {font-family: monospace;font-weight: bold;display: inline-block;line-height: 1.2em;}#sk-container-id-64 div.sk-label-container {text-align: center;}#sk-container-id-64 div.sk-container {/* jupyter's `normalize.less` sets `[hidden] { display: none; }` but bootstrap.min.css set `[hidden] { display: none !important; }` so we also need the `!important` here to be able to override the default hidden behavior on the sphinx rendered scikit-learn.org. See: https://github.com/scikit-learn/scikit-learn/issues/21755 */display: inline-block !important;position: relative;}#sk-container-id-64 div.sk-text-repr-fallback {display: none;}</style><div id=\"sk-container-id-64\" class=\"sk-top-container\"><div class=\"sk-text-repr-fallback\"><pre>RandomForestClassifier()</pre><b>In a Jupyter environment, please rerun this cell to show the HTML representation or trust the notebook. <br />On GitHub, the HTML representation is unable to render, please try loading this page with nbviewer.org.</b></div><div class=\"sk-container\" hidden><div class=\"sk-item\"><div class=\"sk-estimator sk-toggleable\"><input class=\"sk-toggleable__control sk-hidden--visually\" id=\"sk-estimator-id-451\" type=\"checkbox\" checked><label for=\"sk-estimator-id-451\" class=\"sk-toggleable__label sk-toggleable__label-arrow\">RandomForestClassifier</label><div class=\"sk-toggleable__content\"><pre>RandomForestClassifier()</pre></div></div></div></div></div>"
      ],
      "text/plain": [
       "RandomForestClassifier()"
      ]
     },
     "execution_count": 475,
     "metadata": {},
     "output_type": "execute_result"
    }
   ],
   "source": [
    "RF_pipe_SMOTE.named_steps['model']"
   ]
  },
  {
   "cell_type": "code",
   "execution_count": 476,
   "id": "6d7b55c2-7c7b-445a-a9d6-afc743b30734",
   "metadata": {},
   "outputs": [],
   "source": [
    "onehot_cols = RF_pipe_SMOTE.named_steps['preprocess'].named_transformers_['nominalpipe'].named_steps['onehotenc'].get_feature_names_out()"
   ]
  },
  {
   "cell_type": "code",
   "execution_count": 477,
   "id": "18f248d4-35e2-4b15-8390-3d1991aba66c",
   "metadata": {},
   "outputs": [
    {
     "data": {
      "text/html": [
       "<div>\n",
       "<style scoped>\n",
       "    .dataframe tbody tr th:only-of-type {\n",
       "        vertical-align: middle;\n",
       "    }\n",
       "\n",
       "    .dataframe tbody tr th {\n",
       "        vertical-align: top;\n",
       "    }\n",
       "\n",
       "    .dataframe thead th {\n",
       "        text-align: right;\n",
       "    }\n",
       "</style>\n",
       "<table border=\"1\" class=\"dataframe\">\n",
       "  <thead>\n",
       "    <tr style=\"text-align: right;\">\n",
       "      <th></th>\n",
       "      <th>0</th>\n",
       "      <th>1</th>\n",
       "    </tr>\n",
       "  </thead>\n",
       "  <tbody>\n",
       "    <tr>\n",
       "      <th>380</th>\n",
       "      <td>LAW_CAT_CD_FELONY</td>\n",
       "      <td>0.061496</td>\n",
       "    </tr>\n",
       "    <tr>\n",
       "      <th>381</th>\n",
       "      <td>LAW_CAT_CD_MISDEMEANOR</td>\n",
       "      <td>0.029171</td>\n",
       "    </tr>\n",
       "    <tr>\n",
       "      <th>138</th>\n",
       "      <td>OFNS_DESC_HARRASSMENT 2</td>\n",
       "      <td>0.027334</td>\n",
       "    </tr>\n",
       "    <tr>\n",
       "      <th>119</th>\n",
       "      <td>KY_CD_578</td>\n",
       "      <td>0.024055</td>\n",
       "    </tr>\n",
       "    <tr>\n",
       "      <th>422</th>\n",
       "      <td>VIC_SEX_F</td>\n",
       "      <td>0.021308</td>\n",
       "    </tr>\n",
       "    <tr>\n",
       "      <th>...</th>\n",
       "      <td>...</td>\n",
       "      <td>...</td>\n",
       "    </tr>\n",
       "    <tr>\n",
       "      <th>312</th>\n",
       "      <td>PD_DESC_PROSTITUTION, PATRONIZING 4, 3</td>\n",
       "      <td>0.000000</td>\n",
       "    </tr>\n",
       "    <tr>\n",
       "      <th>319</th>\n",
       "      <td>PD_DESC_RECKLESS DRIVING</td>\n",
       "      <td>0.000000</td>\n",
       "    </tr>\n",
       "    <tr>\n",
       "      <th>363</th>\n",
       "      <td>PD_DESC_TAMPERING WITH A WITNESS</td>\n",
       "      <td>0.000000</td>\n",
       "    </tr>\n",
       "    <tr>\n",
       "      <th>367</th>\n",
       "      <td>PD_DESC_TRAFFIC,UNCLASSIFIED MISDEMEAN</td>\n",
       "      <td>0.000000</td>\n",
       "    </tr>\n",
       "    <tr>\n",
       "      <th>170</th>\n",
       "      <td>PD_DESC_BRIBERY,COMMERCIAL</td>\n",
       "      <td>0.000000</td>\n",
       "    </tr>\n",
       "  </tbody>\n",
       "</table>\n",
       "<p>435 rows × 2 columns</p>\n",
       "</div>"
      ],
      "text/plain": [
       "                                          0         1\n",
       "380                       LAW_CAT_CD_FELONY  0.061496\n",
       "381                  LAW_CAT_CD_MISDEMEANOR  0.029171\n",
       "138                 OFNS_DESC_HARRASSMENT 2  0.027334\n",
       "119                               KY_CD_578  0.024055\n",
       "422                               VIC_SEX_F  0.021308\n",
       "..                                      ...       ...\n",
       "312  PD_DESC_PROSTITUTION, PATRONIZING 4, 3  0.000000\n",
       "319                PD_DESC_RECKLESS DRIVING  0.000000\n",
       "363        PD_DESC_TAMPERING WITH A WITNESS  0.000000\n",
       "367  PD_DESC_TRAFFIC,UNCLASSIFIED MISDEMEAN  0.000000\n",
       "170              PD_DESC_BRIBERY,COMMERCIAL  0.000000\n",
       "\n",
       "[435 rows x 2 columns]"
      ]
     },
     "execution_count": 477,
     "metadata": {},
     "output_type": "execute_result"
    }
   ],
   "source": [
    "#all feature importances...could use any pipeline to get them\n",
    "\n",
    "feature_importances = (RF_pipe_SMOTE.steps[2][1].feature_importances_)\n",
    "pd.DataFrame(list(zip(onehot_cols, feature_importances))).sort_values(by = 1, ascending = False)"
   ]
  },
  {
   "cell_type": "code",
   "execution_count": 510,
   "id": "1711d7fe-fb93-4c72-91cc-ed9cded24d5d",
   "metadata": {},
   "outputs": [
    {
     "data": {
      "image/png": "[encoded data removed]",
      "text/plain": [
       "<Figure size 432x288 with 1 Axes>"
      ]
     },
     "metadata": {
      "needs_background": "light"
     },
     "output_type": "display_data"
    }
   ],
   "source": [
    "#graph of all feature importances \n",
    "\n",
    "from sklearn.datasets import make_regression\n",
    "from sklearn.linear_model import LinearRegression\n",
    "from matplotlib import pyplot\n",
    "\n",
    "# plot feature importance\n",
    "pyplot.bar([x for x in range(len(feature_importances))], feature_importances)\n",
    "pyplot.show()"
   ]
  },
  {
   "cell_type": "code",
   "execution_count": 489,
   "id": "526bb9dc-565a-4595-9086-a4dafd5c9f86",
   "metadata": {},
   "outputs": [],
   "source": [
    "#list of top 10 most important features\n",
    "#feature importance values are the absolute value of the coefficients \n",
    "\n",
    "feature_importances = (RF_pipe_SMOTE.steps[2][1].feature_importances_)\n",
    "graph = pd.DataFrame(list(zip(onehot_cols, feature_importances))).sort_values(by = 1, ascending = False).head(10)"
   ]
  },
  {
   "cell_type": "code",
   "execution_count": 496,
   "id": "e57e7069-d727-404f-9d0d-1191cf65888a",
   "metadata": {},
   "outputs": [
    {
     "data": {
      "text/html": [
       "<div>\n",
       "<style scoped>\n",
       "    .dataframe tbody tr th:only-of-type {\n",
       "        vertical-align: middle;\n",
       "    }\n",
       "\n",
       "    .dataframe tbody tr th {\n",
       "        vertical-align: top;\n",
       "    }\n",
       "\n",
       "    .dataframe thead th {\n",
       "        text-align: right;\n",
       "    }\n",
       "</style>\n",
       "<table border=\"1\" class=\"dataframe\">\n",
       "  <thead>\n",
       "    <tr style=\"text-align: right;\">\n",
       "      <th></th>\n",
       "      <th>0</th>\n",
       "      <th>1</th>\n",
       "    </tr>\n",
       "  </thead>\n",
       "  <tbody>\n",
       "    <tr>\n",
       "      <th>380</th>\n",
       "      <td>LAW_CAT_CD_FELONY</td>\n",
       "      <td>0.061496</td>\n",
       "    </tr>\n",
       "    <tr>\n",
       "      <th>381</th>\n",
       "      <td>LAW_CAT_CD_MISDEMEANOR</td>\n",
       "      <td>0.029171</td>\n",
       "    </tr>\n",
       "    <tr>\n",
       "      <th>138</th>\n",
       "      <td>OFNS_DESC_HARRASSMENT 2</td>\n",
       "      <td>0.027334</td>\n",
       "    </tr>\n",
       "    <tr>\n",
       "      <th>119</th>\n",
       "      <td>KY_CD_578</td>\n",
       "      <td>0.024055</td>\n",
       "    </tr>\n",
       "    <tr>\n",
       "      <th>422</th>\n",
       "      <td>VIC_SEX_F</td>\n",
       "      <td>0.021308</td>\n",
       "    </tr>\n",
       "    <tr>\n",
       "      <th>382</th>\n",
       "      <td>LAW_CAT_CD_VIOLATION</td>\n",
       "      <td>0.020843</td>\n",
       "    </tr>\n",
       "    <tr>\n",
       "      <th>163</th>\n",
       "      <td>PD_DESC_ASSAULT 2,1,UNCLASSIFIED</td>\n",
       "      <td>0.020329</td>\n",
       "    </tr>\n",
       "    <tr>\n",
       "      <th>423</th>\n",
       "      <td>VIC_SEX_M</td>\n",
       "      <td>0.018454</td>\n",
       "    </tr>\n",
       "    <tr>\n",
       "      <th>132</th>\n",
       "      <td>OFNS_DESC_FELONY ASSAULT</td>\n",
       "      <td>0.018294</td>\n",
       "    </tr>\n",
       "    <tr>\n",
       "      <th>79</th>\n",
       "      <td>KY_CD_105</td>\n",
       "      <td>0.016483</td>\n",
       "    </tr>\n",
       "  </tbody>\n",
       "</table>\n",
       "</div>"
      ],
      "text/plain": [
       "                                    0         1\n",
       "380                 LAW_CAT_CD_FELONY  0.061496\n",
       "381            LAW_CAT_CD_MISDEMEANOR  0.029171\n",
       "138           OFNS_DESC_HARRASSMENT 2  0.027334\n",
       "119                         KY_CD_578  0.024055\n",
       "422                         VIC_SEX_F  0.021308\n",
       "382              LAW_CAT_CD_VIOLATION  0.020843\n",
       "163  PD_DESC_ASSAULT 2,1,UNCLASSIFIED  0.020329\n",
       "423                         VIC_SEX_M  0.018454\n",
       "132          OFNS_DESC_FELONY ASSAULT  0.018294\n",
       "79                          KY_CD_105  0.016483"
      ]
     },
     "execution_count": 496,
     "metadata": {},
     "output_type": "execute_result"
    }
   ],
   "source": [
    "graph"
   ]
  },
  {
   "cell_type": "code",
   "execution_count": 525,
   "id": "40216064-04cd-4e82-9f86-e0bd62600b22",
   "metadata": {},
   "outputs": [
    {
     "data": {
      "text/plain": [
       "Text(0.5, 0, 'Features')"
      ]
     },
     "execution_count": 525,
     "metadata": {},
     "output_type": "execute_result"
    },
    {
     "data": {
      "image/png": "[encoded data removed]",
      "text/plain": [
       "<Figure size 864x504 with 1 Axes>"
      ]
     },
     "metadata": {
      "needs_background": "light"
     },
     "output_type": "display_data"
    }
   ],
   "source": [
    "#top 10 feature importances: how it determines whether a crime is attempted or completed \n",
    "#KY_CD_578 is Harrassment 2 and KY_CD_105 is Robbery \n",
    "\n",
    "from sklearn.datasets import make_regression\n",
    "from sklearn.linear_model import LinearRegression\n",
    "from matplotlib import pyplot\n",
    "import seaborn as sns\n",
    "fig, ax = plt.subplots(1,1, figsize=(12, 7))\n",
    "\n",
    "sns.barplot(x=graph[0], y= graph[1], data=graph)\n",
    "ax.set_xticklabels(ax.get_xticklabels(), rotation=65)\n",
    "ax.set_title('Top 10 Feature Importances', fontsize=25)\n",
    "ax.set_ylabel('Feature Importance (Abs. Val of Coefficients)', fontsize=22)\n",
    "ax.set_xlabel('Features', fontsize=22)\n",
    "\n",
    "# plot feature importance\n",
    "#pyplot.bar([x for x in range(len(feature_importances))], feature_importances)\n",
    "#pyplot.show()"
   ]
  },
  {
   "cell_type": "code",
   "execution_count": 478,
   "id": "b4f2bbd6-1bf3-46b1-8592-847c869e53e2",
   "metadata": {},
   "outputs": [
    {
     "data": {
      "text/html": [
       "<style>#sk-container-id-65 {color: black;background-color: white;}#sk-container-id-65 pre{padding: 0;}#sk-container-id-65 div.sk-toggleable {background-color: white;}#sk-container-id-65 label.sk-toggleable__label {cursor: pointer;display: block;width: 100%;margin-bottom: 0;padding: 0.3em;box-sizing: border-box;text-align: center;}#sk-container-id-65 label.sk-toggleable__label-arrow:before {content: \"▸\";float: left;margin-right: 0.25em;color: #696969;}#sk-container-id-65 label.sk-toggleable__label-arrow:hover:before {color: black;}#sk-container-id-65 div.sk-estimator:hover label.sk-toggleable__label-arrow:before {color: black;}#sk-container-id-65 div.sk-toggleable__content {max-height: 0;max-width: 0;overflow: hidden;text-align: left;background-color: #f0f8ff;}#sk-container-id-65 div.sk-toggleable__content pre {margin: 0.2em;color: black;border-radius: 0.25em;background-color: #f0f8ff;}#sk-container-id-65 input.sk-toggleable__control:checked~div.sk-toggleable__content {max-height: 200px;max-width: 100%;overflow: auto;}#sk-container-id-65 input.sk-toggleable__control:checked~label.sk-toggleable__label-arrow:before {content: \"▾\";}#sk-container-id-65 div.sk-estimator input.sk-toggleable__control:checked~label.sk-toggleable__label {background-color: #d4ebff;}#sk-container-id-65 div.sk-label input.sk-toggleable__control:checked~label.sk-toggleable__label {background-color: #d4ebff;}#sk-container-id-65 input.sk-hidden--visually {border: 0;clip: rect(1px 1px 1px 1px);clip: rect(1px, 1px, 1px, 1px);height: 1px;margin: -1px;overflow: hidden;padding: 0;position: absolute;width: 1px;}#sk-container-id-65 div.sk-estimator {font-family: monospace;background-color: #f0f8ff;border: 1px dotted black;border-radius: 0.25em;box-sizing: border-box;margin-bottom: 0.5em;}#sk-container-id-65 div.sk-estimator:hover {background-color: #d4ebff;}#sk-container-id-65 div.sk-parallel-item::after {content: \"\";width: 100%;border-bottom: 1px solid gray;flex-grow: 1;}#sk-container-id-65 div.sk-label:hover label.sk-toggleable__label {background-color: #d4ebff;}#sk-container-id-65 div.sk-serial::before {content: \"\";position: absolute;border-left: 1px solid gray;box-sizing: border-box;top: 0;bottom: 0;left: 50%;z-index: 0;}#sk-container-id-65 div.sk-serial {display: flex;flex-direction: column;align-items: center;background-color: white;padding-right: 0.2em;padding-left: 0.2em;position: relative;}#sk-container-id-65 div.sk-item {position: relative;z-index: 1;}#sk-container-id-65 div.sk-parallel {display: flex;align-items: stretch;justify-content: center;background-color: white;position: relative;}#sk-container-id-65 div.sk-item::before, #sk-container-id-65 div.sk-parallel-item::before {content: \"\";position: absolute;border-left: 1px solid gray;box-sizing: border-box;top: 0;bottom: 0;left: 50%;z-index: -1;}#sk-container-id-65 div.sk-parallel-item {display: flex;flex-direction: column;z-index: 1;position: relative;background-color: white;}#sk-container-id-65 div.sk-parallel-item:first-child::after {align-self: flex-end;width: 50%;}#sk-container-id-65 div.sk-parallel-item:last-child::after {align-self: flex-start;width: 50%;}#sk-container-id-65 div.sk-parallel-item:only-child::after {width: 0;}#sk-container-id-65 div.sk-dashed-wrapped {border: 1px dashed gray;margin: 0 0.4em 0.5em 0.4em;box-sizing: border-box;padding-bottom: 0.4em;background-color: white;}#sk-container-id-65 div.sk-label label {font-family: monospace;font-weight: bold;display: inline-block;line-height: 1.2em;}#sk-container-id-65 div.sk-label-container {text-align: center;}#sk-container-id-65 div.sk-container {/* jupyter's `normalize.less` sets `[hidden] { display: none; }` but bootstrap.min.css set `[hidden] { display: none !important; }` so we also need the `!important` here to be able to override the default hidden behavior on the sphinx rendered scikit-learn.org. See: https://github.com/scikit-learn/scikit-learn/issues/21755 */display: inline-block !important;position: relative;}#sk-container-id-65 div.sk-text-repr-fallback {display: none;}</style><div id=\"sk-container-id-65\" class=\"sk-top-container\"><div class=\"sk-text-repr-fallback\"><pre>GridSearchCV(cv=5,\n",
       "             estimator=Pipeline(steps=[(&#x27;preprocess&#x27;,\n",
       "                                        ColumnTransformer(transformers=[(&#x27;nominalpipe&#x27;,\n",
       "                                                                         Pipeline(steps=[(&#x27;onehotenc&#x27;,\n",
       "                                                                                          OneHotEncoder(handle_unknown=&#x27;ignore&#x27;,\n",
       "                                                                                                        sparse=False)),\n",
       "                                                                                         (&#x27;onehotnorm&#x27;,\n",
       "                                                                                          MaxAbsScaler())]),\n",
       "                                                                         [&#x27;ADDR_PCT_CD&#x27;,\n",
       "                                                                          &#x27;KY_CD&#x27;,\n",
       "                                                                          &#x27;OFNS_DESC&#x27;,\n",
       "                                                                          &#x27;PD_DESC&#x27;,\n",
       "                                                                          &#x27;LAW_CAT_CD&#x27;,\n",
       "                                                                          &#x27;BORO_NM&#x27;,\n",
       "                                                                          &#x27;LOC_OF_OCCUR_DESC&#x27;,\n",
       "                                                                          &#x27;SUSP_AGE_GROUP&#x27;,\n",
       "                                                                          &#x27;SUSP_SEX&#x27;,\n",
       "                                                                          &#x27;PATROL_BORO&#x27;,\n",
       "                                                                          &#x27;VIC_AGE_GROUP&#x27;,\n",
       "                                                                          &#x27;VIC_RACE&#x27;,\n",
       "                                                                          &#x27;VIC_SEX&#x27;,\n",
       "                                                                          &#x27;reported_dow&#x27;,\n",
       "                                                                          &#x27;session_to&#x27;]),\n",
       "                                                                        (&#x27;numpipe&#x27;,\n",
       "                                                                         Pipeline(steps=[(&#x27;numnorm&#x27;,\n",
       "                                                                                          StandardScaler())]),\n",
       "                                                                         [&#x27;year&#x27;,\n",
       "                                                                          &#x27;month&#x27;,\n",
       "                                                                          &#x27;session&#x27;,\n",
       "                                                                          &#x27;diff_min&#x27;])])),\n",
       "                                       (&#x27;smote&#x27;, SMOTE()),\n",
       "                                       (&#x27;model&#x27;, RandomForestClassifier())]),\n",
       "             param_grid={&#x27;model__min_samples_leaf&#x27;: [1, 3, 5, 7],\n",
       "                         &#x27;model__n_estimators&#x27;: [50, 100, 200, 500]})</pre><b>In a Jupyter environment, please rerun this cell to show the HTML representation or trust the notebook. <br />On GitHub, the HTML representation is unable to render, please try loading this page with nbviewer.org.</b></div><div class=\"sk-container\" hidden><div class=\"sk-item sk-dashed-wrapped\"><div class=\"sk-label-container\"><div class=\"sk-label sk-toggleable\"><input class=\"sk-toggleable__control sk-hidden--visually\" id=\"sk-estimator-id-452\" type=\"checkbox\" ><label for=\"sk-estimator-id-452\" class=\"sk-toggleable__label sk-toggleable__label-arrow\">GridSearchCV</label><div class=\"sk-toggleable__content\"><pre>GridSearchCV(cv=5,\n",
       "             estimator=Pipeline(steps=[(&#x27;preprocess&#x27;,\n",
       "                                        ColumnTransformer(transformers=[(&#x27;nominalpipe&#x27;,\n",
       "                                                                         Pipeline(steps=[(&#x27;onehotenc&#x27;,\n",
       "                                                                                          OneHotEncoder(handle_unknown=&#x27;ignore&#x27;,\n",
       "                                                                                                        sparse=False)),\n",
       "                                                                                         (&#x27;onehotnorm&#x27;,\n",
       "                                                                                          MaxAbsScaler())]),\n",
       "                                                                         [&#x27;ADDR_PCT_CD&#x27;,\n",
       "                                                                          &#x27;KY_CD&#x27;,\n",
       "                                                                          &#x27;OFNS_DESC&#x27;,\n",
       "                                                                          &#x27;PD_DESC&#x27;,\n",
       "                                                                          &#x27;LAW_CAT_CD&#x27;,\n",
       "                                                                          &#x27;BORO_NM&#x27;,\n",
       "                                                                          &#x27;LOC_OF_OCCUR_DESC&#x27;,\n",
       "                                                                          &#x27;SUSP_AGE_GROUP&#x27;,\n",
       "                                                                          &#x27;SUSP_SEX&#x27;,\n",
       "                                                                          &#x27;PATROL_BORO&#x27;,\n",
       "                                                                          &#x27;VIC_AGE_GROUP&#x27;,\n",
       "                                                                          &#x27;VIC_RACE&#x27;,\n",
       "                                                                          &#x27;VIC_SEX&#x27;,\n",
       "                                                                          &#x27;reported_dow&#x27;,\n",
       "                                                                          &#x27;session_to&#x27;]),\n",
       "                                                                        (&#x27;numpipe&#x27;,\n",
       "                                                                         Pipeline(steps=[(&#x27;numnorm&#x27;,\n",
       "                                                                                          StandardScaler())]),\n",
       "                                                                         [&#x27;year&#x27;,\n",
       "                                                                          &#x27;month&#x27;,\n",
       "                                                                          &#x27;session&#x27;,\n",
       "                                                                          &#x27;diff_min&#x27;])])),\n",
       "                                       (&#x27;smote&#x27;, SMOTE()),\n",
       "                                       (&#x27;model&#x27;, RandomForestClassifier())]),\n",
       "             param_grid={&#x27;model__min_samples_leaf&#x27;: [1, 3, 5, 7],\n",
       "                         &#x27;model__n_estimators&#x27;: [50, 100, 200, 500]})</pre></div></div></div><div class=\"sk-parallel\"><div class=\"sk-parallel-item\"><div class=\"sk-item\"><div class=\"sk-label-container\"><div class=\"sk-label sk-toggleable\"><input class=\"sk-toggleable__control sk-hidden--visually\" id=\"sk-estimator-id-453\" type=\"checkbox\" ><label for=\"sk-estimator-id-453\" class=\"sk-toggleable__label sk-toggleable__label-arrow\">estimator: Pipeline</label><div class=\"sk-toggleable__content\"><pre>Pipeline(steps=[(&#x27;preprocess&#x27;,\n",
       "                 ColumnTransformer(transformers=[(&#x27;nominalpipe&#x27;,\n",
       "                                                  Pipeline(steps=[(&#x27;onehotenc&#x27;,\n",
       "                                                                   OneHotEncoder(handle_unknown=&#x27;ignore&#x27;,\n",
       "                                                                                 sparse=False)),\n",
       "                                                                  (&#x27;onehotnorm&#x27;,\n",
       "                                                                   MaxAbsScaler())]),\n",
       "                                                  [&#x27;ADDR_PCT_CD&#x27;, &#x27;KY_CD&#x27;,\n",
       "                                                   &#x27;OFNS_DESC&#x27;, &#x27;PD_DESC&#x27;,\n",
       "                                                   &#x27;LAW_CAT_CD&#x27;, &#x27;BORO_NM&#x27;,\n",
       "                                                   &#x27;LOC_OF_OCCUR_DESC&#x27;,\n",
       "                                                   &#x27;SUSP_AGE_GROUP&#x27;, &#x27;SUSP_SEX&#x27;,\n",
       "                                                   &#x27;PATROL_BORO&#x27;,\n",
       "                                                   &#x27;VIC_AGE_GROUP&#x27;, &#x27;VIC_RACE&#x27;,\n",
       "                                                   &#x27;VIC_SEX&#x27;, &#x27;reported_dow&#x27;,\n",
       "                                                   &#x27;session_to&#x27;]),\n",
       "                                                 (&#x27;numpipe&#x27;,\n",
       "                                                  Pipeline(steps=[(&#x27;numnorm&#x27;,\n",
       "                                                                   StandardScaler())]),\n",
       "                                                  [&#x27;year&#x27;, &#x27;month&#x27;, &#x27;session&#x27;,\n",
       "                                                   &#x27;diff_min&#x27;])])),\n",
       "                (&#x27;smote&#x27;, SMOTE()), (&#x27;model&#x27;, RandomForestClassifier())])</pre></div></div></div><div class=\"sk-serial\"><div class=\"sk-item\"><div class=\"sk-serial\"><div class=\"sk-item sk-dashed-wrapped\"><div class=\"sk-label-container\"><div class=\"sk-label sk-toggleable\"><input class=\"sk-toggleable__control sk-hidden--visually\" id=\"sk-estimator-id-454\" type=\"checkbox\" ><label for=\"sk-estimator-id-454\" class=\"sk-toggleable__label sk-toggleable__label-arrow\">preprocess: ColumnTransformer</label><div class=\"sk-toggleable__content\"><pre>ColumnTransformer(transformers=[(&#x27;nominalpipe&#x27;,\n",
       "                                 Pipeline(steps=[(&#x27;onehotenc&#x27;,\n",
       "                                                  OneHotEncoder(handle_unknown=&#x27;ignore&#x27;,\n",
       "                                                                sparse=False)),\n",
       "                                                 (&#x27;onehotnorm&#x27;,\n",
       "                                                  MaxAbsScaler())]),\n",
       "                                 [&#x27;ADDR_PCT_CD&#x27;, &#x27;KY_CD&#x27;, &#x27;OFNS_DESC&#x27;,\n",
       "                                  &#x27;PD_DESC&#x27;, &#x27;LAW_CAT_CD&#x27;, &#x27;BORO_NM&#x27;,\n",
       "                                  &#x27;LOC_OF_OCCUR_DESC&#x27;, &#x27;SUSP_AGE_GROUP&#x27;,\n",
       "                                  &#x27;SUSP_SEX&#x27;, &#x27;PATROL_BORO&#x27;, &#x27;VIC_AGE_GROUP&#x27;,\n",
       "                                  &#x27;VIC_RACE&#x27;, &#x27;VIC_SEX&#x27;, &#x27;reported_dow&#x27;,\n",
       "                                  &#x27;session_to&#x27;]),\n",
       "                                (&#x27;numpipe&#x27;,\n",
       "                                 Pipeline(steps=[(&#x27;numnorm&#x27;,\n",
       "                                                  StandardScaler())]),\n",
       "                                 [&#x27;year&#x27;, &#x27;month&#x27;, &#x27;session&#x27;, &#x27;diff_min&#x27;])])</pre></div></div></div><div class=\"sk-parallel\"><div class=\"sk-parallel-item\"><div class=\"sk-item\"><div class=\"sk-label-container\"><div class=\"sk-label sk-toggleable\"><input class=\"sk-toggleable__control sk-hidden--visually\" id=\"sk-estimator-id-455\" type=\"checkbox\" ><label for=\"sk-estimator-id-455\" class=\"sk-toggleable__label sk-toggleable__label-arrow\">nominalpipe</label><div class=\"sk-toggleable__content\"><pre>[&#x27;ADDR_PCT_CD&#x27;, &#x27;KY_CD&#x27;, &#x27;OFNS_DESC&#x27;, &#x27;PD_DESC&#x27;, &#x27;LAW_CAT_CD&#x27;, &#x27;BORO_NM&#x27;, &#x27;LOC_OF_OCCUR_DESC&#x27;, &#x27;SUSP_AGE_GROUP&#x27;, &#x27;SUSP_SEX&#x27;, &#x27;PATROL_BORO&#x27;, &#x27;VIC_AGE_GROUP&#x27;, &#x27;VIC_RACE&#x27;, &#x27;VIC_SEX&#x27;, &#x27;reported_dow&#x27;, &#x27;session_to&#x27;]</pre></div></div></div><div class=\"sk-serial\"><div class=\"sk-item\"><div class=\"sk-serial\"><div class=\"sk-item\"><div class=\"sk-estimator sk-toggleable\"><input class=\"sk-toggleable__control sk-hidden--visually\" id=\"sk-estimator-id-456\" type=\"checkbox\" ><label for=\"sk-estimator-id-456\" class=\"sk-toggleable__label sk-toggleable__label-arrow\">OneHotEncoder</label><div class=\"sk-toggleable__content\"><pre>OneHotEncoder(handle_unknown=&#x27;ignore&#x27;, sparse=False)</pre></div></div></div><div class=\"sk-item\"><div class=\"sk-estimator sk-toggleable\"><input class=\"sk-toggleable__control sk-hidden--visually\" id=\"sk-estimator-id-457\" type=\"checkbox\" ><label for=\"sk-estimator-id-457\" class=\"sk-toggleable__label sk-toggleable__label-arrow\">MaxAbsScaler</label><div class=\"sk-toggleable__content\"><pre>MaxAbsScaler()</pre></div></div></div></div></div></div></div></div><div class=\"sk-parallel-item\"><div class=\"sk-item\"><div class=\"sk-label-container\"><div class=\"sk-label sk-toggleable\"><input class=\"sk-toggleable__control sk-hidden--visually\" id=\"sk-estimator-id-458\" type=\"checkbox\" ><label for=\"sk-estimator-id-458\" class=\"sk-toggleable__label sk-toggleable__label-arrow\">numpipe</label><div class=\"sk-toggleable__content\"><pre>[&#x27;year&#x27;, &#x27;month&#x27;, &#x27;session&#x27;, &#x27;diff_min&#x27;]</pre></div></div></div><div class=\"sk-serial\"><div class=\"sk-item\"><div class=\"sk-serial\"><div class=\"sk-item\"><div class=\"sk-estimator sk-toggleable\"><input class=\"sk-toggleable__control sk-hidden--visually\" id=\"sk-estimator-id-459\" type=\"checkbox\" ><label for=\"sk-estimator-id-459\" class=\"sk-toggleable__label sk-toggleable__label-arrow\">StandardScaler</label><div class=\"sk-toggleable__content\"><pre>StandardScaler()</pre></div></div></div></div></div></div></div></div></div></div><div class=\"sk-item\"><div class=\"sk-estimator sk-toggleable\"><input class=\"sk-toggleable__control sk-hidden--visually\" id=\"sk-estimator-id-460\" type=\"checkbox\" ><label for=\"sk-estimator-id-460\" class=\"sk-toggleable__label sk-toggleable__label-arrow\">SMOTE</label><div class=\"sk-toggleable__content\"><pre>SMOTE()</pre></div></div></div><div class=\"sk-item\"><div class=\"sk-estimator sk-toggleable\"><input class=\"sk-toggleable__control sk-hidden--visually\" id=\"sk-estimator-id-461\" type=\"checkbox\" ><label for=\"sk-estimator-id-461\" class=\"sk-toggleable__label sk-toggleable__label-arrow\">RandomForestClassifier</label><div class=\"sk-toggleable__content\"><pre>RandomForestClassifier()</pre></div></div></div></div></div></div></div></div></div></div></div></div>"
      ],
      "text/plain": [
       "GridSearchCV(cv=5,\n",
       "             estimator=Pipeline(steps=[('preprocess',\n",
       "                                        ColumnTransformer(transformers=[('nominalpipe',\n",
       "                                                                         Pipeline(steps=[('onehotenc',\n",
       "                                                                                          OneHotEncoder(handle_unknown='ignore',\n",
       "                                                                                                        sparse=False)),\n",
       "                                                                                         ('onehotnorm',\n",
       "                                                                                          MaxAbsScaler())]),\n",
       "                                                                         ['ADDR_PCT_CD',\n",
       "                                                                          'KY_CD',\n",
       "                                                                          'OFNS_DESC',\n",
       "                                                                          'PD_DESC',\n",
       "                                                                          'LAW_CAT_CD',\n",
       "                                                                          'BORO_NM',\n",
       "                                                                          'LOC_OF_OCCUR_DESC',\n",
       "                                                                          'SUSP_AGE_GROUP',\n",
       "                                                                          'SUSP_SEX',\n",
       "                                                                          'PATROL_BORO',\n",
       "                                                                          'VIC_AGE_GROUP',\n",
       "                                                                          'VIC_RACE',\n",
       "                                                                          'VIC_SEX',\n",
       "                                                                          'reported_dow',\n",
       "                                                                          'session_to']),\n",
       "                                                                        ('numpipe',\n",
       "                                                                         Pipeline(steps=[('numnorm',\n",
       "                                                                                          StandardScaler())]),\n",
       "                                                                         ['year',\n",
       "                                                                          'month',\n",
       "                                                                          'session',\n",
       "                                                                          'diff_min'])])),\n",
       "                                       ('smote', SMOTE()),\n",
       "                                       ('model', RandomForestClassifier())]),\n",
       "             param_grid={'model__min_samples_leaf': [1, 3, 5, 7],\n",
       "                         'model__n_estimators': [50, 100, 200, 500]})"
      ]
     },
     "execution_count": 478,
     "metadata": {},
     "output_type": "execute_result"
    }
   ],
   "source": [
    "#random forest grid search \n",
    "\n",
    "rf_params = {'model__n_estimators': [50, 100, 200, 500],\n",
    "             'model__min_samples_leaf': [1,3,5,7]}\n",
    "rf_cv = GridSearchCV(estimator = RF_pipe_SMOTE, param_grid = rf_params, cv = 5)\n",
    "rf_cv.fit(X_train, y_train)"
   ]
  },
  {
   "cell_type": "code",
   "execution_count": 517,
   "id": "270ff3cf-3e3b-4132-a2c2-361847c8d0c2",
   "metadata": {},
   "outputs": [
    {
     "data": {
      "text/plain": [
       "0.9876567164179105"
      ]
     },
     "execution_count": 517,
     "metadata": {},
     "output_type": "execute_result"
    }
   ],
   "source": [
    "rf_cv.best_score_   #gives score on best estimation for these numbers "
   ]
  },
  {
   "cell_type": "code",
   "execution_count": 518,
   "id": "9ea9059b-5a68-41b6-8bb6-e0e049c426e5",
   "metadata": {},
   "outputs": [
    {
     "data": {
      "text/plain": [
       "{'model__min_samples_leaf': 1, 'model__n_estimators': 500}"
      ]
     },
     "execution_count": 518,
     "metadata": {},
     "output_type": "execute_result"
    }
   ],
   "source": [
    "rf_cv.best_params_  #shows you the numbers that work best for the grid search "
   ]
  },
  {
   "cell_type": "code",
   "execution_count": 346,
   "id": "5cd34039-a4cb-4a32-93f3-1f70c58fc6cc",
   "metadata": {},
   "outputs": [
    {
     "data": {
      "text/html": [
       "<style>#sk-container-id-41 {color: black;background-color: white;}#sk-container-id-41 pre{padding: 0;}#sk-container-id-41 div.sk-toggleable {background-color: white;}#sk-container-id-41 label.sk-toggleable__label {cursor: pointer;display: block;width: 100%;margin-bottom: 0;padding: 0.3em;box-sizing: border-box;text-align: center;}#sk-container-id-41 label.sk-toggleable__label-arrow:before {content: \"▸\";float: left;margin-right: 0.25em;color: #696969;}#sk-container-id-41 label.sk-toggleable__label-arrow:hover:before {color: black;}#sk-container-id-41 div.sk-estimator:hover label.sk-toggleable__label-arrow:before {color: black;}#sk-container-id-41 div.sk-toggleable__content {max-height: 0;max-width: 0;overflow: hidden;text-align: left;background-color: #f0f8ff;}#sk-container-id-41 div.sk-toggleable__content pre {margin: 0.2em;color: black;border-radius: 0.25em;background-color: #f0f8ff;}#sk-container-id-41 input.sk-toggleable__control:checked~div.sk-toggleable__content {max-height: 200px;max-width: 100%;overflow: auto;}#sk-container-id-41 input.sk-toggleable__control:checked~label.sk-toggleable__label-arrow:before {content: \"▾\";}#sk-container-id-41 div.sk-estimator input.sk-toggleable__control:checked~label.sk-toggleable__label {background-color: #d4ebff;}#sk-container-id-41 div.sk-label input.sk-toggleable__control:checked~label.sk-toggleable__label {background-color: #d4ebff;}#sk-container-id-41 input.sk-hidden--visually {border: 0;clip: rect(1px 1px 1px 1px);clip: rect(1px, 1px, 1px, 1px);height: 1px;margin: -1px;overflow: hidden;padding: 0;position: absolute;width: 1px;}#sk-container-id-41 div.sk-estimator {font-family: monospace;background-color: #f0f8ff;border: 1px dotted black;border-radius: 0.25em;box-sizing: border-box;margin-bottom: 0.5em;}#sk-container-id-41 div.sk-estimator:hover {background-color: #d4ebff;}#sk-container-id-41 div.sk-parallel-item::after {content: \"\";width: 100%;border-bottom: 1px solid gray;flex-grow: 1;}#sk-container-id-41 div.sk-label:hover label.sk-toggleable__label {background-color: #d4ebff;}#sk-container-id-41 div.sk-serial::before {content: \"\";position: absolute;border-left: 1px solid gray;box-sizing: border-box;top: 0;bottom: 0;left: 50%;z-index: 0;}#sk-container-id-41 div.sk-serial {display: flex;flex-direction: column;align-items: center;background-color: white;padding-right: 0.2em;padding-left: 0.2em;position: relative;}#sk-container-id-41 div.sk-item {position: relative;z-index: 1;}#sk-container-id-41 div.sk-parallel {display: flex;align-items: stretch;justify-content: center;background-color: white;position: relative;}#sk-container-id-41 div.sk-item::before, #sk-container-id-41 div.sk-parallel-item::before {content: \"\";position: absolute;border-left: 1px solid gray;box-sizing: border-box;top: 0;bottom: 0;left: 50%;z-index: -1;}#sk-container-id-41 div.sk-parallel-item {display: flex;flex-direction: column;z-index: 1;position: relative;background-color: white;}#sk-container-id-41 div.sk-parallel-item:first-child::after {align-self: flex-end;width: 50%;}#sk-container-id-41 div.sk-parallel-item:last-child::after {align-self: flex-start;width: 50%;}#sk-container-id-41 div.sk-parallel-item:only-child::after {width: 0;}#sk-container-id-41 div.sk-dashed-wrapped {border: 1px dashed gray;margin: 0 0.4em 0.5em 0.4em;box-sizing: border-box;padding-bottom: 0.4em;background-color: white;}#sk-container-id-41 div.sk-label label {font-family: monospace;font-weight: bold;display: inline-block;line-height: 1.2em;}#sk-container-id-41 div.sk-label-container {text-align: center;}#sk-container-id-41 div.sk-container {/* jupyter's `normalize.less` sets `[hidden] { display: none; }` but bootstrap.min.css set `[hidden] { display: none !important; }` so we also need the `!important` here to be able to override the default hidden behavior on the sphinx rendered scikit-learn.org. See: https://github.com/scikit-learn/scikit-learn/issues/21755 */display: inline-block !important;position: relative;}#sk-container-id-41 div.sk-text-repr-fallback {display: none;}</style><div id=\"sk-container-id-41\" class=\"sk-top-container\"><div class=\"sk-text-repr-fallback\"><pre>Pipeline(steps=[(&#x27;preprocess&#x27;,\n",
       "                 ColumnTransformer(transformers=[(&#x27;nominalpipe&#x27;,\n",
       "                                                  Pipeline(steps=[(&#x27;onehotenc&#x27;,\n",
       "                                                                   OneHotEncoder(handle_unknown=&#x27;ignore&#x27;,\n",
       "                                                                                 sparse=False)),\n",
       "                                                                  (&#x27;onehotnorm&#x27;,\n",
       "                                                                   MaxAbsScaler())]),\n",
       "                                                  [&#x27;ADDR_PCT_CD&#x27;, &#x27;KY_CD&#x27;,\n",
       "                                                   &#x27;OFNS_DESC&#x27;, &#x27;PD_DESC&#x27;,\n",
       "                                                   &#x27;LAW_CAT_CD&#x27;, &#x27;BORO_NM&#x27;,\n",
       "                                                   &#x27;LOC_OF_OCCUR_DESC&#x27;,\n",
       "                                                   &#x27;SUSP_AGE_GROUP&#x27;, &#x27;SUSP_SEX&#x27;,\n",
       "                                                   &#x27;PATROL_BORO&#x27;,\n",
       "                                                   &#x27;VIC_AGE_GROUP&#x27;, &#x27;VIC_RACE&#x27;,\n",
       "                                                   &#x27;VIC_SEX&#x27;, &#x27;reported_dow&#x27;,\n",
       "                                                   &#x27;session_to&#x27;]),\n",
       "                                                 (&#x27;numpipe&#x27;,\n",
       "                                                  Pipeline(steps=[(&#x27;numnorm&#x27;,\n",
       "                                                                   StandardScaler())]),\n",
       "                                                  [&#x27;year&#x27;, &#x27;month&#x27;, &#x27;session&#x27;,\n",
       "                                                   &#x27;diff_min&#x27;])])),\n",
       "                (&#x27;model&#x27;, RandomForestClassifier(n_estimators=500))])</pre><b>In a Jupyter environment, please rerun this cell to show the HTML representation or trust the notebook. <br />On GitHub, the HTML representation is unable to render, please try loading this page with nbviewer.org.</b></div><div class=\"sk-container\" hidden><div class=\"sk-item sk-dashed-wrapped\"><div class=\"sk-label-container\"><div class=\"sk-label sk-toggleable\"><input class=\"sk-toggleable__control sk-hidden--visually\" id=\"sk-estimator-id-299\" type=\"checkbox\" ><label for=\"sk-estimator-id-299\" class=\"sk-toggleable__label sk-toggleable__label-arrow\">Pipeline</label><div class=\"sk-toggleable__content\"><pre>Pipeline(steps=[(&#x27;preprocess&#x27;,\n",
       "                 ColumnTransformer(transformers=[(&#x27;nominalpipe&#x27;,\n",
       "                                                  Pipeline(steps=[(&#x27;onehotenc&#x27;,\n",
       "                                                                   OneHotEncoder(handle_unknown=&#x27;ignore&#x27;,\n",
       "                                                                                 sparse=False)),\n",
       "                                                                  (&#x27;onehotnorm&#x27;,\n",
       "                                                                   MaxAbsScaler())]),\n",
       "                                                  [&#x27;ADDR_PCT_CD&#x27;, &#x27;KY_CD&#x27;,\n",
       "                                                   &#x27;OFNS_DESC&#x27;, &#x27;PD_DESC&#x27;,\n",
       "                                                   &#x27;LAW_CAT_CD&#x27;, &#x27;BORO_NM&#x27;,\n",
       "                                                   &#x27;LOC_OF_OCCUR_DESC&#x27;,\n",
       "                                                   &#x27;SUSP_AGE_GROUP&#x27;, &#x27;SUSP_SEX&#x27;,\n",
       "                                                   &#x27;PATROL_BORO&#x27;,\n",
       "                                                   &#x27;VIC_AGE_GROUP&#x27;, &#x27;VIC_RACE&#x27;,\n",
       "                                                   &#x27;VIC_SEX&#x27;, &#x27;reported_dow&#x27;,\n",
       "                                                   &#x27;session_to&#x27;]),\n",
       "                                                 (&#x27;numpipe&#x27;,\n",
       "                                                  Pipeline(steps=[(&#x27;numnorm&#x27;,\n",
       "                                                                   StandardScaler())]),\n",
       "                                                  [&#x27;year&#x27;, &#x27;month&#x27;, &#x27;session&#x27;,\n",
       "                                                   &#x27;diff_min&#x27;])])),\n",
       "                (&#x27;model&#x27;, RandomForestClassifier(n_estimators=500))])</pre></div></div></div><div class=\"sk-serial\"><div class=\"sk-item sk-dashed-wrapped\"><div class=\"sk-label-container\"><div class=\"sk-label sk-toggleable\"><input class=\"sk-toggleable__control sk-hidden--visually\" id=\"sk-estimator-id-300\" type=\"checkbox\" ><label for=\"sk-estimator-id-300\" class=\"sk-toggleable__label sk-toggleable__label-arrow\">preprocess: ColumnTransformer</label><div class=\"sk-toggleable__content\"><pre>ColumnTransformer(transformers=[(&#x27;nominalpipe&#x27;,\n",
       "                                 Pipeline(steps=[(&#x27;onehotenc&#x27;,\n",
       "                                                  OneHotEncoder(handle_unknown=&#x27;ignore&#x27;,\n",
       "                                                                sparse=False)),\n",
       "                                                 (&#x27;onehotnorm&#x27;,\n",
       "                                                  MaxAbsScaler())]),\n",
       "                                 [&#x27;ADDR_PCT_CD&#x27;, &#x27;KY_CD&#x27;, &#x27;OFNS_DESC&#x27;,\n",
       "                                  &#x27;PD_DESC&#x27;, &#x27;LAW_CAT_CD&#x27;, &#x27;BORO_NM&#x27;,\n",
       "                                  &#x27;LOC_OF_OCCUR_DESC&#x27;, &#x27;SUSP_AGE_GROUP&#x27;,\n",
       "                                  &#x27;SUSP_SEX&#x27;, &#x27;PATROL_BORO&#x27;, &#x27;VIC_AGE_GROUP&#x27;,\n",
       "                                  &#x27;VIC_RACE&#x27;, &#x27;VIC_SEX&#x27;, &#x27;reported_dow&#x27;,\n",
       "                                  &#x27;session_to&#x27;]),\n",
       "                                (&#x27;numpipe&#x27;,\n",
       "                                 Pipeline(steps=[(&#x27;numnorm&#x27;,\n",
       "                                                  StandardScaler())]),\n",
       "                                 [&#x27;year&#x27;, &#x27;month&#x27;, &#x27;session&#x27;, &#x27;diff_min&#x27;])])</pre></div></div></div><div class=\"sk-parallel\"><div class=\"sk-parallel-item\"><div class=\"sk-item\"><div class=\"sk-label-container\"><div class=\"sk-label sk-toggleable\"><input class=\"sk-toggleable__control sk-hidden--visually\" id=\"sk-estimator-id-301\" type=\"checkbox\" ><label for=\"sk-estimator-id-301\" class=\"sk-toggleable__label sk-toggleable__label-arrow\">nominalpipe</label><div class=\"sk-toggleable__content\"><pre>[&#x27;ADDR_PCT_CD&#x27;, &#x27;KY_CD&#x27;, &#x27;OFNS_DESC&#x27;, &#x27;PD_DESC&#x27;, &#x27;LAW_CAT_CD&#x27;, &#x27;BORO_NM&#x27;, &#x27;LOC_OF_OCCUR_DESC&#x27;, &#x27;SUSP_AGE_GROUP&#x27;, &#x27;SUSP_SEX&#x27;, &#x27;PATROL_BORO&#x27;, &#x27;VIC_AGE_GROUP&#x27;, &#x27;VIC_RACE&#x27;, &#x27;VIC_SEX&#x27;, &#x27;reported_dow&#x27;, &#x27;session_to&#x27;]</pre></div></div></div><div class=\"sk-serial\"><div class=\"sk-item\"><div class=\"sk-serial\"><div class=\"sk-item\"><div class=\"sk-estimator sk-toggleable\"><input class=\"sk-toggleable__control sk-hidden--visually\" id=\"sk-estimator-id-302\" type=\"checkbox\" ><label for=\"sk-estimator-id-302\" class=\"sk-toggleable__label sk-toggleable__label-arrow\">OneHotEncoder</label><div class=\"sk-toggleable__content\"><pre>OneHotEncoder(handle_unknown=&#x27;ignore&#x27;, sparse=False)</pre></div></div></div><div class=\"sk-item\"><div class=\"sk-estimator sk-toggleable\"><input class=\"sk-toggleable__control sk-hidden--visually\" id=\"sk-estimator-id-303\" type=\"checkbox\" ><label for=\"sk-estimator-id-303\" class=\"sk-toggleable__label sk-toggleable__label-arrow\">MaxAbsScaler</label><div class=\"sk-toggleable__content\"><pre>MaxAbsScaler()</pre></div></div></div></div></div></div></div></div><div class=\"sk-parallel-item\"><div class=\"sk-item\"><div class=\"sk-label-container\"><div class=\"sk-label sk-toggleable\"><input class=\"sk-toggleable__control sk-hidden--visually\" id=\"sk-estimator-id-304\" type=\"checkbox\" ><label for=\"sk-estimator-id-304\" class=\"sk-toggleable__label sk-toggleable__label-arrow\">numpipe</label><div class=\"sk-toggleable__content\"><pre>[&#x27;year&#x27;, &#x27;month&#x27;, &#x27;session&#x27;, &#x27;diff_min&#x27;]</pre></div></div></div><div class=\"sk-serial\"><div class=\"sk-item\"><div class=\"sk-serial\"><div class=\"sk-item\"><div class=\"sk-estimator sk-toggleable\"><input class=\"sk-toggleable__control sk-hidden--visually\" id=\"sk-estimator-id-305\" type=\"checkbox\" ><label for=\"sk-estimator-id-305\" class=\"sk-toggleable__label sk-toggleable__label-arrow\">StandardScaler</label><div class=\"sk-toggleable__content\"><pre>StandardScaler()</pre></div></div></div></div></div></div></div></div></div></div><div class=\"sk-item\"><div class=\"sk-estimator sk-toggleable\"><input class=\"sk-toggleable__control sk-hidden--visually\" id=\"sk-estimator-id-306\" type=\"checkbox\" ><label for=\"sk-estimator-id-306\" class=\"sk-toggleable__label sk-toggleable__label-arrow\">RandomForestClassifier</label><div class=\"sk-toggleable__content\"><pre>RandomForestClassifier(n_estimators=500)</pre></div></div></div></div></div></div></div>"
      ],
      "text/plain": [
       "Pipeline(steps=[('preprocess',\n",
       "                 ColumnTransformer(transformers=[('nominalpipe',\n",
       "                                                  Pipeline(steps=[('onehotenc',\n",
       "                                                                   OneHotEncoder(handle_unknown='ignore',\n",
       "                                                                                 sparse=False)),\n",
       "                                                                  ('onehotnorm',\n",
       "                                                                   MaxAbsScaler())]),\n",
       "                                                  ['ADDR_PCT_CD', 'KY_CD',\n",
       "                                                   'OFNS_DESC', 'PD_DESC',\n",
       "                                                   'LAW_CAT_CD', 'BORO_NM',\n",
       "                                                   'LOC_OF_OCCUR_DESC',\n",
       "                                                   'SUSP_AGE_GROUP', 'SUSP_SEX',\n",
       "                                                   'PATROL_BORO',\n",
       "                                                   'VIC_AGE_GROUP', 'VIC_RACE',\n",
       "                                                   'VIC_SEX', 'reported_dow',\n",
       "                                                   'session_to']),\n",
       "                                                 ('numpipe',\n",
       "                                                  Pipeline(steps=[('numnorm',\n",
       "                                                                   StandardScaler())]),\n",
       "                                                  ['year', 'month', 'session',\n",
       "                                                   'diff_min'])])),\n",
       "                ('model', RandomForestClassifier(n_estimators=500))])"
      ]
     },
     "execution_count": 346,
     "metadata": {},
     "output_type": "execute_result"
    }
   ],
   "source": [
    "best_rf_model = rf_cv.best_estimator_\n",
    "best_rf_model"
   ]
  },
  {
   "cell_type": "code",
   "execution_count": 511,
   "id": "28a61e8c-de29-4a5e-95b1-64f7fe692af8",
   "metadata": {},
   "outputs": [
    {
     "data": {
      "text/html": [
       "<style>#sk-container-id-67 {color: black;background-color: white;}#sk-container-id-67 pre{padding: 0;}#sk-container-id-67 div.sk-toggleable {background-color: white;}#sk-container-id-67 label.sk-toggleable__label {cursor: pointer;display: block;width: 100%;margin-bottom: 0;padding: 0.3em;box-sizing: border-box;text-align: center;}#sk-container-id-67 label.sk-toggleable__label-arrow:before {content: \"▸\";float: left;margin-right: 0.25em;color: #696969;}#sk-container-id-67 label.sk-toggleable__label-arrow:hover:before {color: black;}#sk-container-id-67 div.sk-estimator:hover label.sk-toggleable__label-arrow:before {color: black;}#sk-container-id-67 div.sk-toggleable__content {max-height: 0;max-width: 0;overflow: hidden;text-align: left;background-color: #f0f8ff;}#sk-container-id-67 div.sk-toggleable__content pre {margin: 0.2em;color: black;border-radius: 0.25em;background-color: #f0f8ff;}#sk-container-id-67 input.sk-toggleable__control:checked~div.sk-toggleable__content {max-height: 200px;max-width: 100%;overflow: auto;}#sk-container-id-67 input.sk-toggleable__control:checked~label.sk-toggleable__label-arrow:before {content: \"▾\";}#sk-container-id-67 div.sk-estimator input.sk-toggleable__control:checked~label.sk-toggleable__label {background-color: #d4ebff;}#sk-container-id-67 div.sk-label input.sk-toggleable__control:checked~label.sk-toggleable__label {background-color: #d4ebff;}#sk-container-id-67 input.sk-hidden--visually {border: 0;clip: rect(1px 1px 1px 1px);clip: rect(1px, 1px, 1px, 1px);height: 1px;margin: -1px;overflow: hidden;padding: 0;position: absolute;width: 1px;}#sk-container-id-67 div.sk-estimator {font-family: monospace;background-color: #f0f8ff;border: 1px dotted black;border-radius: 0.25em;box-sizing: border-box;margin-bottom: 0.5em;}#sk-container-id-67 div.sk-estimator:hover {background-color: #d4ebff;}#sk-container-id-67 div.sk-parallel-item::after {content: \"\";width: 100%;border-bottom: 1px solid gray;flex-grow: 1;}#sk-container-id-67 div.sk-label:hover label.sk-toggleable__label {background-color: #d4ebff;}#sk-container-id-67 div.sk-serial::before {content: \"\";position: absolute;border-left: 1px solid gray;box-sizing: border-box;top: 0;bottom: 0;left: 50%;z-index: 0;}#sk-container-id-67 div.sk-serial {display: flex;flex-direction: column;align-items: center;background-color: white;padding-right: 0.2em;padding-left: 0.2em;position: relative;}#sk-container-id-67 div.sk-item {position: relative;z-index: 1;}#sk-container-id-67 div.sk-parallel {display: flex;align-items: stretch;justify-content: center;background-color: white;position: relative;}#sk-container-id-67 div.sk-item::before, #sk-container-id-67 div.sk-parallel-item::before {content: \"\";position: absolute;border-left: 1px solid gray;box-sizing: border-box;top: 0;bottom: 0;left: 50%;z-index: -1;}#sk-container-id-67 div.sk-parallel-item {display: flex;flex-direction: column;z-index: 1;position: relative;background-color: white;}#sk-container-id-67 div.sk-parallel-item:first-child::after {align-self: flex-end;width: 50%;}#sk-container-id-67 div.sk-parallel-item:last-child::after {align-self: flex-start;width: 50%;}#sk-container-id-67 div.sk-parallel-item:only-child::after {width: 0;}#sk-container-id-67 div.sk-dashed-wrapped {border: 1px dashed gray;margin: 0 0.4em 0.5em 0.4em;box-sizing: border-box;padding-bottom: 0.4em;background-color: white;}#sk-container-id-67 div.sk-label label {font-family: monospace;font-weight: bold;display: inline-block;line-height: 1.2em;}#sk-container-id-67 div.sk-label-container {text-align: center;}#sk-container-id-67 div.sk-container {/* jupyter's `normalize.less` sets `[hidden] { display: none; }` but bootstrap.min.css set `[hidden] { display: none !important; }` so we also need the `!important` here to be able to override the default hidden behavior on the sphinx rendered scikit-learn.org. See: https://github.com/scikit-learn/scikit-learn/issues/21755 */display: inline-block !important;position: relative;}#sk-container-id-67 div.sk-text-repr-fallback {display: none;}</style><div id=\"sk-container-id-67\" class=\"sk-top-container\"><div class=\"sk-text-repr-fallback\"><pre>Pipeline(steps=[(&#x27;preprocess&#x27;,\n",
       "                 ColumnTransformer(transformers=[(&#x27;nominalpipe&#x27;,\n",
       "                                                  Pipeline(steps=[(&#x27;onehotenc&#x27;,\n",
       "                                                                   OneHotEncoder(handle_unknown=&#x27;ignore&#x27;,\n",
       "                                                                                 sparse=False)),\n",
       "                                                                  (&#x27;onehotnorm&#x27;,\n",
       "                                                                   MaxAbsScaler())]),\n",
       "                                                  [&#x27;ADDR_PCT_CD&#x27;, &#x27;KY_CD&#x27;,\n",
       "                                                   &#x27;OFNS_DESC&#x27;, &#x27;PD_DESC&#x27;,\n",
       "                                                   &#x27;LAW_CAT_CD&#x27;, &#x27;BORO_NM&#x27;,\n",
       "                                                   &#x27;LOC_OF_OCCUR_DESC&#x27;,\n",
       "                                                   &#x27;SUSP_AGE_GROUP&#x27;, &#x27;SUSP_SEX&#x27;,\n",
       "                                                   &#x27;PATROL_BORO&#x27;,\n",
       "                                                   &#x27;VIC_AGE_GROUP&#x27;, &#x27;VIC_RACE&#x27;,\n",
       "                                                   &#x27;VIC_SEX&#x27;, &#x27;reported_dow&#x27;,\n",
       "                                                   &#x27;session_to&#x27;]),\n",
       "                                                 (&#x27;numpipe&#x27;,\n",
       "                                                  Pipeline(steps=[(&#x27;numnorm&#x27;,\n",
       "                                                                   StandardScaler())]),\n",
       "                                                  [&#x27;year&#x27;, &#x27;month&#x27;, &#x27;session&#x27;,\n",
       "                                                   &#x27;diff_min&#x27;])])),\n",
       "                (&#x27;ros&#x27;, RandomUnderSampler()),\n",
       "                (&#x27;model&#x27;, RandomForestClassifier())])</pre><b>In a Jupyter environment, please rerun this cell to show the HTML representation or trust the notebook. <br />On GitHub, the HTML representation is unable to render, please try loading this page with nbviewer.org.</b></div><div class=\"sk-container\" hidden><div class=\"sk-item sk-dashed-wrapped\"><div class=\"sk-label-container\"><div class=\"sk-label sk-toggleable\"><input class=\"sk-toggleable__control sk-hidden--visually\" id=\"sk-estimator-id-471\" type=\"checkbox\" ><label for=\"sk-estimator-id-471\" class=\"sk-toggleable__label sk-toggleable__label-arrow\">Pipeline</label><div class=\"sk-toggleable__content\"><pre>Pipeline(steps=[(&#x27;preprocess&#x27;,\n",
       "                 ColumnTransformer(transformers=[(&#x27;nominalpipe&#x27;,\n",
       "                                                  Pipeline(steps=[(&#x27;onehotenc&#x27;,\n",
       "                                                                   OneHotEncoder(handle_unknown=&#x27;ignore&#x27;,\n",
       "                                                                                 sparse=False)),\n",
       "                                                                  (&#x27;onehotnorm&#x27;,\n",
       "                                                                   MaxAbsScaler())]),\n",
       "                                                  [&#x27;ADDR_PCT_CD&#x27;, &#x27;KY_CD&#x27;,\n",
       "                                                   &#x27;OFNS_DESC&#x27;, &#x27;PD_DESC&#x27;,\n",
       "                                                   &#x27;LAW_CAT_CD&#x27;, &#x27;BORO_NM&#x27;,\n",
       "                                                   &#x27;LOC_OF_OCCUR_DESC&#x27;,\n",
       "                                                   &#x27;SUSP_AGE_GROUP&#x27;, &#x27;SUSP_SEX&#x27;,\n",
       "                                                   &#x27;PATROL_BORO&#x27;,\n",
       "                                                   &#x27;VIC_AGE_GROUP&#x27;, &#x27;VIC_RACE&#x27;,\n",
       "                                                   &#x27;VIC_SEX&#x27;, &#x27;reported_dow&#x27;,\n",
       "                                                   &#x27;session_to&#x27;]),\n",
       "                                                 (&#x27;numpipe&#x27;,\n",
       "                                                  Pipeline(steps=[(&#x27;numnorm&#x27;,\n",
       "                                                                   StandardScaler())]),\n",
       "                                                  [&#x27;year&#x27;, &#x27;month&#x27;, &#x27;session&#x27;,\n",
       "                                                   &#x27;diff_min&#x27;])])),\n",
       "                (&#x27;ros&#x27;, RandomUnderSampler()),\n",
       "                (&#x27;model&#x27;, RandomForestClassifier())])</pre></div></div></div><div class=\"sk-serial\"><div class=\"sk-item sk-dashed-wrapped\"><div class=\"sk-label-container\"><div class=\"sk-label sk-toggleable\"><input class=\"sk-toggleable__control sk-hidden--visually\" id=\"sk-estimator-id-472\" type=\"checkbox\" ><label for=\"sk-estimator-id-472\" class=\"sk-toggleable__label sk-toggleable__label-arrow\">preprocess: ColumnTransformer</label><div class=\"sk-toggleable__content\"><pre>ColumnTransformer(transformers=[(&#x27;nominalpipe&#x27;,\n",
       "                                 Pipeline(steps=[(&#x27;onehotenc&#x27;,\n",
       "                                                  OneHotEncoder(handle_unknown=&#x27;ignore&#x27;,\n",
       "                                                                sparse=False)),\n",
       "                                                 (&#x27;onehotnorm&#x27;,\n",
       "                                                  MaxAbsScaler())]),\n",
       "                                 [&#x27;ADDR_PCT_CD&#x27;, &#x27;KY_CD&#x27;, &#x27;OFNS_DESC&#x27;,\n",
       "                                  &#x27;PD_DESC&#x27;, &#x27;LAW_CAT_CD&#x27;, &#x27;BORO_NM&#x27;,\n",
       "                                  &#x27;LOC_OF_OCCUR_DESC&#x27;, &#x27;SUSP_AGE_GROUP&#x27;,\n",
       "                                  &#x27;SUSP_SEX&#x27;, &#x27;PATROL_BORO&#x27;, &#x27;VIC_AGE_GROUP&#x27;,\n",
       "                                  &#x27;VIC_RACE&#x27;, &#x27;VIC_SEX&#x27;, &#x27;reported_dow&#x27;,\n",
       "                                  &#x27;session_to&#x27;]),\n",
       "                                (&#x27;numpipe&#x27;,\n",
       "                                 Pipeline(steps=[(&#x27;numnorm&#x27;,\n",
       "                                                  StandardScaler())]),\n",
       "                                 [&#x27;year&#x27;, &#x27;month&#x27;, &#x27;session&#x27;, &#x27;diff_min&#x27;])])</pre></div></div></div><div class=\"sk-parallel\"><div class=\"sk-parallel-item\"><div class=\"sk-item\"><div class=\"sk-label-container\"><div class=\"sk-label sk-toggleable\"><input class=\"sk-toggleable__control sk-hidden--visually\" id=\"sk-estimator-id-473\" type=\"checkbox\" ><label for=\"sk-estimator-id-473\" class=\"sk-toggleable__label sk-toggleable__label-arrow\">nominalpipe</label><div class=\"sk-toggleable__content\"><pre>[&#x27;ADDR_PCT_CD&#x27;, &#x27;KY_CD&#x27;, &#x27;OFNS_DESC&#x27;, &#x27;PD_DESC&#x27;, &#x27;LAW_CAT_CD&#x27;, &#x27;BORO_NM&#x27;, &#x27;LOC_OF_OCCUR_DESC&#x27;, &#x27;SUSP_AGE_GROUP&#x27;, &#x27;SUSP_SEX&#x27;, &#x27;PATROL_BORO&#x27;, &#x27;VIC_AGE_GROUP&#x27;, &#x27;VIC_RACE&#x27;, &#x27;VIC_SEX&#x27;, &#x27;reported_dow&#x27;, &#x27;session_to&#x27;]</pre></div></div></div><div class=\"sk-serial\"><div class=\"sk-item\"><div class=\"sk-serial\"><div class=\"sk-item\"><div class=\"sk-estimator sk-toggleable\"><input class=\"sk-toggleable__control sk-hidden--visually\" id=\"sk-estimator-id-474\" type=\"checkbox\" ><label for=\"sk-estimator-id-474\" class=\"sk-toggleable__label sk-toggleable__label-arrow\">OneHotEncoder</label><div class=\"sk-toggleable__content\"><pre>OneHotEncoder(handle_unknown=&#x27;ignore&#x27;, sparse=False)</pre></div></div></div><div class=\"sk-item\"><div class=\"sk-estimator sk-toggleable\"><input class=\"sk-toggleable__control sk-hidden--visually\" id=\"sk-estimator-id-475\" type=\"checkbox\" ><label for=\"sk-estimator-id-475\" class=\"sk-toggleable__label sk-toggleable__label-arrow\">MaxAbsScaler</label><div class=\"sk-toggleable__content\"><pre>MaxAbsScaler()</pre></div></div></div></div></div></div></div></div><div class=\"sk-parallel-item\"><div class=\"sk-item\"><div class=\"sk-label-container\"><div class=\"sk-label sk-toggleable\"><input class=\"sk-toggleable__control sk-hidden--visually\" id=\"sk-estimator-id-476\" type=\"checkbox\" ><label for=\"sk-estimator-id-476\" class=\"sk-toggleable__label sk-toggleable__label-arrow\">numpipe</label><div class=\"sk-toggleable__content\"><pre>[&#x27;year&#x27;, &#x27;month&#x27;, &#x27;session&#x27;, &#x27;diff_min&#x27;]</pre></div></div></div><div class=\"sk-serial\"><div class=\"sk-item\"><div class=\"sk-serial\"><div class=\"sk-item\"><div class=\"sk-estimator sk-toggleable\"><input class=\"sk-toggleable__control sk-hidden--visually\" id=\"sk-estimator-id-477\" type=\"checkbox\" ><label for=\"sk-estimator-id-477\" class=\"sk-toggleable__label sk-toggleable__label-arrow\">StandardScaler</label><div class=\"sk-toggleable__content\"><pre>StandardScaler()</pre></div></div></div></div></div></div></div></div></div></div><div class=\"sk-item\"><div class=\"sk-estimator sk-toggleable\"><input class=\"sk-toggleable__control sk-hidden--visually\" id=\"sk-estimator-id-478\" type=\"checkbox\" ><label for=\"sk-estimator-id-478\" class=\"sk-toggleable__label sk-toggleable__label-arrow\">RandomUnderSampler</label><div class=\"sk-toggleable__content\"><pre>RandomUnderSampler()</pre></div></div></div><div class=\"sk-item\"><div class=\"sk-estimator sk-toggleable\"><input class=\"sk-toggleable__control sk-hidden--visually\" id=\"sk-estimator-id-479\" type=\"checkbox\" ><label for=\"sk-estimator-id-479\" class=\"sk-toggleable__label sk-toggleable__label-arrow\">RandomForestClassifier</label><div class=\"sk-toggleable__content\"><pre>RandomForestClassifier()</pre></div></div></div></div></div></div></div>"
      ],
      "text/plain": [
       "Pipeline(steps=[('preprocess',\n",
       "                 ColumnTransformer(transformers=[('nominalpipe',\n",
       "                                                  Pipeline(steps=[('onehotenc',\n",
       "                                                                   OneHotEncoder(handle_unknown='ignore',\n",
       "                                                                                 sparse=False)),\n",
       "                                                                  ('onehotnorm',\n",
       "                                                                   MaxAbsScaler())]),\n",
       "                                                  ['ADDR_PCT_CD', 'KY_CD',\n",
       "                                                   'OFNS_DESC', 'PD_DESC',\n",
       "                                                   'LAW_CAT_CD', 'BORO_NM',\n",
       "                                                   'LOC_OF_OCCUR_DESC',\n",
       "                                                   'SUSP_AGE_GROUP', 'SUSP_SEX',\n",
       "                                                   'PATROL_BORO',\n",
       "                                                   'VIC_AGE_GROUP', 'VIC_RACE',\n",
       "                                                   'VIC_SEX', 'reported_dow',\n",
       "                                                   'session_to']),\n",
       "                                                 ('numpipe',\n",
       "                                                  Pipeline(steps=[('numnorm',\n",
       "                                                                   StandardScaler())]),\n",
       "                                                  ['year', 'month', 'session',\n",
       "                                                   'diff_min'])])),\n",
       "                ('ros', RandomUnderSampler()),\n",
       "                ('model', RandomForestClassifier())])"
      ]
     },
     "execution_count": 511,
     "metadata": {},
     "output_type": "execute_result"
    }
   ],
   "source": [
    "#Random Forest - with undersampling \n",
    "\n",
    "numeric_pipeline = Pipeline([('numnorm', StandardScaler())])\n",
    "\n",
    "nominal_pipeline = Pipeline([\n",
    "    ('onehotenc', OneHotEncoder(sparse = False, handle_unknown = 'ignore')), \n",
    "    ('onehotnorm', MaxAbsScaler())])\n",
    "\n",
    "\n",
    "ct = ColumnTransformer([\n",
    "     (\"nominalpipe\", nominal_pipeline, categorical),\n",
    "     (\"numpipe\", numeric_pipeline, numerical)])\n",
    "\n",
    "\n",
    "\n",
    "RF_pipe_under = Pipeline([('preprocess', ct),('ros', RandomUnderSampler()),  #tuning the model\n",
    "                      ('model',\n",
    "                       RandomForestClassifier())])  #change the model\n",
    "RF_pipe_under"
   ]
  },
  {
   "cell_type": "code",
   "execution_count": 512,
   "id": "25917dd0-7642-4625-a382-4e5d3ad02df0",
   "metadata": {},
   "outputs": [
    {
     "data": {
      "text/plain": [
       "0.8309090909090909"
      ]
     },
     "execution_count": 512,
     "metadata": {},
     "output_type": "execute_result"
    }
   ],
   "source": [
    "RF_pipe_under.fit(X_train,y_train)\n",
    "RF_pipe_under.score(X_test, y_test)"
   ]
  },
  {
   "cell_type": "code",
   "execution_count": 513,
   "id": "81a676e9-0eef-4ded-b732-7a061227e35c",
   "metadata": {},
   "outputs": [
    {
     "name": "stdout",
     "output_type": "stream",
     "text": [
      "              precision    recall  f1-score   support\n",
      "\n",
      "   ATTEMPTED       0.06      0.79      0.11       426\n",
      "   COMPLETED       1.00      0.83      0.91     32574\n",
      "\n",
      "    accuracy                           0.83     33000\n",
      "   macro avg       0.53      0.81      0.51     33000\n",
      "weighted avg       0.98      0.83      0.90     33000\n",
      "\n"
     ]
    }
   ],
   "source": [
    "#classification metrics for random forest with undersampler\n",
    "\n",
    "predicted = RF_pipe_under.predict(X_test)\n",
    "predicted \n",
    "\n",
    "print(classification_report(y_test, predicted))"
   ]
  },
  {
   "cell_type": "code",
   "execution_count": 515,
   "id": "5c3fada5-5595-4d01-bfa0-763cbfac6a9f",
   "metadata": {},
   "outputs": [
    {
     "data": {
      "text/plain": [
       "<sklearn.metrics._plot.confusion_matrix.ConfusionMatrixDisplay at 0x7f9a4cef9790>"
      ]
     },
     "execution_count": 515,
     "metadata": {},
     "output_type": "execute_result"
    },
    {
     "data": {
      "image/png": "[encoded data removed]",
      "text/plain": [
       "<Figure size 432x288 with 2 Axes>"
      ]
     },
     "metadata": {
      "needs_background": "light"
     },
     "output_type": "display_data"
    }
   ],
   "source": [
    "plot_confusion_matrix(RF_pipe_under, X_test, y_test)"
   ]
  },
  {
   "cell_type": "code",
   "execution_count": 521,
   "id": "b86ade5a-8c02-4ec1-a037-55c9efce9d76",
   "metadata": {},
   "outputs": [],
   "source": [
    "mc.to_csv('mc.csv')"
   ]
  }
 ],
 "metadata": {
  "kernelspec": {
   "display_name": "Python 3",
   "language": "python",
   "name": "python3"
  },
  "language_info": {
   "codemirror_mode": {
    "name": "ipython",
    "version": 3
   },
   "file_extension": ".py",
   "mimetype": "text/x-python",
   "name": "python",
   "nbconvert_exporter": "python",
   "pygments_lexer": "ipython3",
   "version": "3.8.8"
  }
 },
 "nbformat": 4,
 "nbformat_minor": 5
}
