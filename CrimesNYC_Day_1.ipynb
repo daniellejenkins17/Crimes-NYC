{
 "cells": [
  {
   "cell_type": "code",
   "execution_count": 236,
   "id": "519e8053-2fdc-4889-867f-daaf96a1e0de",
   "metadata": {
    "tags": []
   },
   "outputs": [],
   "source": [
    "import numpy as np\n",
    "import pandas as pd\n",
    "import matplotlib as plt\n",
    "import csv"
   ]
  },
  {
   "cell_type": "code",
   "execution_count": 237,
   "id": "c113c1a7-760c-41b1-b08d-380f5db8c70a",
   "metadata": {},
   "outputs": [],
   "source": [
    "#make map of coordinates...? \n",
    "#put in the alg for time series "
   ]
  },
  {
   "cell_type": "code",
   "execution_count": 379,
   "id": "8d31006a-19d1-4c22-9dac-4e530268d4bd",
   "metadata": {},
   "outputs": [
    {
     "name": "stderr",
     "output_type": "stream",
     "text": [
      "/opt/anaconda3/lib/python3.8/site-packages/IPython/core/interactiveshell.py:3165: DtypeWarning: Columns (18) have mixed types.Specify dtype option on import or set low_memory=False.\n",
      "  has_raised = await self.run_ast_nodes(code_ast.body, cell_name,\n"
     ]
    }
   ],
   "source": [
    "df = pd.read_csv('NYPD_Complaint_Data_Historic.csv', usecols = ['CMPLNT_FR_DT', 'CMPLNT_FR_TM', 'OFNS_DESC', 'PD_DESC', \n",
    "                                                               'CRM_ATPT_CPTD_CD', 'LAW_CAT_CD', 'BORO_NM', 'LOC_OF_OCCUR_DESC',\n",
    "                                                               'PREM_TYP_DESC', 'PARKS_NM', 'HADEVELOPT', 'SUSP_AGE_GROUP', 'SUSP_SEX',\n",
    "                                                               'PATROL_BORO', 'STATION_NAME', 'VIC_AGE_GROUP', 'VIC_RACE', \n",
    "                                                               'VIC_SEX', 'X_COORD_CD', 'Y_COORD_CD'])"
   ]
  },
  {
   "cell_type": "code",
   "execution_count": 239,
   "id": "9460aae4-9759-4284-a403-96c8756408ed",
   "metadata": {},
   "outputs": [
    {
     "data": {
      "text/html": [
       "<div>\n",
       "<style scoped>\n",
       "    .dataframe tbody tr th:only-of-type {\n",
       "        vertical-align: middle;\n",
       "    }\n",
       "\n",
       "    .dataframe tbody tr th {\n",
       "        vertical-align: top;\n",
       "    }\n",
       "\n",
       "    .dataframe thead th {\n",
       "        text-align: right;\n",
       "    }\n",
       "</style>\n",
       "<table border=\"1\" class=\"dataframe\">\n",
       "  <thead>\n",
       "    <tr style=\"text-align: right;\">\n",
       "      <th></th>\n",
       "      <th>CMPLNT_FR_DT</th>\n",
       "      <th>CMPLNT_FR_TM</th>\n",
       "      <th>OFNS_DESC</th>\n",
       "      <th>PD_DESC</th>\n",
       "      <th>CRM_ATPT_CPTD_CD</th>\n",
       "      <th>LAW_CAT_CD</th>\n",
       "      <th>BORO_NM</th>\n",
       "      <th>LOC_OF_OCCUR_DESC</th>\n",
       "      <th>PREM_TYP_DESC</th>\n",
       "      <th>PARKS_NM</th>\n",
       "      <th>HADEVELOPT</th>\n",
       "      <th>X_COORD_CD</th>\n",
       "      <th>Y_COORD_CD</th>\n",
       "      <th>SUSP_AGE_GROUP</th>\n",
       "      <th>SUSP_SEX</th>\n",
       "      <th>PATROL_BORO</th>\n",
       "      <th>STATION_NAME</th>\n",
       "      <th>VIC_AGE_GROUP</th>\n",
       "      <th>VIC_RACE</th>\n",
       "      <th>VIC_SEX</th>\n",
       "    </tr>\n",
       "  </thead>\n",
       "  <tbody>\n",
       "    <tr>\n",
       "      <th>7825494</th>\n",
       "      <td>05/01/2008</td>\n",
       "      <td>18:55:00</td>\n",
       "      <td>DANGEROUS DRUGS</td>\n",
       "      <td>CONTROLLED SUBSTANCE, POSSESSI</td>\n",
       "      <td>COMPLETED</td>\n",
       "      <td>MISDEMEANOR</td>\n",
       "      <td>MANHATTAN</td>\n",
       "      <td>FRONT OF</td>\n",
       "      <td>STREET</td>\n",
       "      <td>NaN</td>\n",
       "      <td>NaN</td>\n",
       "      <td>985209.0</td>\n",
       "      <td>214992.0</td>\n",
       "      <td>45-64</td>\n",
       "      <td>F</td>\n",
       "      <td>PATROL BORO MAN SOUTH</td>\n",
       "      <td>NaN</td>\n",
       "      <td>UNKNOWN</td>\n",
       "      <td>UNKNOWN</td>\n",
       "      <td>E</td>\n",
       "    </tr>\n",
       "    <tr>\n",
       "      <th>7825495</th>\n",
       "      <td>05/18/2018</td>\n",
       "      <td>14:50:00</td>\n",
       "      <td>ASSAULT 3 &amp; RELATED OFFENSES</td>\n",
       "      <td>ASSAULT 3</td>\n",
       "      <td>COMPLETED</td>\n",
       "      <td>MISDEMEANOR</td>\n",
       "      <td>STATEN ISLAND</td>\n",
       "      <td>NaN</td>\n",
       "      <td>STREET</td>\n",
       "      <td>NaN</td>\n",
       "      <td>NaN</td>\n",
       "      <td>955828.0</td>\n",
       "      <td>149854.0</td>\n",
       "      <td>&lt;18</td>\n",
       "      <td>M</td>\n",
       "      <td>PATROL BORO STATEN ISLAND</td>\n",
       "      <td>NaN</td>\n",
       "      <td>&lt;18</td>\n",
       "      <td>WHITE HISPANIC</td>\n",
       "      <td>M</td>\n",
       "    </tr>\n",
       "    <tr>\n",
       "      <th>7825496</th>\n",
       "      <td>11/19/2018</td>\n",
       "      <td>02:25:00</td>\n",
       "      <td>GRAND LARCENY</td>\n",
       "      <td>LARCENY,GRAND FROM VEHICLE/MOTORCYCLE</td>\n",
       "      <td>COMPLETED</td>\n",
       "      <td>FELONY</td>\n",
       "      <td>QUEENS</td>\n",
       "      <td>FRONT OF</td>\n",
       "      <td>STREET</td>\n",
       "      <td>NaN</td>\n",
       "      <td>NaN</td>\n",
       "      <td>1022372.0</td>\n",
       "      <td>210067.0</td>\n",
       "      <td>UNKNOWN</td>\n",
       "      <td>M</td>\n",
       "      <td>PATROL BORO QUEENS NORTH</td>\n",
       "      <td>NaN</td>\n",
       "      <td>25-44</td>\n",
       "      <td>ASIAN / PACIFIC ISLANDER</td>\n",
       "      <td>M</td>\n",
       "    </tr>\n",
       "    <tr>\n",
       "      <th>7825497</th>\n",
       "      <td>02/03/2018</td>\n",
       "      <td>10:02:00</td>\n",
       "      <td>HARRASSMENT 2</td>\n",
       "      <td>HARASSMENT,SUBD 3,4,5</td>\n",
       "      <td>COMPLETED</td>\n",
       "      <td>VIOLATION</td>\n",
       "      <td>STATEN ISLAND</td>\n",
       "      <td>FRONT OF</td>\n",
       "      <td>RESIDENCE-HOUSE</td>\n",
       "      <td>NaN</td>\n",
       "      <td>NaN</td>\n",
       "      <td>959533.0</td>\n",
       "      <td>155574.0</td>\n",
       "      <td>45-64</td>\n",
       "      <td>F</td>\n",
       "      <td>PATROL BORO STATEN ISLAND</td>\n",
       "      <td>NaN</td>\n",
       "      <td>45-64</td>\n",
       "      <td>WHITE</td>\n",
       "      <td>M</td>\n",
       "    </tr>\n",
       "    <tr>\n",
       "      <th>7825498</th>\n",
       "      <td>01/05/2018</td>\n",
       "      <td>14:40:00</td>\n",
       "      <td>SEX CRIMES</td>\n",
       "      <td>SEXUAL ABUSE 3,2</td>\n",
       "      <td>COMPLETED</td>\n",
       "      <td>MISDEMEANOR</td>\n",
       "      <td>BROOKLYN</td>\n",
       "      <td>FRONT OF</td>\n",
       "      <td>STREET</td>\n",
       "      <td>NaN</td>\n",
       "      <td>NaN</td>\n",
       "      <td>999634.0</td>\n",
       "      <td>190253.0</td>\n",
       "      <td>NaN</td>\n",
       "      <td>NaN</td>\n",
       "      <td>PATROL BORO BKLYN NORTH</td>\n",
       "      <td>NaN</td>\n",
       "      <td>&lt;18</td>\n",
       "      <td>WHITE</td>\n",
       "      <td>F</td>\n",
       "    </tr>\n",
       "  </tbody>\n",
       "</table>\n",
       "</div>"
      ],
      "text/plain": [
       "        CMPLNT_FR_DT CMPLNT_FR_TM                     OFNS_DESC  \\\n",
       "7825494   05/01/2008     18:55:00               DANGEROUS DRUGS   \n",
       "7825495   05/18/2018     14:50:00  ASSAULT 3 & RELATED OFFENSES   \n",
       "7825496   11/19/2018     02:25:00                 GRAND LARCENY   \n",
       "7825497   02/03/2018     10:02:00                 HARRASSMENT 2   \n",
       "7825498   01/05/2018     14:40:00                    SEX CRIMES   \n",
       "\n",
       "                                       PD_DESC CRM_ATPT_CPTD_CD   LAW_CAT_CD  \\\n",
       "7825494         CONTROLLED SUBSTANCE, POSSESSI        COMPLETED  MISDEMEANOR   \n",
       "7825495                              ASSAULT 3        COMPLETED  MISDEMEANOR   \n",
       "7825496  LARCENY,GRAND FROM VEHICLE/MOTORCYCLE        COMPLETED       FELONY   \n",
       "7825497                  HARASSMENT,SUBD 3,4,5        COMPLETED    VIOLATION   \n",
       "7825498                       SEXUAL ABUSE 3,2        COMPLETED  MISDEMEANOR   \n",
       "\n",
       "               BORO_NM LOC_OF_OCCUR_DESC    PREM_TYP_DESC PARKS_NM HADEVELOPT  \\\n",
       "7825494      MANHATTAN          FRONT OF           STREET      NaN        NaN   \n",
       "7825495  STATEN ISLAND               NaN           STREET      NaN        NaN   \n",
       "7825496         QUEENS          FRONT OF           STREET      NaN        NaN   \n",
       "7825497  STATEN ISLAND          FRONT OF  RESIDENCE-HOUSE      NaN        NaN   \n",
       "7825498       BROOKLYN          FRONT OF           STREET      NaN        NaN   \n",
       "\n",
       "         X_COORD_CD  Y_COORD_CD SUSP_AGE_GROUP SUSP_SEX  \\\n",
       "7825494    985209.0    214992.0          45-64        F   \n",
       "7825495    955828.0    149854.0            <18        M   \n",
       "7825496   1022372.0    210067.0        UNKNOWN        M   \n",
       "7825497    959533.0    155574.0          45-64        F   \n",
       "7825498    999634.0    190253.0            NaN      NaN   \n",
       "\n",
       "                       PATROL_BORO STATION_NAME VIC_AGE_GROUP  \\\n",
       "7825494      PATROL BORO MAN SOUTH          NaN       UNKNOWN   \n",
       "7825495  PATROL BORO STATEN ISLAND          NaN           <18   \n",
       "7825496   PATROL BORO QUEENS NORTH          NaN         25-44   \n",
       "7825497  PATROL BORO STATEN ISLAND          NaN         45-64   \n",
       "7825498    PATROL BORO BKLYN NORTH          NaN           <18   \n",
       "\n",
       "                         VIC_RACE VIC_SEX  \n",
       "7825494                   UNKNOWN       E  \n",
       "7825495            WHITE HISPANIC       M  \n",
       "7825496  ASIAN / PACIFIC ISLANDER       M  \n",
       "7825497                     WHITE       M  \n",
       "7825498                     WHITE       F  "
      ]
     },
     "execution_count": 239,
     "metadata": {},
     "output_type": "execute_result"
    }
   ],
   "source": [
    "df.tail()"
   ]
  },
  {
   "cell_type": "code",
   "execution_count": 240,
   "id": "314fa915-3292-4fc4-8d36-f430fbfe709a",
   "metadata": {},
   "outputs": [
    {
     "name": "stdout",
     "output_type": "stream",
     "text": [
      "<class 'pandas.core.frame.DataFrame'>\n",
      "RangeIndex: 7825499 entries, 0 to 7825498\n",
      "Data columns (total 20 columns):\n",
      " #   Column             Dtype  \n",
      "---  ------             -----  \n",
      " 0   CMPLNT_FR_DT       object \n",
      " 1   CMPLNT_FR_TM       object \n",
      " 2   OFNS_DESC          object \n",
      " 3   PD_DESC            object \n",
      " 4   CRM_ATPT_CPTD_CD   object \n",
      " 5   LAW_CAT_CD         object \n",
      " 6   BORO_NM            object \n",
      " 7   LOC_OF_OCCUR_DESC  object \n",
      " 8   PREM_TYP_DESC      object \n",
      " 9   PARKS_NM           object \n",
      " 10  HADEVELOPT         object \n",
      " 11  X_COORD_CD         float64\n",
      " 12  Y_COORD_CD         float64\n",
      " 13  SUSP_AGE_GROUP     object \n",
      " 14  SUSP_SEX           object \n",
      " 15  PATROL_BORO        object \n",
      " 16  STATION_NAME       object \n",
      " 17  VIC_AGE_GROUP      object \n",
      " 18  VIC_RACE           object \n",
      " 19  VIC_SEX            object \n",
      "dtypes: float64(2), object(18)\n",
      "memory usage: 1.2+ GB\n"
     ]
    }
   ],
   "source": [
    "df.info()"
   ]
  },
  {
   "cell_type": "code",
   "execution_count": 241,
   "id": "2e2d00b5-66db-4e32-918c-8ca443535f31",
   "metadata": {},
   "outputs": [
    {
     "data": {
      "text/plain": [
       "CMPLNT_FR_DT             655\n",
       "CMPLNT_FR_TM              48\n",
       "OFNS_DESC              18832\n",
       "PD_DESC                 6761\n",
       "CRM_ATPT_CPTD_CD         168\n",
       "LAW_CAT_CD                 0\n",
       "BORO_NM                12480\n",
       "LOC_OF_OCCUR_DESC    1618063\n",
       "PREM_TYP_DESC          42015\n",
       "PARKS_NM             7794644\n",
       "HADEVELOPT           7477110\n",
       "X_COORD_CD             17339\n",
       "Y_COORD_CD             17339\n",
       "SUSP_AGE_GROUP       4883369\n",
       "SUSP_SEX             3648142\n",
       "PATROL_BORO             7218\n",
       "STATION_NAME         7653024\n",
       "VIC_AGE_GROUP        1638445\n",
       "VIC_RACE                 390\n",
       "VIC_SEX                  308\n",
       "dtype: int64"
      ]
     },
     "execution_count": 241,
     "metadata": {},
     "output_type": "execute_result"
    }
   ],
   "source": [
    "df.isna().sum()"
   ]
  },
  {
   "cell_type": "code",
   "execution_count": 244,
   "id": "ab86f150-dfc8-434d-9cc4-099aa863009c",
   "metadata": {},
   "outputs": [
    {
     "data": {
      "text/plain": [
       "01/01/2010    2488\n",
       "01/01/2014    2395\n",
       "01/01/2016    2383\n",
       "01/01/2011    2375\n",
       "01/01/2008    2356\n",
       "              ... \n",
       "02/20/1998       1\n",
       "08/23/2000       1\n",
       "11/24/1960       1\n",
       "07/25/1018       1\n",
       "02/25/2002       1\n",
       "Name: CMPLNT_FR_DT, Length: 9040, dtype: int64"
      ]
     },
     "execution_count": 244,
     "metadata": {},
     "output_type": "execute_result"
    }
   ],
   "source": [
    "df.CMPLNT_FR_DT.value_counts()"
   ]
  },
  {
   "cell_type": "code",
   "execution_count": 245,
   "id": "582da65d-6161-41be-9164-894da5351b3f",
   "metadata": {},
   "outputs": [
    {
     "data": {
      "text/plain": [
       "9040"
      ]
     },
     "execution_count": 245,
     "metadata": {},
     "output_type": "execute_result"
    }
   ],
   "source": [
    "df.CMPLNT_FR_DT.nunique()"
   ]
  },
  {
   "cell_type": "code",
   "execution_count": 253,
   "id": "353cf138-ac57-4cd0-880e-870c10df3392",
   "metadata": {},
   "outputs": [
    {
     "data": {
      "text/plain": [
       "M    1988902\n",
       "F     683295\n",
       "Name: SUSP_SEX, dtype: int64"
      ]
     },
     "execution_count": 253,
     "metadata": {},
     "output_type": "execute_result"
    }
   ],
   "source": [
    "df.SUSP_SEX.value_counts()"
   ]
  },
  {
   "cell_type": "code",
   "execution_count": 380,
   "id": "27d2f58b-67b7-4184-a388-d335d5aed7f1",
   "metadata": {},
   "outputs": [],
   "source": [
    "df = df.loc[df[\"SUSP_SEX\"] != 'U']"
   ]
  },
  {
   "cell_type": "code",
   "execution_count": 255,
   "id": "8087c9af-02a7-4012-920f-3fdbd74a2450",
   "metadata": {},
   "outputs": [
    {
     "data": {
      "text/plain": [
       "M    1988902\n",
       "F     683295\n",
       "Name: SUSP_SEX, dtype: int64"
      ]
     },
     "execution_count": 255,
     "metadata": {},
     "output_type": "execute_result"
    }
   ],
   "source": [
    "df.SUSP_SEX.value_counts()"
   ]
  },
  {
   "cell_type": "code",
   "execution_count": 256,
   "id": "fa7593bd-f9c1-4448-a8d6-4ad3767eda6e",
   "metadata": {},
   "outputs": [
    {
     "data": {
      "text/plain": [
       "25-44    2301820\n",
       "45-64    1186558\n",
       "18-24     711038\n",
       "<18       326309\n",
       "65+       238627\n",
       "Name: VIC_AGE_GROUP, dtype: int64"
      ]
     },
     "execution_count": 256,
     "metadata": {},
     "output_type": "execute_result"
    }
   ],
   "source": [
    "df.VIC_AGE_GROUP.value_counts()"
   ]
  },
  {
   "cell_type": "code",
   "execution_count": 257,
   "id": "2fe4b859-d59f-4dfd-b7b1-294d5d487e53",
   "metadata": {},
   "outputs": [
    {
     "data": {
      "text/plain": [
       "CMPLNT_FR_DT          object\n",
       "CMPLNT_FR_TM          object\n",
       "OFNS_DESC             object\n",
       "PD_DESC               object\n",
       "CRM_ATPT_CPTD_CD      object\n",
       "LAW_CAT_CD            object\n",
       "BORO_NM               object\n",
       "LOC_OF_OCCUR_DESC     object\n",
       "PREM_TYP_DESC         object\n",
       "PARKS_NM              object\n",
       "HADEVELOPT            object\n",
       "X_COORD_CD           float64\n",
       "Y_COORD_CD           float64\n",
       "SUSP_AGE_GROUP        object\n",
       "SUSP_SEX              object\n",
       "PATROL_BORO           object\n",
       "STATION_NAME          object\n",
       "VIC_AGE_GROUP         object\n",
       "VIC_RACE              object\n",
       "VIC_SEX               object\n",
       "dtype: object"
      ]
     },
     "execution_count": 257,
     "metadata": {},
     "output_type": "execute_result"
    }
   ],
   "source": [
    "df.dtypes  #object is a string "
   ]
  },
  {
   "cell_type": "code",
   "execution_count": 258,
   "id": "293be0a4-2048-4b7f-acdc-7c2d4b8a5c60",
   "metadata": {},
   "outputs": [
    {
     "data": {
      "text/plain": [
       "array(['25-44', '18-24', '45-64', '<18', '65+'], dtype=object)"
      ]
     },
     "execution_count": 258,
     "metadata": {},
     "output_type": "execute_result"
    }
   ],
   "source": [
    "df.VIC_AGE_GROUP.unique()"
   ]
  },
  {
   "cell_type": "code",
   "execution_count": 381,
   "id": "8a455bff-5157-40fb-b9b1-0dea599fd435",
   "metadata": {},
   "outputs": [],
   "source": [
    "# I googled: filter by a set of values pandas\n",
    "\n",
    "#'25-44', '18-24', '<18', '45-64', '65+'\n",
    " \n",
    "df = df[df['VIC_AGE_GROUP'].isin(['25-44', '18-24', '<18', '45-64', '65+'])]"
   ]
  },
  {
   "cell_type": "code",
   "execution_count": 260,
   "id": "ac1e5c07-9988-447e-a4d6-987cef1c93f4",
   "metadata": {},
   "outputs": [
    {
     "data": {
      "text/plain": [
       "array(['25-44', '18-24', '45-64', '<18', '65+'], dtype=object)"
      ]
     },
     "execution_count": 260,
     "metadata": {},
     "output_type": "execute_result"
    }
   ],
   "source": [
    "df.VIC_AGE_GROUP.unique()"
   ]
  },
  {
   "cell_type": "code",
   "execution_count": 261,
   "id": "136917a5-b714-45df-8d87-66d5b58fc360",
   "metadata": {},
   "outputs": [
    {
     "data": {
      "text/plain": [
       "PATROL BORO BRONX            1018180\n",
       "PATROL BORO BKLYN SOUTH       761407\n",
       "PATROL BORO BKLYN NORTH       720472\n",
       "PATROL BORO QUEENS NORTH      538486\n",
       "PATROL BORO QUEENS SOUTH      501704\n",
       "PATROL BORO MAN NORTH         494903\n",
       "PATROL BORO MAN SOUTH         472832\n",
       "PATROL BORO STATEN ISLAND     249725\n",
       "Name: PATROL_BORO, dtype: int64"
      ]
     },
     "execution_count": 261,
     "metadata": {},
     "output_type": "execute_result"
    }
   ],
   "source": [
    "df.PATROL_BORO.value_counts()"
   ]
  },
  {
   "cell_type": "code",
   "execution_count": 262,
   "id": "9f803f36-036d-40ce-8007-31b2b31e42fe",
   "metadata": {},
   "outputs": [
    {
     "data": {
      "text/plain": [
       "14 STREET                 2223\n",
       "42 ST.-GRAND CENTRAL      2054\n",
       "125 STREET                2019\n",
       "42 ST.-TIMES SQUARE       1709\n",
       "59 ST.-COLUMBUS CIRCLE    1197\n",
       "                          ... \n",
       "DISTRICT 2 OFFICE            8\n",
       "DISTRICT 34 OFFICE           5\n",
       "AQUEDUCT-RACETRACK           4\n",
       "OFF-SYSTEM                   2\n",
       "DISTRICT 23 OFFICE           2\n",
       "Name: STATION_NAME, Length: 372, dtype: int64"
      ]
     },
     "execution_count": 262,
     "metadata": {},
     "output_type": "execute_result"
    }
   ],
   "source": [
    "df.STATION_NAME.value_counts()"
   ]
  },
  {
   "cell_type": "code",
   "execution_count": 263,
   "id": "d3663166-9dcd-4139-8707-a80e19975033",
   "metadata": {},
   "outputs": [
    {
     "data": {
      "text/plain": [
       "01/01/2007    1754\n",
       "01/01/2008    1716\n",
       "01/01/2006    1651\n",
       "01/01/2009    1488\n",
       "01/01/2011    1487\n",
       "              ... \n",
       "01/11/2001       1\n",
       "10/25/2001       1\n",
       "12/30/2002       1\n",
       "05/30/1986       1\n",
       "02/15/2000       1\n",
       "Name: CMPLNT_FR_DT, Length: 8674, dtype: int64"
      ]
     },
     "execution_count": 263,
     "metadata": {},
     "output_type": "execute_result"
    }
   ],
   "source": [
    "df.CMPLNT_FR_DT.value_counts()"
   ]
  },
  {
   "cell_type": "code",
   "execution_count": 264,
   "id": "500ca9ac-342e-48af-915b-6c31ca167862",
   "metadata": {},
   "outputs": [
    {
     "data": {
      "text/plain": [
       "12:00:00    144793\n",
       "15:00:00    118408\n",
       "18:00:00    113213\n",
       "20:00:00    109859\n",
       "16:00:00    103899\n",
       "             ...  \n",
       "06:33:00       119\n",
       "07:31:00       115\n",
       "06:16:00       113\n",
       "05:51:00       106\n",
       "05:31:00       100\n",
       "Name: CMPLNT_FR_TM, Length: 1440, dtype: int64"
      ]
     },
     "execution_count": 264,
     "metadata": {},
     "output_type": "execute_result"
    }
   ],
   "source": [
    "df.CMPLNT_FR_TM.value_counts()"
   ]
  },
  {
   "cell_type": "code",
   "execution_count": 265,
   "id": "39f81c55-d486-436f-95d9-f603a214d3a7",
   "metadata": {},
   "outputs": [
    {
     "data": {
      "text/plain": [
       "HARRASSMENT 2                      898637\n",
       "ASSAULT 3 & RELATED OFFENSES       740539\n",
       "PETIT LARCENY                      629321\n",
       "GRAND LARCENY                      453665\n",
       "CRIMINAL MISCHIEF & RELATED OF     411557\n",
       "                                    ...  \n",
       "LOITERING                               2\n",
       "INTOXICATED/IMPAIRED DRIVING            2\n",
       "UNLAWFUL POSS. WEAP. ON SCHOOL          2\n",
       "NYS LAWS-UNCLASSIFIED VIOLATION         1\n",
       "ADMINISTRATIVE CODES                    1\n",
       "Name: OFNS_DESC, Length: 69, dtype: int64"
      ]
     },
     "execution_count": 265,
     "metadata": {},
     "output_type": "execute_result"
    }
   ],
   "source": [
    "df.OFNS_DESC.value_counts()"
   ]
  },
  {
   "cell_type": "code",
   "execution_count": 382,
   "id": "3f9dfec4-5736-42d0-808c-fd942b0f255a",
   "metadata": {},
   "outputs": [],
   "source": [
    "df = df.loc[df[\"OFNS_DESC\"] != 'nan']"
   ]
  },
  {
   "cell_type": "code",
   "execution_count": 267,
   "id": "d461a2c4-199f-45b1-82a9-034cb7d4f1c3",
   "metadata": {},
   "outputs": [
    {
     "data": {
      "text/plain": [
       "array(['CRIMINAL MISCHIEF & RELATED OF', 'OFF. AGNST PUB ORD SENSBLTY &',\n",
       "       'ASSAULT 3 & RELATED OFFENSES', 'FELONY ASSAULT', 'GRAND LARCENY',\n",
       "       'ROBBERY', 'HARRASSMENT 2', 'PETIT LARCENY', 'SEX CRIMES',\n",
       "       'VEHICLE AND TRAFFIC LAWS', 'OTHER OFFENSES RELATED TO THEF',\n",
       "       'OFFENSES AGAINST PUBLIC ADMINI', 'MISCELLANEOUS PENAL LAW',\n",
       "       'BURGLARY', 'DANGEROUS WEAPONS', 'GRAND LARCENY OF MOTOR VEHICLE',\n",
       "       'RAPE', 'UNAUTHORIZED USE OF A VEHICLE',\n",
       "       'INTOXICATED & IMPAIRED DRIVING', 'FRAUDS', 'ADMINISTRATIVE CODE',\n",
       "       'THEFT-FRAUD', 'CRIMINAL TRESPASS', 'ARSON', nan, 'FORGERY',\n",
       "       'POSSESSION OF STOLEN PROPERTY', 'DISORDERLY CONDUCT', 'JOSTLING',\n",
       "       'KIDNAPPING & RELATED OFFENSES', 'MURDER & NON-NEGL. MANSLAUGHTER',\n",
       "       'OFFENSES AGAINST THE PERSON', 'FRAUDULENT ACCOSTING',\n",
       "       'PETIT LARCENY OF MOTOR VEHICLE', 'DANGEROUS DRUGS',\n",
       "       'PROSTITUTION & RELATED OFFENSES', 'CHILD ABANDONMENT/NON SUPPORT',\n",
       "       \"BURGLAR'S TOOLS\", 'OFFENSES INVOLVING FRAUD',\n",
       "       'AGRICULTURE & MRKTS LAW-UNCLASSIFIED', 'ENDAN WELFARE INCOMP',\n",
       "       'NYS LAWS-UNCLASSIFIED FELONY', 'ABORTION',\n",
       "       'OFFENSES AGAINST PUBLIC SAFETY', 'OTHER STATE LAWS (NON PENAL LA',\n",
       "       'ANTICIPATORY OFFENSES', 'GAMBLING',\n",
       "       'HOMICIDE-NEGLIGENT,UNCLASSIFIE', 'KIDNAPPING',\n",
       "       'OFFENSES RELATED TO CHILDREN', 'OTHER STATE LAWS',\n",
       "       'UNDER THE INFLUENCE OF DRUGS', 'HOMICIDE-NEGLIGENT-VEHICLE',\n",
       "       'THEFT OF SERVICES', 'FELONY SEX CRIMES',\n",
       "       'OFFENSES AGAINST MARRIAGE UNCL',\n",
       "       'KIDNAPPING AND RELATED OFFENSES',\n",
       "       'OTHER STATE LAWS (NON PENAL LAW)',\n",
       "       'NYS LAWS-UNCLASSIFIED VIOLATION',\n",
       "       'ALCOHOLIC BEVERAGE CONTROL LAW', 'NEW YORK CITY HEALTH CODE',\n",
       "       'DISRUPTION OF A RELIGIOUS SERV', 'FORTUNE TELLING',\n",
       "       'INTOXICATED/IMPAIRED DRIVING', 'ESCAPE 3', 'LOITERING',\n",
       "       'LOITERING/GAMBLING (CARDS, DIC', 'UNLAWFUL POSS. WEAP. ON SCHOOL',\n",
       "       'LOITERING FOR DRUG PURPOSES', 'ADMINISTRATIVE CODES'],\n",
       "      dtype=object)"
      ]
     },
     "execution_count": 267,
     "metadata": {},
     "output_type": "execute_result"
    }
   ],
   "source": [
    "df.OFNS_DESC.unique()"
   ]
  },
  {
   "cell_type": "code",
   "execution_count": 268,
   "id": "349eb5b0-8580-4898-9a69-8374174e3036",
   "metadata": {},
   "outputs": [
    {
     "data": {
      "text/plain": [
       "ASSAULT 3                           609181\n",
       "HARASSMENT,SUBD 3,4,5               589378\n",
       "AGGRAVATED HARASSMENT 2             340132\n",
       "HARASSMENT,SUBD 1,CIVILIAN          309266\n",
       "ASSAULT 2,1,UNCLASSIFIED            211348\n",
       "                                     ...  \n",
       "WEAPONS DISPOSITION OF                   1\n",
       "PROSTITUTION 1, UNDER 11                 1\n",
       "EDUCATION LAW                            1\n",
       "ABORTIONAL ARTICLES,ISSUING              1\n",
       "USE CHILD TO COMMIT CONT SUB OFF         1\n",
       "Name: PD_DESC, Length: 380, dtype: int64"
      ]
     },
     "execution_count": 268,
     "metadata": {},
     "output_type": "execute_result"
    }
   ],
   "source": [
    "df.PD_DESC.value_counts()"
   ]
  },
  {
   "cell_type": "code",
   "execution_count": 383,
   "id": "fb0a824c-28a8-478c-8873-922565f27adc",
   "metadata": {},
   "outputs": [],
   "source": [
    "df = df.loc[df[\"PD_DESC\"] != 'nan']"
   ]
  },
  {
   "cell_type": "code",
   "execution_count": 270,
   "id": "4df0013e-d090-40cd-acfc-ad3efb23984a",
   "metadata": {},
   "outputs": [
    {
     "data": {
      "text/plain": [
       "380"
      ]
     },
     "execution_count": 270,
     "metadata": {},
     "output_type": "execute_result"
    }
   ],
   "source": [
    "df.PD_DESC.nunique()"
   ]
  },
  {
   "cell_type": "code",
   "execution_count": 271,
   "id": "e9e4c1c0-671f-42c9-8101-ebdaed2bc489",
   "metadata": {},
   "outputs": [],
   "source": [
    "#df.PD_DESC.unique()"
   ]
  },
  {
   "cell_type": "code",
   "execution_count": 272,
   "id": "fd0aba38-deac-438b-bc17-49f17de6f3a9",
   "metadata": {},
   "outputs": [
    {
     "data": {
      "text/plain": [
       "COMPLETED    4684907\n",
       "ATTEMPTED      79278\n",
       "Name: CRM_ATPT_CPTD_CD, dtype: int64"
      ]
     },
     "execution_count": 272,
     "metadata": {},
     "output_type": "execute_result"
    }
   ],
   "source": [
    "df.CRM_ATPT_CPTD_CD.value_counts()"
   ]
  },
  {
   "cell_type": "code",
   "execution_count": 384,
   "id": "1c490cff-7afa-4fab-bc86-88419e5d7e5b",
   "metadata": {},
   "outputs": [],
   "source": [
    "df = df.loc[df[\"CRM_ATPT_CPTD_CD\"] != 'ATTEMPTED']"
   ]
  },
  {
   "cell_type": "code",
   "execution_count": 274,
   "id": "d4c37034-e074-46e8-a813-f44debf9db42",
   "metadata": {},
   "outputs": [
    {
     "data": {
      "text/plain": [
       "COMPLETED    4684907\n",
       "Name: CRM_ATPT_CPTD_CD, dtype: int64"
      ]
     },
     "execution_count": 274,
     "metadata": {},
     "output_type": "execute_result"
    }
   ],
   "source": [
    "df.CRM_ATPT_CPTD_CD.value_counts()"
   ]
  },
  {
   "cell_type": "code",
   "execution_count": 275,
   "id": "38536ecf-fd62-49c7-9764-3f50ee470dba",
   "metadata": {},
   "outputs": [
    {
     "data": {
      "text/plain": [
       "MISDEMEANOR    2346783\n",
       "FELONY         1439300\n",
       "VIOLATION       898991\n",
       "Name: LAW_CAT_CD, dtype: int64"
      ]
     },
     "execution_count": 275,
     "metadata": {},
     "output_type": "execute_result"
    }
   ],
   "source": [
    "df.LAW_CAT_CD.value_counts()   "
   ]
  },
  {
   "cell_type": "code",
   "execution_count": 276,
   "id": "95585e96-f941-4d4b-9019-78cc62f6cbdb",
   "metadata": {},
   "outputs": [
    {
     "data": {
      "text/plain": [
       "BROOKLYN         1455223\n",
       "QUEENS           1020503\n",
       "BRONX            1001563\n",
       "MANHATTAN         950957\n",
       "STATEN ISLAND     246843\n",
       "Name: BORO_NM, dtype: int64"
      ]
     },
     "execution_count": 276,
     "metadata": {},
     "output_type": "execute_result"
    }
   ],
   "source": [
    "df.BORO_NM.value_counts()"
   ]
  },
  {
   "cell_type": "code",
   "execution_count": 277,
   "id": "285f5e66-147f-49fb-9060-5bcd7466d381",
   "metadata": {},
   "outputs": [
    {
     "data": {
      "text/plain": [
       "INSIDE         2550832\n",
       "FRONT OF       1138619\n",
       "OPPOSITE OF     108741\n",
       "REAR OF          86059\n",
       "OUTSIDE           3915\n",
       "Name: LOC_OF_OCCUR_DESC, dtype: int64"
      ]
     },
     "execution_count": 277,
     "metadata": {},
     "output_type": "execute_result"
    }
   ],
   "source": [
    "df.LOC_OF_OCCUR_DESC.value_counts()"
   ]
  },
  {
   "cell_type": "code",
   "execution_count": 278,
   "id": "5a8fd6c0-cc42-4dc3-8968-c6a169761f84",
   "metadata": {},
   "outputs": [
    {
     "data": {
      "text/plain": [
       "STREET                        1392876\n",
       "RESIDENCE - APT. HOUSE        1318315\n",
       "RESIDENCE-HOUSE                644446\n",
       "RESIDENCE - PUBLIC HOUSING     355327\n",
       "OTHER                          106623\n",
       "                               ...   \n",
       "PHOTO/COPY                        431\n",
       "CEMETERY                          384\n",
       "LOAN COMPANY                      213\n",
       "DAYCARE FACILITY                   34\n",
       "TRAMWAY                            34\n",
       "Name: PREM_TYP_DESC, Length: 74, dtype: int64"
      ]
     },
     "execution_count": 278,
     "metadata": {},
     "output_type": "execute_result"
    }
   ],
   "source": [
    "df.PREM_TYP_DESC.value_counts()"
   ]
  },
  {
   "cell_type": "code",
   "execution_count": 279,
   "id": "864de0ca-86dc-446d-868a-9ad9b8bc4563",
   "metadata": {},
   "outputs": [
    {
     "data": {
      "text/plain": [
       "CENTRAL PARK                            1111\n",
       "FLUSHING MEADOWS CORONA PARK             821\n",
       "CONEY ISLAND BEACH & BOARDWALK           481\n",
       "PROSPECT PARK                            413\n",
       "UNION SQUARE PARK                        398\n",
       "                                        ... \n",
       "BARRETT TRIANGLE                           1\n",
       "BROAD CHANNEL AMERICAN PARK                1\n",
       "ABC PLAYGROUND                             1\n",
       "UNNAMED PARK ON CLEARVIEW EXPRESSWAY       1\n",
       "FLOOD TRIANGLE                             1\n",
       "Name: PARKS_NM, Length: 1019, dtype: int64"
      ]
     },
     "execution_count": 279,
     "metadata": {},
     "output_type": "execute_result"
    }
   ],
   "source": [
    "df.PARKS_NM.value_counts()"
   ]
  },
  {
   "cell_type": "code",
   "execution_count": 280,
   "id": "4060345f-d57f-4f19-aeb6-79d217a1607f",
   "metadata": {},
   "outputs": [
    {
     "data": {
      "text/plain": [
       "CASTLE HILL                 4535\n",
       "VAN DYKE I                  4320\n",
       "POMONOK                     3295\n",
       "LINDEN                      3292\n",
       "BROWNSVILLE                 3197\n",
       "                            ... \n",
       "FRANKLIN AVENUE III MHOP       1\n",
       "STUYVESANT GARDENS II          1\n",
       "FULTON                         1\n",
       "344 EAST 28TH STREET           1\n",
       "BRONXCHESTER                   1\n",
       "Name: HADEVELOPT, Length: 276, dtype: int64"
      ]
     },
     "execution_count": 280,
     "metadata": {},
     "output_type": "execute_result"
    }
   ],
   "source": [
    "df.HADEVELOPT.value_counts()  "
   ]
  },
  {
   "cell_type": "code",
   "execution_count": 281,
   "id": "88af4294-1ced-4d09-99d4-3fd31bc3baf9",
   "metadata": {},
   "outputs": [
    {
     "data": {
      "text/plain": [
       "25-44      828810\n",
       "UNKNOWN    299848\n",
       "18-24      290949\n",
       "45-64      285936\n",
       "<18         86338\n",
       "            ...  \n",
       "-64             1\n",
       "-964            1\n",
       "-72             1\n",
       "933             1\n",
       "-935            1\n",
       "Name: SUSP_AGE_GROUP, Length: 109, dtype: int64"
      ]
     },
     "execution_count": 281,
     "metadata": {},
     "output_type": "execute_result"
    }
   ],
   "source": [
    "df.SUSP_AGE_GROUP.value_counts()"
   ]
  },
  {
   "cell_type": "code",
   "execution_count": 282,
   "id": "b0241863-3157-49e2-98f3-24dfcbeacace",
   "metadata": {},
   "outputs": [
    {
     "data": {
      "text/plain": [
       "M    1950276\n",
       "F     677538\n",
       "Name: SUSP_SEX, dtype: int64"
      ]
     },
     "execution_count": 282,
     "metadata": {},
     "output_type": "execute_result"
    }
   ],
   "source": [
    "df.SUSP_SEX.value_counts()"
   ]
  },
  {
   "cell_type": "code",
   "execution_count": 283,
   "id": "598d93f7-23f8-466a-b76f-f9226344f009",
   "metadata": {},
   "outputs": [
    {
     "data": {
      "text/plain": [
       "array([nan, '25-44', '45-64', 'UNKNOWN', '18-24', '<18', '65+', '1012',\n",
       "       '1018', '-974', '-978', '2018', '-941', '1967', '948', '-981',\n",
       "       '-972', '-969', '935', '-2', '2016', '-63', '-965', '-964', '2019',\n",
       "       '-973', '-966', '-968', '-64', '-1', '930', '947', '924', '929',\n",
       "       '1019', '940', '2021', '-33', '-60', '953', '-971', '-946', '1032',\n",
       "       '-955', '1056', '-69', '-975', '-947', '1017', '-72', '-977',\n",
       "       '1016', '-49', '2017', '966', '923', '2020', '-962', '1020',\n",
       "       '1925', '-942', '-928', '327', '1933', '945', '-83', '942', '926',\n",
       "       '-960', '-948', '-65', '927', '2015', '934', '931', '949', '-54',\n",
       "       '944', '-67', '1932', '1053', '-976', '938', '946', '915', '709',\n",
       "       '922', '-979', '-963', '933', '-935', '914', '808', '-980', '1007',\n",
       "       '-985', '-970', '708', '952', '324', '814', '925', '809', '936',\n",
       "       '711', '972', '954', '955', '920', '928'], dtype=object)"
      ]
     },
     "execution_count": 283,
     "metadata": {},
     "output_type": "execute_result"
    }
   ],
   "source": [
    "df.SUSP_AGE_GROUP.unique()"
   ]
  },
  {
   "cell_type": "code",
   "execution_count": 385,
   "id": "24ce1b44-3098-45df-9a19-1514e315162b",
   "metadata": {},
   "outputs": [],
   "source": [
    "df = df[df['SUSP_AGE_GROUP'].isin(['25-44', '45-64', '<18', '18-24', '65+'])]"
   ]
  },
  {
   "cell_type": "code",
   "execution_count": 285,
   "id": "c2fad32d-55a9-4660-b3bc-50d20a784cce",
   "metadata": {},
   "outputs": [
    {
     "data": {
      "text/plain": [
       "PATROL BORO BRONX            368641\n",
       "PATROL BORO BKLYN NORTH      230922\n",
       "PATROL BORO BKLYN SOUTH      230759\n",
       "PATROL BORO QUEENS SOUTH     171023\n",
       "PATROL BORO MAN NORTH        166313\n",
       "PATROL BORO QUEENS NORTH     154731\n",
       "PATROL BORO MAN SOUTH        110252\n",
       "PATROL BORO STATEN ISLAND     82888\n",
       "Name: PATROL_BORO, dtype: int64"
      ]
     },
     "execution_count": 285,
     "metadata": {},
     "output_type": "execute_result"
    }
   ],
   "source": [
    "df.PATROL_BORO.value_counts()"
   ]
  },
  {
   "cell_type": "code",
   "execution_count": 286,
   "id": "bab2544c-3ae1-49d9-a4e9-e9cebc033096",
   "metadata": {},
   "outputs": [
    {
     "data": {
      "text/plain": [
       "125 STREET                624\n",
       "14 STREET                 526\n",
       "42 ST.-TIMES SQUARE       436\n",
       "42 ST.-GRAND CENTRAL      416\n",
       "59 ST.-COLUMBUS CIRCLE    356\n",
       "                         ... \n",
       "DISTRICT 30 OFFICE          2\n",
       "DISTRICT 12 OFFICE          1\n",
       "BEACH 105 STREET            1\n",
       "36 AVENUE                   1\n",
       "OFF-SYSTEM                  1\n",
       "Name: STATION_NAME, Length: 371, dtype: int64"
      ]
     },
     "execution_count": 286,
     "metadata": {},
     "output_type": "execute_result"
    }
   ],
   "source": [
    "df.STATION_NAME.value_counts()"
   ]
  },
  {
   "cell_type": "code",
   "execution_count": 287,
   "id": "2ed1473f-2a07-4f88-b086-f73f75f1dbfe",
   "metadata": {},
   "outputs": [
    {
     "data": {
      "text/plain": [
       "371"
      ]
     },
     "execution_count": 287,
     "metadata": {},
     "output_type": "execute_result"
    }
   ],
   "source": [
    "df.STATION_NAME.nunique()"
   ]
  },
  {
   "cell_type": "code",
   "execution_count": 386,
   "id": "2f1c04d1-8acf-4e74-806d-fb2da69677a7",
   "metadata": {},
   "outputs": [],
   "source": [
    "df = df[df[\"STATION_NAME\"].str.contains(\"OFF-SYSTEM\")==False]"
   ]
  },
  {
   "cell_type": "code",
   "execution_count": 387,
   "id": "b769b7e4-fbd3-483b-af09-f7b8a4f084ab",
   "metadata": {},
   "outputs": [],
   "source": [
    "dfs = df.loc[df[\"PREM_TYP_DESC\"] == 'TRANSIT - NYC SUBWAY']"
   ]
  },
  {
   "cell_type": "code",
   "execution_count": 290,
   "id": "4db367fc-4da1-4c9b-94fc-e7f2df1516e2",
   "metadata": {},
   "outputs": [
    {
     "data": {
      "text/html": [
       "<div>\n",
       "<style scoped>\n",
       "    .dataframe tbody tr th:only-of-type {\n",
       "        vertical-align: middle;\n",
       "    }\n",
       "\n",
       "    .dataframe tbody tr th {\n",
       "        vertical-align: top;\n",
       "    }\n",
       "\n",
       "    .dataframe thead th {\n",
       "        text-align: right;\n",
       "    }\n",
       "</style>\n",
       "<table border=\"1\" class=\"dataframe\">\n",
       "  <thead>\n",
       "    <tr style=\"text-align: right;\">\n",
       "      <th></th>\n",
       "      <th>CMPLNT_FR_DT</th>\n",
       "      <th>CMPLNT_FR_TM</th>\n",
       "      <th>OFNS_DESC</th>\n",
       "      <th>PD_DESC</th>\n",
       "      <th>CRM_ATPT_CPTD_CD</th>\n",
       "      <th>LAW_CAT_CD</th>\n",
       "      <th>BORO_NM</th>\n",
       "      <th>LOC_OF_OCCUR_DESC</th>\n",
       "      <th>PREM_TYP_DESC</th>\n",
       "      <th>PARKS_NM</th>\n",
       "      <th>HADEVELOPT</th>\n",
       "      <th>X_COORD_CD</th>\n",
       "      <th>Y_COORD_CD</th>\n",
       "      <th>SUSP_AGE_GROUP</th>\n",
       "      <th>SUSP_SEX</th>\n",
       "      <th>PATROL_BORO</th>\n",
       "      <th>STATION_NAME</th>\n",
       "      <th>VIC_AGE_GROUP</th>\n",
       "      <th>VIC_RACE</th>\n",
       "      <th>VIC_SEX</th>\n",
       "    </tr>\n",
       "  </thead>\n",
       "  <tbody>\n",
       "    <tr>\n",
       "      <th>172</th>\n",
       "      <td>06/09/2018</td>\n",
       "      <td>15:54:00</td>\n",
       "      <td>GRAND LARCENY</td>\n",
       "      <td>LARCENY,GRAND FROM PERSON,PURS</td>\n",
       "      <td>COMPLETED</td>\n",
       "      <td>FELONY</td>\n",
       "      <td>BRONX</td>\n",
       "      <td>NaN</td>\n",
       "      <td>TRANSIT - NYC SUBWAY</td>\n",
       "      <td>NaN</td>\n",
       "      <td>NaN</td>\n",
       "      <td>1010257.0</td>\n",
       "      <td>248767.0</td>\n",
       "      <td>&lt;18</td>\n",
       "      <td>M</td>\n",
       "      <td>PATROL BORO BRONX</td>\n",
       "      <td>TREMONT AVENUE</td>\n",
       "      <td>45-64</td>\n",
       "      <td>WHITE HISPANIC</td>\n",
       "      <td>F</td>\n",
       "    </tr>\n",
       "    <tr>\n",
       "      <th>226</th>\n",
       "      <td>03/01/2018</td>\n",
       "      <td>08:47:00</td>\n",
       "      <td>SEX CRIMES</td>\n",
       "      <td>SEXUAL ABUSE 3,2</td>\n",
       "      <td>COMPLETED</td>\n",
       "      <td>MISDEMEANOR</td>\n",
       "      <td>MANHATTAN</td>\n",
       "      <td>NaN</td>\n",
       "      <td>TRANSIT - NYC SUBWAY</td>\n",
       "      <td>NaN</td>\n",
       "      <td>NaN</td>\n",
       "      <td>988874.0</td>\n",
       "      <td>207673.0</td>\n",
       "      <td>18-24</td>\n",
       "      <td>M</td>\n",
       "      <td>PATROL BORO MAN SOUTH</td>\n",
       "      <td>14 STREET</td>\n",
       "      <td>25-44</td>\n",
       "      <td>ASIAN / PACIFIC ISLANDER</td>\n",
       "      <td>F</td>\n",
       "    </tr>\n",
       "    <tr>\n",
       "      <th>413</th>\n",
       "      <td>05/19/2018</td>\n",
       "      <td>12:25:00</td>\n",
       "      <td>FORGERY</td>\n",
       "      <td>FORGERY,ETC.,UNCLASSIFIED-FELO</td>\n",
       "      <td>COMPLETED</td>\n",
       "      <td>FELONY</td>\n",
       "      <td>MANHATTAN</td>\n",
       "      <td>NaN</td>\n",
       "      <td>TRANSIT - NYC SUBWAY</td>\n",
       "      <td>NaN</td>\n",
       "      <td>NaN</td>\n",
       "      <td>990886.0</td>\n",
       "      <td>213048.0</td>\n",
       "      <td>45-64</td>\n",
       "      <td>M</td>\n",
       "      <td>PATROL BORO MAN SOUTH</td>\n",
       "      <td>42 ST.-GRAND CENTRAL</td>\n",
       "      <td>25-44</td>\n",
       "      <td>WHITE</td>\n",
       "      <td>F</td>\n",
       "    </tr>\n",
       "    <tr>\n",
       "      <th>717</th>\n",
       "      <td>11/04/2018</td>\n",
       "      <td>00:00:00</td>\n",
       "      <td>DANGEROUS WEAPONS</td>\n",
       "      <td>WEAPONS POSSESSION 3</td>\n",
       "      <td>COMPLETED</td>\n",
       "      <td>FELONY</td>\n",
       "      <td>MANHATTAN</td>\n",
       "      <td>NaN</td>\n",
       "      <td>TRANSIT - NYC SUBWAY</td>\n",
       "      <td>NaN</td>\n",
       "      <td>NaN</td>\n",
       "      <td>980772.0</td>\n",
       "      <td>194845.0</td>\n",
       "      <td>25-44</td>\n",
       "      <td>M</td>\n",
       "      <td>PATROL BORO MAN SOUTH</td>\n",
       "      <td>SOUTH FERRY</td>\n",
       "      <td>65+</td>\n",
       "      <td>BLACK</td>\n",
       "      <td>M</td>\n",
       "    </tr>\n",
       "    <tr>\n",
       "      <th>844</th>\n",
       "      <td>01/18/2018</td>\n",
       "      <td>12:23:00</td>\n",
       "      <td>POSSESSION OF STOLEN PROPERTY</td>\n",
       "      <td>STOLEN PROPERTY 3,POSSESSION</td>\n",
       "      <td>COMPLETED</td>\n",
       "      <td>MISDEMEANOR</td>\n",
       "      <td>MANHATTAN</td>\n",
       "      <td>NaN</td>\n",
       "      <td>TRANSIT - NYC SUBWAY</td>\n",
       "      <td>NaN</td>\n",
       "      <td>NaN</td>\n",
       "      <td>989294.0</td>\n",
       "      <td>215445.0</td>\n",
       "      <td>25-44</td>\n",
       "      <td>M</td>\n",
       "      <td>PATROL BORO MAN SOUTH</td>\n",
       "      <td>47-50 STS./ROCKEFELLER CTR.</td>\n",
       "      <td>25-44</td>\n",
       "      <td>WHITE</td>\n",
       "      <td>M</td>\n",
       "    </tr>\n",
       "  </tbody>\n",
       "</table>\n",
       "</div>"
      ],
      "text/plain": [
       "    CMPLNT_FR_DT CMPLNT_FR_TM                      OFNS_DESC  \\\n",
       "172   06/09/2018     15:54:00                  GRAND LARCENY   \n",
       "226   03/01/2018     08:47:00                     SEX CRIMES   \n",
       "413   05/19/2018     12:25:00                        FORGERY   \n",
       "717   11/04/2018     00:00:00              DANGEROUS WEAPONS   \n",
       "844   01/18/2018     12:23:00  POSSESSION OF STOLEN PROPERTY   \n",
       "\n",
       "                            PD_DESC CRM_ATPT_CPTD_CD   LAW_CAT_CD    BORO_NM  \\\n",
       "172  LARCENY,GRAND FROM PERSON,PURS        COMPLETED       FELONY      BRONX   \n",
       "226                SEXUAL ABUSE 3,2        COMPLETED  MISDEMEANOR  MANHATTAN   \n",
       "413  FORGERY,ETC.,UNCLASSIFIED-FELO        COMPLETED       FELONY  MANHATTAN   \n",
       "717            WEAPONS POSSESSION 3        COMPLETED       FELONY  MANHATTAN   \n",
       "844    STOLEN PROPERTY 3,POSSESSION        COMPLETED  MISDEMEANOR  MANHATTAN   \n",
       "\n",
       "    LOC_OF_OCCUR_DESC         PREM_TYP_DESC PARKS_NM HADEVELOPT  X_COORD_CD  \\\n",
       "172               NaN  TRANSIT - NYC SUBWAY      NaN        NaN   1010257.0   \n",
       "226               NaN  TRANSIT - NYC SUBWAY      NaN        NaN    988874.0   \n",
       "413               NaN  TRANSIT - NYC SUBWAY      NaN        NaN    990886.0   \n",
       "717               NaN  TRANSIT - NYC SUBWAY      NaN        NaN    980772.0   \n",
       "844               NaN  TRANSIT - NYC SUBWAY      NaN        NaN    989294.0   \n",
       "\n",
       "     Y_COORD_CD SUSP_AGE_GROUP SUSP_SEX            PATROL_BORO  \\\n",
       "172    248767.0            <18        M      PATROL BORO BRONX   \n",
       "226    207673.0          18-24        M  PATROL BORO MAN SOUTH   \n",
       "413    213048.0          45-64        M  PATROL BORO MAN SOUTH   \n",
       "717    194845.0          25-44        M  PATROL BORO MAN SOUTH   \n",
       "844    215445.0          25-44        M  PATROL BORO MAN SOUTH   \n",
       "\n",
       "                    STATION_NAME VIC_AGE_GROUP                  VIC_RACE  \\\n",
       "172               TREMONT AVENUE         45-64            WHITE HISPANIC   \n",
       "226                    14 STREET         25-44  ASIAN / PACIFIC ISLANDER   \n",
       "413         42 ST.-GRAND CENTRAL         25-44                     WHITE   \n",
       "717                  SOUTH FERRY           65+                     BLACK   \n",
       "844  47-50 STS./ROCKEFELLER CTR.         25-44                     WHITE   \n",
       "\n",
       "    VIC_SEX  \n",
       "172       F  \n",
       "226       F  \n",
       "413       F  \n",
       "717       M  \n",
       "844       M  "
      ]
     },
     "execution_count": 290,
     "metadata": {},
     "output_type": "execute_result"
    }
   ],
   "source": [
    "dfs.head()"
   ]
  },
  {
   "cell_type": "code",
   "execution_count": 291,
   "id": "184ca1c3-4432-410d-a7ad-db6bece5188a",
   "metadata": {},
   "outputs": [
    {
     "name": "stdout",
     "output_type": "stream",
     "text": [
      "<class 'pandas.core.frame.DataFrame'>\n",
      "Int64Index: 20186 entries, 172 to 7825279\n",
      "Data columns (total 20 columns):\n",
      " #   Column             Non-Null Count  Dtype  \n",
      "---  ------             --------------  -----  \n",
      " 0   CMPLNT_FR_DT       20185 non-null  object \n",
      " 1   CMPLNT_FR_TM       20186 non-null  object \n",
      " 2   OFNS_DESC          20115 non-null  object \n",
      " 3   PD_DESC            20186 non-null  object \n",
      " 4   CRM_ATPT_CPTD_CD   20186 non-null  object \n",
      " 5   LAW_CAT_CD         20186 non-null  object \n",
      " 6   BORO_NM            20161 non-null  object \n",
      " 7   LOC_OF_OCCUR_DESC  38 non-null     object \n",
      " 8   PREM_TYP_DESC      20186 non-null  object \n",
      " 9   PARKS_NM           2 non-null      object \n",
      " 10  HADEVELOPT         0 non-null      object \n",
      " 11  X_COORD_CD         20161 non-null  float64\n",
      " 12  Y_COORD_CD         20161 non-null  float64\n",
      " 13  SUSP_AGE_GROUP     20186 non-null  object \n",
      " 14  SUSP_SEX           20168 non-null  object \n",
      " 15  PATROL_BORO        20186 non-null  object \n",
      " 16  STATION_NAME       20146 non-null  object \n",
      " 17  VIC_AGE_GROUP      20186 non-null  object \n",
      " 18  VIC_RACE           20186 non-null  object \n",
      " 19  VIC_SEX            20186 non-null  object \n",
      "dtypes: float64(2), object(18)\n",
      "memory usage: 3.2+ MB\n"
     ]
    }
   ],
   "source": [
    "dfs.info()"
   ]
  },
  {
   "cell_type": "code",
   "execution_count": 292,
   "id": "a8b55dfd-9b99-42b3-bc69-43fa1e0046d0",
   "metadata": {},
   "outputs": [
    {
     "data": {
      "text/plain": [
       "CMPLNT_FR_DT             1\n",
       "CMPLNT_FR_TM             0\n",
       "OFNS_DESC               71\n",
       "PD_DESC                  0\n",
       "CRM_ATPT_CPTD_CD         0\n",
       "LAW_CAT_CD               0\n",
       "BORO_NM                 25\n",
       "LOC_OF_OCCUR_DESC    20148\n",
       "PREM_TYP_DESC            0\n",
       "PARKS_NM             20184\n",
       "HADEVELOPT           20186\n",
       "X_COORD_CD              25\n",
       "Y_COORD_CD              25\n",
       "SUSP_AGE_GROUP           0\n",
       "SUSP_SEX                18\n",
       "PATROL_BORO              0\n",
       "STATION_NAME            40\n",
       "VIC_AGE_GROUP            0\n",
       "VIC_RACE                 0\n",
       "VIC_SEX                  0\n",
       "dtype: int64"
      ]
     },
     "execution_count": 292,
     "metadata": {},
     "output_type": "execute_result"
    }
   ],
   "source": [
    "dfs.isna().sum()"
   ]
  },
  {
   "cell_type": "code",
   "execution_count": 388,
   "id": "402d2758-4f15-4502-9ee6-d328f339485a",
   "metadata": {},
   "outputs": [],
   "source": [
    "#setting the new df equal to station name equals everything except off-system. Not finalized until you set\n",
    "#it equal to the new df\n",
    "\n",
    "df = df.loc[df[\"STATION_NAME\"] != 'OFF-SYSTEM']"
   ]
  },
  {
   "cell_type": "code",
   "execution_count": 294,
   "id": "0890d563-560e-413a-aa55-8a62d1dbbb5c",
   "metadata": {},
   "outputs": [
    {
     "data": {
      "text/plain": [
       "125 STREET                624\n",
       "14 STREET                 526\n",
       "42 ST.-TIMES SQUARE       436\n",
       "42 ST.-GRAND CENTRAL      416\n",
       "59 ST.-COLUMBUS CIRCLE    356\n",
       "                         ... \n",
       "DISTRICT 34 OFFICE          2\n",
       "DISTRICT 30 OFFICE          2\n",
       "36 AVENUE                   1\n",
       "DISTRICT 12 OFFICE          1\n",
       "BEACH 105 STREET            1\n",
       "Name: STATION_NAME, Length: 370, dtype: int64"
      ]
     },
     "execution_count": 294,
     "metadata": {},
     "output_type": "execute_result"
    }
   ],
   "source": [
    "df.STATION_NAME.value_counts()"
   ]
  },
  {
   "cell_type": "code",
   "execution_count": 295,
   "id": "951a6666-aad6-4bb5-9732-20df058e7007",
   "metadata": {},
   "outputs": [
    {
     "data": {
      "text/plain": [
       "BLACK                             612331\n",
       "WHITE HISPANIC                    398572\n",
       "WHITE                             264748\n",
       "ASIAN / PACIFIC ISLANDER          101182\n",
       "BLACK HISPANIC                     85390\n",
       "UNKNOWN                            50091\n",
       "AMERICAN INDIAN/ALASKAN NATIVE      7422\n",
       "OTHER                                  4\n",
       "Name: VIC_RACE, dtype: int64"
      ]
     },
     "execution_count": 295,
     "metadata": {},
     "output_type": "execute_result"
    }
   ],
   "source": [
    "df.VIC_RACE.value_counts()"
   ]
  },
  {
   "cell_type": "code",
   "execution_count": 296,
   "id": "c30b62cc-5f4e-4be9-b600-003154604131",
   "metadata": {},
   "outputs": [
    {
     "data": {
      "text/plain": [
       "F    1037179\n",
       "M     482444\n",
       "D         82\n",
       "E         35\n",
       "Name: VIC_SEX, dtype: int64"
      ]
     },
     "execution_count": 296,
     "metadata": {},
     "output_type": "execute_result"
    }
   ],
   "source": [
    "df.VIC_SEX.value_counts()"
   ]
  },
  {
   "cell_type": "code",
   "execution_count": 389,
   "id": "23d1347f-3022-4498-bffb-98408b21d121",
   "metadata": {},
   "outputs": [],
   "source": [
    "df = df.loc[df[\"VIC_SEX\"] != 'U']"
   ]
  },
  {
   "cell_type": "code",
   "execution_count": 298,
   "id": "8149d3b8-4869-4e22-9b1b-8bba86d9f0d4",
   "metadata": {},
   "outputs": [
    {
     "data": {
      "text/plain": [
       "F    1037179\n",
       "M     482444\n",
       "D         82\n",
       "E         35\n",
       "Name: VIC_SEX, dtype: int64"
      ]
     },
     "execution_count": 298,
     "metadata": {},
     "output_type": "execute_result"
    }
   ],
   "source": [
    "df.VIC_SEX.value_counts()"
   ]
  },
  {
   "cell_type": "code",
   "execution_count": 299,
   "id": "c04efe4a-ea4c-4213-a50e-26e16b64ed6e",
   "metadata": {},
   "outputs": [
    {
     "data": {
      "text/html": [
       "<div>\n",
       "<style scoped>\n",
       "    .dataframe tbody tr th:only-of-type {\n",
       "        vertical-align: middle;\n",
       "    }\n",
       "\n",
       "    .dataframe tbody tr th {\n",
       "        vertical-align: top;\n",
       "    }\n",
       "\n",
       "    .dataframe thead th {\n",
       "        text-align: right;\n",
       "    }\n",
       "</style>\n",
       "<table border=\"1\" class=\"dataframe\">\n",
       "  <thead>\n",
       "    <tr style=\"text-align: right;\">\n",
       "      <th></th>\n",
       "      <th>CMPLNT_FR_DT</th>\n",
       "      <th>CMPLNT_FR_TM</th>\n",
       "      <th>OFNS_DESC</th>\n",
       "      <th>PD_DESC</th>\n",
       "      <th>CRM_ATPT_CPTD_CD</th>\n",
       "      <th>LAW_CAT_CD</th>\n",
       "      <th>BORO_NM</th>\n",
       "      <th>LOC_OF_OCCUR_DESC</th>\n",
       "      <th>PREM_TYP_DESC</th>\n",
       "      <th>PARKS_NM</th>\n",
       "      <th>HADEVELOPT</th>\n",
       "      <th>X_COORD_CD</th>\n",
       "      <th>Y_COORD_CD</th>\n",
       "      <th>SUSP_AGE_GROUP</th>\n",
       "      <th>SUSP_SEX</th>\n",
       "      <th>PATROL_BORO</th>\n",
       "      <th>STATION_NAME</th>\n",
       "      <th>VIC_AGE_GROUP</th>\n",
       "      <th>VIC_RACE</th>\n",
       "      <th>VIC_SEX</th>\n",
       "    </tr>\n",
       "  </thead>\n",
       "  <tbody>\n",
       "    <tr>\n",
       "      <th>3</th>\n",
       "      <td>06/09/2018</td>\n",
       "      <td>21:42:00</td>\n",
       "      <td>OFF. AGNST PUB ORD SENSBLTY &amp;</td>\n",
       "      <td>AGGRAVATED HARASSMENT 2</td>\n",
       "      <td>COMPLETED</td>\n",
       "      <td>MISDEMEANOR</td>\n",
       "      <td>MANHATTAN</td>\n",
       "      <td>INSIDE</td>\n",
       "      <td>RESIDENCE - APT. HOUSE</td>\n",
       "      <td>NaN</td>\n",
       "      <td>NaN</td>\n",
       "      <td>985717.0</td>\n",
       "      <td>215911.0</td>\n",
       "      <td>25-44</td>\n",
       "      <td>M</td>\n",
       "      <td>PATROL BORO MAN SOUTH</td>\n",
       "      <td>NaN</td>\n",
       "      <td>18-24</td>\n",
       "      <td>WHITE HISPANIC</td>\n",
       "      <td>F</td>\n",
       "    </tr>\n",
       "    <tr>\n",
       "      <th>9</th>\n",
       "      <td>08/04/2018</td>\n",
       "      <td>22:15:00</td>\n",
       "      <td>ASSAULT 3 &amp; RELATED OFFENSES</td>\n",
       "      <td>ASSAULT 3</td>\n",
       "      <td>COMPLETED</td>\n",
       "      <td>MISDEMEANOR</td>\n",
       "      <td>BRONX</td>\n",
       "      <td>INSIDE</td>\n",
       "      <td>RESIDENCE - APT. HOUSE</td>\n",
       "      <td>NaN</td>\n",
       "      <td>NaN</td>\n",
       "      <td>1007268.0</td>\n",
       "      <td>240281.0</td>\n",
       "      <td>45-64</td>\n",
       "      <td>M</td>\n",
       "      <td>PATROL BORO BRONX</td>\n",
       "      <td>NaN</td>\n",
       "      <td>25-44</td>\n",
       "      <td>WHITE HISPANIC</td>\n",
       "      <td>F</td>\n",
       "    </tr>\n",
       "    <tr>\n",
       "      <th>21</th>\n",
       "      <td>11/18/2018</td>\n",
       "      <td>16:00:00</td>\n",
       "      <td>ROBBERY</td>\n",
       "      <td>ROBBERY,RESIDENTIAL COMMON AREA</td>\n",
       "      <td>COMPLETED</td>\n",
       "      <td>FELONY</td>\n",
       "      <td>BRONX</td>\n",
       "      <td>INSIDE</td>\n",
       "      <td>RESIDENCE - APT. HOUSE</td>\n",
       "      <td>NaN</td>\n",
       "      <td>NaN</td>\n",
       "      <td>1016622.0</td>\n",
       "      <td>249104.0</td>\n",
       "      <td>25-44</td>\n",
       "      <td>M</td>\n",
       "      <td>PATROL BORO BRONX</td>\n",
       "      <td>NaN</td>\n",
       "      <td>&lt;18</td>\n",
       "      <td>WHITE HISPANIC</td>\n",
       "      <td>M</td>\n",
       "    </tr>\n",
       "    <tr>\n",
       "      <th>33</th>\n",
       "      <td>12/08/2018</td>\n",
       "      <td>13:00:00</td>\n",
       "      <td>HARRASSMENT 2</td>\n",
       "      <td>HARASSMENT,SUBD 3,4,5</td>\n",
       "      <td>COMPLETED</td>\n",
       "      <td>VIOLATION</td>\n",
       "      <td>QUEENS</td>\n",
       "      <td>INSIDE</td>\n",
       "      <td>RESIDENCE - APT. HOUSE</td>\n",
       "      <td>NaN</td>\n",
       "      <td>NaN</td>\n",
       "      <td>1048039.0</td>\n",
       "      <td>178985.0</td>\n",
       "      <td>18-24</td>\n",
       "      <td>F</td>\n",
       "      <td>PATROL BORO QUEENS SOUTH</td>\n",
       "      <td>NaN</td>\n",
       "      <td>65+</td>\n",
       "      <td>BLACK</td>\n",
       "      <td>M</td>\n",
       "    </tr>\n",
       "    <tr>\n",
       "      <th>40</th>\n",
       "      <td>09/18/2018</td>\n",
       "      <td>18:30:00</td>\n",
       "      <td>SEX CRIMES</td>\n",
       "      <td>SEXUAL ABUSE 3,2</td>\n",
       "      <td>COMPLETED</td>\n",
       "      <td>MISDEMEANOR</td>\n",
       "      <td>BROOKLYN</td>\n",
       "      <td>INSIDE</td>\n",
       "      <td>RESIDENCE - APT. HOUSE</td>\n",
       "      <td>NaN</td>\n",
       "      <td>NaN</td>\n",
       "      <td>999634.0</td>\n",
       "      <td>190253.0</td>\n",
       "      <td>25-44</td>\n",
       "      <td>M</td>\n",
       "      <td>PATROL BORO BKLYN NORTH</td>\n",
       "      <td>NaN</td>\n",
       "      <td>18-24</td>\n",
       "      <td>BLACK</td>\n",
       "      <td>F</td>\n",
       "    </tr>\n",
       "  </tbody>\n",
       "</table>\n",
       "</div>"
      ],
      "text/plain": [
       "   CMPLNT_FR_DT CMPLNT_FR_TM                      OFNS_DESC  \\\n",
       "3    06/09/2018     21:42:00  OFF. AGNST PUB ORD SENSBLTY &   \n",
       "9    08/04/2018     22:15:00   ASSAULT 3 & RELATED OFFENSES   \n",
       "21   11/18/2018     16:00:00                        ROBBERY   \n",
       "33   12/08/2018     13:00:00                  HARRASSMENT 2   \n",
       "40   09/18/2018     18:30:00                     SEX CRIMES   \n",
       "\n",
       "                            PD_DESC CRM_ATPT_CPTD_CD   LAW_CAT_CD    BORO_NM  \\\n",
       "3           AGGRAVATED HARASSMENT 2        COMPLETED  MISDEMEANOR  MANHATTAN   \n",
       "9                         ASSAULT 3        COMPLETED  MISDEMEANOR      BRONX   \n",
       "21  ROBBERY,RESIDENTIAL COMMON AREA        COMPLETED       FELONY      BRONX   \n",
       "33            HARASSMENT,SUBD 3,4,5        COMPLETED    VIOLATION     QUEENS   \n",
       "40                 SEXUAL ABUSE 3,2        COMPLETED  MISDEMEANOR   BROOKLYN   \n",
       "\n",
       "   LOC_OF_OCCUR_DESC           PREM_TYP_DESC PARKS_NM HADEVELOPT  X_COORD_CD  \\\n",
       "3             INSIDE  RESIDENCE - APT. HOUSE      NaN        NaN    985717.0   \n",
       "9             INSIDE  RESIDENCE - APT. HOUSE      NaN        NaN   1007268.0   \n",
       "21            INSIDE  RESIDENCE - APT. HOUSE      NaN        NaN   1016622.0   \n",
       "33            INSIDE  RESIDENCE - APT. HOUSE      NaN        NaN   1048039.0   \n",
       "40            INSIDE  RESIDENCE - APT. HOUSE      NaN        NaN    999634.0   \n",
       "\n",
       "    Y_COORD_CD SUSP_AGE_GROUP SUSP_SEX               PATROL_BORO STATION_NAME  \\\n",
       "3     215911.0          25-44        M     PATROL BORO MAN SOUTH          NaN   \n",
       "9     240281.0          45-64        M         PATROL BORO BRONX          NaN   \n",
       "21    249104.0          25-44        M         PATROL BORO BRONX          NaN   \n",
       "33    178985.0          18-24        F  PATROL BORO QUEENS SOUTH          NaN   \n",
       "40    190253.0          25-44        M   PATROL BORO BKLYN NORTH          NaN   \n",
       "\n",
       "   VIC_AGE_GROUP        VIC_RACE VIC_SEX  \n",
       "3          18-24  WHITE HISPANIC       F  \n",
       "9          25-44  WHITE HISPANIC       F  \n",
       "21           <18  WHITE HISPANIC       M  \n",
       "33           65+           BLACK       M  \n",
       "40         18-24           BLACK       F  "
      ]
     },
     "execution_count": 299,
     "metadata": {},
     "output_type": "execute_result"
    }
   ],
   "source": [
    "df.head()"
   ]
  },
  {
   "cell_type": "code",
   "execution_count": 322,
   "id": "d2f37ca6-8d30-4c6a-9d50-8a06307bba71",
   "metadata": {},
   "outputs": [
    {
     "data": {
      "text/plain": [
       "172   NaT\n",
       "226   NaT\n",
       "413   NaT\n",
       "717   NaT\n",
       "844   NaT\n",
       "Name: CMPLNT_FR_DT, dtype: datetime64[ns]"
      ]
     },
     "execution_count": 322,
     "metadata": {},
     "output_type": "execute_result"
    }
   ],
   "source": [
    "df.CMPLNT_FR_DT.describe()"
   ]
  },
  {
   "cell_type": "code",
   "execution_count": 373,
   "id": "1c332a68-75c5-4860-b57d-030da8779103",
   "metadata": {},
   "outputs": [],
   "source": [
    "#converting the dates from a string to a datetime object \n",
    "\n",
    "df['CMPLNT_FR_DT'] = pd.to_datetime(df['CMPLNT_FR_DT'])"
   ]
  },
  {
   "cell_type": "code",
   "execution_count": 374,
   "id": "fcfe9359-fcf0-409a-b0f1-702f7bec050d",
   "metadata": {},
   "outputs": [
    {
     "data": {
      "text/plain": [
       "172       2018-06-09\n",
       "226       2018-03-01\n",
       "413       2018-05-19\n",
       "717       2018-11-04\n",
       "844       2018-01-18\n",
       "             ...    \n",
       "7824609   2018-06-03\n",
       "7824874   2018-11-15\n",
       "7825187   2018-03-22\n",
       "7825268   2018-02-07\n",
       "7825279   2018-11-09\n",
       "Name: CMPLNT_FR_DT, Length: 20385, dtype: datetime64[ns]"
      ]
     },
     "execution_count": 374,
     "metadata": {},
     "output_type": "execute_result"
    }
   ],
   "source": [
    "df.CMPLNT_FR_DT"
   ]
  },
  {
   "cell_type": "code",
   "execution_count": 375,
   "id": "db1d7836-4b52-4a71-a888-cb573f65507b",
   "metadata": {},
   "outputs": [
    {
     "data": {
      "text/plain": [
       "Timestamp('1966-04-12 00:00:00')"
      ]
     },
     "execution_count": 375,
     "metadata": {},
     "output_type": "execute_result"
    }
   ],
   "source": [
    "df.CMPLNT_FR_DT.min()"
   ]
  },
  {
   "cell_type": "code",
   "execution_count": 376,
   "id": "62abeb81-3da4-4e9b-b6e9-ab266bd6572b",
   "metadata": {},
   "outputs": [
    {
     "data": {
      "text/plain": [
       "Timestamp('2021-12-31 00:00:00')"
      ]
     },
     "execution_count": 376,
     "metadata": {},
     "output_type": "execute_result"
    }
   ],
   "source": [
    "df.CMPLNT_FR_DT.max()"
   ]
  },
  {
   "cell_type": "code",
   "execution_count": 391,
   "id": "fb21edf1-23a1-4c8e-9c1d-e3d88a4b8e6b",
   "metadata": {},
   "outputs": [],
   "source": [
    "#making a new column with date and time together \n",
    "\n",
    "df['CMPLNT_FR_DTTM'] = pd.to_datetime(df['CMPLNT_FR_DT'].str.cat(df['CMPLNT_FR_TM'], ' '))"
   ]
  },
  {
   "cell_type": "code",
   "execution_count": 392,
   "id": "40d04d7e-1fbb-4466-97d6-2211ae75a5df",
   "metadata": {},
   "outputs": [
    {
     "data": {
      "text/plain": [
       "172       2018-06-09 15:54:00\n",
       "226       2018-03-01 08:47:00\n",
       "413       2018-05-19 12:25:00\n",
       "717       2018-11-04 00:00:00\n",
       "844       2018-01-18 12:23:00\n",
       "                  ...        \n",
       "7824609   2018-06-03 01:20:00\n",
       "7824874   2018-11-15 20:00:00\n",
       "7825187   2018-03-22 08:15:00\n",
       "7825268   2018-02-07 03:45:00\n",
       "7825279   2018-11-09 16:49:00\n",
       "Name: CMPLNT_FR_DTTM, Length: 20385, dtype: datetime64[ns]"
      ]
     },
     "execution_count": 392,
     "metadata": {},
     "output_type": "execute_result"
    }
   ],
   "source": [
    "df['CMPLNT_FR_DTTM']"
   ]
  },
  {
   "cell_type": "code",
   "execution_count": 395,
   "id": "60f74f3e-6901-4d0f-a28d-fcc0fe02020c",
   "metadata": {},
   "outputs": [],
   "source": [
    "#filtering only these dates\n",
    "\n",
    "df = df[(df['CMPLNT_FR_DTTM'] > '1966-04-12') & (df['CMPLNT_FR_DTTM'] < '2021-12-31')]"
   ]
  },
  {
   "cell_type": "code",
   "execution_count": 398,
   "id": "ab4564ab-87ac-4a27-ae5e-e17767096c1d",
   "metadata": {},
   "outputs": [
    {
     "data": {
      "text/plain": [
       "2019-06-21 12:20:00    4\n",
       "2013-09-06 19:50:00    4\n",
       "2018-04-21 15:30:00    4\n",
       "2019-05-25 02:04:00    3\n",
       "2021-11-12 07:30:00    3\n",
       "                      ..\n",
       "2012-07-22 16:50:00    1\n",
       "2017-09-04 04:15:00    1\n",
       "2019-09-16 20:40:00    1\n",
       "2017-01-18 10:00:00    1\n",
       "2016-03-26 06:18:00    1\n",
       "Name: CMPLNT_FR_DTTM, Length: 19549, dtype: int64"
      ]
     },
     "execution_count": 398,
     "metadata": {},
     "output_type": "execute_result"
    }
   ],
   "source": [
    "df.CMPLNT_FR_DTTM.value_counts()"
   ]
  },
  {
   "cell_type": "code",
   "execution_count": 400,
   "id": "0186d12e-98ec-4f9f-9e5c-2301a97cbd6e",
   "metadata": {},
   "outputs": [],
   "source": [
    "df.to_csv('df.csv')"
   ]
  },
  {
   "cell_type": "code",
   "execution_count": null,
   "id": "912ee84f-17bb-4036-b22f-c65c4afa7b82",
   "metadata": {},
   "outputs": [],
   "source": []
  }
 ],
 "metadata": {
  "kernelspec": {
   "display_name": "Python 3",
   "language": "python",
   "name": "python3"
  },
  "language_info": {
   "codemirror_mode": {
    "name": "ipython",
    "version": 3
   },
   "file_extension": ".py",
   "mimetype": "text/x-python",
   "name": "python",
   "nbconvert_exporter": "python",
   "pygments_lexer": "ipython3",
   "version": "3.8.8"
  }
 },
 "nbformat": 4,
 "nbformat_minor": 5
}
