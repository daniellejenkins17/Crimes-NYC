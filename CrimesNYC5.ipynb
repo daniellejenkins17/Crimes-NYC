{
 "cells": [
  {
   "cell_type": "code",
   "execution_count": null,
   "id": "f95030ca-e8da-485e-ae5c-1ad5193b0a0f",
   "metadata": {},
   "outputs": [],
   "source": []
  },
  {
   "cell_type": "code",
   "execution_count": 10,
   "id": "dd3f26f7-7fd2-4917-bab7-e94fe232ca21",
   "metadata": {},
   "outputs": [
    {
     "ename": "ModuleNotFoundError",
     "evalue": "No module named 'PreProcessor'",
     "output_type": "error",
     "traceback": [
      "\u001b[0;31m---------------------------------------------------------------------------\u001b[0m",
      "\u001b[0;31mModuleNotFoundError\u001b[0m                       Traceback (most recent call last)",
      "\u001b[0;32m<ipython-input-10-aeb022963ce1>\u001b[0m in \u001b[0;36m<module>\u001b[0;34m\u001b[0m\n\u001b[1;32m      5\u001b[0m \u001b[0msys\u001b[0m\u001b[0;34m.\u001b[0m\u001b[0mpath\u001b[0m\u001b[0;34m.\u001b[0m\u001b[0mappend\u001b[0m\u001b[0;34m(\u001b[0m\u001b[0;34m\"../backend/\"\u001b[0m\u001b[0;34m)\u001b[0m\u001b[0;34m\u001b[0m\u001b[0;34m\u001b[0m\u001b[0m\n\u001b[1;32m      6\u001b[0m \u001b[0;34m\u001b[0m\u001b[0m\n\u001b[0;32m----> 7\u001b[0;31m \u001b[0;32mfrom\u001b[0m \u001b[0mPreProcessor\u001b[0m \u001b[0;32mimport\u001b[0m \u001b[0mPreProcessor\u001b[0m\u001b[0;34m\u001b[0m\u001b[0;34m\u001b[0m\u001b[0m\n\u001b[0m\u001b[1;32m      8\u001b[0m \u001b[0;34m\u001b[0m\u001b[0m\n\u001b[1;32m      9\u001b[0m \u001b[0;32mimport\u001b[0m \u001b[0mfolium\u001b[0m\u001b[0;34m\u001b[0m\u001b[0;34m\u001b[0m\u001b[0m\n",
      "\u001b[0;31mModuleNotFoundError\u001b[0m: No module named 'PreProcessor'"
     ]
    }
   ],
   "source": [
    "import pandas as pd\n",
    "import sys\n",
    "import warnings\n",
    "warnings.filterwarnings('ignore')\n",
    "sys.path.append(\"../backend/\")\n",
    "\n",
    "from PreProcessor import PreProcessor\n",
    "\n",
    "import folium\n"
   ]
  },
  {
   "cell_type": "code",
   "execution_count": 3,
   "id": "1f44e913-3915-4344-aebf-b9a3ee3b674b",
   "metadata": {},
   "outputs": [],
   "source": [
    "df3 = pd.read_csv('df2.csv')"
   ]
  },
  {
   "cell_type": "code",
   "execution_count": null,
   "id": "a8a5cc34-6ba6-4491-9c4c-f171df9bbbfd",
   "metadata": {},
   "outputs": [],
   "source": [
    "import folium\n",
    "\n",
    "# Central lat/long values of NYC\n",
    "nyc_coor = [40.81,-73.9999]\n",
    "\n",
    "# instatiate a folium map object with the above coordinate at center\n",
    "nyc_crime_map = folium.Map(location=nyc_coor,zoom_start=11)\n",
    "\n",
    "# the path to the geojson file of the manhattan precincts\n",
    "pathgeo = './manhattan_precincts.geojson'\n",
    "\n",
    "# make the chorlopleth map\n",
    "nyc_crime_map.choropleth(geo_data=pathgeo,\n",
    "                        data=CRIMES_2015,\n",
    "                        key_on='feature.properties.Precinct',\n",
    "                        fill_color='BuPu', \n",
    "                        fill_opacity=0.7, \n",
    "                        line_opacity=0.2,\n",
    "                        legend_name='MANHATTAN')\n",
    "# show the map\n",
    "nyc_crime_map"
   ]
  }
 ],
 "metadata": {
  "kernelspec": {
   "display_name": "Python 3",
   "language": "python",
   "name": "python3"
  },
  "language_info": {
   "codemirror_mode": {
    "name": "ipython",
    "version": 3
   },
   "file_extension": ".py",
   "mimetype": "text/x-python",
   "name": "python",
   "nbconvert_exporter": "python",
   "pygments_lexer": "ipython3",
   "version": "3.8.8"
  }
 },
 "nbformat": 4,
 "nbformat_minor": 5
}
