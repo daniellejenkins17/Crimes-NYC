{
 "cells": [
  {
   "cell_type": "code",
   "execution_count": 481,
   "id": "605fce85-abc8-4ebc-8891-de03cdcd80f3",
   "metadata": {},
   "outputs": [],
   "source": [
    "import pandas as pd\n",
    "import pmdarima as pm\n",
    "from pmdarima.arima import auto_arima"
   ]
  },
  {
   "cell_type": "code",
   "execution_count": 482,
   "id": "d211c4e0-ad05-495f-ae38-b0aaeefa9e45",
   "metadata": {},
   "outputs": [],
   "source": [
    "df1 = pd.read_csv('df.csv')"
   ]
  },
  {
   "cell_type": "code",
   "execution_count": 483,
   "id": "cc10aabb-3887-4122-a877-965180ee1889",
   "metadata": {},
   "outputs": [
    {
     "data": {
      "text/html": [
       "<div>\n",
       "<style scoped>\n",
       "    .dataframe tbody tr th:only-of-type {\n",
       "        vertical-align: middle;\n",
       "    }\n",
       "\n",
       "    .dataframe tbody tr th {\n",
       "        vertical-align: top;\n",
       "    }\n",
       "\n",
       "    .dataframe thead th {\n",
       "        text-align: right;\n",
       "    }\n",
       "</style>\n",
       "<table border=\"1\" class=\"dataframe\">\n",
       "  <thead>\n",
       "    <tr style=\"text-align: right;\">\n",
       "      <th></th>\n",
       "      <th>Unnamed: 0</th>\n",
       "      <th>CMPLNT_FR_DT</th>\n",
       "      <th>CMPLNT_FR_TM</th>\n",
       "      <th>OFNS_DESC</th>\n",
       "      <th>PD_DESC</th>\n",
       "      <th>CRM_ATPT_CPTD_CD</th>\n",
       "      <th>LAW_CAT_CD</th>\n",
       "      <th>BORO_NM</th>\n",
       "      <th>LOC_OF_OCCUR_DESC</th>\n",
       "      <th>PREM_TYP_DESC</th>\n",
       "      <th>...</th>\n",
       "      <th>X_COORD_CD</th>\n",
       "      <th>Y_COORD_CD</th>\n",
       "      <th>SUSP_AGE_GROUP</th>\n",
       "      <th>SUSP_SEX</th>\n",
       "      <th>PATROL_BORO</th>\n",
       "      <th>STATION_NAME</th>\n",
       "      <th>VIC_AGE_GROUP</th>\n",
       "      <th>VIC_RACE</th>\n",
       "      <th>VIC_SEX</th>\n",
       "      <th>CMPLNT_FR_DTTM</th>\n",
       "    </tr>\n",
       "  </thead>\n",
       "  <tbody>\n",
       "    <tr>\n",
       "      <th>0</th>\n",
       "      <td>172</td>\n",
       "      <td>06/09/2018</td>\n",
       "      <td>15:54:00</td>\n",
       "      <td>GRAND LARCENY</td>\n",
       "      <td>LARCENY,GRAND FROM PERSON,PURS</td>\n",
       "      <td>COMPLETED</td>\n",
       "      <td>FELONY</td>\n",
       "      <td>BRONX</td>\n",
       "      <td>NaN</td>\n",
       "      <td>TRANSIT - NYC SUBWAY</td>\n",
       "      <td>...</td>\n",
       "      <td>1010257.0</td>\n",
       "      <td>248767.0</td>\n",
       "      <td>&lt;18</td>\n",
       "      <td>M</td>\n",
       "      <td>PATROL BORO BRONX</td>\n",
       "      <td>TREMONT AVENUE</td>\n",
       "      <td>45-64</td>\n",
       "      <td>WHITE HISPANIC</td>\n",
       "      <td>F</td>\n",
       "      <td>2018-06-09 15:54:00</td>\n",
       "    </tr>\n",
       "    <tr>\n",
       "      <th>1</th>\n",
       "      <td>226</td>\n",
       "      <td>03/01/2018</td>\n",
       "      <td>08:47:00</td>\n",
       "      <td>SEX CRIMES</td>\n",
       "      <td>SEXUAL ABUSE 3,2</td>\n",
       "      <td>COMPLETED</td>\n",
       "      <td>MISDEMEANOR</td>\n",
       "      <td>MANHATTAN</td>\n",
       "      <td>NaN</td>\n",
       "      <td>TRANSIT - NYC SUBWAY</td>\n",
       "      <td>...</td>\n",
       "      <td>988874.0</td>\n",
       "      <td>207673.0</td>\n",
       "      <td>18-24</td>\n",
       "      <td>M</td>\n",
       "      <td>PATROL BORO MAN SOUTH</td>\n",
       "      <td>14 STREET</td>\n",
       "      <td>25-44</td>\n",
       "      <td>ASIAN / PACIFIC ISLANDER</td>\n",
       "      <td>F</td>\n",
       "      <td>2018-03-01 08:47:00</td>\n",
       "    </tr>\n",
       "    <tr>\n",
       "      <th>2</th>\n",
       "      <td>413</td>\n",
       "      <td>05/19/2018</td>\n",
       "      <td>12:25:00</td>\n",
       "      <td>FORGERY</td>\n",
       "      <td>FORGERY,ETC.,UNCLASSIFIED-FELO</td>\n",
       "      <td>COMPLETED</td>\n",
       "      <td>FELONY</td>\n",
       "      <td>MANHATTAN</td>\n",
       "      <td>NaN</td>\n",
       "      <td>TRANSIT - NYC SUBWAY</td>\n",
       "      <td>...</td>\n",
       "      <td>990886.0</td>\n",
       "      <td>213048.0</td>\n",
       "      <td>45-64</td>\n",
       "      <td>M</td>\n",
       "      <td>PATROL BORO MAN SOUTH</td>\n",
       "      <td>42 ST.-GRAND CENTRAL</td>\n",
       "      <td>25-44</td>\n",
       "      <td>WHITE</td>\n",
       "      <td>F</td>\n",
       "      <td>2018-05-19 12:25:00</td>\n",
       "    </tr>\n",
       "    <tr>\n",
       "      <th>3</th>\n",
       "      <td>717</td>\n",
       "      <td>11/04/2018</td>\n",
       "      <td>00:00:00</td>\n",
       "      <td>DANGEROUS WEAPONS</td>\n",
       "      <td>WEAPONS POSSESSION 3</td>\n",
       "      <td>COMPLETED</td>\n",
       "      <td>FELONY</td>\n",
       "      <td>MANHATTAN</td>\n",
       "      <td>NaN</td>\n",
       "      <td>TRANSIT - NYC SUBWAY</td>\n",
       "      <td>...</td>\n",
       "      <td>980772.0</td>\n",
       "      <td>194845.0</td>\n",
       "      <td>25-44</td>\n",
       "      <td>M</td>\n",
       "      <td>PATROL BORO MAN SOUTH</td>\n",
       "      <td>SOUTH FERRY</td>\n",
       "      <td>65+</td>\n",
       "      <td>BLACK</td>\n",
       "      <td>M</td>\n",
       "      <td>2018-11-04 00:00:00</td>\n",
       "    </tr>\n",
       "    <tr>\n",
       "      <th>4</th>\n",
       "      <td>844</td>\n",
       "      <td>01/18/2018</td>\n",
       "      <td>12:23:00</td>\n",
       "      <td>POSSESSION OF STOLEN PROPERTY</td>\n",
       "      <td>STOLEN PROPERTY 3,POSSESSION</td>\n",
       "      <td>COMPLETED</td>\n",
       "      <td>MISDEMEANOR</td>\n",
       "      <td>MANHATTAN</td>\n",
       "      <td>NaN</td>\n",
       "      <td>TRANSIT - NYC SUBWAY</td>\n",
       "      <td>...</td>\n",
       "      <td>989294.0</td>\n",
       "      <td>215445.0</td>\n",
       "      <td>25-44</td>\n",
       "      <td>M</td>\n",
       "      <td>PATROL BORO MAN SOUTH</td>\n",
       "      <td>47-50 STS./ROCKEFELLER CTR.</td>\n",
       "      <td>25-44</td>\n",
       "      <td>WHITE</td>\n",
       "      <td>M</td>\n",
       "      <td>2018-01-18 12:23:00</td>\n",
       "    </tr>\n",
       "  </tbody>\n",
       "</table>\n",
       "<p>5 rows × 22 columns</p>\n",
       "</div>"
      ],
      "text/plain": [
       "   Unnamed: 0 CMPLNT_FR_DT CMPLNT_FR_TM                      OFNS_DESC  \\\n",
       "0         172   06/09/2018     15:54:00                  GRAND LARCENY   \n",
       "1         226   03/01/2018     08:47:00                     SEX CRIMES   \n",
       "2         413   05/19/2018     12:25:00                        FORGERY   \n",
       "3         717   11/04/2018     00:00:00              DANGEROUS WEAPONS   \n",
       "4         844   01/18/2018     12:23:00  POSSESSION OF STOLEN PROPERTY   \n",
       "\n",
       "                          PD_DESC CRM_ATPT_CPTD_CD   LAW_CAT_CD    BORO_NM  \\\n",
       "0  LARCENY,GRAND FROM PERSON,PURS        COMPLETED       FELONY      BRONX   \n",
       "1                SEXUAL ABUSE 3,2        COMPLETED  MISDEMEANOR  MANHATTAN   \n",
       "2  FORGERY,ETC.,UNCLASSIFIED-FELO        COMPLETED       FELONY  MANHATTAN   \n",
       "3            WEAPONS POSSESSION 3        COMPLETED       FELONY  MANHATTAN   \n",
       "4    STOLEN PROPERTY 3,POSSESSION        COMPLETED  MISDEMEANOR  MANHATTAN   \n",
       "\n",
       "  LOC_OF_OCCUR_DESC         PREM_TYP_DESC  ... X_COORD_CD  Y_COORD_CD  \\\n",
       "0               NaN  TRANSIT - NYC SUBWAY  ...  1010257.0    248767.0   \n",
       "1               NaN  TRANSIT - NYC SUBWAY  ...   988874.0    207673.0   \n",
       "2               NaN  TRANSIT - NYC SUBWAY  ...   990886.0    213048.0   \n",
       "3               NaN  TRANSIT - NYC SUBWAY  ...   980772.0    194845.0   \n",
       "4               NaN  TRANSIT - NYC SUBWAY  ...   989294.0    215445.0   \n",
       "\n",
       "   SUSP_AGE_GROUP  SUSP_SEX            PATROL_BORO  \\\n",
       "0             <18         M      PATROL BORO BRONX   \n",
       "1           18-24         M  PATROL BORO MAN SOUTH   \n",
       "2           45-64         M  PATROL BORO MAN SOUTH   \n",
       "3           25-44         M  PATROL BORO MAN SOUTH   \n",
       "4           25-44         M  PATROL BORO MAN SOUTH   \n",
       "\n",
       "                  STATION_NAME VIC_AGE_GROUP                  VIC_RACE  \\\n",
       "0               TREMONT AVENUE         45-64            WHITE HISPANIC   \n",
       "1                    14 STREET         25-44  ASIAN / PACIFIC ISLANDER   \n",
       "2         42 ST.-GRAND CENTRAL         25-44                     WHITE   \n",
       "3                  SOUTH FERRY           65+                     BLACK   \n",
       "4  47-50 STS./ROCKEFELLER CTR.         25-44                     WHITE   \n",
       "\n",
       "  VIC_SEX       CMPLNT_FR_DTTM  \n",
       "0       F  2018-06-09 15:54:00  \n",
       "1       F  2018-03-01 08:47:00  \n",
       "2       F  2018-05-19 12:25:00  \n",
       "3       M  2018-11-04 00:00:00  \n",
       "4       M  2018-01-18 12:23:00  \n",
       "\n",
       "[5 rows x 22 columns]"
      ]
     },
     "execution_count": 483,
     "metadata": {},
     "output_type": "execute_result"
    }
   ],
   "source": [
    "df1.head()"
   ]
  },
  {
   "cell_type": "code",
   "execution_count": 484,
   "id": "e125e752-1ea9-4ab1-a8ea-4385750bd9de",
   "metadata": {},
   "outputs": [],
   "source": [
    "df1 = df1.loc[df1[\"PREM_TYP_DESC\"] == 'TRANSIT - NYC SUBWAY']"
   ]
  },
  {
   "cell_type": "code",
   "execution_count": 485,
   "id": "2225f9ed-1123-428b-b35f-5cd1a5caae7b",
   "metadata": {},
   "outputs": [
    {
     "data": {
      "text/plain": [
       "TRANSIT - NYC SUBWAY    20139\n",
       "Name: PREM_TYP_DESC, dtype: int64"
      ]
     },
     "execution_count": 485,
     "metadata": {},
     "output_type": "execute_result"
    }
   ],
   "source": [
    "df1.PREM_TYP_DESC.value_counts()"
   ]
  },
  {
   "cell_type": "code",
   "execution_count": 486,
   "id": "84f1073a-7fac-4488-8c71-656cf5a54003",
   "metadata": {},
   "outputs": [
    {
     "data": {
      "text/plain": [
       "Unnamed: 0               0\n",
       "CMPLNT_FR_DT             0\n",
       "CMPLNT_FR_TM             0\n",
       "OFNS_DESC               70\n",
       "PD_DESC                  0\n",
       "CRM_ATPT_CPTD_CD         0\n",
       "LAW_CAT_CD               0\n",
       "BORO_NM                 25\n",
       "LOC_OF_OCCUR_DESC    20102\n",
       "PREM_TYP_DESC            0\n",
       "PARKS_NM             20137\n",
       "HADEVELOPT           20139\n",
       "X_COORD_CD              25\n",
       "Y_COORD_CD              25\n",
       "SUSP_AGE_GROUP           0\n",
       "SUSP_SEX                18\n",
       "PATROL_BORO              0\n",
       "STATION_NAME             0\n",
       "VIC_AGE_GROUP            0\n",
       "VIC_RACE                 0\n",
       "VIC_SEX                  0\n",
       "CMPLNT_FR_DTTM           0\n",
       "dtype: int64"
      ]
     },
     "execution_count": 486,
     "metadata": {},
     "output_type": "execute_result"
    }
   ],
   "source": [
    "df1.isnull().sum()"
   ]
  },
  {
   "cell_type": "code",
   "execution_count": 487,
   "id": "e917aa8a-d951-4818-8c70-3b09b2b2ef29",
   "metadata": {},
   "outputs": [],
   "source": [
    "df1 = df1.loc[df1[\"VIC_SEX\"] != 'D']"
   ]
  },
  {
   "cell_type": "code",
   "execution_count": 488,
   "id": "c5f65751-1c1e-42c6-8089-15e1259f9993",
   "metadata": {},
   "outputs": [],
   "source": [
    "df1 = df1.loc[df1[\"VIC_SEX\"] != 'E']"
   ]
  },
  {
   "cell_type": "code",
   "execution_count": 489,
   "id": "ed2baf61-6553-4220-a0de-1466e3d070b5",
   "metadata": {},
   "outputs": [
    {
     "data": {
      "text/plain": [
       "F    11734\n",
       "M     8403\n",
       "Name: VIC_SEX, dtype: int64"
      ]
     },
     "execution_count": 489,
     "metadata": {},
     "output_type": "execute_result"
    }
   ],
   "source": [
    "df1.VIC_SEX.value_counts()"
   ]
  },
  {
   "cell_type": "code",
   "execution_count": 490,
   "id": "34ed4fad-acc9-4ebd-97c2-0abf69874cea",
   "metadata": {},
   "outputs": [
    {
     "data": {
      "text/plain": [
       "'01/01/2006'"
      ]
     },
     "execution_count": 490,
     "metadata": {},
     "output_type": "execute_result"
    }
   ],
   "source": [
    "df1.CMPLNT_FR_DT.min()"
   ]
  },
  {
   "cell_type": "code",
   "execution_count": 491,
   "id": "4d1a6f70-f517-44b6-8cb4-924af296815c",
   "metadata": {},
   "outputs": [
    {
     "data": {
      "text/plain": [
       "'12/31/2020'"
      ]
     },
     "execution_count": 491,
     "metadata": {},
     "output_type": "execute_result"
    }
   ],
   "source": [
    "df1.CMPLNT_FR_DT.max()"
   ]
  },
  {
   "cell_type": "code",
   "execution_count": 492,
   "id": "b51caf2c-a347-46d6-9117-996501ffdd0f",
   "metadata": {},
   "outputs": [
    {
     "data": {
      "text/plain": [
       "MANHATTAN    9030\n",
       "BROOKLYN     5823\n",
       "BRONX        2959\n",
       "QUEENS       2300\n",
       "Name: BORO_NM, dtype: int64"
      ]
     },
     "execution_count": 492,
     "metadata": {},
     "output_type": "execute_result"
    }
   ],
   "source": [
    "df1.BORO_NM.value_counts()"
   ]
  },
  {
   "cell_type": "code",
   "execution_count": 493,
   "id": "dd8b1cc6-a5f4-4051-afb2-840e89719b21",
   "metadata": {},
   "outputs": [
    {
     "data": {
      "text/plain": [
       "125 STREET                        619\n",
       "14 STREET                         520\n",
       "42 ST.-TIMES SQUARE               431\n",
       "42 ST.-GRAND CENTRAL              416\n",
       "59 ST.-COLUMBUS CIRCLE            350\n",
       "34 ST.-PENN STATION               265\n",
       "96 STREET                         262\n",
       "59 STREET                         261\n",
       "JAY STREET-BOROUGH HALL           246\n",
       "86 STREET                         244\n",
       "ATLANTIC AVENUE                   230\n",
       "CANAL STREET                      225\n",
       "42 ST.-PORT AUTHORITY BUS TERM    224\n",
       "145 STREET                        217\n",
       "FULTON STREET                     211\n",
       "72 STREET                         210\n",
       "149 ST.-GRAND CONCOURSE           203\n",
       "BROADWAY-EAST NEW YORK            198\n",
       "161 ST.-YANKEE STADIUM            197\n",
       "FRANKLIN AVENUE                   195\n",
       "W. 4 STREET                       192\n",
       "23 STREET                         171\n",
       "116 STREET                        170\n",
       "ROOSEVELT AVE.-JACKSON HEIGHTS    161\n",
       "DEKALB AVENUE                     160\n",
       "HOYT-SCHERMERHORN                 160\n",
       "UNION SQUARE                      149\n",
       "PACIFIC STREET                    145\n",
       "CHURCH AVENUE                     138\n",
       "BROOKLYN BRIDGE-CITY HALL         137\n",
       "103 STREET                        135\n",
       "STILLWELL AVENUE-CONEY ISLAND     135\n",
       "UTICA AVE.-CROWN HEIGHTS          134\n",
       "34 ST.-HERALD SQ.                 132\n",
       "50 STREET                         130\n",
       "NOSTRAND AVENUE                   130\n",
       "BROADWAY-EASTERN PKWY             128\n",
       "14 ST.-UNION SQUARE               127\n",
       "3 AVENUE-149 STREET               114\n",
       "135 STREET                        112\n",
       "UTICA AVENUE                      112\n",
       "167 STREET                        112\n",
       "MAIN ST.-FLUSHING                 110\n",
       "BOROUGH HALL                      110\n",
       "LEXINGTON AVE.                    108\n",
       "7 AVENUE                          106\n",
       "71 AVE.-FOREST HILLS              105\n",
       "42 STREET                         102\n",
       "BROADWAY/NASSAU                   102\n",
       "ROCKAWAY AVENUE                   100\n",
       "36 STREET                          98\n",
       "168 ST.-WASHINGTON HTS.            96\n",
       "EAST 180 STREET                    95\n",
       "PARSONS/ARCHER-JAMAICA CENTER      95\n",
       "FORDHAM ROAD                       94\n",
       "170 STREET                         91\n",
       "28 STREET                          90\n",
       "MYRTLE AVENUE                      89\n",
       "QUEENSBORO PLAZA                   89\n",
       "CHAMBERS ST.-WORLD TRADE CENTE     86\n",
       "HUNTS POINT AVENUE                 86\n",
       "57 STREET                          84\n",
       "VAN SICLEN AVENUE                  83\n",
       "LEXINGTON AVENUE                   82\n",
       "QUEENS PLAZA                       82\n",
       "CHAMBERS STREET                    81\n",
       "74 ST.-BROADWAY                    81\n",
       "SUTPHIN BLVD.-ARCHER AVE.          81\n",
       "5 AVENUE                           80\n",
       "DELANCEY STREET                    78\n",
       "GRAND STREET                       77\n",
       "47-50 STS./ROCKEFELLER CTR.        77\n",
       "EUCLID AVENUE                      76\n",
       "110 ST.-CENTRAL PARK NORTH         75\n",
       "KINGS HIGHWAY                      74\n",
       "51 STREET                          74\n",
       "8 AVENUE                           73\n",
       "LORIMER STREET                     72\n",
       "PROSPECT AVENUE                    72\n",
       "ESSEX STREET                       69\n",
       "PROSPECT PARK                      68\n",
       "JACKSON AVENUE                     67\n",
       "BROADWAY/LAFAYETTE                 67\n",
       "33 STREET                          67\n",
       "WOODLAWN                           66\n",
       "34 STREET                          66\n",
       "3 AVENUE-138 STREET                65\n",
       "EAST TREMONT AVE.-WEST FARMS S     64\n",
       "SIMPSON STREET                     64\n",
       "EAST 174 STREET                    64\n",
       "110 STREET                         63\n",
       "1 AVENUE                           61\n",
       "155 STREET                         61\n",
       "UNION TURNPIKE-KEW GARDENS         61\n",
       "110 ST.-CATHEDRAL PKWY.            60\n",
       "BOWLING GREEN                      60\n",
       "EAST 177 ST.-PARKCHESTER           59\n",
       "BURNSIDE AVENUE                    59\n",
       "BEDFORD AVENUE                     58\n",
       "KINGSBRIDGE ROAD                   57\n",
       "77 STREET                          57\n",
       "NEW LOTS AVENUE                    55\n",
       "HALSEY STREET                      55\n",
       "HIGH STREET                        55\n",
       "CLINTON-WASHINGTON AVENUES         54\n",
       "181 STREET                         54\n",
       "MARCY AVENUE                       53\n",
       "FLATBUSH AVE.-BROOKLYN COLLEGE     53\n",
       "WOODHAVEN BLVD.                    53\n",
       "2 AVENUE                           52\n",
       "PELHAM PKWY.                       52\n",
       "ROCKAWAY PKWY-CANARSIE             52\n",
       "GUN HILL ROAD                      52\n",
       "FLUSHING AVENUE                    50\n",
       "BRIGHTON BEACH                     49\n",
       "SUTTER AVENUE                      49\n",
       "NEVINS STREET                      49\n",
       "66 ST.-LINCOLN CENTER              48\n",
       "68 ST.-HUNTER COLLEGE              47\n",
       "EAST 149 STREET                    47\n",
       "SUTPHIN BLVD.                      47\n",
       "138 ST.-GRAND CONCOURSE            47\n",
       "SPRING STREET                      46\n",
       "BLEECKER STREET                    45\n",
       "MYRTLE/WYCKOFF AVENUES             45\n",
       "PARSONS BLVD.                      45\n",
       "SOUNDVIEW AVENUE                   45\n",
       "MOSHOLU PKWY.                      45\n",
       "EAST BROADWAY                      45\n",
       "182-183 STREETS                    44\n",
       "BERGEN STREET                      44\n",
       "BROOK AVENUE                       44\n",
       "FREEMAN STREET                     43\n",
       "GATES AVENUE                       43\n",
       "PELHAM BAY PARK                    43\n",
       "137 ST.-CITY COLLEGE               43\n",
       "ST. LAWRENCE AVENUE                43\n",
       "61 ST.-WOODSIDE                    42\n",
       "SOUTH FERRY                        42\n",
       "49 STREET                          42\n",
       "JUNCTION BLVD.                     42\n",
       "KINGSTON-THROOP AVENUES            42\n",
       "179 ST.-JAMAICA                    41\n",
       "46 STREET                          41\n",
       "4 AVENUE-9 STREET                  41\n",
       "ALABAMA AVENUE                     41\n",
       "METROPOLITAN AVENUE                40\n",
       "GRAND ARMY PLAZA                   40\n",
       "SUTTER AVENUE-RUTLAND ROAD         39\n",
       "21 ST.-QUEENSBRIDGE                39\n",
       "82 ST.-JACKSON HEIGHTS             39\n",
       "TREMONT AVENUE                     39\n",
       "NEWKIRK AVENUE                     38\n",
       "LAFAYETTE AVENUE                   37\n",
       "BAY PARKWAY                        37\n",
       "MT. EDEN AVENUE                    37\n",
       "ALLERTON AVENUE                    37\n",
       "200 ST.-DYCKMAN ST.                37\n",
       "LAWRENCE STREET                    37\n",
       "169 STREET                         36\n",
       "205 ST.-NORWOOD                    36\n",
       "BROAD CHANNEL                      36\n",
       "BEDFORD-NOSTRAND AVENUES           36\n",
       "ELMHURST AVE.                      36\n",
       "191 STREET                         35\n",
       "ELDER AVENUE                       35\n",
       "183 STREET                         35\n",
       "79 STREET                          35\n",
       "EASTERN PKWY-BROOKLYN MUSEUM       35\n",
       "241 ST.-WAKEFIELD                  35\n",
       "174-175 STREETS                    34\n",
       "LIBERTY AVENUE                     34\n",
       "CHAUNCEY STREET                    34\n",
       "INTERVALE AVENUE                   34\n",
       "LIVONIA AVENUE                     34\n",
       "CARROLL STREET                     34\n",
       "BEDFORD PK. BLVD.                  34\n",
       "WHITLOCK AVENUE                    34\n",
       "207 ST.-INWOOD                     33\n",
       "MORGAN AVENUE                      33\n",
       "111 STREET                         33\n",
       "KOSCIUSKO STREET                   33\n",
       "148 ST.-HARLEM                     33\n",
       "CHRISTOPHER ST.-SHERIDAN SQ.       33\n",
       "FAR ROCKAWAY-MOTT AVE.             32\n",
       "PARK PLACE                         32\n",
       "81 ST.-MUSEUM OF NATURAL HISTO     32\n",
       "RALPH AVENUE                       32\n",
       "GRANT AVENUE                       32\n",
       "FORT HAMILTON PKWY                 32\n",
       "PARKSIDE AVENUE                    31\n",
       "WILSON AVENUE                      31\n",
       "CYPRESS AVENUE                     30\n",
       "YORK STREET                        30\n",
       "WALL STREET                        30\n",
       "176 STREET                         30\n",
       "219 STREET                         29\n",
       "175 STREET                         29\n",
       "242 ST.-VAN CORTLANDT PARK         29\n",
       "AVENUE \"U\"                         29\n",
       "JEFFERSON STREET                   29\n",
       "ROCKAWAY BLVD.                     29\n",
       "BURKE AVENUE                       28\n",
       "HOYT STREET                        28\n",
       "EAST 105 STREET                    28\n",
       "WEST 8 STREET-NY AQUARIUM          27\n",
       "ASTOR PLACE                        27\n",
       "PRESIDENT STREET                   27\n",
       "9TH STREET                         27\n",
       "COURT SQUARE                       27\n",
       "EAST TREMONT AV.-WESTCHESTER S     27\n",
       "MONTROSE AVENUE                    27\n",
       "103 ST.-CORONA PLAZA               27\n",
       "23 STREET-ELY AVENUE               26\n",
       "BUSHWICK AVE.-ABERDEEN ST.         26\n",
       "BAY 50 STREET                      26\n",
       "18 AVENUE                          26\n",
       "EAST 143 ST.-ST. MARY'S STREET     26\n",
       "PENNSYLVANIA AVENUE                25\n",
       "PRINCE STREET                      25\n",
       "STERLING STREET                    25\n",
       "8 ST.-NYU                          25\n",
       "6 AVENUE                           25\n",
       "SMITH-9 STREETS                    25\n",
       "GRAND AVE.-NEWTON                  25\n",
       "WINTHROP STREET                    25\n",
       "DITMARS BLVD.-ASTORIA              25\n",
       "90 ST.-ELMHURST AVE.               24\n",
       "STEINWAY ST.                       24\n",
       "JAMAICA-VAN WYCK                   24\n",
       "CRESCENT STREET                    24\n",
       "BROADWAY                           24\n",
       "RECTOR STREET                      24\n",
       "157 STREET                         24\n",
       "WILLETS POINT-SHEA STADIUM         23\n",
       "JUNIUS STREET                      23\n",
       "WHITEHALL ST.-SOUTH FERRY          23\n",
       "COURT STREET                       23\n",
       "3 AVENUE                           23\n",
       "15 ST.-PROSPECT PARK               23\n",
       "116 ST.-COLUMBIA UNIVERSITY        23\n",
       "VAN WYCK BLVD.-BRIARWOOD           22\n",
       "BOWERY                             22\n",
       "KINGSTON AVENUE                    22\n",
       "LEFFERTS BLVD.                     22\n",
       "MYRTLE-WILLOUGHBY AVENUES          22\n",
       "BEACH 60 STREET                    22\n",
       "HEWES STREET                       22\n",
       "67 AVENUE                          22\n",
       "96TH STREET                        21\n",
       "CLARK STREET                       21\n",
       "UNION STREET                       21\n",
       "VERNON BLVD.-JACKSON AVE.          21\n",
       "BROAD STREET                       21\n",
       "CORTELYOU ROAD                     20\n",
       "NORTHERN BLVD.                     20\n",
       "BEACH 67 STREET                    20\n",
       "SHEEPSHEAD BAY                     20\n",
       "LONGWOOD AVENUE                    20\n",
       "CASTLE HILL AVENUE                 20\n",
       "7TH AVENUE                         20\n",
       "WYCKOFF AVENUE                     20\n",
       "AVENUE \"J\"                         20\n",
       "BOTANIC GARDEN                     20\n",
       "SARATOGA AVENUE                    20\n",
       "BEACH 25 STREET                    20\n",
       "45 STREET                          19\n",
       "25 STREET                          19\n",
       "BRONX PARK EAST                    19\n",
       "HOWARD BEACH-JFK AIRPORT           19\n",
       "ZEREGA AVENUE                      19\n",
       "CLASSON AVENUE                     19\n",
       "GRAHAM AVENUE                      19\n",
       "AVENUE \"M\"                         19\n",
       "BEDFORD PK. BLVD.-LEHMAN COLLE     19\n",
       "238 ST.-NEREID AVE.                19\n",
       "CLEVELAND STREET                   18\n",
       "BAYCHESTER AVENUE                  18\n",
       "75 AVENUE                          18\n",
       "231 STREET                         17\n",
       "SHEPHERD AVENUE                    17\n",
       "NORWOOD AVENUE                     17\n",
       "CYPRESS HILLS                      17\n",
       "NASSAU AVENUE                      17\n",
       "WEST 34 STREET/HUDSON YARDS        17\n",
       "88 STREET                          16\n",
       "20 AVENUE                          16\n",
       "25 AVENUE                          16\n",
       "225 ST.-MARBLE HILL                16\n",
       "225 STREET                         16\n",
       "121 STREET                         16\n",
       "CENTRAL AVENUE                     15\n",
       "BEVERLEY ROAD                      15\n",
       "ROOSEVELT ISLAND                   15\n",
       "72ND STREET                        15\n",
       "53 STREET                          15\n",
       "207 STREET                         15\n",
       "233 STREET                         15\n",
       "163 ST.-AMSTERDAM AVE.             15\n",
       "45 ROAD-COURT HOUSE SQUARE         15\n",
       "CITY HALL                          15\n",
       "63 DRIVE-REGO PARK                 15\n",
       "9 AVENUE                           15\n",
       "HOUSTON STREET                     14\n",
       "GREENPOINT AVENUE                  14\n",
       "CORTLANDT STREET                   14\n",
       "BUHRE AVENUE                       14\n",
       "DYRE AVE.-EASTCHESTER              14\n",
       "80 STREET                          14\n",
       "62 STREET                          13\n",
       "238 STREET                         13\n",
       "MIDDLETOWN ROAD                    13\n",
       "BEACH 44 STREET                    13\n",
       "40 STREET                          13\n",
       "NEW UTRECHT AVENUE                 13\n",
       "BAY RIDGE AVENUE                   13\n",
       "NEPTUNE AVENUE                     12\n",
       "FRANKLIN STREET                    12\n",
       "71 STREET                          12\n",
       "BEVERLY ROAD                       12\n",
       "18 STREET                          12\n",
       "69 STREET                          12\n",
       "OCEAN PKWY                         11\n",
       "65 STREET                          11\n",
       "BEACH 36 STREET                    11\n",
       "190 STREET                         11\n",
       "86TH STREET                        10\n",
       "KNICKERBOCKER AVENUE               10\n",
       "75 ST.-ELDERTS LANE                10\n",
       "NECK ROAD                          10\n",
       "ASTORIA BLVD.                      10\n",
       "AQUEDUCT-NORTH CONDUIT AVE.         9\n",
       "55 STREET                           9\n",
       "DISTRICT 1 OFFICE                   9\n",
       "30 AVENUE                           9\n",
       "52 STREET                           9\n",
       "MORRIS PARK                         8\n",
       "HUNTERS POINT AVENUE                8\n",
       "BEACH 90 STREET                     8\n",
       "AVENUE \"I\"                          8\n",
       "FRESH POND ROAD                     7\n",
       "21 STREET                           7\n",
       "DITMAS AVENUE                       7\n",
       "AVENUE \"H\"                          7\n",
       "215 STREET                          7\n",
       "SENECA AVENUE                       7\n",
       "39 AVENUE                           7\n",
       "95 STREET-BAY RIDGE                 7\n",
       "DISTRICT 11 OFFICE                  6\n",
       "102 STREET                          6\n",
       "AVENUE \"P\"                          6\n",
       "DISTRICT 33 OFFICE                  6\n",
       "85 ST.-FOREST PKWY.                 6\n",
       "FOREST AVENUE                       5\n",
       "AVENUE \"X\"                          5\n",
       "AVENUE \"N\"                          4\n",
       "ROCKAWAY PARK-BEACH 116 ST.         4\n",
       "DISTRICT 3 OFFICE                   4\n",
       "DISTRICT 2 OFFICE                   3\n",
       "DISTRICT 20 OFFICE                  3\n",
       "104 STREET                          3\n",
       "DISTRICT 4 OFFICE                   3\n",
       "BEACH 98 STREET                     3\n",
       "DISTRICT 30 OFFICE                  2\n",
       "AQUEDUCT-RACETRACK                  2\n",
       "DISTRICT 32 OFFICE                  2\n",
       "DISTRICT 34 OFFICE                  1\n",
       "36 AVENUE                           1\n",
       "BEACH 105 STREET                    1\n",
       "DISTRICT 12 OFFICE                  1\n",
       "Name: STATION_NAME, dtype: int64"
      ]
     },
     "execution_count": 493,
     "metadata": {},
     "output_type": "execute_result"
    }
   ],
   "source": [
    "df1.STATION_NAME.value_counts()"
   ]
  },
  {
   "cell_type": "code",
   "execution_count": 494,
   "id": "1b3aa0f1-ba5a-40b5-81ae-9eb62945174c",
   "metadata": {},
   "outputs": [
    {
     "data": {
      "text/plain": [
       "370"
      ]
     },
     "execution_count": 494,
     "metadata": {},
     "output_type": "execute_result"
    }
   ],
   "source": [
    "df1.STATION_NAME.nunique()"
   ]
  },
  {
   "cell_type": "code",
   "execution_count": 495,
   "id": "d22f587a-ac34-4ef5-9905-504316bb39e4",
   "metadata": {},
   "outputs": [],
   "source": [
    "#taking out least common stations for crime\n",
    "\n",
    "df1 = df1.loc[df1[\"STATION_NAME\"] != 'BEACH 105 STREET']"
   ]
  },
  {
   "cell_type": "code",
   "execution_count": 496,
   "id": "90ac768e-f36d-4a3a-a712-00baeebd802a",
   "metadata": {},
   "outputs": [],
   "source": [
    "df1 = df1.loc[df1[\"STATION_NAME\"] != 'DISTRICT 34 OFFICE']"
   ]
  },
  {
   "cell_type": "code",
   "execution_count": 497,
   "id": "dbcfd1d3-03c8-410f-acbf-42888efb78e0",
   "metadata": {},
   "outputs": [],
   "source": [
    "df1 = df1.loc[df1[\"STATION_NAME\"] != 'DISTRICT 12 OFFICE']"
   ]
  },
  {
   "cell_type": "code",
   "execution_count": 498,
   "id": "ffdb9d7d-2ed3-4a6b-b1f4-666dbe0350aa",
   "metadata": {},
   "outputs": [],
   "source": [
    "df1 = df1.loc[df1[\"STATION_NAME\"] != 'DISTRICT 32 OFFICE']"
   ]
  },
  {
   "cell_type": "code",
   "execution_count": 499,
   "id": "f6c6438e-aff5-4bca-8d7f-5a17504846e2",
   "metadata": {},
   "outputs": [],
   "source": [
    "df1 = df1.loc[df1[\"STATION_NAME\"] != '36 AVENUE']"
   ]
  },
  {
   "cell_type": "code",
   "execution_count": 500,
   "id": "6392a90b-b2e8-4fcc-af80-127f1b9f5366",
   "metadata": {},
   "outputs": [],
   "source": [
    "df1 = df1.loc[df1[\"STATION_NAME\"] != 'DISTRICT 30 OFFICE']"
   ]
  },
  {
   "cell_type": "code",
   "execution_count": 501,
   "id": "85e71112-3d8e-4f5b-b00d-9ab041daa109",
   "metadata": {},
   "outputs": [],
   "source": [
    "df1 = df1.loc[df1[\"STATION_NAME\"] != 'DISTRICT 2 OFFICE']"
   ]
  },
  {
   "cell_type": "code",
   "execution_count": 502,
   "id": "aa48427e-e992-49a4-942b-66deef13a811",
   "metadata": {},
   "outputs": [],
   "source": [
    "df1 = df1.loc[df1[\"STATION_NAME\"] != 'DISTRICT 4 OFFICE']"
   ]
  },
  {
   "cell_type": "code",
   "execution_count": 503,
   "id": "898539da-b70a-45f3-a44a-d2454aec6198",
   "metadata": {},
   "outputs": [],
   "source": [
    "df1 = df1.loc[df1[\"STATION_NAME\"] != 'DISTRICT 20 OFFICE']"
   ]
  },
  {
   "cell_type": "code",
   "execution_count": 504,
   "id": "f7b47127-c7e0-42fc-83ec-8680482e2df4",
   "metadata": {},
   "outputs": [],
   "source": [
    "df1 = df1.loc[df1[\"STATION_NAME\"] != 'DISTRICT 3 OFFICE']"
   ]
  },
  {
   "cell_type": "code",
   "execution_count": 505,
   "id": "b612a016-1ac1-4b0f-998b-c0e06e7ed32d",
   "metadata": {},
   "outputs": [],
   "source": [
    "df1 = df1.loc[df1[\"STATION_NAME\"] != 'AQUEDUCT-RACETRACK']"
   ]
  },
  {
   "cell_type": "code",
   "execution_count": 506,
   "id": "4ef80e2b-d151-4bc6-b38d-d66b260f4991",
   "metadata": {},
   "outputs": [],
   "source": [
    "df1 = df1.loc[df1[\"STATION_NAME\"] != 'BEACH 98 STREET']"
   ]
  },
  {
   "cell_type": "code",
   "execution_count": 507,
   "id": "b4186830-abd9-4c21-94d3-5d669318146d",
   "metadata": {},
   "outputs": [],
   "source": [
    "df1 = df1.loc[df1[\"STATION_NAME\"] != 'AVENUE \"N\"']"
   ]
  },
  {
   "cell_type": "code",
   "execution_count": 508,
   "id": "9eda7af9-4fe3-47fd-9ab4-5e09829a7596",
   "metadata": {},
   "outputs": [],
   "source": [
    "df1 = df1.loc[df1[\"STATION_NAME\"] != 'ROCKAWAY PARK-BEACH 116 ST.']"
   ]
  },
  {
   "cell_type": "code",
   "execution_count": 509,
   "id": "934be4c9-ef73-48f0-811b-41667a052769",
   "metadata": {},
   "outputs": [],
   "source": [
    "df1 = df1.loc[df1[\"STATION_NAME\"] != '104 STREET']"
   ]
  },
  {
   "cell_type": "code",
   "execution_count": 510,
   "id": "384bf86b-a6d0-4862-8850-4e69d99651b5",
   "metadata": {},
   "outputs": [],
   "source": [
    "df1 = df1.loc[df1[\"STATION_NAME\"] != 'FOREST AVENUE']"
   ]
  },
  {
   "cell_type": "code",
   "execution_count": 511,
   "id": "e529421e-a9f0-4c1e-bc87-b57652af2599",
   "metadata": {},
   "outputs": [],
   "source": [
    "df1 = df1.loc[df1[\"STATION_NAME\"] != 'AVENUE \"X\"']"
   ]
  },
  {
   "cell_type": "code",
   "execution_count": 512,
   "id": "b0c9b9a2-6b87-4c34-b2f3-37c184466230",
   "metadata": {},
   "outputs": [],
   "source": [
    "df1 = df1.loc[df1[\"STATION_NAME\"] != 'AVENUE \"P\"']"
   ]
  },
  {
   "cell_type": "code",
   "execution_count": 513,
   "id": "5649a90f-e2fe-4ce7-9218-3fc5d5428139",
   "metadata": {},
   "outputs": [],
   "source": [
    "df1 = df1.loc[df1[\"STATION_NAME\"] != 'DISTRICT 33 OFFICE']"
   ]
  },
  {
   "cell_type": "code",
   "execution_count": 514,
   "id": "276fa253-6d10-455d-a050-756adde4c84e",
   "metadata": {},
   "outputs": [],
   "source": [
    "df1 = df1.loc[df1[\"STATION_NAME\"] != 'DISTRICT 11 OFFICE']"
   ]
  },
  {
   "cell_type": "code",
   "execution_count": 515,
   "id": "a8b2efda-7f8c-4992-974c-0f091a13d68c",
   "metadata": {},
   "outputs": [],
   "source": [
    "df1 = df1.loc[df1[\"STATION_NAME\"] != '102 STREET']"
   ]
  },
  {
   "cell_type": "code",
   "execution_count": 516,
   "id": "12f9d211-6f62-4220-a74b-9931f7761351",
   "metadata": {},
   "outputs": [],
   "source": [
    "df1 = df1.loc[df1[\"STATION_NAME\"] != '85 ST.-FOREST PKWY.']"
   ]
  },
  {
   "cell_type": "code",
   "execution_count": 517,
   "id": "0fd57426-8de6-4cc9-b47e-18350b53d15e",
   "metadata": {},
   "outputs": [
    {
     "data": {
      "text/plain": [
       "BORO_NM\n",
       "BRONX        2952\n",
       "BROOKLYN     5797\n",
       "MANHATTAN    9020\n",
       "QUEENS       2266\n",
       "Name: PREM_TYP_DESC, dtype: int64"
      ]
     },
     "execution_count": 517,
     "metadata": {},
     "output_type": "execute_result"
    }
   ],
   "source": [
    "df1.groupby(['BORO_NM'])['PREM_TYP_DESC'].count()"
   ]
  },
  {
   "cell_type": "code",
   "execution_count": 518,
   "id": "e8fe4228-1606-42c2-b5d9-ac7bfe266a62",
   "metadata": {},
   "outputs": [
    {
     "data": {
      "text/plain": [
       "BORO_NM    PREM_TYP_DESC       \n",
       "BRONX      TRANSIT - NYC SUBWAY    2952\n",
       "BROOKLYN   TRANSIT - NYC SUBWAY    5797\n",
       "MANHATTAN  TRANSIT - NYC SUBWAY    9020\n",
       "QUEENS     TRANSIT - NYC SUBWAY    2266\n",
       "Name: PREM_TYP_DESC, dtype: int64"
      ]
     },
     "execution_count": 518,
     "metadata": {},
     "output_type": "execute_result"
    }
   ],
   "source": [
    "df1.groupby(['BORO_NM'])['PREM_TYP_DESC'].value_counts()"
   ]
  },
  {
   "cell_type": "code",
   "execution_count": 519,
   "id": "22ff315d-cee0-4631-a385-eac4cd0e5b75",
   "metadata": {},
   "outputs": [
    {
     "data": {
      "text/plain": [
       "BORO_NM    OFNS_DESC                      \n",
       "BRONX      ASSAULT 3 & RELATED OFFENSES        806\n",
       "           HARRASSMENT 2                       586\n",
       "           GRAND LARCENY                       439\n",
       "           ROBBERY                             424\n",
       "           FELONY ASSAULT                      207\n",
       "           SEX CRIMES                          159\n",
       "           OFF. AGNST PUB ORD SENSBLTY &       125\n",
       "           PETIT LARCENY                        52\n",
       "           MISCELLANEOUS PENAL LAW              44\n",
       "           OFFENSES AGAINST PUBLIC ADMINI       44\n",
       "           DANGEROUS WEAPONS                    17\n",
       "           CRIMINAL MISCHIEF & RELATED OF       16\n",
       "           OFFENSES AGAINST THE PERSON           7\n",
       "           POSSESSION OF STOLEN PROPERTY         7\n",
       "           JOSTLING                              4\n",
       "           DANGEROUS DRUGS                       2\n",
       "           FORGERY                               2\n",
       "           BURGLARY                              1\n",
       "           CRIMINAL TRESPASS                     1\n",
       "           DISORDERLY CONDUCT                    1\n",
       "           FRAUDS                                1\n",
       "           FRAUDULENT ACCOSTING                  1\n",
       "           NEW YORK CITY HEALTH CODE             1\n",
       "           THEFT OF SERVICES                     1\n",
       "BROOKLYN   ASSAULT 3 & RELATED OFFENSES       1485\n",
       "           HARRASSMENT 2                      1390\n",
       "           ROBBERY                             772\n",
       "           GRAND LARCENY                       687\n",
       "           FELONY ASSAULT                      380\n",
       "           SEX CRIMES                          306\n",
       "           OFF. AGNST PUB ORD SENSBLTY &       303\n",
       "           MISCELLANEOUS PENAL LAW             137\n",
       "           PETIT LARCENY                       101\n",
       "           OFFENSES AGAINST PUBLIC ADMINI       48\n",
       "           DANGEROUS WEAPONS                    42\n",
       "           CRIMINAL MISCHIEF & RELATED OF       41\n",
       "           POSSESSION OF STOLEN PROPERTY        26\n",
       "           OFFENSES AGAINST THE PERSON          12\n",
       "           FORGERY                               8\n",
       "           JOSTLING                              5\n",
       "           DANGEROUS DRUGS                       3\n",
       "           KIDNAPPING & RELATED OFFENSES         3\n",
       "           RAPE                                  3\n",
       "           DISORDERLY CONDUCT                    2\n",
       "           FRAUDS                                2\n",
       "           FRAUDULENT ACCOSTING                  2\n",
       "           OTHER OFFENSES RELATED TO THEF        2\n",
       "           CRIMINAL TRESPASS                     1\n",
       "           THEFT OF SERVICES                     1\n",
       "           VEHICLE AND TRAFFIC LAWS              1\n",
       "MANHATTAN  ASSAULT 3 & RELATED OFFENSES       2329\n",
       "           HARRASSMENT 2                      2072\n",
       "           SEX CRIMES                         1124\n",
       "           GRAND LARCENY                      1076\n",
       "           ROBBERY                             670\n",
       "           FELONY ASSAULT                      566\n",
       "           OFF. AGNST PUB ORD SENSBLTY &       419\n",
       "           PETIT LARCENY                       188\n",
       "           MISCELLANEOUS PENAL LAW             105\n",
       "           POSSESSION OF STOLEN PROPERTY        90\n",
       "           OFFENSES AGAINST PUBLIC ADMINI       81\n",
       "           DANGEROUS WEAPONS                    61\n",
       "           FRAUDULENT ACCOSTING                 60\n",
       "           CRIMINAL MISCHIEF & RELATED OF       59\n",
       "           OFFENSES AGAINST THE PERSON          36\n",
       "           JOSTLING                             23\n",
       "           FORGERY                              15\n",
       "           DANGEROUS DRUGS                       8\n",
       "           FRAUDS                                4\n",
       "           THEFT OF SERVICES                     3\n",
       "           THEFT-FRAUD                           2\n",
       "           BURGLARY                              1\n",
       "           CHILD ABANDONMENT/NON SUPPORT         1\n",
       "           CRIMINAL TRESPASS                     1\n",
       "           KIDNAPPING & RELATED OFFENSES         1\n",
       "           PROSTITUTION & RELATED OFFENSES       1\n",
       "           RAPE                                  1\n",
       "QUEENS     ASSAULT 3 & RELATED OFFENSES        558\n",
       "           HARRASSMENT 2                       493\n",
       "           GRAND LARCENY                       324\n",
       "           ROBBERY                             286\n",
       "           SEX CRIMES                          213\n",
       "           FELONY ASSAULT                      148\n",
       "           OFF. AGNST PUB ORD SENSBLTY &        93\n",
       "           MISCELLANEOUS PENAL LAW              40\n",
       "           PETIT LARCENY                        34\n",
       "           OFFENSES AGAINST PUBLIC ADMINI       16\n",
       "           CRIMINAL MISCHIEF & RELATED OF       15\n",
       "           DANGEROUS WEAPONS                    12\n",
       "           JOSTLING                              9\n",
       "           OFFENSES AGAINST THE PERSON           9\n",
       "           POSSESSION OF STOLEN PROPERTY         6\n",
       "           DANGEROUS DRUGS                       2\n",
       "           FORGERY                               1\n",
       "Name: OFNS_DESC, dtype: int64"
      ]
     },
     "execution_count": 519,
     "metadata": {},
     "output_type": "execute_result"
    }
   ],
   "source": [
    "#aggregate most common crimes by borough with groupby \n",
    "pd.set_option('display.max_rows', None)\n",
    "crimes_by_boro = df1.groupby(['BORO_NM'])['OFNS_DESC'].value_counts()\n",
    "crimes_by_boro"
   ]
  },
  {
   "cell_type": "code",
   "execution_count": 520,
   "id": "333e39ed-f358-4d42-a287-e2c1d9184657",
   "metadata": {},
   "outputs": [
    {
     "data": {
      "text/plain": [
       "ASSAULT 3 & RELATED OFFENSES       5186\n",
       "HARRASSMENT 2                      4548\n",
       "GRAND LARCENY                      2529\n",
       "ROBBERY                            2156\n",
       "SEX CRIMES                         1803\n",
       "FELONY ASSAULT                     1302\n",
       "OFF. AGNST PUB ORD SENSBLTY &       940\n",
       "PETIT LARCENY                       376\n",
       "MISCELLANEOUS PENAL LAW             326\n",
       "OFFENSES AGAINST PUBLIC ADMINI      189\n",
       "DANGEROUS WEAPONS                   132\n",
       "CRIMINAL MISCHIEF & RELATED OF      131\n",
       "POSSESSION OF STOLEN PROPERTY       129\n",
       "OFFENSES AGAINST THE PERSON          64\n",
       "FRAUDULENT ACCOSTING                 63\n",
       "JOSTLING                             41\n",
       "FORGERY                              26\n",
       "DANGEROUS DRUGS                      15\n",
       "FRAUDS                                7\n",
       "THEFT OF SERVICES                     5\n",
       "KIDNAPPING & RELATED OFFENSES         4\n",
       "RAPE                                  4\n",
       "DISORDERLY CONDUCT                    3\n",
       "CRIMINAL TRESPASS                     3\n",
       "THEFT-FRAUD                           2\n",
       "OTHER OFFENSES RELATED TO THEF        2\n",
       "BURGLARY                              2\n",
       "VEHICLE AND TRAFFIC LAWS              1\n",
       "NEW YORK CITY HEALTH CODE             1\n",
       "CHILD ABANDONMENT/NON SUPPORT         1\n",
       "PROSTITUTION & RELATED OFFENSES       1\n",
       "Name: OFNS_DESC, dtype: int64"
      ]
     },
     "execution_count": 520,
     "metadata": {},
     "output_type": "execute_result"
    }
   ],
   "source": [
    "df1.OFNS_DESC.value_counts()"
   ]
  },
  {
   "cell_type": "code",
   "execution_count": 521,
   "id": "a976fd1e-8661-47d9-95c7-c6b183b7e84c",
   "metadata": {},
   "outputs": [],
   "source": [
    "#merging rows together \n",
    "\n",
    "df1.loc[df1['OFNS_DESC'] == 'PROSTITUTION & RELATED OFFENSES', 'OFNS_DESC'] = 'SEX CRIMES'"
   ]
  },
  {
   "cell_type": "code",
   "execution_count": 522,
   "id": "e3a88fcb-b33c-4e31-9877-4621805bf9c7",
   "metadata": {},
   "outputs": [],
   "source": [
    "#merging rows together \n",
    "\n",
    "df1.loc[df1['OFNS_DESC'] == 'RAPE'] = 'SEX CRIMES'"
   ]
  },
  {
   "cell_type": "code",
   "execution_count": 523,
   "id": "8386037a-34e4-43ab-b021-a3e3107afd15",
   "metadata": {},
   "outputs": [],
   "source": [
    "#merging rows together \n",
    "\n",
    "df1.loc[df1['OFNS_DESC'] == 'THEFT OF SERVICES'] = 'THEFT-FRAUD'"
   ]
  },
  {
   "cell_type": "code",
   "execution_count": 524,
   "id": "a063a4a5-56ec-4b04-a6f2-bf8880f44852",
   "metadata": {},
   "outputs": [],
   "source": [
    "#merging rows together \n",
    "\n",
    "df1.loc[df1['OFNS_DESC'] == 'FRAUDS'] = 'THEFT-FRAUD'"
   ]
  },
  {
   "cell_type": "code",
   "execution_count": 525,
   "id": "f759c125-9f33-44ae-922a-4e0c2ae238bf",
   "metadata": {},
   "outputs": [],
   "source": [
    "#merging rows together \n",
    "\n",
    "df1.loc[df1['OFNS_DESC'] == 'BURGLARY'] = 'ROBBERY'"
   ]
  },
  {
   "cell_type": "code",
   "execution_count": 526,
   "id": "d13a5b3b-f112-4b4c-a685-7040cf96ca87",
   "metadata": {},
   "outputs": [],
   "source": [
    "#merging rows together \n",
    "\n",
    "df1.loc[df1['OFNS_DESC'] == 'OTHER OFFENSES RELATED TO THEF'] = 'THEFT-FRAUD'"
   ]
  },
  {
   "cell_type": "code",
   "execution_count": 527,
   "id": "9206c5b0-ec32-4eb5-8f67-8d10c3c8d689",
   "metadata": {},
   "outputs": [],
   "source": [
    "#merging rows together \n",
    "\n",
    "df1.loc[df1['OFNS_DESC'] == 'MISCELLANEOUS PENAL LAW'] = 'CRIMINAL MISCHIEF & RELATED OF'"
   ]
  },
  {
   "cell_type": "code",
   "execution_count": 528,
   "id": "c9976497-78c5-4690-94b8-a903ee86a563",
   "metadata": {},
   "outputs": [],
   "source": [
    "#removing NYC health code. Use drop function for columns, not rows. \n",
    "\n",
    "df1 = df1[df1['OFNS_DESC'] != 'NEW YORK CITY HEALTH CODE']"
   ]
  },
  {
   "cell_type": "code",
   "execution_count": 529,
   "id": "b437fd70-89fa-435a-a90f-4f19ccc638b9",
   "metadata": {},
   "outputs": [
    {
     "data": {
      "text/plain": [
       "MANHATTAN                         8906\n",
       "BROOKLYN                          5652\n",
       "BRONX                             2904\n",
       "QUEENS                            2226\n",
       "CRIMINAL MISCHIEF & RELATED OF     326\n",
       "THEFT-FRAUD                         14\n",
       "SEX CRIMES                           4\n",
       "ROBBERY                              2\n",
       "Name: BORO_NM, dtype: int64"
      ]
     },
     "execution_count": 529,
     "metadata": {},
     "output_type": "execute_result"
    }
   ],
   "source": [
    "df1.BORO_NM.value_counts()"
   ]
  },
  {
   "cell_type": "code",
   "execution_count": 530,
   "id": "a45bf859-c6b8-4707-8129-f46bcb118358",
   "metadata": {},
   "outputs": [],
   "source": [
    "#removing crime names from borough...it's incorrect data entry \n",
    "\n",
    "df1 = df1[df1['BORO_NM'] != 'CRIMINAL MISCHIEF & RELATED OF']"
   ]
  },
  {
   "cell_type": "code",
   "execution_count": 531,
   "id": "4e0d9a0e-8068-40e9-b872-1cd8891024db",
   "metadata": {},
   "outputs": [],
   "source": [
    "df1 = df1[df1['BORO_NM'] != 'THEFT-FRAUD']"
   ]
  },
  {
   "cell_type": "code",
   "execution_count": 532,
   "id": "dc0ee139-fcf3-4b45-b8df-f1156fe0908c",
   "metadata": {},
   "outputs": [],
   "source": [
    "df1 = df1[df1['BORO_NM'] != 'SEX CRIMES']"
   ]
  },
  {
   "cell_type": "code",
   "execution_count": 533,
   "id": "e10928a1-9d0c-4a65-bbe4-7e1e128133ba",
   "metadata": {},
   "outputs": [],
   "source": [
    "df1 = df1[df1['BORO_NM'] != 'ROBBERY']"
   ]
  },
  {
   "cell_type": "code",
   "execution_count": 534,
   "id": "470c0539-252f-47b5-bce3-86c0e0fd05a0",
   "metadata": {},
   "outputs": [
    {
     "data": {
      "text/plain": [
       "MANHATTAN    8906\n",
       "BROOKLYN     5652\n",
       "BRONX        2904\n",
       "QUEENS       2226\n",
       "Name: BORO_NM, dtype: int64"
      ]
     },
     "execution_count": 534,
     "metadata": {},
     "output_type": "execute_result"
    }
   ],
   "source": [
    "df1.BORO_NM.value_counts()"
   ]
  },
  {
   "cell_type": "code",
   "execution_count": 535,
   "id": "b265999c-467a-47a0-b6de-e96f88dbd8fa",
   "metadata": {},
   "outputs": [],
   "source": [
    "df1 = df1[df1['OFNS_DESC'] != 'VEHICLE AND TRAFFIC LAWS']"
   ]
  },
  {
   "cell_type": "code",
   "execution_count": 536,
   "id": "e2a20e91-348f-4f39-8f82-30a214408b5c",
   "metadata": {},
   "outputs": [
    {
     "data": {
      "text/plain": [
       "ASSAULT 3 & RELATED OFFENSES      5186\n",
       "HARRASSMENT 2                     4548\n",
       "GRAND LARCENY                     2529\n",
       "ROBBERY                           2156\n",
       "SEX CRIMES                        1804\n",
       "FELONY ASSAULT                    1302\n",
       "OFF. AGNST PUB ORD SENSBLTY &      940\n",
       "PETIT LARCENY                      376\n",
       "OFFENSES AGAINST PUBLIC ADMINI     189\n",
       "DANGEROUS WEAPONS                  132\n",
       "CRIMINAL MISCHIEF & RELATED OF     131\n",
       "POSSESSION OF STOLEN PROPERTY      129\n",
       "OFFENSES AGAINST THE PERSON         64\n",
       "FRAUDULENT ACCOSTING                63\n",
       "JOSTLING                            41\n",
       "FORGERY                             26\n",
       "DANGEROUS DRUGS                     15\n",
       "KIDNAPPING & RELATED OFFENSES        4\n",
       "DISORDERLY CONDUCT                   3\n",
       "CRIMINAL TRESPASS                    3\n",
       "THEFT-FRAUD                          2\n",
       "CHILD ABANDONMENT/NON SUPPORT        1\n",
       "Name: OFNS_DESC, dtype: int64"
      ]
     },
     "execution_count": 536,
     "metadata": {},
     "output_type": "execute_result"
    }
   ],
   "source": [
    "df1.OFNS_DESC.value_counts()"
   ]
  },
  {
   "cell_type": "code",
   "execution_count": 537,
   "id": "89e530dc-023f-4479-aaf2-072cb37faca8",
   "metadata": {},
   "outputs": [
    {
     "data": {
      "text/plain": [
       "MANHATTAN    8906\n",
       "BROOKLYN     5651\n",
       "BRONX        2904\n",
       "QUEENS       2226\n",
       "Name: BORO_NM, dtype: int64"
      ]
     },
     "execution_count": 537,
     "metadata": {},
     "output_type": "execute_result"
    }
   ],
   "source": [
    "df1.BORO_NM.value_counts()"
   ]
  },
  {
   "cell_type": "code",
   "execution_count": 538,
   "id": "91df987d-aa2a-4a94-b4f5-8d9476dc5c17",
   "metadata": {},
   "outputs": [
    {
     "data": {
      "text/plain": [
       "19712"
      ]
     },
     "execution_count": 538,
     "metadata": {},
     "output_type": "execute_result"
    }
   ],
   "source": [
    "df1.PD_DESC.count()"
   ]
  },
  {
   "cell_type": "code",
   "execution_count": 539,
   "id": "f68ce44a-9bd3-46b3-a201-b892afd6ecd3",
   "metadata": {},
   "outputs": [],
   "source": [
    "#replacing duplicate names \n",
    "\n",
    "df1.loc[df1['STATION_NAME'] == '42 ST.-TIMES SQUARE'] = '42 ST.-GRAND CENTRAL'"
   ]
  },
  {
   "cell_type": "code",
   "execution_count": 540,
   "id": "81e7dd9d-8f6e-4cee-b914-711d6e2f870c",
   "metadata": {},
   "outputs": [],
   "source": [
    "df1.loc[df1['STATION_NAME'] == '34 ST.-PENN STATION'] = '34 ST.-HERALD SQ.'"
   ]
  },
  {
   "cell_type": "code",
   "execution_count": 541,
   "id": "5c7036df-9b0e-4b1d-864a-ce440069dc81",
   "metadata": {},
   "outputs": [],
   "source": [
    "df1.loc[df1['STATION_NAME'] == '59 STREET'] = '59 ST.-COLUMBUS CIRCLE'"
   ]
  },
  {
   "cell_type": "code",
   "execution_count": 542,
   "id": "3f98e9ab-5c3e-4dc1-bb87-edf3b1d107f8",
   "metadata": {},
   "outputs": [],
   "source": [
    "df1.loc[df1['STATION_NAME'] == '42 ST.-PORT AUTHORITY BUS TERM'] = '42 ST.-GRAND CENTRAL'"
   ]
  },
  {
   "cell_type": "code",
   "execution_count": 543,
   "id": "c27cfc1f-b032-4a07-999c-95ed453a68c6",
   "metadata": {},
   "outputs": [],
   "source": [
    "df1.loc[df1['STATION_NAME'] == 'UNION SQUARE'] = '14 STREET'"
   ]
  },
  {
   "cell_type": "code",
   "execution_count": 544,
   "id": "a3677365-229d-4d19-bbe6-47234cf587f8",
   "metadata": {},
   "outputs": [],
   "source": [
    "df1.loc[df1['STATION_NAME'] == '3 AVENUE-149 STREET'] = '149 STREET'"
   ]
  },
  {
   "cell_type": "code",
   "execution_count": 545,
   "id": "b72a6df2-ff89-4e6b-b491-d28363c933a9",
   "metadata": {},
   "outputs": [],
   "source": [
    "df1.loc[df1['STATION_NAME'] == '34 STREET'] = '34 ST.-HERALD SQ.'"
   ]
  },
  {
   "cell_type": "code",
   "execution_count": 546,
   "id": "29dea153-8e3a-486f-b417-c1d261873190",
   "metadata": {},
   "outputs": [],
   "source": [
    "df1.loc[df1['STATION_NAME'] == '42 STREET'] = '42 ST.-GRAND CENTRAL'"
   ]
  },
  {
   "cell_type": "code",
   "execution_count": 547,
   "id": "4c409b0b-0d53-4bb7-bb0a-ec9118a5ba50",
   "metadata": {},
   "outputs": [],
   "source": [
    "df1.loc[df1['STATION_NAME'] == '14 STREET'] = '14 ST.-UNION SQUARE'"
   ]
  },
  {
   "cell_type": "code",
   "execution_count": 548,
   "id": "99064d89-3a5b-411c-8fec-dde51bc94916",
   "metadata": {},
   "outputs": [],
   "source": [
    "#removing NYC health code. Use drop function for columns, not rows. \n",
    "\n",
    "df1 = df1[df1['STATION_NAME'] != 'DISTRICT 1 OFFICE']"
   ]
  },
  {
   "cell_type": "code",
   "execution_count": 549,
   "id": "e40ad143-7696-4033-b5f7-659654da2a76",
   "metadata": {},
   "outputs": [],
   "source": [
    "df1 = df1[df1['STATION_NAME'] != 'DISTRICT 11 OFFICE']"
   ]
  },
  {
   "cell_type": "code",
   "execution_count": 550,
   "id": "255f5c2b-4868-4285-90d5-5f5c1af6c198",
   "metadata": {},
   "outputs": [],
   "source": [
    "df1 = df1[df1['STATION_NAME'] != 'DISTRICT 3 OFFICE']"
   ]
  },
  {
   "cell_type": "code",
   "execution_count": 551,
   "id": "27421f26-0ac1-4eb0-8ae4-246298b4eeac",
   "metadata": {},
   "outputs": [],
   "source": [
    "df1 = df1[df1['STATION_NAME'] != 'DISTRICT 33 OFFICE']"
   ]
  },
  {
   "cell_type": "code",
   "execution_count": 552,
   "id": "80f9e8a2-8937-4dc9-b46b-e32a6fb18add",
   "metadata": {},
   "outputs": [],
   "source": [
    "df1 = df1[df1['STATION_NAME'] != 'DISTRICT 32 OFFICE']"
   ]
  },
  {
   "cell_type": "code",
   "execution_count": 553,
   "id": "079ba5cb-3a80-45b1-92c1-b8e8721d14ba",
   "metadata": {},
   "outputs": [],
   "source": [
    "df1 = df1[df1['STATION_NAME'] != 'DISTRICT 30 OFFICE']"
   ]
  },
  {
   "cell_type": "code",
   "execution_count": 554,
   "id": "2cee8004-b758-4d80-8bd8-0da3d4831ffd",
   "metadata": {},
   "outputs": [],
   "source": [
    "df1 = df1[df1['STATION_NAME'] != 'DISTRICT 34 OFFICE']"
   ]
  },
  {
   "cell_type": "code",
   "execution_count": 555,
   "id": "61c4306b-7dee-467e-abb8-ec2eb5db6d4d",
   "metadata": {},
   "outputs": [],
   "source": [
    "df1 = df1[df1['STATION_NAME'] != 'DISTRICT 20 OFFICE']"
   ]
  },
  {
   "cell_type": "code",
   "execution_count": 556,
   "id": "df04a4f6-f0e7-4a5e-aeb1-591b2b7a019f",
   "metadata": {},
   "outputs": [],
   "source": [
    "df1 = df1[df1['STATION_NAME'] != 'DISTRICT 12 OFFICE']"
   ]
  },
  {
   "cell_type": "code",
   "execution_count": 557,
   "id": "cdef497e-88be-4dab-934d-96c713bedda9",
   "metadata": {},
   "outputs": [],
   "source": [
    "df1 = df1[df1['STATION_NAME'] != 'DISTRICT 2 OFFICE']"
   ]
  },
  {
   "cell_type": "code",
   "execution_count": 558,
   "id": "a4140ee8-8174-4f44-ba8a-c969f62e3caa",
   "metadata": {},
   "outputs": [],
   "source": [
    "df1 = df1[df1['STATION_NAME'] != 'DISTRICT 4 OFFICE']"
   ]
  },
  {
   "cell_type": "code",
   "execution_count": 559,
   "id": "08e52caf-3cce-4383-916e-0f443d115ff5",
   "metadata": {},
   "outputs": [],
   "source": [
    "df1 = df1[df1['STATION_NAME'] != 'DISTRICT 30 OFFICE']"
   ]
  },
  {
   "cell_type": "code",
   "execution_count": 560,
   "id": "a8ca1d32-00c9-490a-8d6e-cc113b85246d",
   "metadata": {},
   "outputs": [],
   "source": [
    "#renaming rows using loc. Can rename columns using rename function, but with rows, you have to specify\n",
    "#where you want to rename it\n",
    "\n",
    "df1.loc[df1['OFNS_DESC'] == 'OFF. AGNST PUB ORD SENSBLTY &'] = 'OFFENSE AGNST PUBLIC ORDER'"
   ]
  },
  {
   "cell_type": "code",
   "execution_count": 561,
   "id": "ff42d4dc-7c45-457e-bf52-0e9f198bfad1",
   "metadata": {},
   "outputs": [],
   "source": [
    "df1.loc[df1['OFNS_DESC'] == 'OFFENSES AGAINST PUBLIC ADMINI'] = 'OFFENSE AGNST PUBLIC ADMIN'"
   ]
  },
  {
   "cell_type": "code",
   "execution_count": 562,
   "id": "be789175-82d0-43a9-b06a-0d14907fb91f",
   "metadata": {},
   "outputs": [],
   "source": [
    "df1.loc[df1['OFNS_DESC'] == 'CHILD ABANDONMENT/NON SUPPORT'] = 'CHILD ABANDONMENT'"
   ]
  },
  {
   "cell_type": "code",
   "execution_count": 563,
   "id": "7275ed5a-93ef-4dcf-a8ab-5e3d52446412",
   "metadata": {},
   "outputs": [],
   "source": [
    "df1.loc[df1['OFNS_DESC'] == 'CRIMINAL MISCHIEF & RELATED OF'] = 'CRIMINAL MISCHIEF'"
   ]
  },
  {
   "cell_type": "code",
   "execution_count": 564,
   "id": "82f75f0f-9286-43a6-a643-c3bd4612d114",
   "metadata": {},
   "outputs": [
    {
     "data": {
      "text/plain": [
       "MANHATTAN                     6512\n",
       "BROOKLYN                      5224\n",
       "BRONX                         2614\n",
       "QUEENS                        2102\n",
       "OFFENSE AGNST PUBLIC ORDER     842\n",
       "42 ST.-GRAND CENTRAL           745\n",
       "14 ST.-UNION SQUARE            660\n",
       "34 ST.-HERALD SQ.              327\n",
       "59 ST.-COLUMBUS CIRCLE         257\n",
       "OFFENSE AGNST PUBLIC ADMIN     169\n",
       "CRIMINAL MISCHIEF              118\n",
       "149 STREET                     113\n",
       "CHILD ABANDONMENT                1\n",
       "Name: BORO_NM, dtype: int64"
      ]
     },
     "execution_count": 564,
     "metadata": {},
     "output_type": "execute_result"
    }
   ],
   "source": [
    "df1.BORO_NM.value_counts()"
   ]
  },
  {
   "cell_type": "code",
   "execution_count": 565,
   "id": "871575ca-388b-4880-9cb8-f53d924bd0b3",
   "metadata": {},
   "outputs": [],
   "source": [
    "#removing crime names from borough...it's incorrect data entry \n",
    "\n",
    "df1 = df1[df1['BORO_NM'] != 'OFFENSE AGNST PUBLIC ORDER']"
   ]
  },
  {
   "cell_type": "code",
   "execution_count": 566,
   "id": "8a0f9216-b3c9-4c97-bc8e-003bad67353d",
   "metadata": {},
   "outputs": [],
   "source": [
    "df1 = df1[df1['BORO_NM'] != '42 ST.-GRAND CENTRAL']"
   ]
  },
  {
   "cell_type": "code",
   "execution_count": 567,
   "id": "a17494ba-0b28-473d-a278-90007c6636dc",
   "metadata": {},
   "outputs": [],
   "source": [
    "df1 = df1[df1['BORO_NM'] != '14 ST.-UNION SQUARE']"
   ]
  },
  {
   "cell_type": "code",
   "execution_count": 568,
   "id": "c99c7b23-0664-4871-8d80-eb576e7518b4",
   "metadata": {},
   "outputs": [],
   "source": [
    "df1 = df1[df1['BORO_NM'] != '34 ST.-HERALD SQ.']"
   ]
  },
  {
   "cell_type": "code",
   "execution_count": 569,
   "id": "29ac543c-8856-4200-98c2-629916dcbbf8",
   "metadata": {},
   "outputs": [],
   "source": [
    "df1 = df1[df1['BORO_NM'] != '59 ST.-COLUMBUS CIRCLE']"
   ]
  },
  {
   "cell_type": "code",
   "execution_count": 570,
   "id": "d7d8fdbe-f3a0-4d39-8d09-22162ec3edc3",
   "metadata": {},
   "outputs": [],
   "source": [
    "df1 = df1[df1['BORO_NM'] != 'OFFENSE AGNST PUBLIC ADMIN']"
   ]
  },
  {
   "cell_type": "code",
   "execution_count": 571,
   "id": "e2f328eb-7f48-4bb2-972d-99b918f84b31",
   "metadata": {},
   "outputs": [],
   "source": [
    "df1 = df1[df1['BORO_NM'] != 'CRIMINAL MISCHIEF']"
   ]
  },
  {
   "cell_type": "code",
   "execution_count": 572,
   "id": "35189a98-0d2a-4e7a-943f-07675c717ee6",
   "metadata": {},
   "outputs": [],
   "source": [
    "df1 = df1[df1['BORO_NM'] != '149 STREET']"
   ]
  },
  {
   "cell_type": "code",
   "execution_count": 573,
   "id": "d578cc0d-4e1d-4e06-8558-17e83c06a5c3",
   "metadata": {},
   "outputs": [],
   "source": [
    "df1 = df1[df1['BORO_NM'] != 'CHILD ABANDONMENT']"
   ]
  },
  {
   "cell_type": "code",
   "execution_count": 575,
   "id": "6ae25c12-8dd8-4027-a2d3-ee248534bd57",
   "metadata": {},
   "outputs": [
    {
     "data": {
      "text/html": [
       "<div>\n",
       "<style scoped>\n",
       "    .dataframe tbody tr th:only-of-type {\n",
       "        vertical-align: middle;\n",
       "    }\n",
       "\n",
       "    .dataframe tbody tr th {\n",
       "        vertical-align: top;\n",
       "    }\n",
       "\n",
       "    .dataframe thead th {\n",
       "        text-align: right;\n",
       "    }\n",
       "</style>\n",
       "<table border=\"1\" class=\"dataframe\">\n",
       "  <thead>\n",
       "    <tr style=\"text-align: right;\">\n",
       "      <th></th>\n",
       "      <th>Unnamed: 0</th>\n",
       "      <th>CMPLNT_FR_DT</th>\n",
       "      <th>CMPLNT_FR_TM</th>\n",
       "      <th>OFNS_DESC</th>\n",
       "      <th>PD_DESC</th>\n",
       "      <th>CRM_ATPT_CPTD_CD</th>\n",
       "      <th>LAW_CAT_CD</th>\n",
       "      <th>BORO_NM</th>\n",
       "      <th>LOC_OF_OCCUR_DESC</th>\n",
       "      <th>PREM_TYP_DESC</th>\n",
       "      <th>...</th>\n",
       "      <th>X_COORD_CD</th>\n",
       "      <th>Y_COORD_CD</th>\n",
       "      <th>SUSP_AGE_GROUP</th>\n",
       "      <th>SUSP_SEX</th>\n",
       "      <th>PATROL_BORO</th>\n",
       "      <th>STATION_NAME</th>\n",
       "      <th>VIC_AGE_GROUP</th>\n",
       "      <th>VIC_RACE</th>\n",
       "      <th>VIC_SEX</th>\n",
       "      <th>CMPLNT_FR_DTTM</th>\n",
       "    </tr>\n",
       "  </thead>\n",
       "  <tbody>\n",
       "    <tr>\n",
       "      <th>0</th>\n",
       "      <td>172</td>\n",
       "      <td>06/09/2018</td>\n",
       "      <td>15:54:00</td>\n",
       "      <td>GRAND LARCENY</td>\n",
       "      <td>LARCENY,GRAND FROM PERSON,PURS</td>\n",
       "      <td>COMPLETED</td>\n",
       "      <td>FELONY</td>\n",
       "      <td>BRONX</td>\n",
       "      <td>NaN</td>\n",
       "      <td>TRANSIT - NYC SUBWAY</td>\n",
       "      <td>...</td>\n",
       "      <td>1.01026e+06</td>\n",
       "      <td>248767</td>\n",
       "      <td>&lt;18</td>\n",
       "      <td>M</td>\n",
       "      <td>PATROL BORO BRONX</td>\n",
       "      <td>TREMONT AVENUE</td>\n",
       "      <td>45-64</td>\n",
       "      <td>WHITE HISPANIC</td>\n",
       "      <td>F</td>\n",
       "      <td>2018-06-09 15:54:00</td>\n",
       "    </tr>\n",
       "    <tr>\n",
       "      <th>2</th>\n",
       "      <td>413</td>\n",
       "      <td>05/19/2018</td>\n",
       "      <td>12:25:00</td>\n",
       "      <td>FORGERY</td>\n",
       "      <td>FORGERY,ETC.,UNCLASSIFIED-FELO</td>\n",
       "      <td>COMPLETED</td>\n",
       "      <td>FELONY</td>\n",
       "      <td>MANHATTAN</td>\n",
       "      <td>NaN</td>\n",
       "      <td>TRANSIT - NYC SUBWAY</td>\n",
       "      <td>...</td>\n",
       "      <td>990886</td>\n",
       "      <td>213048</td>\n",
       "      <td>45-64</td>\n",
       "      <td>M</td>\n",
       "      <td>PATROL BORO MAN SOUTH</td>\n",
       "      <td>42 ST.-GRAND CENTRAL</td>\n",
       "      <td>25-44</td>\n",
       "      <td>WHITE</td>\n",
       "      <td>F</td>\n",
       "      <td>2018-05-19 12:25:00</td>\n",
       "    </tr>\n",
       "    <tr>\n",
       "      <th>3</th>\n",
       "      <td>717</td>\n",
       "      <td>11/04/2018</td>\n",
       "      <td>00:00:00</td>\n",
       "      <td>DANGEROUS WEAPONS</td>\n",
       "      <td>WEAPONS POSSESSION 3</td>\n",
       "      <td>COMPLETED</td>\n",
       "      <td>FELONY</td>\n",
       "      <td>MANHATTAN</td>\n",
       "      <td>NaN</td>\n",
       "      <td>TRANSIT - NYC SUBWAY</td>\n",
       "      <td>...</td>\n",
       "      <td>980772</td>\n",
       "      <td>194845</td>\n",
       "      <td>25-44</td>\n",
       "      <td>M</td>\n",
       "      <td>PATROL BORO MAN SOUTH</td>\n",
       "      <td>SOUTH FERRY</td>\n",
       "      <td>65+</td>\n",
       "      <td>BLACK</td>\n",
       "      <td>M</td>\n",
       "      <td>2018-11-04 00:00:00</td>\n",
       "    </tr>\n",
       "    <tr>\n",
       "      <th>4</th>\n",
       "      <td>844</td>\n",
       "      <td>01/18/2018</td>\n",
       "      <td>12:23:00</td>\n",
       "      <td>POSSESSION OF STOLEN PROPERTY</td>\n",
       "      <td>STOLEN PROPERTY 3,POSSESSION</td>\n",
       "      <td>COMPLETED</td>\n",
       "      <td>MISDEMEANOR</td>\n",
       "      <td>MANHATTAN</td>\n",
       "      <td>NaN</td>\n",
       "      <td>TRANSIT - NYC SUBWAY</td>\n",
       "      <td>...</td>\n",
       "      <td>989294</td>\n",
       "      <td>215445</td>\n",
       "      <td>25-44</td>\n",
       "      <td>M</td>\n",
       "      <td>PATROL BORO MAN SOUTH</td>\n",
       "      <td>47-50 STS./ROCKEFELLER CTR.</td>\n",
       "      <td>25-44</td>\n",
       "      <td>WHITE</td>\n",
       "      <td>M</td>\n",
       "      <td>2018-01-18 12:23:00</td>\n",
       "    </tr>\n",
       "    <tr>\n",
       "      <th>5</th>\n",
       "      <td>848</td>\n",
       "      <td>12/29/2018</td>\n",
       "      <td>21:30:00</td>\n",
       "      <td>JOSTLING</td>\n",
       "      <td>JOSTLING</td>\n",
       "      <td>COMPLETED</td>\n",
       "      <td>MISDEMEANOR</td>\n",
       "      <td>BRONX</td>\n",
       "      <td>NaN</td>\n",
       "      <td>TRANSIT - NYC SUBWAY</td>\n",
       "      <td>...</td>\n",
       "      <td>1.00475e+06</td>\n",
       "      <td>240880</td>\n",
       "      <td>45-64</td>\n",
       "      <td>F</td>\n",
       "      <td>PATROL BORO BRONX</td>\n",
       "      <td>161 ST.-YANKEE STADIUM</td>\n",
       "      <td>25-44</td>\n",
       "      <td>BLACK HISPANIC</td>\n",
       "      <td>M</td>\n",
       "      <td>2018-12-29 21:30:00</td>\n",
       "    </tr>\n",
       "  </tbody>\n",
       "</table>\n",
       "<p>5 rows × 22 columns</p>\n",
       "</div>"
      ],
      "text/plain": [
       "  Unnamed: 0 CMPLNT_FR_DT CMPLNT_FR_TM                      OFNS_DESC  \\\n",
       "0        172   06/09/2018     15:54:00                  GRAND LARCENY   \n",
       "2        413   05/19/2018     12:25:00                        FORGERY   \n",
       "3        717   11/04/2018     00:00:00              DANGEROUS WEAPONS   \n",
       "4        844   01/18/2018     12:23:00  POSSESSION OF STOLEN PROPERTY   \n",
       "5        848   12/29/2018     21:30:00                       JOSTLING   \n",
       "\n",
       "                          PD_DESC CRM_ATPT_CPTD_CD   LAW_CAT_CD    BORO_NM  \\\n",
       "0  LARCENY,GRAND FROM PERSON,PURS        COMPLETED       FELONY      BRONX   \n",
       "2  FORGERY,ETC.,UNCLASSIFIED-FELO        COMPLETED       FELONY  MANHATTAN   \n",
       "3            WEAPONS POSSESSION 3        COMPLETED       FELONY  MANHATTAN   \n",
       "4    STOLEN PROPERTY 3,POSSESSION        COMPLETED  MISDEMEANOR  MANHATTAN   \n",
       "5                        JOSTLING        COMPLETED  MISDEMEANOR      BRONX   \n",
       "\n",
       "  LOC_OF_OCCUR_DESC         PREM_TYP_DESC  ...   X_COORD_CD Y_COORD_CD  \\\n",
       "0               NaN  TRANSIT - NYC SUBWAY  ...  1.01026e+06     248767   \n",
       "2               NaN  TRANSIT - NYC SUBWAY  ...       990886     213048   \n",
       "3               NaN  TRANSIT - NYC SUBWAY  ...       980772     194845   \n",
       "4               NaN  TRANSIT - NYC SUBWAY  ...       989294     215445   \n",
       "5               NaN  TRANSIT - NYC SUBWAY  ...  1.00475e+06     240880   \n",
       "\n",
       "  SUSP_AGE_GROUP SUSP_SEX            PATROL_BORO                 STATION_NAME  \\\n",
       "0            <18        M      PATROL BORO BRONX               TREMONT AVENUE   \n",
       "2          45-64        M  PATROL BORO MAN SOUTH         42 ST.-GRAND CENTRAL   \n",
       "3          25-44        M  PATROL BORO MAN SOUTH                  SOUTH FERRY   \n",
       "4          25-44        M  PATROL BORO MAN SOUTH  47-50 STS./ROCKEFELLER CTR.   \n",
       "5          45-64        F      PATROL BORO BRONX       161 ST.-YANKEE STADIUM   \n",
       "\n",
       "  VIC_AGE_GROUP        VIC_RACE VIC_SEX       CMPLNT_FR_DTTM  \n",
       "0         45-64  WHITE HISPANIC       F  2018-06-09 15:54:00  \n",
       "2         25-44           WHITE       F  2018-05-19 12:25:00  \n",
       "3           65+           BLACK       M  2018-11-04 00:00:00  \n",
       "4         25-44           WHITE       M  2018-01-18 12:23:00  \n",
       "5         25-44  BLACK HISPANIC       M  2018-12-29 21:30:00  \n",
       "\n",
       "[5 rows x 22 columns]"
      ]
     },
     "execution_count": 575,
     "metadata": {},
     "output_type": "execute_result"
    }
   ],
   "source": [
    "df1.head()"
   ]
  },
  {
   "cell_type": "code",
   "execution_count": 592,
   "id": "c4e314d1-a59a-49c9-bb40-cf66f4b4fc62",
   "metadata": {},
   "outputs": [],
   "source": [
    "df1.rename(columns = {'CMPLNT_FR_DT': 'Complaint_Date', 'OFNS_DESC': 'Crime', 'BORO_NM': 'Borough',\n",
    "                         'SUSP_SEX':'Suspect_Gender', 'VIC_SEX':'Victim_Gender', 'CMPLNT_FR_DTTM': \n",
    "                     'Complaint_Date_Time', 'VIC_AGE_GROUP': 'Victim Age', 'PREM_TYP_DESC':\n",
    "                     'Premises', 'LAW_CAT_CD': 'Offense', 'CMPLNT_FR_TM': 'Complaint_Time',\n",
    "                     'PD_DESC': 'Crime_Description', 'SUSP_AGE_GROUP': 'Suspect_Age', \n",
    "                     'PATROL_BORO': 'Patrol_Borough', 'STATION_NAME': 'Station_Name', \n",
    "                     'VIC_RACE': 'Victim_Race', 'LOC_OF_OCCUR_DESC': 'Description_of_Location'}, inplace = True)"
   ]
  },
  {
   "cell_type": "code",
   "execution_count": 593,
   "id": "1f888bca-7aed-42c0-9f81-849cf6abbef4",
   "metadata": {},
   "outputs": [
    {
     "data": {
      "text/html": [
       "<div>\n",
       "<style scoped>\n",
       "    .dataframe tbody tr th:only-of-type {\n",
       "        vertical-align: middle;\n",
       "    }\n",
       "\n",
       "    .dataframe tbody tr th {\n",
       "        vertical-align: top;\n",
       "    }\n",
       "\n",
       "    .dataframe thead th {\n",
       "        text-align: right;\n",
       "    }\n",
       "</style>\n",
       "<table border=\"1\" class=\"dataframe\">\n",
       "  <thead>\n",
       "    <tr style=\"text-align: right;\">\n",
       "      <th></th>\n",
       "      <th>Unnamed: 0</th>\n",
       "      <th>Complaint_Date</th>\n",
       "      <th>Complaint_Time</th>\n",
       "      <th>Crime</th>\n",
       "      <th>Crime_Description</th>\n",
       "      <th>Offense</th>\n",
       "      <th>Borough</th>\n",
       "      <th>Description_of_Location</th>\n",
       "      <th>Premises</th>\n",
       "      <th>X_COORD_CD</th>\n",
       "      <th>Y_COORD_CD</th>\n",
       "      <th>Suspect_Age</th>\n",
       "      <th>Suspect_Gender</th>\n",
       "      <th>Patrol_Borough</th>\n",
       "      <th>Station_Name</th>\n",
       "      <th>Victim Age</th>\n",
       "      <th>Victim_Race</th>\n",
       "      <th>Victim_Gender</th>\n",
       "      <th>Complaint_Date_Time</th>\n",
       "    </tr>\n",
       "  </thead>\n",
       "  <tbody>\n",
       "    <tr>\n",
       "      <th>0</th>\n",
       "      <td>172</td>\n",
       "      <td>06/09/2018</td>\n",
       "      <td>15:54:00</td>\n",
       "      <td>GRAND LARCENY</td>\n",
       "      <td>LARCENY,GRAND FROM PERSON,PURS</td>\n",
       "      <td>FELONY</td>\n",
       "      <td>BRONX</td>\n",
       "      <td>NaN</td>\n",
       "      <td>TRANSIT - NYC SUBWAY</td>\n",
       "      <td>1.01026e+06</td>\n",
       "      <td>248767</td>\n",
       "      <td>&lt;18</td>\n",
       "      <td>M</td>\n",
       "      <td>PATROL BORO BRONX</td>\n",
       "      <td>TREMONT AVENUE</td>\n",
       "      <td>45-64</td>\n",
       "      <td>WHITE HISPANIC</td>\n",
       "      <td>F</td>\n",
       "      <td>2018-06-09 15:54:00</td>\n",
       "    </tr>\n",
       "    <tr>\n",
       "      <th>2</th>\n",
       "      <td>413</td>\n",
       "      <td>05/19/2018</td>\n",
       "      <td>12:25:00</td>\n",
       "      <td>FORGERY</td>\n",
       "      <td>FORGERY,ETC.,UNCLASSIFIED-FELO</td>\n",
       "      <td>FELONY</td>\n",
       "      <td>MANHATTAN</td>\n",
       "      <td>NaN</td>\n",
       "      <td>TRANSIT - NYC SUBWAY</td>\n",
       "      <td>990886</td>\n",
       "      <td>213048</td>\n",
       "      <td>45-64</td>\n",
       "      <td>M</td>\n",
       "      <td>PATROL BORO MAN SOUTH</td>\n",
       "      <td>42 ST.-GRAND CENTRAL</td>\n",
       "      <td>25-44</td>\n",
       "      <td>WHITE</td>\n",
       "      <td>F</td>\n",
       "      <td>2018-05-19 12:25:00</td>\n",
       "    </tr>\n",
       "    <tr>\n",
       "      <th>3</th>\n",
       "      <td>717</td>\n",
       "      <td>11/04/2018</td>\n",
       "      <td>00:00:00</td>\n",
       "      <td>DANGEROUS WEAPONS</td>\n",
       "      <td>WEAPONS POSSESSION 3</td>\n",
       "      <td>FELONY</td>\n",
       "      <td>MANHATTAN</td>\n",
       "      <td>NaN</td>\n",
       "      <td>TRANSIT - NYC SUBWAY</td>\n",
       "      <td>980772</td>\n",
       "      <td>194845</td>\n",
       "      <td>25-44</td>\n",
       "      <td>M</td>\n",
       "      <td>PATROL BORO MAN SOUTH</td>\n",
       "      <td>SOUTH FERRY</td>\n",
       "      <td>65+</td>\n",
       "      <td>BLACK</td>\n",
       "      <td>M</td>\n",
       "      <td>2018-11-04 00:00:00</td>\n",
       "    </tr>\n",
       "    <tr>\n",
       "      <th>4</th>\n",
       "      <td>844</td>\n",
       "      <td>01/18/2018</td>\n",
       "      <td>12:23:00</td>\n",
       "      <td>POSSESSION OF STOLEN PROPERTY</td>\n",
       "      <td>STOLEN PROPERTY 3,POSSESSION</td>\n",
       "      <td>MISDEMEANOR</td>\n",
       "      <td>MANHATTAN</td>\n",
       "      <td>NaN</td>\n",
       "      <td>TRANSIT - NYC SUBWAY</td>\n",
       "      <td>989294</td>\n",
       "      <td>215445</td>\n",
       "      <td>25-44</td>\n",
       "      <td>M</td>\n",
       "      <td>PATROL BORO MAN SOUTH</td>\n",
       "      <td>47-50 STS./ROCKEFELLER CTR.</td>\n",
       "      <td>25-44</td>\n",
       "      <td>WHITE</td>\n",
       "      <td>M</td>\n",
       "      <td>2018-01-18 12:23:00</td>\n",
       "    </tr>\n",
       "    <tr>\n",
       "      <th>5</th>\n",
       "      <td>848</td>\n",
       "      <td>12/29/2018</td>\n",
       "      <td>21:30:00</td>\n",
       "      <td>JOSTLING</td>\n",
       "      <td>JOSTLING</td>\n",
       "      <td>MISDEMEANOR</td>\n",
       "      <td>BRONX</td>\n",
       "      <td>NaN</td>\n",
       "      <td>TRANSIT - NYC SUBWAY</td>\n",
       "      <td>1.00475e+06</td>\n",
       "      <td>240880</td>\n",
       "      <td>45-64</td>\n",
       "      <td>F</td>\n",
       "      <td>PATROL BORO BRONX</td>\n",
       "      <td>161 ST.-YANKEE STADIUM</td>\n",
       "      <td>25-44</td>\n",
       "      <td>BLACK HISPANIC</td>\n",
       "      <td>M</td>\n",
       "      <td>2018-12-29 21:30:00</td>\n",
       "    </tr>\n",
       "  </tbody>\n",
       "</table>\n",
       "</div>"
      ],
      "text/plain": [
       "  Unnamed: 0 Complaint_Date Complaint_Time                          Crime  \\\n",
       "0        172     06/09/2018       15:54:00                  GRAND LARCENY   \n",
       "2        413     05/19/2018       12:25:00                        FORGERY   \n",
       "3        717     11/04/2018       00:00:00              DANGEROUS WEAPONS   \n",
       "4        844     01/18/2018       12:23:00  POSSESSION OF STOLEN PROPERTY   \n",
       "5        848     12/29/2018       21:30:00                       JOSTLING   \n",
       "\n",
       "                Crime_Description      Offense    Borough  \\\n",
       "0  LARCENY,GRAND FROM PERSON,PURS       FELONY      BRONX   \n",
       "2  FORGERY,ETC.,UNCLASSIFIED-FELO       FELONY  MANHATTAN   \n",
       "3            WEAPONS POSSESSION 3       FELONY  MANHATTAN   \n",
       "4    STOLEN PROPERTY 3,POSSESSION  MISDEMEANOR  MANHATTAN   \n",
       "5                        JOSTLING  MISDEMEANOR      BRONX   \n",
       "\n",
       "  Description_of_Location              Premises   X_COORD_CD Y_COORD_CD  \\\n",
       "0                     NaN  TRANSIT - NYC SUBWAY  1.01026e+06     248767   \n",
       "2                     NaN  TRANSIT - NYC SUBWAY       990886     213048   \n",
       "3                     NaN  TRANSIT - NYC SUBWAY       980772     194845   \n",
       "4                     NaN  TRANSIT - NYC SUBWAY       989294     215445   \n",
       "5                     NaN  TRANSIT - NYC SUBWAY  1.00475e+06     240880   \n",
       "\n",
       "  Suspect_Age Suspect_Gender         Patrol_Borough  \\\n",
       "0         <18              M      PATROL BORO BRONX   \n",
       "2       45-64              M  PATROL BORO MAN SOUTH   \n",
       "3       25-44              M  PATROL BORO MAN SOUTH   \n",
       "4       25-44              M  PATROL BORO MAN SOUTH   \n",
       "5       45-64              F      PATROL BORO BRONX   \n",
       "\n",
       "                  Station_Name Victim Age     Victim_Race Victim_Gender  \\\n",
       "0               TREMONT AVENUE      45-64  WHITE HISPANIC             F   \n",
       "2         42 ST.-GRAND CENTRAL      25-44           WHITE             F   \n",
       "3                  SOUTH FERRY        65+           BLACK             M   \n",
       "4  47-50 STS./ROCKEFELLER CTR.      25-44           WHITE             M   \n",
       "5       161 ST.-YANKEE STADIUM      25-44  BLACK HISPANIC             M   \n",
       "\n",
       "   Complaint_Date_Time  \n",
       "0  2018-06-09 15:54:00  \n",
       "2  2018-05-19 12:25:00  \n",
       "3  2018-11-04 00:00:00  \n",
       "4  2018-01-18 12:23:00  \n",
       "5  2018-12-29 21:30:00  "
      ]
     },
     "execution_count": 593,
     "metadata": {},
     "output_type": "execute_result"
    }
   ],
   "source": [
    "df1.head()"
   ]
  },
  {
   "cell_type": "code",
   "execution_count": 594,
   "id": "5c931b8f-fe27-4c90-a673-4b635788d7d5",
   "metadata": {},
   "outputs": [
    {
     "ename": "KeyError",
     "evalue": "\"['CRM_ATPT_CPTD_CD'] not found in axis\"",
     "output_type": "error",
     "traceback": [
      "\u001b[0;31m---------------------------------------------------------------------------\u001b[0m",
      "\u001b[0;31mKeyError\u001b[0m                                  Traceback (most recent call last)",
      "\u001b[0;32m<ipython-input-594-a799a9d76651>\u001b[0m in \u001b[0;36m<module>\u001b[0;34m\u001b[0m\n\u001b[1;32m      1\u001b[0m \u001b[0;31m#dropping irrelevant columns:\u001b[0m\u001b[0;34m\u001b[0m\u001b[0;34m\u001b[0m\u001b[0;34m\u001b[0m\u001b[0m\n\u001b[1;32m      2\u001b[0m \u001b[0;34m\u001b[0m\u001b[0m\n\u001b[0;32m----> 3\u001b[0;31m \u001b[0mdf1\u001b[0m\u001b[0;34m.\u001b[0m\u001b[0mdrop\u001b[0m\u001b[0;34m(\u001b[0m\u001b[0mcolumns\u001b[0m \u001b[0;34m=\u001b[0m \u001b[0;34m'CRM_ATPT_CPTD_CD'\u001b[0m\u001b[0;34m,\u001b[0m \u001b[0minplace\u001b[0m \u001b[0;34m=\u001b[0m \u001b[0;32mTrue\u001b[0m\u001b[0;34m)\u001b[0m\u001b[0;34m\u001b[0m\u001b[0;34m\u001b[0m\u001b[0m\n\u001b[0m",
      "\u001b[0;32m/opt/anaconda3/envs/learn-env/lib/python3.8/site-packages/pandas/core/frame.py\u001b[0m in \u001b[0;36mdrop\u001b[0;34m(self, labels, axis, index, columns, level, inplace, errors)\u001b[0m\n\u001b[1;32m   4161\u001b[0m                 \u001b[0mweight\u001b[0m  \u001b[0;36m1.0\u001b[0m     \u001b[0;36m0.8\u001b[0m\u001b[0;34m\u001b[0m\u001b[0;34m\u001b[0m\u001b[0m\n\u001b[1;32m   4162\u001b[0m         \"\"\"\n\u001b[0;32m-> 4163\u001b[0;31m         return super().drop(\n\u001b[0m\u001b[1;32m   4164\u001b[0m             \u001b[0mlabels\u001b[0m\u001b[0;34m=\u001b[0m\u001b[0mlabels\u001b[0m\u001b[0;34m,\u001b[0m\u001b[0;34m\u001b[0m\u001b[0;34m\u001b[0m\u001b[0m\n\u001b[1;32m   4165\u001b[0m             \u001b[0maxis\u001b[0m\u001b[0;34m=\u001b[0m\u001b[0maxis\u001b[0m\u001b[0;34m,\u001b[0m\u001b[0;34m\u001b[0m\u001b[0;34m\u001b[0m\u001b[0m\n",
      "\u001b[0;32m/opt/anaconda3/envs/learn-env/lib/python3.8/site-packages/pandas/core/generic.py\u001b[0m in \u001b[0;36mdrop\u001b[0;34m(self, labels, axis, index, columns, level, inplace, errors)\u001b[0m\n\u001b[1;32m   3885\u001b[0m         \u001b[0;32mfor\u001b[0m \u001b[0maxis\u001b[0m\u001b[0;34m,\u001b[0m \u001b[0mlabels\u001b[0m \u001b[0;32min\u001b[0m \u001b[0maxes\u001b[0m\u001b[0;34m.\u001b[0m\u001b[0mitems\u001b[0m\u001b[0;34m(\u001b[0m\u001b[0;34m)\u001b[0m\u001b[0;34m:\u001b[0m\u001b[0;34m\u001b[0m\u001b[0;34m\u001b[0m\u001b[0m\n\u001b[1;32m   3886\u001b[0m             \u001b[0;32mif\u001b[0m \u001b[0mlabels\u001b[0m \u001b[0;32mis\u001b[0m \u001b[0;32mnot\u001b[0m \u001b[0;32mNone\u001b[0m\u001b[0;34m:\u001b[0m\u001b[0;34m\u001b[0m\u001b[0;34m\u001b[0m\u001b[0m\n\u001b[0;32m-> 3887\u001b[0;31m                 \u001b[0mobj\u001b[0m \u001b[0;34m=\u001b[0m \u001b[0mobj\u001b[0m\u001b[0;34m.\u001b[0m\u001b[0m_drop_axis\u001b[0m\u001b[0;34m(\u001b[0m\u001b[0mlabels\u001b[0m\u001b[0;34m,\u001b[0m \u001b[0maxis\u001b[0m\u001b[0;34m,\u001b[0m \u001b[0mlevel\u001b[0m\u001b[0;34m=\u001b[0m\u001b[0mlevel\u001b[0m\u001b[0;34m,\u001b[0m \u001b[0merrors\u001b[0m\u001b[0;34m=\u001b[0m\u001b[0merrors\u001b[0m\u001b[0;34m)\u001b[0m\u001b[0;34m\u001b[0m\u001b[0;34m\u001b[0m\u001b[0m\n\u001b[0m\u001b[1;32m   3888\u001b[0m \u001b[0;34m\u001b[0m\u001b[0m\n\u001b[1;32m   3889\u001b[0m         \u001b[0;32mif\u001b[0m \u001b[0minplace\u001b[0m\u001b[0;34m:\u001b[0m\u001b[0;34m\u001b[0m\u001b[0;34m\u001b[0m\u001b[0m\n",
      "\u001b[0;32m/opt/anaconda3/envs/learn-env/lib/python3.8/site-packages/pandas/core/generic.py\u001b[0m in \u001b[0;36m_drop_axis\u001b[0;34m(self, labels, axis, level, errors)\u001b[0m\n\u001b[1;32m   3919\u001b[0m                 \u001b[0mnew_axis\u001b[0m \u001b[0;34m=\u001b[0m \u001b[0maxis\u001b[0m\u001b[0;34m.\u001b[0m\u001b[0mdrop\u001b[0m\u001b[0;34m(\u001b[0m\u001b[0mlabels\u001b[0m\u001b[0;34m,\u001b[0m \u001b[0mlevel\u001b[0m\u001b[0;34m=\u001b[0m\u001b[0mlevel\u001b[0m\u001b[0;34m,\u001b[0m \u001b[0merrors\u001b[0m\u001b[0;34m=\u001b[0m\u001b[0merrors\u001b[0m\u001b[0;34m)\u001b[0m\u001b[0;34m\u001b[0m\u001b[0;34m\u001b[0m\u001b[0m\n\u001b[1;32m   3920\u001b[0m             \u001b[0;32melse\u001b[0m\u001b[0;34m:\u001b[0m\u001b[0;34m\u001b[0m\u001b[0;34m\u001b[0m\u001b[0m\n\u001b[0;32m-> 3921\u001b[0;31m                 \u001b[0mnew_axis\u001b[0m \u001b[0;34m=\u001b[0m \u001b[0maxis\u001b[0m\u001b[0;34m.\u001b[0m\u001b[0mdrop\u001b[0m\u001b[0;34m(\u001b[0m\u001b[0mlabels\u001b[0m\u001b[0;34m,\u001b[0m \u001b[0merrors\u001b[0m\u001b[0;34m=\u001b[0m\u001b[0merrors\u001b[0m\u001b[0;34m)\u001b[0m\u001b[0;34m\u001b[0m\u001b[0;34m\u001b[0m\u001b[0m\n\u001b[0m\u001b[1;32m   3922\u001b[0m             \u001b[0mresult\u001b[0m \u001b[0;34m=\u001b[0m \u001b[0mself\u001b[0m\u001b[0;34m.\u001b[0m\u001b[0mreindex\u001b[0m\u001b[0;34m(\u001b[0m\u001b[0;34m**\u001b[0m\u001b[0;34m{\u001b[0m\u001b[0maxis_name\u001b[0m\u001b[0;34m:\u001b[0m \u001b[0mnew_axis\u001b[0m\u001b[0;34m}\u001b[0m\u001b[0;34m)\u001b[0m\u001b[0;34m\u001b[0m\u001b[0;34m\u001b[0m\u001b[0m\n\u001b[1;32m   3923\u001b[0m \u001b[0;34m\u001b[0m\u001b[0m\n",
      "\u001b[0;32m/opt/anaconda3/envs/learn-env/lib/python3.8/site-packages/pandas/core/indexes/base.py\u001b[0m in \u001b[0;36mdrop\u001b[0;34m(self, labels, errors)\u001b[0m\n\u001b[1;32m   5280\u001b[0m         \u001b[0;32mif\u001b[0m \u001b[0mmask\u001b[0m\u001b[0;34m.\u001b[0m\u001b[0many\u001b[0m\u001b[0;34m(\u001b[0m\u001b[0;34m)\u001b[0m\u001b[0;34m:\u001b[0m\u001b[0;34m\u001b[0m\u001b[0;34m\u001b[0m\u001b[0m\n\u001b[1;32m   5281\u001b[0m             \u001b[0;32mif\u001b[0m \u001b[0merrors\u001b[0m \u001b[0;34m!=\u001b[0m \u001b[0;34m\"ignore\"\u001b[0m\u001b[0;34m:\u001b[0m\u001b[0;34m\u001b[0m\u001b[0;34m\u001b[0m\u001b[0m\n\u001b[0;32m-> 5282\u001b[0;31m                 \u001b[0;32mraise\u001b[0m \u001b[0mKeyError\u001b[0m\u001b[0;34m(\u001b[0m\u001b[0;34mf\"{labels[mask]} not found in axis\"\u001b[0m\u001b[0;34m)\u001b[0m\u001b[0;34m\u001b[0m\u001b[0;34m\u001b[0m\u001b[0m\n\u001b[0m\u001b[1;32m   5283\u001b[0m             \u001b[0mindexer\u001b[0m \u001b[0;34m=\u001b[0m \u001b[0mindexer\u001b[0m\u001b[0;34m[\u001b[0m\u001b[0;34m~\u001b[0m\u001b[0mmask\u001b[0m\u001b[0;34m]\u001b[0m\u001b[0;34m\u001b[0m\u001b[0;34m\u001b[0m\u001b[0m\n\u001b[1;32m   5284\u001b[0m         \u001b[0;32mreturn\u001b[0m \u001b[0mself\u001b[0m\u001b[0;34m.\u001b[0m\u001b[0mdelete\u001b[0m\u001b[0;34m(\u001b[0m\u001b[0mindexer\u001b[0m\u001b[0;34m)\u001b[0m\u001b[0;34m\u001b[0m\u001b[0;34m\u001b[0m\u001b[0m\n",
      "\u001b[0;31mKeyError\u001b[0m: \"['CRM_ATPT_CPTD_CD'] not found in axis\""
     ]
    }
   ],
   "source": [
    "#dropping irrelevant columns:\n",
    "\n",
    "df1.drop(columns = 'CRM_ATPT_CPTD_CD', inplace = True)"
   ]
  },
  {
   "cell_type": "code",
   "execution_count": 595,
   "id": "b28207a3-2001-4bed-b060-b3ca86f1b321",
   "metadata": {},
   "outputs": [
    {
     "ename": "KeyError",
     "evalue": "\"['PARKS_NM'] not found in axis\"",
     "output_type": "error",
     "traceback": [
      "\u001b[0;31m---------------------------------------------------------------------------\u001b[0m",
      "\u001b[0;31mKeyError\u001b[0m                                  Traceback (most recent call last)",
      "\u001b[0;32m<ipython-input-595-4f5dca1a3a3d>\u001b[0m in \u001b[0;36m<module>\u001b[0;34m\u001b[0m\n\u001b[0;32m----> 1\u001b[0;31m \u001b[0mdf1\u001b[0m\u001b[0;34m.\u001b[0m\u001b[0mdrop\u001b[0m\u001b[0;34m(\u001b[0m\u001b[0mcolumns\u001b[0m \u001b[0;34m=\u001b[0m \u001b[0;34m'PARKS_NM'\u001b[0m\u001b[0;34m,\u001b[0m \u001b[0minplace\u001b[0m \u001b[0;34m=\u001b[0m \u001b[0;32mTrue\u001b[0m\u001b[0;34m)\u001b[0m\u001b[0;34m\u001b[0m\u001b[0;34m\u001b[0m\u001b[0m\n\u001b[0m",
      "\u001b[0;32m/opt/anaconda3/envs/learn-env/lib/python3.8/site-packages/pandas/core/frame.py\u001b[0m in \u001b[0;36mdrop\u001b[0;34m(self, labels, axis, index, columns, level, inplace, errors)\u001b[0m\n\u001b[1;32m   4161\u001b[0m                 \u001b[0mweight\u001b[0m  \u001b[0;36m1.0\u001b[0m     \u001b[0;36m0.8\u001b[0m\u001b[0;34m\u001b[0m\u001b[0;34m\u001b[0m\u001b[0m\n\u001b[1;32m   4162\u001b[0m         \"\"\"\n\u001b[0;32m-> 4163\u001b[0;31m         return super().drop(\n\u001b[0m\u001b[1;32m   4164\u001b[0m             \u001b[0mlabels\u001b[0m\u001b[0;34m=\u001b[0m\u001b[0mlabels\u001b[0m\u001b[0;34m,\u001b[0m\u001b[0;34m\u001b[0m\u001b[0;34m\u001b[0m\u001b[0m\n\u001b[1;32m   4165\u001b[0m             \u001b[0maxis\u001b[0m\u001b[0;34m=\u001b[0m\u001b[0maxis\u001b[0m\u001b[0;34m,\u001b[0m\u001b[0;34m\u001b[0m\u001b[0;34m\u001b[0m\u001b[0m\n",
      "\u001b[0;32m/opt/anaconda3/envs/learn-env/lib/python3.8/site-packages/pandas/core/generic.py\u001b[0m in \u001b[0;36mdrop\u001b[0;34m(self, labels, axis, index, columns, level, inplace, errors)\u001b[0m\n\u001b[1;32m   3885\u001b[0m         \u001b[0;32mfor\u001b[0m \u001b[0maxis\u001b[0m\u001b[0;34m,\u001b[0m \u001b[0mlabels\u001b[0m \u001b[0;32min\u001b[0m \u001b[0maxes\u001b[0m\u001b[0;34m.\u001b[0m\u001b[0mitems\u001b[0m\u001b[0;34m(\u001b[0m\u001b[0;34m)\u001b[0m\u001b[0;34m:\u001b[0m\u001b[0;34m\u001b[0m\u001b[0;34m\u001b[0m\u001b[0m\n\u001b[1;32m   3886\u001b[0m             \u001b[0;32mif\u001b[0m \u001b[0mlabels\u001b[0m \u001b[0;32mis\u001b[0m \u001b[0;32mnot\u001b[0m \u001b[0;32mNone\u001b[0m\u001b[0;34m:\u001b[0m\u001b[0;34m\u001b[0m\u001b[0;34m\u001b[0m\u001b[0m\n\u001b[0;32m-> 3887\u001b[0;31m                 \u001b[0mobj\u001b[0m \u001b[0;34m=\u001b[0m \u001b[0mobj\u001b[0m\u001b[0;34m.\u001b[0m\u001b[0m_drop_axis\u001b[0m\u001b[0;34m(\u001b[0m\u001b[0mlabels\u001b[0m\u001b[0;34m,\u001b[0m \u001b[0maxis\u001b[0m\u001b[0;34m,\u001b[0m \u001b[0mlevel\u001b[0m\u001b[0;34m=\u001b[0m\u001b[0mlevel\u001b[0m\u001b[0;34m,\u001b[0m \u001b[0merrors\u001b[0m\u001b[0;34m=\u001b[0m\u001b[0merrors\u001b[0m\u001b[0;34m)\u001b[0m\u001b[0;34m\u001b[0m\u001b[0;34m\u001b[0m\u001b[0m\n\u001b[0m\u001b[1;32m   3888\u001b[0m \u001b[0;34m\u001b[0m\u001b[0m\n\u001b[1;32m   3889\u001b[0m         \u001b[0;32mif\u001b[0m \u001b[0minplace\u001b[0m\u001b[0;34m:\u001b[0m\u001b[0;34m\u001b[0m\u001b[0;34m\u001b[0m\u001b[0m\n",
      "\u001b[0;32m/opt/anaconda3/envs/learn-env/lib/python3.8/site-packages/pandas/core/generic.py\u001b[0m in \u001b[0;36m_drop_axis\u001b[0;34m(self, labels, axis, level, errors)\u001b[0m\n\u001b[1;32m   3919\u001b[0m                 \u001b[0mnew_axis\u001b[0m \u001b[0;34m=\u001b[0m \u001b[0maxis\u001b[0m\u001b[0;34m.\u001b[0m\u001b[0mdrop\u001b[0m\u001b[0;34m(\u001b[0m\u001b[0mlabels\u001b[0m\u001b[0;34m,\u001b[0m \u001b[0mlevel\u001b[0m\u001b[0;34m=\u001b[0m\u001b[0mlevel\u001b[0m\u001b[0;34m,\u001b[0m \u001b[0merrors\u001b[0m\u001b[0;34m=\u001b[0m\u001b[0merrors\u001b[0m\u001b[0;34m)\u001b[0m\u001b[0;34m\u001b[0m\u001b[0;34m\u001b[0m\u001b[0m\n\u001b[1;32m   3920\u001b[0m             \u001b[0;32melse\u001b[0m\u001b[0;34m:\u001b[0m\u001b[0;34m\u001b[0m\u001b[0;34m\u001b[0m\u001b[0m\n\u001b[0;32m-> 3921\u001b[0;31m                 \u001b[0mnew_axis\u001b[0m \u001b[0;34m=\u001b[0m \u001b[0maxis\u001b[0m\u001b[0;34m.\u001b[0m\u001b[0mdrop\u001b[0m\u001b[0;34m(\u001b[0m\u001b[0mlabels\u001b[0m\u001b[0;34m,\u001b[0m \u001b[0merrors\u001b[0m\u001b[0;34m=\u001b[0m\u001b[0merrors\u001b[0m\u001b[0;34m)\u001b[0m\u001b[0;34m\u001b[0m\u001b[0;34m\u001b[0m\u001b[0m\n\u001b[0m\u001b[1;32m   3922\u001b[0m             \u001b[0mresult\u001b[0m \u001b[0;34m=\u001b[0m \u001b[0mself\u001b[0m\u001b[0;34m.\u001b[0m\u001b[0mreindex\u001b[0m\u001b[0;34m(\u001b[0m\u001b[0;34m**\u001b[0m\u001b[0;34m{\u001b[0m\u001b[0maxis_name\u001b[0m\u001b[0;34m:\u001b[0m \u001b[0mnew_axis\u001b[0m\u001b[0;34m}\u001b[0m\u001b[0;34m)\u001b[0m\u001b[0;34m\u001b[0m\u001b[0;34m\u001b[0m\u001b[0m\n\u001b[1;32m   3923\u001b[0m \u001b[0;34m\u001b[0m\u001b[0m\n",
      "\u001b[0;32m/opt/anaconda3/envs/learn-env/lib/python3.8/site-packages/pandas/core/indexes/base.py\u001b[0m in \u001b[0;36mdrop\u001b[0;34m(self, labels, errors)\u001b[0m\n\u001b[1;32m   5280\u001b[0m         \u001b[0;32mif\u001b[0m \u001b[0mmask\u001b[0m\u001b[0;34m.\u001b[0m\u001b[0many\u001b[0m\u001b[0;34m(\u001b[0m\u001b[0;34m)\u001b[0m\u001b[0;34m:\u001b[0m\u001b[0;34m\u001b[0m\u001b[0;34m\u001b[0m\u001b[0m\n\u001b[1;32m   5281\u001b[0m             \u001b[0;32mif\u001b[0m \u001b[0merrors\u001b[0m \u001b[0;34m!=\u001b[0m \u001b[0;34m\"ignore\"\u001b[0m\u001b[0;34m:\u001b[0m\u001b[0;34m\u001b[0m\u001b[0;34m\u001b[0m\u001b[0m\n\u001b[0;32m-> 5282\u001b[0;31m                 \u001b[0;32mraise\u001b[0m \u001b[0mKeyError\u001b[0m\u001b[0;34m(\u001b[0m\u001b[0;34mf\"{labels[mask]} not found in axis\"\u001b[0m\u001b[0;34m)\u001b[0m\u001b[0;34m\u001b[0m\u001b[0;34m\u001b[0m\u001b[0m\n\u001b[0m\u001b[1;32m   5283\u001b[0m             \u001b[0mindexer\u001b[0m \u001b[0;34m=\u001b[0m \u001b[0mindexer\u001b[0m\u001b[0;34m[\u001b[0m\u001b[0;34m~\u001b[0m\u001b[0mmask\u001b[0m\u001b[0;34m]\u001b[0m\u001b[0;34m\u001b[0m\u001b[0;34m\u001b[0m\u001b[0m\n\u001b[1;32m   5284\u001b[0m         \u001b[0;32mreturn\u001b[0m \u001b[0mself\u001b[0m\u001b[0;34m.\u001b[0m\u001b[0mdelete\u001b[0m\u001b[0;34m(\u001b[0m\u001b[0mindexer\u001b[0m\u001b[0;34m)\u001b[0m\u001b[0;34m\u001b[0m\u001b[0;34m\u001b[0m\u001b[0m\n",
      "\u001b[0;31mKeyError\u001b[0m: \"['PARKS_NM'] not found in axis\""
     ]
    }
   ],
   "source": [
    "df1.drop(columns = 'PARKS_NM', inplace = True)"
   ]
  },
  {
   "cell_type": "code",
   "execution_count": 590,
   "id": "5638a3dd-d129-49e0-9949-0e61ff18af1e",
   "metadata": {},
   "outputs": [],
   "source": [
    "df1.drop(columns = 'HADEVELOPT', inplace = True)"
   ]
  },
  {
   "cell_type": "code",
   "execution_count": 605,
   "id": "66cbf26f-8e59-4de9-ab49-60bbca3c63e0",
   "metadata": {},
   "outputs": [
    {
     "data": {
      "text/html": [
       "<div>\n",
       "<style scoped>\n",
       "    .dataframe tbody tr th:only-of-type {\n",
       "        vertical-align: middle;\n",
       "    }\n",
       "\n",
       "    .dataframe tbody tr th {\n",
       "        vertical-align: top;\n",
       "    }\n",
       "\n",
       "    .dataframe thead th {\n",
       "        text-align: right;\n",
       "    }\n",
       "</style>\n",
       "<table border=\"1\" class=\"dataframe\">\n",
       "  <thead>\n",
       "    <tr style=\"text-align: right;\">\n",
       "      <th></th>\n",
       "      <th>Complaint_Date</th>\n",
       "      <th>Complaint_Time</th>\n",
       "      <th>Crime</th>\n",
       "      <th>Crime_Description</th>\n",
       "      <th>Offense</th>\n",
       "      <th>Borough</th>\n",
       "      <th>X_COORD_CD</th>\n",
       "      <th>Y_COORD_CD</th>\n",
       "      <th>Suspect_Age</th>\n",
       "      <th>Suspect_Gender</th>\n",
       "      <th>Patrol_Borough</th>\n",
       "      <th>Station_Name</th>\n",
       "      <th>Victim Age</th>\n",
       "      <th>Victim_Race</th>\n",
       "      <th>Victim_Gender</th>\n",
       "      <th>Complaint_Date_Time</th>\n",
       "    </tr>\n",
       "  </thead>\n",
       "  <tbody>\n",
       "    <tr>\n",
       "      <th>0</th>\n",
       "      <td>06/09/2018</td>\n",
       "      <td>15:54:00</td>\n",
       "      <td>GRAND LARCENY</td>\n",
       "      <td>LARCENY,GRAND FROM PERSON,PURS</td>\n",
       "      <td>FELONY</td>\n",
       "      <td>BRONX</td>\n",
       "      <td>1.01026e+06</td>\n",
       "      <td>248767</td>\n",
       "      <td>&lt;18</td>\n",
       "      <td>M</td>\n",
       "      <td>PATROL BORO BRONX</td>\n",
       "      <td>TREMONT AVENUE</td>\n",
       "      <td>45-64</td>\n",
       "      <td>WHITE HISPANIC</td>\n",
       "      <td>F</td>\n",
       "      <td>2018-06-09 15:54:00</td>\n",
       "    </tr>\n",
       "    <tr>\n",
       "      <th>2</th>\n",
       "      <td>05/19/2018</td>\n",
       "      <td>12:25:00</td>\n",
       "      <td>FORGERY</td>\n",
       "      <td>FORGERY,ETC.,UNCLASSIFIED-FELO</td>\n",
       "      <td>FELONY</td>\n",
       "      <td>MANHATTAN</td>\n",
       "      <td>990886</td>\n",
       "      <td>213048</td>\n",
       "      <td>45-64</td>\n",
       "      <td>M</td>\n",
       "      <td>PATROL BORO MAN SOUTH</td>\n",
       "      <td>42 ST.-GRAND CENTRAL</td>\n",
       "      <td>25-44</td>\n",
       "      <td>WHITE</td>\n",
       "      <td>F</td>\n",
       "      <td>2018-05-19 12:25:00</td>\n",
       "    </tr>\n",
       "    <tr>\n",
       "      <th>3</th>\n",
       "      <td>11/04/2018</td>\n",
       "      <td>00:00:00</td>\n",
       "      <td>DANGEROUS WEAPONS</td>\n",
       "      <td>WEAPONS POSSESSION 3</td>\n",
       "      <td>FELONY</td>\n",
       "      <td>MANHATTAN</td>\n",
       "      <td>980772</td>\n",
       "      <td>194845</td>\n",
       "      <td>25-44</td>\n",
       "      <td>M</td>\n",
       "      <td>PATROL BORO MAN SOUTH</td>\n",
       "      <td>SOUTH FERRY</td>\n",
       "      <td>65+</td>\n",
       "      <td>BLACK</td>\n",
       "      <td>M</td>\n",
       "      <td>2018-11-04 00:00:00</td>\n",
       "    </tr>\n",
       "    <tr>\n",
       "      <th>4</th>\n",
       "      <td>01/18/2018</td>\n",
       "      <td>12:23:00</td>\n",
       "      <td>POSSESSION OF STOLEN PROPERTY</td>\n",
       "      <td>STOLEN PROPERTY 3,POSSESSION</td>\n",
       "      <td>MISDEMEANOR</td>\n",
       "      <td>MANHATTAN</td>\n",
       "      <td>989294</td>\n",
       "      <td>215445</td>\n",
       "      <td>25-44</td>\n",
       "      <td>M</td>\n",
       "      <td>PATROL BORO MAN SOUTH</td>\n",
       "      <td>47-50 STS./ROCKEFELLER CTR.</td>\n",
       "      <td>25-44</td>\n",
       "      <td>WHITE</td>\n",
       "      <td>M</td>\n",
       "      <td>2018-01-18 12:23:00</td>\n",
       "    </tr>\n",
       "    <tr>\n",
       "      <th>5</th>\n",
       "      <td>12/29/2018</td>\n",
       "      <td>21:30:00</td>\n",
       "      <td>JOSTLING</td>\n",
       "      <td>JOSTLING</td>\n",
       "      <td>MISDEMEANOR</td>\n",
       "      <td>BRONX</td>\n",
       "      <td>1.00475e+06</td>\n",
       "      <td>240880</td>\n",
       "      <td>45-64</td>\n",
       "      <td>F</td>\n",
       "      <td>PATROL BORO BRONX</td>\n",
       "      <td>161 ST.-YANKEE STADIUM</td>\n",
       "      <td>25-44</td>\n",
       "      <td>BLACK HISPANIC</td>\n",
       "      <td>M</td>\n",
       "      <td>2018-12-29 21:30:00</td>\n",
       "    </tr>\n",
       "  </tbody>\n",
       "</table>\n",
       "</div>"
      ],
      "text/plain": [
       "  Complaint_Date Complaint_Time                          Crime  \\\n",
       "0     06/09/2018       15:54:00                  GRAND LARCENY   \n",
       "2     05/19/2018       12:25:00                        FORGERY   \n",
       "3     11/04/2018       00:00:00              DANGEROUS WEAPONS   \n",
       "4     01/18/2018       12:23:00  POSSESSION OF STOLEN PROPERTY   \n",
       "5     12/29/2018       21:30:00                       JOSTLING   \n",
       "\n",
       "                Crime_Description      Offense    Borough   X_COORD_CD  \\\n",
       "0  LARCENY,GRAND FROM PERSON,PURS       FELONY      BRONX  1.01026e+06   \n",
       "2  FORGERY,ETC.,UNCLASSIFIED-FELO       FELONY  MANHATTAN       990886   \n",
       "3            WEAPONS POSSESSION 3       FELONY  MANHATTAN       980772   \n",
       "4    STOLEN PROPERTY 3,POSSESSION  MISDEMEANOR  MANHATTAN       989294   \n",
       "5                        JOSTLING  MISDEMEANOR      BRONX  1.00475e+06   \n",
       "\n",
       "  Y_COORD_CD Suspect_Age Suspect_Gender         Patrol_Borough  \\\n",
       "0     248767         <18              M      PATROL BORO BRONX   \n",
       "2     213048       45-64              M  PATROL BORO MAN SOUTH   \n",
       "3     194845       25-44              M  PATROL BORO MAN SOUTH   \n",
       "4     215445       25-44              M  PATROL BORO MAN SOUTH   \n",
       "5     240880       45-64              F      PATROL BORO BRONX   \n",
       "\n",
       "                  Station_Name Victim Age     Victim_Race Victim_Gender  \\\n",
       "0               TREMONT AVENUE      45-64  WHITE HISPANIC             F   \n",
       "2         42 ST.-GRAND CENTRAL      25-44           WHITE             F   \n",
       "3                  SOUTH FERRY        65+           BLACK             M   \n",
       "4  47-50 STS./ROCKEFELLER CTR.      25-44           WHITE             M   \n",
       "5       161 ST.-YANKEE STADIUM      25-44  BLACK HISPANIC             M   \n",
       "\n",
       "   Complaint_Date_Time  \n",
       "0  2018-06-09 15:54:00  \n",
       "2  2018-05-19 12:25:00  \n",
       "3  2018-11-04 00:00:00  \n",
       "4  2018-01-18 12:23:00  \n",
       "5  2018-12-29 21:30:00  "
      ]
     },
     "execution_count": 605,
     "metadata": {},
     "output_type": "execute_result"
    }
   ],
   "source": [
    "df1.head()"
   ]
  },
  {
   "cell_type": "code",
   "execution_count": 599,
   "id": "877f5001-7bd2-42c5-a907-03cc3b4b1ba3",
   "metadata": {},
   "outputs": [],
   "source": [
    "#Removing Premises because they're all the NYC Subway values\n",
    "\n",
    "df1.drop(columns = 'Premises', inplace = True)"
   ]
  },
  {
   "cell_type": "code",
   "execution_count": 602,
   "id": "c5978aaf-78d1-4807-a580-45dc51834c99",
   "metadata": {},
   "outputs": [],
   "source": [
    "df1.drop(columns = 'Description_of_Location', inplace = True)"
   ]
  },
  {
   "cell_type": "code",
   "execution_count": 604,
   "id": "fcc8e71b-b51d-4968-8a27-25670a7d068a",
   "metadata": {},
   "outputs": [],
   "source": [
    "df1.drop(columns = 'Unnamed: 0', inplace = True)"
   ]
  },
  {
   "cell_type": "code",
   "execution_count": 606,
   "id": "3ef05d97-7b0a-4564-9d94-c93e3dc0710a",
   "metadata": {},
   "outputs": [],
   "source": [
    "#making new csv with cleaned data \n",
    "\n",
    "df1.to_csv('df1.csv')"
   ]
  }
 ],
 "metadata": {
  "kernelspec": {
   "display_name": "Python [conda env:learn-env]",
   "language": "python",
   "name": "conda-env-learn-env-py"
  },
  "language_info": {
   "codemirror_mode": {
    "name": "ipython",
    "version": 3
   },
   "file_extension": ".py",
   "mimetype": "text/x-python",
   "name": "python",
   "nbconvert_exporter": "python",
   "pygments_lexer": "ipython3",
   "version": "3.8.5"
  }
 },
 "nbformat": 4,
 "nbformat_minor": 5
}
