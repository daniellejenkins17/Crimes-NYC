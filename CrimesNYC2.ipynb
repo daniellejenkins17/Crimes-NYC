{
 "cells": [
  {
   "cell_type": "code",
   "execution_count": 6,
   "id": "605fce85-abc8-4ebc-8891-de03cdcd80f3",
   "metadata": {},
   "outputs": [],
   "source": [
    "import pandas as pd"
   ]
  },
  {
   "cell_type": "code",
   "execution_count": 88,
   "id": "a55310c4-279b-4ac5-b884-731fd1b5d7b4",
   "metadata": {},
   "outputs": [
    {
     "data": {
      "text/html": [
       "<div>\n",
       "<style scoped>\n",
       "    .dataframe tbody tr th:only-of-type {\n",
       "        vertical-align: middle;\n",
       "    }\n",
       "\n",
       "    .dataframe tbody tr th {\n",
       "        vertical-align: top;\n",
       "    }\n",
       "\n",
       "    .dataframe thead th {\n",
       "        text-align: right;\n",
       "    }\n",
       "</style>\n",
       "<table border=\"1\" class=\"dataframe\">\n",
       "  <thead>\n",
       "    <tr style=\"text-align: right;\">\n",
       "      <th></th>\n",
       "      <th>Unnamed: 0</th>\n",
       "      <th>CMPLNT_FR_DT</th>\n",
       "      <th>CMPLNT_FR_TM</th>\n",
       "      <th>OFNS_DESC</th>\n",
       "      <th>PD_DESC</th>\n",
       "      <th>CRM_ATPT_CPTD_CD</th>\n",
       "      <th>LAW_CAT_CD</th>\n",
       "      <th>BORO_NM</th>\n",
       "      <th>LOC_OF_OCCUR_DESC</th>\n",
       "      <th>PREM_TYP_DESC</th>\n",
       "      <th>...</th>\n",
       "      <th>X_COORD_CD</th>\n",
       "      <th>Y_COORD_CD</th>\n",
       "      <th>SUSP_AGE_GROUP</th>\n",
       "      <th>SUSP_SEX</th>\n",
       "      <th>PATROL_BORO</th>\n",
       "      <th>STATION_NAME</th>\n",
       "      <th>VIC_AGE_GROUP</th>\n",
       "      <th>VIC_RACE</th>\n",
       "      <th>VIC_SEX</th>\n",
       "      <th>CMPLNT_FR_DTTM</th>\n",
       "    </tr>\n",
       "  </thead>\n",
       "  <tbody>\n",
       "    <tr>\n",
       "      <th>0</th>\n",
       "      <td>172</td>\n",
       "      <td>06/09/2018</td>\n",
       "      <td>15:54:00</td>\n",
       "      <td>NaN</td>\n",
       "      <td>LARCENY,GRAND FROM PERSON,PURS</td>\n",
       "      <td>COMPLETED</td>\n",
       "      <td>FELONY</td>\n",
       "      <td>BRONX</td>\n",
       "      <td>NaN</td>\n",
       "      <td>TRANSIT - NYC SUBWAY</td>\n",
       "      <td>...</td>\n",
       "      <td>1010257.0</td>\n",
       "      <td>248767.0</td>\n",
       "      <td>&lt;18</td>\n",
       "      <td>M</td>\n",
       "      <td>PATROL BORO BRONX</td>\n",
       "      <td>TREMONT AVENUE</td>\n",
       "      <td>45-64</td>\n",
       "      <td>WHITE HISPANIC</td>\n",
       "      <td>F</td>\n",
       "      <td>2018-06-09 15:54:00</td>\n",
       "    </tr>\n",
       "    <tr>\n",
       "      <th>1</th>\n",
       "      <td>226</td>\n",
       "      <td>03/01/2018</td>\n",
       "      <td>08:47:00</td>\n",
       "      <td>NaN</td>\n",
       "      <td>SEXUAL ABUSE 3,2</td>\n",
       "      <td>COMPLETED</td>\n",
       "      <td>MISDEMEANOR</td>\n",
       "      <td>MANHATTAN</td>\n",
       "      <td>NaN</td>\n",
       "      <td>TRANSIT - NYC SUBWAY</td>\n",
       "      <td>...</td>\n",
       "      <td>988874.0</td>\n",
       "      <td>207673.0</td>\n",
       "      <td>18-24</td>\n",
       "      <td>M</td>\n",
       "      <td>PATROL BORO MAN SOUTH</td>\n",
       "      <td>14 STREET</td>\n",
       "      <td>25-44</td>\n",
       "      <td>ASIAN / PACIFIC ISLANDER</td>\n",
       "      <td>F</td>\n",
       "      <td>2018-03-01 08:47:00</td>\n",
       "    </tr>\n",
       "    <tr>\n",
       "      <th>2</th>\n",
       "      <td>413</td>\n",
       "      <td>05/19/2018</td>\n",
       "      <td>12:25:00</td>\n",
       "      <td>NaN</td>\n",
       "      <td>FORGERY,ETC.,UNCLASSIFIED-FELO</td>\n",
       "      <td>COMPLETED</td>\n",
       "      <td>FELONY</td>\n",
       "      <td>MANHATTAN</td>\n",
       "      <td>NaN</td>\n",
       "      <td>TRANSIT - NYC SUBWAY</td>\n",
       "      <td>...</td>\n",
       "      <td>990886.0</td>\n",
       "      <td>213048.0</td>\n",
       "      <td>45-64</td>\n",
       "      <td>M</td>\n",
       "      <td>PATROL BORO MAN SOUTH</td>\n",
       "      <td>42 ST.-GRAND CENTRAL</td>\n",
       "      <td>25-44</td>\n",
       "      <td>WHITE</td>\n",
       "      <td>F</td>\n",
       "      <td>2018-05-19 12:25:00</td>\n",
       "    </tr>\n",
       "    <tr>\n",
       "      <th>3</th>\n",
       "      <td>717</td>\n",
       "      <td>11/04/2018</td>\n",
       "      <td>00:00:00</td>\n",
       "      <td>NaN</td>\n",
       "      <td>WEAPONS POSSESSION 3</td>\n",
       "      <td>COMPLETED</td>\n",
       "      <td>FELONY</td>\n",
       "      <td>MANHATTAN</td>\n",
       "      <td>NaN</td>\n",
       "      <td>TRANSIT - NYC SUBWAY</td>\n",
       "      <td>...</td>\n",
       "      <td>980772.0</td>\n",
       "      <td>194845.0</td>\n",
       "      <td>25-44</td>\n",
       "      <td>M</td>\n",
       "      <td>PATROL BORO MAN SOUTH</td>\n",
       "      <td>SOUTH FERRY</td>\n",
       "      <td>65+</td>\n",
       "      <td>BLACK</td>\n",
       "      <td>M</td>\n",
       "      <td>2018-11-04 00:00:00</td>\n",
       "    </tr>\n",
       "    <tr>\n",
       "      <th>4</th>\n",
       "      <td>844</td>\n",
       "      <td>01/18/2018</td>\n",
       "      <td>12:23:00</td>\n",
       "      <td>NaN</td>\n",
       "      <td>STOLEN PROPERTY 3,POSSESSION</td>\n",
       "      <td>COMPLETED</td>\n",
       "      <td>MISDEMEANOR</td>\n",
       "      <td>MANHATTAN</td>\n",
       "      <td>NaN</td>\n",
       "      <td>TRANSIT - NYC SUBWAY</td>\n",
       "      <td>...</td>\n",
       "      <td>989294.0</td>\n",
       "      <td>215445.0</td>\n",
       "      <td>25-44</td>\n",
       "      <td>M</td>\n",
       "      <td>PATROL BORO MAN SOUTH</td>\n",
       "      <td>47-50 STS./ROCKEFELLER CTR.</td>\n",
       "      <td>25-44</td>\n",
       "      <td>WHITE</td>\n",
       "      <td>M</td>\n",
       "      <td>2018-01-18 12:23:00</td>\n",
       "    </tr>\n",
       "  </tbody>\n",
       "</table>\n",
       "<p>5 rows × 22 columns</p>\n",
       "</div>"
      ],
      "text/plain": [
       "   Unnamed: 0 CMPLNT_FR_DT CMPLNT_FR_TM OFNS_DESC  \\\n",
       "0         172   06/09/2018     15:54:00       NaN   \n",
       "1         226   03/01/2018     08:47:00       NaN   \n",
       "2         413   05/19/2018     12:25:00       NaN   \n",
       "3         717   11/04/2018     00:00:00       NaN   \n",
       "4         844   01/18/2018     12:23:00       NaN   \n",
       "\n",
       "                          PD_DESC CRM_ATPT_CPTD_CD   LAW_CAT_CD    BORO_NM  \\\n",
       "0  LARCENY,GRAND FROM PERSON,PURS        COMPLETED       FELONY      BRONX   \n",
       "1                SEXUAL ABUSE 3,2        COMPLETED  MISDEMEANOR  MANHATTAN   \n",
       "2  FORGERY,ETC.,UNCLASSIFIED-FELO        COMPLETED       FELONY  MANHATTAN   \n",
       "3            WEAPONS POSSESSION 3        COMPLETED       FELONY  MANHATTAN   \n",
       "4    STOLEN PROPERTY 3,POSSESSION        COMPLETED  MISDEMEANOR  MANHATTAN   \n",
       "\n",
       "  LOC_OF_OCCUR_DESC         PREM_TYP_DESC  ... X_COORD_CD  Y_COORD_CD  \\\n",
       "0               NaN  TRANSIT - NYC SUBWAY  ...  1010257.0    248767.0   \n",
       "1               NaN  TRANSIT - NYC SUBWAY  ...   988874.0    207673.0   \n",
       "2               NaN  TRANSIT - NYC SUBWAY  ...   990886.0    213048.0   \n",
       "3               NaN  TRANSIT - NYC SUBWAY  ...   980772.0    194845.0   \n",
       "4               NaN  TRANSIT - NYC SUBWAY  ...   989294.0    215445.0   \n",
       "\n",
       "   SUSP_AGE_GROUP  SUSP_SEX            PATROL_BORO  \\\n",
       "0             <18         M      PATROL BORO BRONX   \n",
       "1           18-24         M  PATROL BORO MAN SOUTH   \n",
       "2           45-64         M  PATROL BORO MAN SOUTH   \n",
       "3           25-44         M  PATROL BORO MAN SOUTH   \n",
       "4           25-44         M  PATROL BORO MAN SOUTH   \n",
       "\n",
       "                  STATION_NAME VIC_AGE_GROUP                  VIC_RACE  \\\n",
       "0               TREMONT AVENUE         45-64            WHITE HISPANIC   \n",
       "1                    14 STREET         25-44  ASIAN / PACIFIC ISLANDER   \n",
       "2         42 ST.-GRAND CENTRAL         25-44                     WHITE   \n",
       "3                  SOUTH FERRY           65+                     BLACK   \n",
       "4  47-50 STS./ROCKEFELLER CTR.         25-44                     WHITE   \n",
       "\n",
       "  VIC_SEX       CMPLNT_FR_DTTM  \n",
       "0       F  2018-06-09 15:54:00  \n",
       "1       F  2018-03-01 08:47:00  \n",
       "2       F  2018-05-19 12:25:00  \n",
       "3       M  2018-11-04 00:00:00  \n",
       "4       M  2018-01-18 12:23:00  \n",
       "\n",
       "[5 rows x 22 columns]"
      ]
     },
     "execution_count": 88,
     "metadata": {},
     "output_type": "execute_result"
    }
   ],
   "source": [
    "df1.head()"
   ]
  },
  {
   "cell_type": "code",
   "execution_count": 132,
   "id": "d211c4e0-ad05-495f-ae38-b0aaeefa9e45",
   "metadata": {},
   "outputs": [],
   "source": [
    "df1 = pd.read_csv('df.csv')"
   ]
  },
  {
   "cell_type": "code",
   "execution_count": 133,
   "id": "e125e752-1ea9-4ab1-a8ea-4385750bd9de",
   "metadata": {},
   "outputs": [],
   "source": [
    "df1 = df1.loc[df1[\"PREM_TYP_DESC\"] == 'TRANSIT - NYC SUBWAY']"
   ]
  },
  {
   "cell_type": "code",
   "execution_count": 134,
   "id": "2225f9ed-1123-428b-b35f-5cd1a5caae7b",
   "metadata": {},
   "outputs": [
    {
     "data": {
      "text/plain": [
       "TRANSIT - NYC SUBWAY    20139\n",
       "Name: PREM_TYP_DESC, dtype: int64"
      ]
     },
     "execution_count": 134,
     "metadata": {},
     "output_type": "execute_result"
    }
   ],
   "source": [
    "df1.PREM_TYP_DESC.value_counts()"
   ]
  },
  {
   "cell_type": "code",
   "execution_count": 135,
   "id": "84f1073a-7fac-4488-8c71-656cf5a54003",
   "metadata": {},
   "outputs": [
    {
     "data": {
      "text/plain": [
       "Unnamed: 0               0\n",
       "CMPLNT_FR_DT             0\n",
       "CMPLNT_FR_TM             0\n",
       "OFNS_DESC               70\n",
       "PD_DESC                  0\n",
       "CRM_ATPT_CPTD_CD         0\n",
       "LAW_CAT_CD               0\n",
       "BORO_NM                 25\n",
       "LOC_OF_OCCUR_DESC    20102\n",
       "PREM_TYP_DESC            0\n",
       "PARKS_NM             20137\n",
       "HADEVELOPT           20139\n",
       "X_COORD_CD              25\n",
       "Y_COORD_CD              25\n",
       "SUSP_AGE_GROUP           0\n",
       "SUSP_SEX                18\n",
       "PATROL_BORO              0\n",
       "STATION_NAME             0\n",
       "VIC_AGE_GROUP            0\n",
       "VIC_RACE                 0\n",
       "VIC_SEX                  0\n",
       "CMPLNT_FR_DTTM           0\n",
       "dtype: int64"
      ]
     },
     "execution_count": 135,
     "metadata": {},
     "output_type": "execute_result"
    }
   ],
   "source": [
    "df1.isnull().sum()"
   ]
  },
  {
   "cell_type": "code",
   "execution_count": 136,
   "id": "e917aa8a-d951-4818-8c70-3b09b2b2ef29",
   "metadata": {},
   "outputs": [],
   "source": [
    "df1 = df1.loc[df1[\"VIC_SEX\"] != 'D']"
   ]
  },
  {
   "cell_type": "code",
   "execution_count": 137,
   "id": "c5f65751-1c1e-42c6-8089-15e1259f9993",
   "metadata": {},
   "outputs": [],
   "source": [
    "df1 = df1.loc[df1[\"VIC_SEX\"] != 'E']"
   ]
  },
  {
   "cell_type": "code",
   "execution_count": 138,
   "id": "ed2baf61-6553-4220-a0de-1466e3d070b5",
   "metadata": {},
   "outputs": [
    {
     "data": {
      "text/plain": [
       "F    11734\n",
       "M     8403\n",
       "Name: VIC_SEX, dtype: int64"
      ]
     },
     "execution_count": 138,
     "metadata": {},
     "output_type": "execute_result"
    }
   ],
   "source": [
    "df1.VIC_SEX.value_counts()"
   ]
  },
  {
   "cell_type": "code",
   "execution_count": 139,
   "id": "34ed4fad-acc9-4ebd-97c2-0abf69874cea",
   "metadata": {},
   "outputs": [
    {
     "data": {
      "text/plain": [
       "'01/01/2006'"
      ]
     },
     "execution_count": 139,
     "metadata": {},
     "output_type": "execute_result"
    }
   ],
   "source": [
    "df1.CMPLNT_FR_DT.min()"
   ]
  },
  {
   "cell_type": "code",
   "execution_count": 140,
   "id": "4d1a6f70-f517-44b6-8cb4-924af296815c",
   "metadata": {},
   "outputs": [
    {
     "data": {
      "text/plain": [
       "'12/31/2020'"
      ]
     },
     "execution_count": 140,
     "metadata": {},
     "output_type": "execute_result"
    }
   ],
   "source": [
    "df1.CMPLNT_FR_DT.max()"
   ]
  },
  {
   "cell_type": "code",
   "execution_count": 141,
   "id": "b51caf2c-a347-46d6-9117-996501ffdd0f",
   "metadata": {},
   "outputs": [
    {
     "data": {
      "text/plain": [
       "MANHATTAN    9030\n",
       "BROOKLYN     5823\n",
       "BRONX        2959\n",
       "QUEENS       2300\n",
       "Name: BORO_NM, dtype: int64"
      ]
     },
     "execution_count": 141,
     "metadata": {},
     "output_type": "execute_result"
    }
   ],
   "source": [
    "df1.BORO_NM.value_counts()"
   ]
  },
  {
   "cell_type": "code",
   "execution_count": 142,
   "id": "dd8b1cc6-a5f4-4051-afb2-840e89719b21",
   "metadata": {},
   "outputs": [
    {
     "data": {
      "text/plain": [
       "125 STREET                619\n",
       "14 STREET                 520\n",
       "42 ST.-TIMES SQUARE       431\n",
       "42 ST.-GRAND CENTRAL      416\n",
       "59 ST.-COLUMBUS CIRCLE    350\n",
       "                         ... \n",
       "DISTRICT 32 OFFICE          2\n",
       "DISTRICT 12 OFFICE          1\n",
       "36 AVENUE                   1\n",
       "DISTRICT 34 OFFICE          1\n",
       "BEACH 105 STREET            1\n",
       "Name: STATION_NAME, Length: 370, dtype: int64"
      ]
     },
     "execution_count": 142,
     "metadata": {},
     "output_type": "execute_result"
    }
   ],
   "source": [
    "df1.STATION_NAME.value_counts()"
   ]
  },
  {
   "cell_type": "code",
   "execution_count": 143,
   "id": "1b3aa0f1-ba5a-40b5-81ae-9eb62945174c",
   "metadata": {},
   "outputs": [
    {
     "data": {
      "text/plain": [
       "370"
      ]
     },
     "execution_count": 143,
     "metadata": {},
     "output_type": "execute_result"
    }
   ],
   "source": [
    "df1.STATION_NAME.nunique()"
   ]
  },
  {
   "cell_type": "code",
   "execution_count": 144,
   "id": "d22f587a-ac34-4ef5-9905-504316bb39e4",
   "metadata": {},
   "outputs": [],
   "source": [
    "#taking out least common stations for crime\n",
    "\n",
    "df1 = df1.loc[df1[\"STATION_NAME\"] != 'BEACH 105 STREET']"
   ]
  },
  {
   "cell_type": "code",
   "execution_count": 145,
   "id": "90ac768e-f36d-4a3a-a712-00baeebd802a",
   "metadata": {},
   "outputs": [],
   "source": [
    "df1 = df1.loc[df1[\"STATION_NAME\"] != 'DISTRICT 34 OFFICE']"
   ]
  },
  {
   "cell_type": "code",
   "execution_count": 146,
   "id": "dbcfd1d3-03c8-410f-acbf-42888efb78e0",
   "metadata": {},
   "outputs": [],
   "source": [
    "df1 = df1.loc[df1[\"STATION_NAME\"] != 'DISTRICT 12 OFFICE']"
   ]
  },
  {
   "cell_type": "code",
   "execution_count": 147,
   "id": "ffdb9d7d-2ed3-4a6b-b1f4-666dbe0350aa",
   "metadata": {},
   "outputs": [],
   "source": [
    "df1 = df1.loc[df1[\"STATION_NAME\"] != 'DISTRICT 32 OFFICE']"
   ]
  },
  {
   "cell_type": "code",
   "execution_count": 148,
   "id": "f6c6438e-aff5-4bca-8d7f-5a17504846e2",
   "metadata": {},
   "outputs": [],
   "source": [
    "df1 = df1.loc[df1[\"STATION_NAME\"] != '36 AVENUE']"
   ]
  },
  {
   "cell_type": "code",
   "execution_count": 149,
   "id": "6392a90b-b2e8-4fcc-af80-127f1b9f5366",
   "metadata": {},
   "outputs": [],
   "source": [
    "df1 = df1.loc[df1[\"STATION_NAME\"] != 'DISTRICT 30 OFFICE']"
   ]
  },
  {
   "cell_type": "code",
   "execution_count": 150,
   "id": "85e71112-3d8e-4f5b-b00d-9ab041daa109",
   "metadata": {},
   "outputs": [],
   "source": [
    "df1 = df1.loc[df1[\"STATION_NAME\"] != 'DISTRICT 2 OFFICE']"
   ]
  },
  {
   "cell_type": "code",
   "execution_count": 151,
   "id": "aa48427e-e992-49a4-942b-66deef13a811",
   "metadata": {},
   "outputs": [],
   "source": [
    "df1 = df1.loc[df1[\"STATION_NAME\"] != 'DISTRICT 4 OFFICE']"
   ]
  },
  {
   "cell_type": "code",
   "execution_count": 152,
   "id": "898539da-b70a-45f3-a44a-d2454aec6198",
   "metadata": {},
   "outputs": [],
   "source": [
    "df1 = df1.loc[df1[\"STATION_NAME\"] != 'DISTRICT 20 OFFICE']"
   ]
  },
  {
   "cell_type": "code",
   "execution_count": 153,
   "id": "f7b47127-c7e0-42fc-83ec-8680482e2df4",
   "metadata": {},
   "outputs": [],
   "source": [
    "df1 = df1.loc[df1[\"STATION_NAME\"] != 'DISTRICT 3 OFFICE']"
   ]
  },
  {
   "cell_type": "code",
   "execution_count": 154,
   "id": "b612a016-1ac1-4b0f-998b-c0e06e7ed32d",
   "metadata": {},
   "outputs": [],
   "source": [
    "df1 = df1.loc[df1[\"STATION_NAME\"] != 'AQUEDUCT-RACETRACK']"
   ]
  },
  {
   "cell_type": "code",
   "execution_count": 155,
   "id": "4ef80e2b-d151-4bc6-b38d-d66b260f4991",
   "metadata": {},
   "outputs": [],
   "source": [
    "df1 = df1.loc[df1[\"STATION_NAME\"] != 'BEACH 98 STREET']"
   ]
  },
  {
   "cell_type": "code",
   "execution_count": 156,
   "id": "b4186830-abd9-4c21-94d3-5d669318146d",
   "metadata": {},
   "outputs": [],
   "source": [
    "df1 = df1.loc[df1[\"STATION_NAME\"] != 'AVENUE \"N\"']"
   ]
  },
  {
   "cell_type": "code",
   "execution_count": 157,
   "id": "9eda7af9-4fe3-47fd-9ab4-5e09829a7596",
   "metadata": {},
   "outputs": [],
   "source": [
    "df1 = df1.loc[df1[\"STATION_NAME\"] != 'ROCKAWAY PARK-BEACH 116 ST.']"
   ]
  },
  {
   "cell_type": "code",
   "execution_count": 158,
   "id": "934be4c9-ef73-48f0-811b-41667a052769",
   "metadata": {},
   "outputs": [],
   "source": [
    "df1 = df1.loc[df1[\"STATION_NAME\"] != '104 STREET']"
   ]
  },
  {
   "cell_type": "code",
   "execution_count": 159,
   "id": "384bf86b-a6d0-4862-8850-4e69d99651b5",
   "metadata": {},
   "outputs": [],
   "source": [
    "df1 = df1.loc[df1[\"STATION_NAME\"] != 'FOREST AVENUE']"
   ]
  },
  {
   "cell_type": "code",
   "execution_count": 160,
   "id": "e529421e-a9f0-4c1e-bc87-b57652af2599",
   "metadata": {},
   "outputs": [],
   "source": [
    "df1 = df1.loc[df1[\"STATION_NAME\"] != 'AVENUE \"X\"']"
   ]
  },
  {
   "cell_type": "code",
   "execution_count": 161,
   "id": "b0c9b9a2-6b87-4c34-b2f3-37c184466230",
   "metadata": {},
   "outputs": [],
   "source": [
    "df1 = df1.loc[df1[\"STATION_NAME\"] != 'AVENUE \"P\"']"
   ]
  },
  {
   "cell_type": "code",
   "execution_count": 162,
   "id": "5649a90f-e2fe-4ce7-9218-3fc5d5428139",
   "metadata": {},
   "outputs": [],
   "source": [
    "df1 = df1.loc[df1[\"STATION_NAME\"] != 'DISTRICT 33 OFFICE']"
   ]
  },
  {
   "cell_type": "code",
   "execution_count": 163,
   "id": "276fa253-6d10-455d-a050-756adde4c84e",
   "metadata": {},
   "outputs": [],
   "source": [
    "df1 = df1.loc[df1[\"STATION_NAME\"] != 'DISTRICT 11 OFFICE']"
   ]
  },
  {
   "cell_type": "code",
   "execution_count": 164,
   "id": "a8b2efda-7f8c-4992-974c-0f091a13d68c",
   "metadata": {},
   "outputs": [],
   "source": [
    "df1 = df1.loc[df1[\"STATION_NAME\"] != '102 STREET']"
   ]
  },
  {
   "cell_type": "code",
   "execution_count": 165,
   "id": "12f9d211-6f62-4220-a74b-9931f7761351",
   "metadata": {},
   "outputs": [],
   "source": [
    "df1 = df1.loc[df1[\"STATION_NAME\"] != '85 ST.-FOREST PKWY.']"
   ]
  },
  {
   "cell_type": "code",
   "execution_count": 166,
   "id": "0fd57426-8de6-4cc9-b47e-18350b53d15e",
   "metadata": {},
   "outputs": [
    {
     "data": {
      "text/plain": [
       "BORO_NM\n",
       "BRONX        2952\n",
       "BROOKLYN     5797\n",
       "MANHATTAN    9020\n",
       "QUEENS       2266\n",
       "Name: PREM_TYP_DESC, dtype: int64"
      ]
     },
     "execution_count": 166,
     "metadata": {},
     "output_type": "execute_result"
    }
   ],
   "source": [
    "df1.groupby(['BORO_NM'])['PREM_TYP_DESC'].count()"
   ]
  },
  {
   "cell_type": "code",
   "execution_count": 167,
   "id": "e8fe4228-1606-42c2-b5d9-ac7bfe266a62",
   "metadata": {},
   "outputs": [
    {
     "data": {
      "text/plain": [
       "BORO_NM    PREM_TYP_DESC       \n",
       "BRONX      TRANSIT - NYC SUBWAY    2952\n",
       "BROOKLYN   TRANSIT - NYC SUBWAY    5797\n",
       "MANHATTAN  TRANSIT - NYC SUBWAY    9020\n",
       "QUEENS     TRANSIT - NYC SUBWAY    2266\n",
       "Name: PREM_TYP_DESC, dtype: int64"
      ]
     },
     "execution_count": 167,
     "metadata": {},
     "output_type": "execute_result"
    }
   ],
   "source": [
    "df1.groupby(['BORO_NM'])['PREM_TYP_DESC'].value_counts()"
   ]
  },
  {
   "cell_type": "code",
   "execution_count": 176,
   "id": "22ff315d-cee0-4631-a385-eac4cd0e5b75",
   "metadata": {},
   "outputs": [
    {
     "data": {
      "text/plain": [
       "BORO_NM    OFNS_DESC                     \n",
       "BRONX      ASSAULT 3 & RELATED OFFENSES       806\n",
       "           HARRASSMENT 2                      586\n",
       "           GRAND LARCENY                      439\n",
       "           ROBBERY                            424\n",
       "           FELONY ASSAULT                     207\n",
       "           SEX CRIMES                         159\n",
       "           OFF. AGNST PUB ORD SENSBLTY &      125\n",
       "           PETIT LARCENY                       52\n",
       "           MISCELLANEOUS PENAL LAW             44\n",
       "           OFFENSES AGAINST PUBLIC ADMINI      44\n",
       "           DANGEROUS WEAPONS                   17\n",
       "           CRIMINAL MISCHIEF & RELATED OF      16\n",
       "           OFFENSES AGAINST THE PERSON          7\n",
       "           POSSESSION OF STOLEN PROPERTY        7\n",
       "           JOSTLING                             4\n",
       "           DANGEROUS DRUGS                      2\n",
       "           FORGERY                              2\n",
       "           BURGLARY                             1\n",
       "           CRIMINAL TRESPASS                    1\n",
       "           DISORDERLY CONDUCT                   1\n",
       "           FRAUDS                               1\n",
       "           FRAUDULENT ACCOSTING                 1\n",
       "           NEW YORK CITY HEALTH CODE            1\n",
       "           THEFT OF SERVICES                    1\n",
       "BROOKLYN   ASSAULT 3 & RELATED OFFENSES      1485\n",
       "           HARRASSMENT 2                     1390\n",
       "           ROBBERY                            772\n",
       "           GRAND LARCENY                      687\n",
       "           FELONY ASSAULT                     380\n",
       "           SEX CRIMES                         306\n",
       "           OFF. AGNST PUB ORD SENSBLTY &      303\n",
       "           MISCELLANEOUS PENAL LAW            137\n",
       "           PETIT LARCENY                      101\n",
       "           OFFENSES AGAINST PUBLIC ADMINI      48\n",
       "           DANGEROUS WEAPONS                   42\n",
       "           CRIMINAL MISCHIEF & RELATED OF      41\n",
       "           POSSESSION OF STOLEN PROPERTY       26\n",
       "           OFFENSES AGAINST THE PERSON         12\n",
       "           FORGERY                              8\n",
       "           JOSTLING                             5\n",
       "           DANGEROUS DRUGS                      3\n",
       "           KIDNAPPING & RELATED OFFENSES        3\n",
       "           RAPE                                 3\n",
       "           DISORDERLY CONDUCT                   2\n",
       "           FRAUDS                               2\n",
       "           FRAUDULENT ACCOSTING                 2\n",
       "           OTHER OFFENSES RELATED TO THEF       2\n",
       "           CRIMINAL TRESPASS                    1\n",
       "           THEFT OF SERVICES                    1\n",
       "           VEHICLE AND TRAFFIC LAWS             1\n",
       "MANHATTAN  ASSAULT 3 & RELATED OFFENSES      2329\n",
       "           HARRASSMENT 2                     2072\n",
       "           SEX CRIMES                        1125\n",
       "           GRAND LARCENY                     1076\n",
       "           ROBBERY                            670\n",
       "           FELONY ASSAULT                     566\n",
       "           OFF. AGNST PUB ORD SENSBLTY &      419\n",
       "           PETIT LARCENY                      188\n",
       "           MISCELLANEOUS PENAL LAW            105\n",
       "           POSSESSION OF STOLEN PROPERTY       90\n",
       "           OFFENSES AGAINST PUBLIC ADMINI      81\n",
       "           DANGEROUS WEAPONS                   61\n",
       "           FRAUDULENT ACCOSTING                60\n",
       "           CRIMINAL MISCHIEF & RELATED OF      59\n",
       "           OFFENSES AGAINST THE PERSON         36\n",
       "           JOSTLING                            23\n",
       "           FORGERY                             15\n",
       "           DANGEROUS DRUGS                      8\n",
       "           FRAUDS                               4\n",
       "           THEFT OF SERVICES                    3\n",
       "           THEFT-FRAUD                          2\n",
       "           BURGLARY                             1\n",
       "           CHILD ABANDONMENT/NON SUPPORT        1\n",
       "           CRIMINAL TRESPASS                    1\n",
       "           KIDNAPPING & RELATED OFFENSES        1\n",
       "           RAPE                                 1\n",
       "QUEENS     ASSAULT 3 & RELATED OFFENSES       558\n",
       "           HARRASSMENT 2                      493\n",
       "           GRAND LARCENY                      324\n",
       "           ROBBERY                            286\n",
       "           SEX CRIMES                         213\n",
       "           FELONY ASSAULT                     148\n",
       "           OFF. AGNST PUB ORD SENSBLTY &       93\n",
       "           MISCELLANEOUS PENAL LAW             40\n",
       "           PETIT LARCENY                       34\n",
       "           OFFENSES AGAINST PUBLIC ADMINI      16\n",
       "           CRIMINAL MISCHIEF & RELATED OF      15\n",
       "           DANGEROUS WEAPONS                   12\n",
       "           JOSTLING                             9\n",
       "           OFFENSES AGAINST THE PERSON          9\n",
       "           POSSESSION OF STOLEN PROPERTY        6\n",
       "           DANGEROUS DRUGS                      2\n",
       "           FORGERY                              1\n",
       "Name: OFNS_DESC, dtype: int64"
      ]
     },
     "execution_count": 176,
     "metadata": {},
     "output_type": "execute_result"
    }
   ],
   "source": [
    "#aggregate most common crimes by borough with groupby \n",
    "pd.set_option('display.max_rows', None)\n",
    "crimes_by_boro = df1.groupby(['BORO_NM'])['OFNS_DESC'].value_counts()\n",
    "crimes_by_boro"
   ]
  },
  {
   "cell_type": "code",
   "execution_count": 170,
   "id": "333e39ed-f358-4d42-a287-e2c1d9184657",
   "metadata": {},
   "outputs": [
    {
     "data": {
      "text/plain": [
       "ASSAULT 3 & RELATED OFFENSES      5186\n",
       "HARRASSMENT 2                     4548\n",
       "GRAND LARCENY                     2529\n",
       "ROBBERY                           2156\n",
       "SEX CRIMES                        1804\n",
       "FELONY ASSAULT                    1302\n",
       "OFF. AGNST PUB ORD SENSBLTY &      940\n",
       "PETIT LARCENY                      376\n",
       "MISCELLANEOUS PENAL LAW            326\n",
       "OFFENSES AGAINST PUBLIC ADMINI     189\n",
       "DANGEROUS WEAPONS                  132\n",
       "CRIMINAL MISCHIEF & RELATED OF     131\n",
       "POSSESSION OF STOLEN PROPERTY      129\n",
       "OFFENSES AGAINST THE PERSON         64\n",
       "FRAUDULENT ACCOSTING                63\n",
       "JOSTLING                            41\n",
       "FORGERY                             26\n",
       "DANGEROUS DRUGS                     15\n",
       "FRAUDS                               7\n",
       "THEFT OF SERVICES                    5\n",
       "KIDNAPPING & RELATED OFFENSES        4\n",
       "RAPE                                 4\n",
       "DISORDERLY CONDUCT                   3\n",
       "CRIMINAL TRESPASS                    3\n",
       "THEFT-FRAUD                          2\n",
       "BURGLARY                             2\n",
       "OTHER OFFENSES RELATED TO THEF       2\n",
       "CHILD ABANDONMENT/NON SUPPORT        1\n",
       "NEW YORK CITY HEALTH CODE            1\n",
       "VEHICLE AND TRAFFIC LAWS             1\n",
       "Name: OFNS_DESC, dtype: int64"
      ]
     },
     "execution_count": 170,
     "metadata": {},
     "output_type": "execute_result"
    }
   ],
   "source": [
    "df1.OFNS_DESC.value_counts()"
   ]
  },
  {
   "cell_type": "code",
   "execution_count": 126,
   "id": "6e227db4-1fde-4659-b9b3-77fb1d5d31dd",
   "metadata": {},
   "outputs": [],
   "source": [
    "#df1.loc['OFNS_DESC'] == df1['OFNS_DESC'].loc({'PROSTITUTION & RELATED OFFENSES':'SEX CRIMES'})"
   ]
  },
  {
   "cell_type": "code",
   "execution_count": 169,
   "id": "a976fd1e-8661-47d9-95c7-c6b183b7e84c",
   "metadata": {},
   "outputs": [],
   "source": [
    "#merging rows together \n",
    "\n",
    "df1.loc[df1['OFNS_DESC'] == 'PROSTITUTION & RELATED OFFENSES', 'OFNS_DESC'] = 'SEX CRIMES'"
   ]
  },
  {
   "cell_type": "code",
   "execution_count": 80,
   "id": "91df987d-aa2a-4a94-b4f5-8d9476dc5c17",
   "metadata": {},
   "outputs": [
    {
     "data": {
      "text/plain": [
       "20060"
      ]
     },
     "execution_count": 80,
     "metadata": {},
     "output_type": "execute_result"
    }
   ],
   "source": [
    "df1.PD_DESC.count()"
   ]
  },
  {
   "cell_type": "code",
   "execution_count": 177,
   "id": "2792e0af-1529-4f0c-accb-36102ecfc522",
   "metadata": {},
   "outputs": [
    {
     "ename": "ModuleNotFoundError",
     "evalue": "No module named 'pmdarima'",
     "output_type": "error",
     "traceback": [
      "\u001b[0;31m---------------------------------------------------------------------------\u001b[0m",
      "\u001b[0;31mModuleNotFoundError\u001b[0m                       Traceback (most recent call last)",
      "\u001b[0;32m<ipython-input-177-5f5e25e269f5>\u001b[0m in \u001b[0;36m<module>\u001b[0;34m\u001b[0m\n\u001b[0;32m----> 1\u001b[0;31m \u001b[0;32mimport\u001b[0m \u001b[0mpmdarima\u001b[0m \u001b[0;32mas\u001b[0m \u001b[0mpm\u001b[0m\u001b[0;34m\u001b[0m\u001b[0;34m\u001b[0m\u001b[0m\n\u001b[0m\u001b[1;32m      2\u001b[0m \u001b[0;32mfrom\u001b[0m \u001b[0mpmdarima\u001b[0m\u001b[0;34m.\u001b[0m\u001b[0marima\u001b[0m \u001b[0;32mimport\u001b[0m \u001b[0mauto_arima\u001b[0m\u001b[0;34m\u001b[0m\u001b[0;34m\u001b[0m\u001b[0m\n",
      "\u001b[0;31mModuleNotFoundError\u001b[0m: No module named 'pmdarima'"
     ]
    }
   ],
   "source": [
    "import pmdarima as pm\n",
    "from pmdarima.arima import auto_arima"
   ]
  },
  {
   "cell_type": "code",
   "execution_count": null,
   "id": "dff4d04c-7673-491f-80ef-091cf068d36d",
   "metadata": {},
   "outputs": [],
   "source": []
  }
 ],
 "metadata": {
  "kernelspec": {
   "display_name": "Python [conda env:learn-env]",
   "language": "python",
   "name": "conda-env-learn-env-py"
  },
  "language_info": {
   "codemirror_mode": {
    "name": "ipython",
    "version": 3
   },
   "file_extension": ".py",
   "mimetype": "text/x-python",
   "name": "python",
   "nbconvert_exporter": "python",
   "pygments_lexer": "ipython3",
   "version": "3.8.5"
  }
 },
 "nbformat": 4,
 "nbformat_minor": 5
}
